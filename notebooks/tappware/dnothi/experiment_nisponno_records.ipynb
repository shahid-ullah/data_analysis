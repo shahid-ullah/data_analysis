{
 "cells": [
  {
   "cell_type": "code",
   "execution_count": 6,
   "id": "124dc85d-8b3c-4163-8cda-42e57a61ae50",
   "metadata": {},
   "outputs": [],
   "source": [
    "# import necessary library\n",
    "from IPython.core.interactiveshell import InteractiveShell\n",
    "InteractiveShell.ast_node_interactivity = \"all\"\n",
    "\n",
    "import pandas as pd\n",
    "import numpy as np\n",
    "import matplotlib.pyplot as plt\n",
    "pd.set_option('display.max_columns', None)"
   ]
  },
  {
   "cell_type": "code",
   "execution_count": 7,
   "id": "053ef562-1acd-40f6-b516-23c20fe90df1",
   "metadata": {},
   "outputs": [
    {
     "data": {
      "text/plain": [
       "(100000, 18)"
      ]
     },
     "execution_count": 7,
     "metadata": {},
     "output_type": "execute_result"
    }
   ],
   "source": [
    "df = pd.read_csv('../Data/nisponno_records.csv')\n",
    "df.shape"
   ]
  },
  {
   "cell_type": "code",
   "execution_count": 8,
   "id": "13a145bd-bdc0-4106-a466-05751e5b7ce1",
   "metadata": {},
   "outputs": [
    {
     "data": {
      "text/html": [
       "<div>\n",
       "<style scoped>\n",
       "    .dataframe tbody tr th:only-of-type {\n",
       "        vertical-align: middle;\n",
       "    }\n",
       "\n",
       "    .dataframe tbody tr th {\n",
       "        vertical-align: top;\n",
       "    }\n",
       "\n",
       "    .dataframe thead th {\n",
       "        text-align: right;\n",
       "    }\n",
       "</style>\n",
       "<table border=\"1\" class=\"dataframe\">\n",
       "  <thead>\n",
       "    <tr style=\"text-align: right;\">\n",
       "      <th></th>\n",
       "      <th>id</th>\n",
       "      <th>nothi_master_id</th>\n",
       "      <th>nothi_part_no</th>\n",
       "      <th>type</th>\n",
       "      <th>nothi_onucched_id</th>\n",
       "      <th>potrojari_id</th>\n",
       "      <th>nothi_office_id</th>\n",
       "      <th>office_id</th>\n",
       "      <th>unit_id</th>\n",
       "      <th>designation_id</th>\n",
       "      <th>employee_id</th>\n",
       "      <th>upokarvogi</th>\n",
       "      <th>potrojari_internal_own</th>\n",
       "      <th>potrojari_internal_other</th>\n",
       "      <th>dak_srijito</th>\n",
       "      <th>operation_date</th>\n",
       "      <th>created</th>\n",
       "      <th>modified</th>\n",
       "    </tr>\n",
       "  </thead>\n",
       "  <tbody>\n",
       "    <tr>\n",
       "      <th>0</th>\n",
       "      <td>1</td>\n",
       "      <td>1</td>\n",
       "      <td>1</td>\n",
       "      <td>potrojari</td>\n",
       "      <td>1.0</td>\n",
       "      <td>0</td>\n",
       "      <td>11</td>\n",
       "      <td>11</td>\n",
       "      <td>333</td>\n",
       "      <td>817</td>\n",
       "      <td>76</td>\n",
       "      <td>0</td>\n",
       "      <td>0</td>\n",
       "      <td>0</td>\n",
       "      <td>0</td>\n",
       "      <td>2016-02-10 00:00:00</td>\n",
       "      <td>2016-11-26 12:27:29</td>\n",
       "      <td>2016-11-26 12:27:29</td>\n",
       "    </tr>\n",
       "    <tr>\n",
       "      <th>1</th>\n",
       "      <td>2</td>\n",
       "      <td>3</td>\n",
       "      <td>5</td>\n",
       "      <td>potrojari</td>\n",
       "      <td>7.0</td>\n",
       "      <td>0</td>\n",
       "      <td>11</td>\n",
       "      <td>11</td>\n",
       "      <td>770</td>\n",
       "      <td>1810</td>\n",
       "      <td>478</td>\n",
       "      <td>0</td>\n",
       "      <td>0</td>\n",
       "      <td>0</td>\n",
       "      <td>0</td>\n",
       "      <td>2016-02-13 00:00:00</td>\n",
       "      <td>2016-11-26 12:27:29</td>\n",
       "      <td>2016-11-26 12:27:29</td>\n",
       "    </tr>\n",
       "    <tr>\n",
       "      <th>2</th>\n",
       "      <td>3</td>\n",
       "      <td>3</td>\n",
       "      <td>6</td>\n",
       "      <td>potrojari</td>\n",
       "      <td>10.0</td>\n",
       "      <td>0</td>\n",
       "      <td>11</td>\n",
       "      <td>11</td>\n",
       "      <td>770</td>\n",
       "      <td>1810</td>\n",
       "      <td>478</td>\n",
       "      <td>0</td>\n",
       "      <td>0</td>\n",
       "      <td>0</td>\n",
       "      <td>0</td>\n",
       "      <td>2016-02-13 00:00:00</td>\n",
       "      <td>2016-11-26 12:27:29</td>\n",
       "      <td>2016-11-26 12:27:29</td>\n",
       "    </tr>\n",
       "    <tr>\n",
       "      <th>3</th>\n",
       "      <td>4</td>\n",
       "      <td>7</td>\n",
       "      <td>10</td>\n",
       "      <td>potrojari</td>\n",
       "      <td>13.0</td>\n",
       "      <td>0</td>\n",
       "      <td>11</td>\n",
       "      <td>11</td>\n",
       "      <td>333</td>\n",
       "      <td>817</td>\n",
       "      <td>76</td>\n",
       "      <td>0</td>\n",
       "      <td>0</td>\n",
       "      <td>0</td>\n",
       "      <td>0</td>\n",
       "      <td>2016-11-16 00:00:00</td>\n",
       "      <td>2016-11-26 12:27:29</td>\n",
       "      <td>2016-11-26 12:27:29</td>\n",
       "    </tr>\n",
       "    <tr>\n",
       "      <th>4</th>\n",
       "      <td>5</td>\n",
       "      <td>9</td>\n",
       "      <td>12</td>\n",
       "      <td>potrojari</td>\n",
       "      <td>14.0</td>\n",
       "      <td>0</td>\n",
       "      <td>11</td>\n",
       "      <td>11</td>\n",
       "      <td>770</td>\n",
       "      <td>1810</td>\n",
       "      <td>478</td>\n",
       "      <td>0</td>\n",
       "      <td>0</td>\n",
       "      <td>0</td>\n",
       "      <td>0</td>\n",
       "      <td>2016-02-14 00:00:00</td>\n",
       "      <td>2016-11-26 12:27:29</td>\n",
       "      <td>2016-11-26 12:27:29</td>\n",
       "    </tr>\n",
       "  </tbody>\n",
       "</table>\n",
       "</div>"
      ],
      "text/plain": [
       "   id  nothi_master_id  nothi_part_no       type  nothi_onucched_id  \\\n",
       "0   1                1              1  potrojari                1.0   \n",
       "1   2                3              5  potrojari                7.0   \n",
       "2   3                3              6  potrojari               10.0   \n",
       "3   4                7             10  potrojari               13.0   \n",
       "4   5                9             12  potrojari               14.0   \n",
       "\n",
       "   potrojari_id  nothi_office_id  office_id  unit_id  designation_id  \\\n",
       "0             0               11         11      333             817   \n",
       "1             0               11         11      770            1810   \n",
       "2             0               11         11      770            1810   \n",
       "3             0               11         11      333             817   \n",
       "4             0               11         11      770            1810   \n",
       "\n",
       "   employee_id  upokarvogi  potrojari_internal_own  potrojari_internal_other  \\\n",
       "0           76           0                       0                         0   \n",
       "1          478           0                       0                         0   \n",
       "2          478           0                       0                         0   \n",
       "3           76           0                       0                         0   \n",
       "4          478           0                       0                         0   \n",
       "\n",
       "   dak_srijito       operation_date              created             modified  \n",
       "0            0  2016-02-10 00:00:00  2016-11-26 12:27:29  2016-11-26 12:27:29  \n",
       "1            0  2016-02-13 00:00:00  2016-11-26 12:27:29  2016-11-26 12:27:29  \n",
       "2            0  2016-02-13 00:00:00  2016-11-26 12:27:29  2016-11-26 12:27:29  \n",
       "3            0  2016-11-16 00:00:00  2016-11-26 12:27:29  2016-11-26 12:27:29  \n",
       "4            0  2016-02-14 00:00:00  2016-11-26 12:27:29  2016-11-26 12:27:29  "
      ]
     },
     "execution_count": 8,
     "metadata": {},
     "output_type": "execute_result"
    }
   ],
   "source": [
    "df.head()"
   ]
  },
  {
   "cell_type": "code",
   "execution_count": 27,
   "id": "bea0812e-d482-4684-af59-e43ca3fc74e0",
   "metadata": {},
   "outputs": [
    {
     "data": {
      "text/plain": [
       "5"
      ]
     },
     "execution_count": 27,
     "metadata": {},
     "output_type": "execute_result"
    }
   ],
   "source": [
    "# df.info(memory_usage=\"deep\")\n",
    "# df.unit_id.unique()\n",
    "# df.unit_id.nunique()\n",
    "df.upokarvogi.sum()\n"
   ]
  },
  {
   "cell_type": "code",
   "execution_count": 18,
   "id": "f6b0c30d-0962-425e-912c-8c51fb083bb7",
   "metadata": {},
   "outputs": [
    {
     "data": {
      "text/plain": [
       "array([0])"
      ]
     },
     "execution_count": 18,
     "metadata": {},
     "output_type": "execute_result"
    },
    {
     "data": {
      "text/plain": [
       "array([0])"
      ]
     },
     "execution_count": 18,
     "metadata": {},
     "output_type": "execute_result"
    },
    {
     "data": {
      "text/plain": [
       "(100000,)"
      ]
     },
     "execution_count": 18,
     "metadata": {},
     "output_type": "execute_result"
    },
    {
     "data": {
      "text/plain": [
       "(100000,)"
      ]
     },
     "execution_count": 18,
     "metadata": {},
     "output_type": "execute_result"
    },
    {
     "data": {
      "text/plain": [
       "array([0, 0, 0, ..., 0, 0, 0])"
      ]
     },
     "execution_count": 18,
     "metadata": {},
     "output_type": "execute_result"
    }
   ],
   "source": [
    "df.potrojari_internal_own.unique()\n",
    "df.potrojari_internal_other.unique()\n",
    "df.potrojari_internal_own.shape\n",
    "df.potrojari_internal_other.shape\n",
    "df.potrojari_internal_own.values"
   ]
  }
 ],
 "metadata": {
  "kernelspec": {
   "display_name": "Python 3 (ipykernel)",
   "language": "python",
   "name": "python3"
  },
  "language_info": {
   "codemirror_mode": {
    "name": "ipython",
    "version": 3
   },
   "file_extension": ".py",
   "mimetype": "text/x-python",
   "name": "python",
   "nbconvert_exporter": "python",
   "pygments_lexer": "ipython3",
   "version": "3.8.10"
  }
 },
 "nbformat": 4,
 "nbformat_minor": 5
}
