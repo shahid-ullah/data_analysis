{
 "cells": [
  {
   "cell_type": "code",
   "execution_count": 1,
   "id": "2bd8dd78-30ee-483a-9e0c-6d2bd435eddb",
   "metadata": {},
   "outputs": [],
   "source": [
    "# import necessary library\n",
    "from IPython.core.interactiveshell import InteractiveShell\n",
    "InteractiveShell.ast_node_interactivity = \"all\"\n",
    "\n",
    "import pandas as pd\n",
    "import numpy as np\n",
    "import matplotlib.pyplot as plt\n",
    "pd.set_option('display.max_columns', None)"
   ]
  },
  {
   "cell_type": "code",
   "execution_count": 2,
   "id": "3ecbb7cc-3cb5-4d7a-8243-fa447682c6fb",
   "metadata": {},
   "outputs": [],
   "source": [
    "users_table_column = [\n",
    "    'id',\n",
    "    'username',\n",
    "    'password',\n",
    "    'user_alias',\n",
    "    'hash_change_password',\n",
    "    'user_role_id',\n",
    "    'is_admin',\n",
    "    'active',\n",
    "    'user_status',\n",
    "    'is_email_verified',\n",
    "    'email_verify_code',\n",
    "    'verification_date',\n",
    "    'ssn',\n",
    "    'force_password_change',\n",
    "    'last_password_change',\n",
    "    'created',\n",
    "    'modified',\n",
    "    'created_by',\n",
    "    'modified_by',\n",
    "    'photo',\n",
    "    'employee_record_id',\n",
    "]"
   ]
  },
  {
   "cell_type": "code",
   "execution_count": null,
   "id": "63566a10-b519-4197-8aa0-7d8ee05eefad",
   "metadata": {},
   "outputs": [],
   "source": []
  },
  {
   "cell_type": "code",
   "execution_count": 3,
   "id": "2c514fdf-50b3-46ca-9e83-ba0e3798bf33",
   "metadata": {},
   "outputs": [
    {
     "data": {
      "text/plain": [
       "52"
      ]
     },
     "execution_count": 3,
     "metadata": {},
     "output_type": "execute_result"
    },
    {
     "data": {
      "text/plain": [
       "52"
      ]
     },
     "execution_count": 3,
     "metadata": {},
     "output_type": "execute_result"
    }
   ],
   "source": [
    "employee_records_table_columns = [\n",
    "    'id',\n",
    "    'name_eng',\n",
    "    'name_bng',\n",
    "    'father_name_eng',\n",
    "    'father_name_bng',\n",
    "    'mother_name_eng',\n",
    "    'mother_name_bng',\n",
    "    'date_of_birth',\n",
    "    'nid',\n",
    "    'nid_valid',\n",
    "    'bcn',\n",
    "    'ppn',\n",
    "    'gender',\n",
    "    'religion',\n",
    "    'blood_group',\n",
    "    'martial_status',\n",
    "    'personal_email',\n",
    "    'personal_mobile',\n",
    "    'alternative_mobile',\n",
    "    'is_cadre',\n",
    "    'employee_grade',\n",
    "    'employee_cadre_id',\n",
    "    'employee_batch_id',\n",
    "    'identity_no',\n",
    "    'appointment_memo_no',\n",
    "    'joining_date',\n",
    "    'service_rank_id',\n",
    "    'service_grade_id',\n",
    "    'service_ministry_id',\n",
    "    'service_office_id',\n",
    "    'current_office_ministry_id',\n",
    "    'current_office_layer_id',\n",
    "    'current_office_id',\n",
    "    'current_office_unit_id',\n",
    "    'current_office_joining_date',\n",
    "    'current_office_designation_id',\n",
    "    'current_office_address',\n",
    "    'e_sign',\n",
    "    'd_sign',\n",
    "    'image_file_name',\n",
    "    'status',\n",
    "    'default_sign',\n",
    "    'hard_signature',\n",
    "    'soft_signature',\n",
    "    'cert_id',\n",
    "    'cert_type',\n",
    "    'cert_provider',\n",
    "    'cert_serial',\n",
    "    'created_by',\n",
    "    'modified_by',\n",
    "    'created',\n",
    "    'modified',\n",
    "]\n",
    "len(employee_records_table_columns)\n",
    "len(set(employee_records_table_columns))"
   ]
  },
  {
   "cell_type": "code",
   "execution_count": 4,
   "id": "2b4e9a80-c6c3-4405-85e8-3459437e86c4",
   "metadata": {},
   "outputs": [
    {
     "name": "stderr",
     "output_type": "stream",
     "text": [
      "/home/shahid/Desktop/Tappware/DataAnalysis/.venv/lib/python3.8/site-packages/IPython/core/interactiveshell.py:3444: DtypeWarning: Columns (1,4,8) have mixed types.Specify dtype option on import or set low_memory=False.\n",
      "  exec(code_obj, self.user_global_ns, self.user_ns)\n",
      "/home/shahid/Desktop/Tappware/DataAnalysis/.venv/lib/python3.8/site-packages/IPython/core/interactiveshell.py:3444: DtypeWarning: Columns (17,18,25,36,39,45,46,47) have mixed types.Specify dtype option on import or set low_memory=False.\n",
      "  exec(code_obj, self.user_global_ns, self.user_ns)\n"
     ]
    },
    {
     "data": {
      "text/plain": [
       "(79401, 21)"
      ]
     },
     "execution_count": 4,
     "metadata": {},
     "output_type": "execute_result"
    },
    {
     "data": {
      "text/plain": [
       "(79861, 52)"
      ]
     },
     "execution_count": 4,
     "metadata": {},
     "output_type": "execute_result"
    }
   ],
   "source": [
    "users_df = pd.read_csv('../Data/users.csv', names=users_table_column)\n",
    "employee_records_df = pd.read_csv('../Data/employee_records.csv', names=employee_records_table_columns)\n",
    "users_df.shape\n",
    "employee_records_df.shape"
   ]
  },
  {
   "cell_type": "code",
   "execution_count": 5,
   "id": "871abd0d-0bcd-4f05-9878-47b7b6f825b1",
   "metadata": {},
   "outputs": [
    {
     "data": {
      "text/plain": [
       "Index(['id', 'username', 'password', 'user_alias', 'hash_change_password',\n",
       "       'user_role_id', 'is_admin', 'active', 'user_status',\n",
       "       'is_email_verified', 'email_verify_code', 'verification_date', 'ssn',\n",
       "       'force_password_change', 'last_password_change', 'created', 'modified',\n",
       "       'created_by', 'modified_by', 'photo', 'employee_record_id'],\n",
       "      dtype='object')"
      ]
     },
     "execution_count": 5,
     "metadata": {},
     "output_type": "execute_result"
    },
    {
     "data": {
      "text/plain": [
       "Index(['id', 'name_eng', 'name_bng', 'father_name_eng', 'father_name_bng',\n",
       "       'mother_name_eng', 'mother_name_bng', 'date_of_birth', 'nid',\n",
       "       'nid_valid', 'bcn', 'ppn', 'gender', 'religion', 'blood_group',\n",
       "       'martial_status', 'personal_email', 'personal_mobile',\n",
       "       'alternative_mobile', 'is_cadre', 'employee_grade', 'employee_cadre_id',\n",
       "       'employee_batch_id', 'identity_no', 'appointment_memo_no',\n",
       "       'joining_date', 'service_rank_id', 'service_grade_id',\n",
       "       'service_ministry_id', 'service_office_id',\n",
       "       'current_office_ministry_id', 'current_office_layer_id',\n",
       "       'current_office_id', 'current_office_unit_id',\n",
       "       'current_office_joining_date', 'current_office_designation_id',\n",
       "       'current_office_address', 'e_sign', 'd_sign', 'image_file_name',\n",
       "       'status', 'default_sign', 'hard_signature', 'soft_signature', 'cert_id',\n",
       "       'cert_type', 'cert_provider', 'cert_serial', 'created_by',\n",
       "       'modified_by', 'created', 'modified'],\n",
       "      dtype='object')"
      ]
     },
     "execution_count": 5,
     "metadata": {},
     "output_type": "execute_result"
    }
   ],
   "source": [
    "users_df.columns\n",
    "employee_records_df.columns"
   ]
  },
  {
   "cell_type": "code",
   "execution_count": 6,
   "id": "32dd3b3c-e3d4-47ec-81c2-fe8bd5ff5d38",
   "metadata": {},
   "outputs": [],
   "source": [
    "new_users_df = users_df[['id',\n",
    "    'username',\n",
    "    'user_role_id',\n",
    "    'is_admin',\n",
    "    'active',\n",
    "    'user_status',\n",
    "    'created',\n",
    "    'modified',\n",
    "    'employee_record_id']]\n",
    "# employee_records_df = pd.read_csv('./Data/employee_records.csv', names=employee_records_table_columns)\n",
    "new_employee_records_df = employee_records_df[['id', 'name_eng', 'gender', 'created', 'modified']]\n"
   ]
  },
  {
   "cell_type": "code",
   "execution_count": 7,
   "id": "66936f7e-0ac7-4961-9bb5-5f150a665bc1",
   "metadata": {},
   "outputs": [],
   "source": [
    "users_gender_df = pd.merge(new_users_df, new_employee_records_df, left_on=['employee_record_id'], right_on=['id'],  suffixes=('_users', '_employee'))\n"
   ]
  },
  {
   "cell_type": "code",
   "execution_count": 13,
   "id": "bf258ef4-279c-4da6-bf50-c470fedbda10",
   "metadata": {},
   "outputs": [
    {
     "data": {
      "text/html": [
       "<div>\n",
       "<style scoped>\n",
       "    .dataframe tbody tr th:only-of-type {\n",
       "        vertical-align: middle;\n",
       "    }\n",
       "\n",
       "    .dataframe tbody tr th {\n",
       "        vertical-align: top;\n",
       "    }\n",
       "\n",
       "    .dataframe thead th {\n",
       "        text-align: right;\n",
       "    }\n",
       "</style>\n",
       "<table border=\"1\" class=\"dataframe\">\n",
       "  <thead>\n",
       "    <tr style=\"text-align: right;\">\n",
       "      <th></th>\n",
       "      <th>id_users</th>\n",
       "      <th>username</th>\n",
       "      <th>user_role_id</th>\n",
       "      <th>is_admin</th>\n",
       "      <th>active</th>\n",
       "      <th>user_status</th>\n",
       "      <th>created_users</th>\n",
       "      <th>modified_users</th>\n",
       "      <th>employee_record_id</th>\n",
       "      <th>id_employee</th>\n",
       "      <th>name_eng</th>\n",
       "      <th>gender</th>\n",
       "      <th>created_employee</th>\n",
       "      <th>modified_employee</th>\n",
       "    </tr>\n",
       "  </thead>\n",
       "  <tbody>\n",
       "    <tr>\n",
       "      <th>0</th>\n",
       "      <td>3</td>\n",
       "      <td>100000003119</td>\n",
       "      <td>3</td>\n",
       "      <td>0</td>\n",
       "      <td>1</td>\n",
       "      <td>registered</td>\n",
       "      <td>NaN</td>\n",
       "      <td>2019-05-20 08:56:36</td>\n",
       "      <td>1.0</td>\n",
       "      <td>1</td>\n",
       "      <td>Dr. Kamal Abdul Naser Chowdhury</td>\n",
       "      <td>1.0</td>\n",
       "      <td>2015-08-13 15:08:49</td>\n",
       "      <td>2016-05-02 10:59:15</td>\n",
       "    </tr>\n",
       "    <tr>\n",
       "      <th>1</th>\n",
       "      <td>4</td>\n",
       "      <td>100000000250</td>\n",
       "      <td>3</td>\n",
       "      <td>0</td>\n",
       "      <td>1</td>\n",
       "      <td>registered</td>\n",
       "      <td>NaN</td>\n",
       "      <td>2017-03-06 10:10:55</td>\n",
       "      <td>2.0</td>\n",
       "      <td>2</td>\n",
       "      <td>Md. Abdul Mannan</td>\n",
       "      <td>1.0</td>\n",
       "      <td>2015-08-14 12:58:21</td>\n",
       "      <td>2016-03-13 12:30:56</td>\n",
       "    </tr>\n",
       "    <tr>\n",
       "      <th>2</th>\n",
       "      <td>5</td>\n",
       "      <td>100000000202</td>\n",
       "      <td>3</td>\n",
       "      <td>0</td>\n",
       "      <td>1</td>\n",
       "      <td>registered</td>\n",
       "      <td>NaN</td>\n",
       "      <td>2021-07-31 17:19:39</td>\n",
       "      <td>3.0</td>\n",
       "      <td>3</td>\n",
       "      <td>Monir Hossain Chowdhury</td>\n",
       "      <td>1.0</td>\n",
       "      <td>2015-08-14 13:04:19</td>\n",
       "      <td>2015-08-14 13:04:19</td>\n",
       "    </tr>\n",
       "    <tr>\n",
       "      <th>3</th>\n",
       "      <td>6</td>\n",
       "      <td>100000000203</td>\n",
       "      <td>3</td>\n",
       "      <td>0</td>\n",
       "      <td>1</td>\n",
       "      <td>registered</td>\n",
       "      <td>NaN</td>\n",
       "      <td>2016-02-24 14:39:30</td>\n",
       "      <td>4.0</td>\n",
       "      <td>4</td>\n",
       "      <td>Md Ibrahim Hossain Khan</td>\n",
       "      <td>1.0</td>\n",
       "      <td>2015-08-14 13:27:55</td>\n",
       "      <td>2016-03-13 12:42:51</td>\n",
       "    </tr>\n",
       "    <tr>\n",
       "      <th>4</th>\n",
       "      <td>7</td>\n",
       "      <td>200000011648</td>\n",
       "      <td>3</td>\n",
       "      <td>0</td>\n",
       "      <td>1</td>\n",
       "      <td>registered</td>\n",
       "      <td>NaN</td>\n",
       "      <td>2021-09-21 14:51:02</td>\n",
       "      <td>15486.0</td>\n",
       "      <td>15486</td>\n",
       "      <td>Mohammed Ikbal Hossain</td>\n",
       "      <td>1.0</td>\n",
       "      <td>2016-10-16 17:05:52</td>\n",
       "      <td>2016-11-09 10:08:11</td>\n",
       "    </tr>\n",
       "  </tbody>\n",
       "</table>\n",
       "</div>"
      ],
      "text/plain": [
       "   id_users      username  user_role_id  is_admin  active user_status  \\\n",
       "0         3  100000003119             3         0       1  registered   \n",
       "1         4  100000000250             3         0       1  registered   \n",
       "2         5  100000000202             3         0       1  registered   \n",
       "3         6  100000000203             3         0       1  registered   \n",
       "4         7  200000011648             3         0       1  registered   \n",
       "\n",
       "  created_users       modified_users  employee_record_id  id_employee  \\\n",
       "0           NaN  2019-05-20 08:56:36                 1.0            1   \n",
       "1           NaN  2017-03-06 10:10:55                 2.0            2   \n",
       "2           NaN  2021-07-31 17:19:39                 3.0            3   \n",
       "3           NaN  2016-02-24 14:39:30                 4.0            4   \n",
       "4           NaN  2021-09-21 14:51:02             15486.0        15486   \n",
       "\n",
       "                          name_eng  gender     created_employee  \\\n",
       "0  Dr. Kamal Abdul Naser Chowdhury     1.0  2015-08-13 15:08:49   \n",
       "1                 Md. Abdul Mannan     1.0  2015-08-14 12:58:21   \n",
       "2          Monir Hossain Chowdhury     1.0  2015-08-14 13:04:19   \n",
       "3          Md Ibrahim Hossain Khan     1.0  2015-08-14 13:27:55   \n",
       "4           Mohammed Ikbal Hossain     1.0  2016-10-16 17:05:52   \n",
       "\n",
       "     modified_employee  \n",
       "0  2016-05-02 10:59:15  \n",
       "1  2016-03-13 12:30:56  \n",
       "2  2015-08-14 13:04:19  \n",
       "3  2016-03-13 12:42:51  \n",
       "4  2016-11-09 10:08:11  "
      ]
     },
     "execution_count": 13,
     "metadata": {},
     "output_type": "execute_result"
    }
   ],
   "source": [
    "users_gender_df.head()"
   ]
  },
  {
   "cell_type": "code",
   "execution_count": 72,
   "id": "d91e192d-b39e-4b00-b3ee-f4abf60914d1",
   "metadata": {},
   "outputs": [
    {
     "data": {
      "text/plain": [
       "(79131, 14)"
      ]
     },
     "execution_count": 72,
     "metadata": {},
     "output_type": "execute_result"
    }
   ],
   "source": [
    "users_gender_df.shape"
   ]
  },
  {
   "cell_type": "code",
   "execution_count": 70,
   "id": "ec43528e-acc4-4a07-939a-12b5b2373f60",
   "metadata": {},
   "outputs": [
    {
     "data": {
      "text/plain": [
       "(272, 14)"
      ]
     },
     "execution_count": 70,
     "metadata": {},
     "output_type": "execute_result"
    }
   ],
   "source": [
    "# users_gender_df = users_gender_df[users_gender_df.created_users.isnull()]\n",
    "users_gender_df.shape"
   ]
  },
  {
   "cell_type": "markdown",
   "id": "aed198f3-8d67-4f13-83dc-faee0cb4bbc1",
   "metadata": {},
   "source": [
    "## Filter created_users value"
   ]
  },
  {
   "cell_type": "code",
   "execution_count": 78,
   "id": "d4f3a008-3167-45fb-8c73-f46cc29faf54",
   "metadata": {},
   "outputs": [
    {
     "data": {
      "text/plain": [
       "(79131, 14)"
      ]
     },
     "execution_count": 78,
     "metadata": {},
     "output_type": "execute_result"
    }
   ],
   "source": [
    "users_gender_df = pd.merge(new_users_df, new_employee_records_df, left_on=['employee_record_id'], right_on=['id'],  suffixes=('_users', '_employee'))\n",
    "users_gender_df[\"created_users\"].fillna(\"unknown\", inplace = True)\n",
    "users_gender_df.shape"
   ]
  },
  {
   "cell_type": "code",
   "execution_count": 79,
   "id": "3728bcf7-f97f-4c38-a807-88c20b6eeffe",
   "metadata": {},
   "outputs": [],
   "source": [
    "import re\n",
    "year_month_regex = re.compile(r'(\\d\\d\\d\\d)-(\\d\\d)-(\\d\\d)')\n",
    "# users_df.info()\n",
    "years = []\n",
    "months = []\n",
    "indexes = []\n",
    "\n",
    "times = users_gender_df.created_users.values\n",
    "for index, time in enumerate(times, start=0):\n",
    "    if time == 'unknown':\n",
    "        year = time\n",
    "        month = time\n",
    "        years.append(year)\n",
    "        months.append(month)\n",
    "        indexes.append(index)\n",
    "    else:\n",
    "        # print(time)\n",
    "        mo = year_month_regex.search(time)\n",
    "        year = mo.group(1)\n",
    "        month = mo.group(2)\n",
    "        years.append(year)\n",
    "        months.append(month)\n",
    "        indexes.append(index)"
   ]
  },
  {
   "cell_type": "code",
   "execution_count": 80,
   "id": "27d59a1f-8db7-4c64-b293-1fef77683171",
   "metadata": {},
   "outputs": [
    {
     "data": {
      "text/plain": [
       "79131"
      ]
     },
     "execution_count": 80,
     "metadata": {},
     "output_type": "execute_result"
    },
    {
     "data": {
      "text/plain": [
       "79131"
      ]
     },
     "execution_count": 80,
     "metadata": {},
     "output_type": "execute_result"
    }
   ],
   "source": [
    "len(years)\n",
    "len(months)"
   ]
  },
  {
   "cell_type": "code",
   "execution_count": 81,
   "id": "f54ed349-1efa-4bd4-a4f7-e31321393dcc",
   "metadata": {},
   "outputs": [],
   "source": [
    "year_series_df = pd.Series(years, index=indexes)\n",
    "month_series_df = pd.Series(months, index=indexes)"
   ]
  },
  {
   "cell_type": "code",
   "execution_count": 92,
   "id": "25a73e55-8f4a-4f01-833a-b26acb943d96",
   "metadata": {},
   "outputs": [],
   "source": [
    "# add year and month dataframe columns\n",
    "users_gender_df['year'] = year_series_df\n",
    "users_gender_df['month'] = month_series_df"
   ]
  },
  {
   "cell_type": "code",
   "execution_count": 99,
   "id": "89309341-99e2-40e3-9380-2fec83dd8963",
   "metadata": {},
   "outputs": [],
   "source": [
    "month_map ={\n",
    "    '1': 'January',\n",
    "    '01': 'January',\n",
    "    '2': 'February',\n",
    "    '02': 'February',\n",
    "    '3': 'March',\n",
    "    '03': 'March',\n",
    "    '4': 'April',\n",
    "    '04': 'April',\n",
    "    '5': 'May',\n",
    "    '05': 'May',\n",
    "    '6': 'June',\n",
    "    '06': 'June',\n",
    "    '7': 'July',\n",
    "    '07': 'July',\n",
    "    '8': 'August',\n",
    "    '08': 'August',\n",
    "    '9': 'Septembr',\n",
    "    '09': 'Septermber',\n",
    "    '10': 'October',\n",
    "    '11': 'November',\n",
    "    '12': 'December',\n",
    "    'unknown': 'unknown',\n",
    "}"
   ]
  },
  {
   "cell_type": "markdown",
   "id": "5bcb36d2-254c-4cde-977b-65f96d5fd9be",
   "metadata": {},
   "source": [
    "## Separate male and female dataframe"
   ]
  },
  {
   "cell_type": "code",
   "execution_count": 97,
   "id": "82741fc3-a414-47d2-947e-7cf0ffa197f7",
   "metadata": {},
   "outputs": [
    {
     "data": {
      "text/plain": [
       "(12589, 16)"
      ]
     },
     "execution_count": 97,
     "metadata": {},
     "output_type": "execute_result"
    },
    {
     "data": {
      "text/plain": [
       "(66542, 16)"
      ]
     },
     "execution_count": 97,
     "metadata": {},
     "output_type": "execute_result"
    }
   ],
   "source": [
    "users_gender_df[users_gender_df.gender != 1].shape\n",
    "users_gender_df[users_gender_df.gender == 1].shape"
   ]
  },
  {
   "cell_type": "code",
   "execution_count": 104,
   "id": "a0b60b5d-f3ca-4614-8a04-0a173440ef13",
   "metadata": {},
   "outputs": [
    {
     "data": {
      "text/plain": [
       "(66542, 16)"
      ]
     },
     "execution_count": 104,
     "metadata": {},
     "output_type": "execute_result"
    },
    {
     "data": {
      "text/plain": [
       "(12589, 16)"
      ]
     },
     "execution_count": 104,
     "metadata": {},
     "output_type": "execute_result"
    }
   ],
   "source": [
    "users_gender_male_df = users_gender_df[users_gender_df.gender == 1]\n",
    "users_gender_female_df = users_gender_df[users_gender_df.gender != 1]\n",
    "users_gender_male_df.shape\n",
    "users_gender_female_df.shape\n",
    "# users_gender_male_df.shape[0] + users_gender_female_df.shape[0]"
   ]
  },
  {
   "cell_type": "code",
   "execution_count": 105,
   "id": "df16d370-2f9a-46f4-b729-1b8dd853a2b1",
   "metadata": {},
   "outputs": [],
   "source": [
    "\n",
    "users_gender_male_df.to_csv('users_gender_male.csv', index=False)\n",
    "users_gender_female_df.to_csv('users_gender_female.csv', index=False)"
   ]
  },
  {
   "cell_type": "code",
   "execution_count": null,
   "id": "a14ee094-ba2b-4eb9-b8b6-cc530b75a4de",
   "metadata": {},
   "outputs": [],
   "source": []
  },
  {
   "cell_type": "markdown",
   "id": "a68053f1-7ea0-4ebe-8221-a28cec09bc18",
   "metadata": {},
   "source": [
    "## male year by statistics"
   ]
  },
  {
   "cell_type": "code",
   "execution_count": null,
   "id": "938dbada-56b3-4d6b-82b5-1473b3a42c6c",
   "metadata": {},
   "outputs": [],
   "source": [
    "users_gender_male_year_by = users_gender_male_df.groupby('year')\n",
    "users_gender_male_year_by"
   ]
  },
  {
   "cell_type": "code",
   "execution_count": 101,
   "id": "6f13bab0-6f83-4d0a-80c9-334a91d13b77",
   "metadata": {},
   "outputs": [],
   "source": [
    "general_series = [\n",
    "    {\n",
    "        'name': 'users',\n",
    "        'colorByPoint': True,\n",
    "        'data': [],\n",
    "    }\n",
    "]\n",
    "drilldown_series = []\n",
    "\n",
    "for year, year_frame in users_gender_year_by:\n",
    "    year = str(year)\n",
    "    # year, year_frame.shape\n",
    "    t_dict_ge = {'name': year, 'y': year_frame.shape[0], 'drilldown': year}\n",
    "    general_series[0]['data'].append(t_dict_ge)\n",
    "\n",
    "    t_dict_dr = {\n",
    "        'name': year,\n",
    "        'id': year,\n",
    "        'data': [],\n",
    "    }\n",
    "    month_group_by = year_frame.groupby('month')\n",
    "    for month, month_frame in month_group_by:\n",
    "        # mg, mf.shape[0]\n",
    "        month = str(month)\n",
    "        month = month_map[month]\n",
    "\n",
    "        lst = [month, month_frame.shape[0]]\n",
    "        t_dict_dr['data'].append(lst)\n",
    "        drilldown_series.append(t_dict_dr)"
   ]
  },
  {
   "cell_type": "code",
   "execution_count": null,
   "id": "edaf9703-2a42-46cb-9e57-63fe95213ab2",
   "metadata": {},
   "outputs": [],
   "source": []
  },
  {
   "cell_type": "code",
   "execution_count": null,
   "id": "90577395-4aa1-4066-868f-5bdc2ffed443",
   "metadata": {},
   "outputs": [],
   "source": []
  },
  {
   "cell_type": "code",
   "execution_count": null,
   "id": "a79be87b-457e-470c-b079-aaf476115827",
   "metadata": {},
   "outputs": [],
   "source": []
  },
  {
   "cell_type": "markdown",
   "id": "ab783d1f-fb41-4e6b-9da7-1277c86ee5d5",
   "metadata": {},
   "source": [
    "### users gender female year by statistics"
   ]
  },
  {
   "cell_type": "code",
   "execution_count": null,
   "id": "decffe3c-f683-4fdf-96f5-efc393f32849",
   "metadata": {},
   "outputs": [],
   "source": []
  },
  {
   "cell_type": "code",
   "execution_count": null,
   "id": "6e541e45-e941-4e56-b155-8d2a9208fe29",
   "metadata": {},
   "outputs": [],
   "source": []
  },
  {
   "cell_type": "code",
   "execution_count": 90,
   "id": "5b36d432-7aaa-46b9-9d53-094e16767793",
   "metadata": {},
   "outputs": [
    {
     "data": {
      "text/plain": [
       "<pandas.core.groupby.generic.DataFrameGroupBy object at 0x7fd4b498dee0>"
      ]
     },
     "execution_count": 90,
     "metadata": {},
     "output_type": "execute_result"
    }
   ],
   "source": [
    "users_gender_year_by = users_gender_df.groupby('year')\n",
    "users_gender_year_by"
   ]
  },
  {
   "cell_type": "code",
   "execution_count": 91,
   "id": "480332e9-0645-4f5f-b799-728efe637e11",
   "metadata": {},
   "outputs": [
    {
     "data": {
      "text/plain": [
       "<pandas.core.groupby.generic.SeriesGroupBy object at 0x7fd4b28b03d0>"
      ]
     },
     "execution_count": 91,
     "metadata": {},
     "output_type": "execute_result"
    }
   ],
   "source": [
    "users_gender_year_by['gender']"
   ]
  },
  {
   "cell_type": "code",
   "execution_count": 88,
   "id": "316d6a5a-8371-477a-b4ae-6e8aa4762cb5",
   "metadata": {},
   "outputs": [],
   "source": [
    "general_series = [\n",
    "    {\n",
    "        'name': 'users',\n",
    "        'colorByPoint': True,\n",
    "        'data': [],\n",
    "    }\n",
    "]\n",
    "drilldown_series = []\n",
    "\n",
    "for year, year_frame in users_gender_year_by:\n",
    "    year = str(year)\n",
    "    # year, year_frame.shape\n",
    "    t_dict_ge = {'name': year, 'y': year_frame.shape[0], 'drilldown': year}\n",
    "    general_series[0]['data'].append(t_dict_ge)\n",
    "\n",
    "    t_dict_dr = {\n",
    "        'name': year,\n",
    "        'id': year,\n",
    "        'data': [],\n",
    "    }\n",
    "    month_group_by = year_frame.groupby('month')\n",
    "    for month, month_frame in month_group_by:\n",
    "        # mg, mf.shape[0]\n",
    "        month = str(month)\n",
    "        month = month_map[month]\n",
    "\n",
    "        lst = [month, month_frame.shape[0]]\n",
    "        t_dict_dr['data'].append(lst)\n",
    "        drilldown_series.append(t_dict_dr)\n",
    "\n"
   ]
  },
  {
   "cell_type": "code",
   "execution_count": 89,
   "id": "b47dd718-e7bd-4c2c-b887-850f0a5a9e37",
   "metadata": {},
   "outputs": [
    {
     "data": {
      "text/plain": [
       "[{'name': 'users',\n",
       "  'colorByPoint': True,\n",
       "  'data': [{'name': '2015', 'y': 69, 'drilldown': '2015'},\n",
       "   {'name': '2016', 'y': 19039, 'drilldown': '2016'},\n",
       "   {'name': '2017', 'y': 20074, 'drilldown': '2017'},\n",
       "   {'name': '2018', 'y': 15269, 'drilldown': '2018'},\n",
       "   {'name': '2019', 'y': 10479, 'drilldown': '2019'},\n",
       "   {'name': '2020', 'y': 12046, 'drilldown': '2020'},\n",
       "   {'name': '2021', 'y': 1883, 'drilldown': '2021'},\n",
       "   {'name': 'unknown', 'y': 272, 'drilldown': 'unknown'}]}]"
      ]
     },
     "execution_count": 89,
     "metadata": {},
     "output_type": "execute_result"
    }
   ],
   "source": [
    "general_series"
   ]
  },
  {
   "cell_type": "code",
   "execution_count": null,
   "id": "9c0e7865-f7d2-4d74-9889-307125fa2b46",
   "metadata": {},
   "outputs": [],
   "source": []
  },
  {
   "cell_type": "code",
   "execution_count": 13,
   "id": "8ff4f922-73fc-4a2c-b53d-9bea8d0915d4",
   "metadata": {},
   "outputs": [
    {
     "data": {
      "text/html": [
       "<div>\n",
       "<style scoped>\n",
       "    .dataframe tbody tr th:only-of-type {\n",
       "        vertical-align: middle;\n",
       "    }\n",
       "\n",
       "    .dataframe tbody tr th {\n",
       "        vertical-align: top;\n",
       "    }\n",
       "\n",
       "    .dataframe thead th {\n",
       "        text-align: right;\n",
       "    }\n",
       "</style>\n",
       "<table border=\"1\" class=\"dataframe\">\n",
       "  <thead>\n",
       "    <tr style=\"text-align: right;\">\n",
       "      <th></th>\n",
       "      <th>id</th>\n",
       "      <th>username</th>\n",
       "      <th>user_role_id</th>\n",
       "      <th>is_admin</th>\n",
       "      <th>active</th>\n",
       "      <th>user_status</th>\n",
       "      <th>created</th>\n",
       "      <th>modified</th>\n",
       "      <th>employee_record_id</th>\n",
       "    </tr>\n",
       "  </thead>\n",
       "  <tbody>\n",
       "    <tr>\n",
       "      <th>0</th>\n",
       "      <td>1</td>\n",
       "      <td>s0000uperman</td>\n",
       "      <td>1</td>\n",
       "      <td>0</td>\n",
       "      <td>1</td>\n",
       "      <td>registered</td>\n",
       "      <td>NaN</td>\n",
       "      <td>2021-08-02 20:42:42</td>\n",
       "      <td>NaN</td>\n",
       "    </tr>\n",
       "    <tr>\n",
       "      <th>1</th>\n",
       "      <td>2</td>\n",
       "      <td>admin</td>\n",
       "      <td>1</td>\n",
       "      <td>0</td>\n",
       "      <td>1</td>\n",
       "      <td>NaN</td>\n",
       "      <td>NaN</td>\n",
       "      <td>2021-08-01 14:56:36</td>\n",
       "      <td>NaN</td>\n",
       "    </tr>\n",
       "    <tr>\n",
       "      <th>2</th>\n",
       "      <td>3</td>\n",
       "      <td>100000003119</td>\n",
       "      <td>3</td>\n",
       "      <td>0</td>\n",
       "      <td>1</td>\n",
       "      <td>registered</td>\n",
       "      <td>NaN</td>\n",
       "      <td>2019-05-20 08:56:36</td>\n",
       "      <td>1.0</td>\n",
       "    </tr>\n",
       "  </tbody>\n",
       "</table>\n",
       "</div>"
      ],
      "text/plain": [
       "   id      username  user_role_id  is_admin  active user_status created  \\\n",
       "0   1  s0000uperman             1         0       1  registered     NaN   \n",
       "1   2         admin             1         0       1         NaN     NaN   \n",
       "2   3  100000003119             3         0       1  registered     NaN   \n",
       "\n",
       "              modified  employee_record_id  \n",
       "0  2021-08-02 20:42:42                 NaN  \n",
       "1  2021-08-01 14:56:36                 NaN  \n",
       "2  2019-05-20 08:56:36                 1.0  "
      ]
     },
     "execution_count": 13,
     "metadata": {},
     "output_type": "execute_result"
    },
    {
     "data": {
      "text/html": [
       "<div>\n",
       "<style scoped>\n",
       "    .dataframe tbody tr th:only-of-type {\n",
       "        vertical-align: middle;\n",
       "    }\n",
       "\n",
       "    .dataframe tbody tr th {\n",
       "        vertical-align: top;\n",
       "    }\n",
       "\n",
       "    .dataframe thead th {\n",
       "        text-align: right;\n",
       "    }\n",
       "</style>\n",
       "<table border=\"1\" class=\"dataframe\">\n",
       "  <thead>\n",
       "    <tr style=\"text-align: right;\">\n",
       "      <th></th>\n",
       "      <th>id</th>\n",
       "      <th>name_eng</th>\n",
       "      <th>gender</th>\n",
       "      <th>created</th>\n",
       "      <th>modified</th>\n",
       "    </tr>\n",
       "  </thead>\n",
       "  <tbody>\n",
       "    <tr>\n",
       "      <th>0</th>\n",
       "      <td>1</td>\n",
       "      <td>Dr. Kamal Abdul Naser Chowdhury</td>\n",
       "      <td>1.0</td>\n",
       "      <td>2015-08-13 15:08:49</td>\n",
       "      <td>2016-05-02 10:59:15</td>\n",
       "    </tr>\n",
       "    <tr>\n",
       "      <th>1</th>\n",
       "      <td>2</td>\n",
       "      <td>Md. Abdul Mannan</td>\n",
       "      <td>1.0</td>\n",
       "      <td>2015-08-14 12:58:21</td>\n",
       "      <td>2016-03-13 12:30:56</td>\n",
       "    </tr>\n",
       "    <tr>\n",
       "      <th>2</th>\n",
       "      <td>3</td>\n",
       "      <td>Monir Hossain Chowdhury</td>\n",
       "      <td>1.0</td>\n",
       "      <td>2015-08-14 13:04:19</td>\n",
       "      <td>2015-08-14 13:04:19</td>\n",
       "    </tr>\n",
       "  </tbody>\n",
       "</table>\n",
       "</div>"
      ],
      "text/plain": [
       "   id                         name_eng  gender              created  \\\n",
       "0   1  Dr. Kamal Abdul Naser Chowdhury     1.0  2015-08-13 15:08:49   \n",
       "1   2                 Md. Abdul Mannan     1.0  2015-08-14 12:58:21   \n",
       "2   3          Monir Hossain Chowdhury     1.0  2015-08-14 13:04:19   \n",
       "\n",
       "              modified  \n",
       "0  2016-05-02 10:59:15  \n",
       "1  2016-03-13 12:30:56  \n",
       "2  2015-08-14 13:04:19  "
      ]
     },
     "execution_count": 13,
     "metadata": {},
     "output_type": "execute_result"
    }
   ],
   "source": [
    "new_users_df.head(3)\n",
    "new_employee_records_df.head(3)"
   ]
  },
  {
   "cell_type": "code",
   "execution_count": 45,
   "id": "ce8de121-031b-402b-86b8-ee3fb11ebf3e",
   "metadata": {},
   "outputs": [],
   "source": [
    "# SELECT COUNT(users.id) FROM users INNER JOIN employee_records on users.employee_record_id = employee_records.id \n",
    "# WHERE date(users.created) <= '2020-09-31' and employee_records.gender = 2;\n",
    "co_df = pd.merge(new_users_df, new_employee_records_df, left_on=['employee_record_id'], right_on=['id'])\n",
    "users_and_employee_records_df  = co_df\n"
   ]
  },
  {
   "cell_type": "code",
   "execution_count": 27,
   "id": "c71bbfd8-9790-41ea-9d80-7411026393aa",
   "metadata": {},
   "outputs": [
    {
     "data": {
      "text/plain": [
       "array([ 1., nan,  2.,  3.])"
      ]
     },
     "execution_count": 27,
     "metadata": {},
     "output_type": "execute_result"
    }
   ],
   "source": [
    "co_df.gender.unique()"
   ]
  },
  {
   "cell_type": "code",
   "execution_count": 46,
   "id": "7bec3300-da17-4db2-ac3b-7c7da74fd00b",
   "metadata": {},
   "outputs": [
    {
     "data": {
      "text/plain": [
       "(5791, 14)"
      ]
     },
     "execution_count": 46,
     "metadata": {},
     "output_type": "execute_result"
    },
    {
     "data": {
      "text/plain": [
       "(66542, 14)"
      ]
     },
     "execution_count": 46,
     "metadata": {},
     "output_type": "execute_result"
    },
    {
     "data": {
      "text/plain": [
       "(6772, 14)"
      ]
     },
     "execution_count": 46,
     "metadata": {},
     "output_type": "execute_result"
    },
    {
     "data": {
      "text/plain": [
       "(26, 14)"
      ]
     },
     "execution_count": 46,
     "metadata": {},
     "output_type": "execute_result"
    }
   ],
   "source": [
    "# male and female count\n",
    "co_df[co_df['gender'].isnull()].shape\n",
    "co_df[co_df.gender == 1].shape\n",
    "co_df[co_df.gender == 2].shape\n",
    "co_df[co_df.gender == 3].shape"
   ]
  },
  {
   "cell_type": "code",
   "execution_count": null,
   "id": "1db015fd-88e2-4cdb-be68-1ebd3107c647",
   "metadata": {},
   "outputs": [],
   "source": []
  }
 ],
 "metadata": {
  "kernelspec": {
   "display_name": "Python 3 (ipykernel)",
   "language": "python",
   "name": "python3"
  },
  "language_info": {
   "codemirror_mode": {
    "name": "ipython",
    "version": 3
   },
   "file_extension": ".py",
   "mimetype": "text/x-python",
   "name": "python",
   "nbconvert_exporter": "python",
   "pygments_lexer": "ipython3",
   "version": "3.8.10"
  }
 },
 "nbformat": 4,
 "nbformat_minor": 5
}
