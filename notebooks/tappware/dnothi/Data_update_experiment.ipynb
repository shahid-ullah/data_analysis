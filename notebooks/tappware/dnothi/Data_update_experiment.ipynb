{
 "cells": [
  {
   "cell_type": "code",
   "execution_count": 15,
   "id": "6bbb4f46-ed2a-4668-868a-8b719fa22578",
   "metadata": {},
   "outputs": [],
   "source": [
    "from IPython.core.interactiveshell import InteractiveShell\n",
    "InteractiveShell.ast_node_interactivity = \"all\"\n"
   ]
  },
  {
   "cell_type": "code",
   "execution_count": 4,
   "id": "ed54d24e-b19e-4d41-9355-77688711ac46",
   "metadata": {},
   "outputs": [],
   "source": [
    "import json\n",
    "with open('../Cleaned_data/nispottikritto_nothi.json', 'r', encoding='utf-8') as json_file:\n",
    "    data = json.load(json_file)\n",
    "    # print(data)"
   ]
  },
  {
   "cell_type": "code",
   "execution_count": 23,
   "id": "80256b39-ab39-48f8-ac91-9c4ba7eed182",
   "metadata": {},
   "outputs": [
    {
     "name": "stdout",
     "output_type": "stream",
     "text": [
      "{'year': '2020', 'count': 4877229, 'month_data': []}\n"
     ]
    }
   ],
   "source": [
    "# data\n",
    "for year_dict in data:\n",
    "    x = year_dict['year']\n",
    "    # print(x)\n",
    "    # type(x)\n",
    "    x = int(x)\n",
    "    if (x == 2020):\n",
    "        # print(year_dict)\n",
    "        year_dict['month_data'] = []\n",
    "        \n",
    "for year_dict in data:\n",
    "    x = year_dict['year']\n",
    "    # print(x)\n",
    "    # type(x)\n",
    "    x = int(x)\n",
    "    if (x == 2020):\n",
    "        print(year_dict)\n",
    "        year_dict['month_data'] = []"
   ]
  }
 ],
 "metadata": {
  "kernelspec": {
   "display_name": "Python 3 (ipykernel)",
   "language": "python",
   "name": "python3"
  },
  "language_info": {
   "codemirror_mode": {
    "name": "ipython",
    "version": 3
   },
   "file_extension": ".py",
   "mimetype": "text/x-python",
   "name": "python",
   "nbconvert_exporter": "python",
   "pygments_lexer": "ipython3",
   "version": "3.8.10"
  }
 },
 "nbformat": 4,
 "nbformat_minor": 5
}
