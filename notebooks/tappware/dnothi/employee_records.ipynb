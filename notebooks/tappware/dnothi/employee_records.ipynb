{
 "cells": [
  {
   "cell_type": "code",
   "execution_count": 167,
   "id": "e3bcc166-272e-4139-a472-94a65ca0b579",
   "metadata": {},
   "outputs": [],
   "source": [
    "# import necessary library\n",
    "from IPython.core.interactiveshell import InteractiveShell\n",
    "InteractiveShell.ast_node_interactivity = \"all\"\n",
    "\n",
    "import pandas as pd\n",
    "import numpy as np\n",
    "import seaborn as sns\n",
    "import matplotlib.pyplot as plt\n",
    "pd.set_option('display.max_columns', None)"
   ]
  },
  {
   "cell_type": "code",
   "execution_count": 1,
   "id": "53547a47-407d-427d-9ee5-54794fb307ca",
   "metadata": {},
   "outputs": [],
   "source": [
    "def load_dataframe(path=None, nrows=100000):\n",
    "    if not path:\n",
    "        path = '~/data_analysis/data/tappware/dnothi/employee_records.csv'\n",
    "    return pd.read_csv(path, nrows=nrows)"
   ]
  },
  {
   "cell_type": "code",
   "execution_count": 3,
   "id": "d86bac81-4303-4d58-894d-94f570622af1",
   "metadata": {},
   "outputs": [
    {
     "name": "stderr",
     "output_type": "stream",
     "text": [
      "/tmp/ipykernel_103837/4292819960.py:4: DtypeWarning: Columns (8,17,18,23,25,34,36,39,45,46,47) have mixed types. Specify dtype option on import or set low_memory=False.\n",
      "  return pd.read_csv(path, nrows=nrows)\n"
     ]
    },
    {
     "data": {
      "text/plain": [
       "(100000, 52)"
      ]
     },
     "execution_count": 3,
     "metadata": {},
     "output_type": "execute_result"
    }
   ],
   "source": [
    "df = load_dataframe()\n",
    "df.shape"
   ]
  },
  {
   "cell_type": "code",
   "execution_count": 168,
   "id": "f3687546-12fd-4d00-bcc5-bc613bec3cd2",
   "metadata": {},
   "outputs": [],
   "source": [
    "# df.head()"
   ]
  },
  {
   "cell_type": "code",
   "execution_count": 8,
   "id": "68fa54e5-016b-485e-a225-1e9ca6b7e679",
   "metadata": {},
   "outputs": [
    {
     "data": {
      "text/plain": [
       "Index(['id', 'name_eng', 'name_bng', 'father_name_eng', 'father_name_bng',\n",
       "       'mother_name_eng', 'mother_name_bng', 'date_of_birth', 'nid',\n",
       "       'nid_valid', 'bcn', 'ppn', 'gender', 'religion', 'blood_group',\n",
       "       'marital_status', 'personal_email', 'personal_mobile',\n",
       "       'alternative_mobile', 'is_cadre', 'employee_grade', 'employee_cadre_id',\n",
       "       'employee_batch_id', 'identity_no', 'appointment_memo_no',\n",
       "       'joining_date', 'service_rank_id', 'service_grade_id',\n",
       "       'service_ministry_id', 'service_office_id',\n",
       "       'current_office_ministry_id', 'current_office_layer_id',\n",
       "       'current_office_id', 'current_office_unit_id',\n",
       "       'current_office_joining_date', 'current_office_designation_id',\n",
       "       'current_office_address', 'e_sign', 'd_sign', 'image_file_name',\n",
       "       'status', 'default_sign', 'hard_signature', 'soft_signature', 'cert_id',\n",
       "       'cert_type', 'cert_provider', 'cert_serial', 'created_by',\n",
       "       'modified_by', 'created', 'modified'],\n",
       "      dtype='object')"
      ]
     },
     "execution_count": 8,
     "metadata": {},
     "output_type": "execute_result"
    }
   ],
   "source": [
    "df.columns"
   ]
  },
  {
   "cell_type": "markdown",
   "id": "23de6949-696d-4618-a398-dc05fd789f82",
   "metadata": {},
   "source": [
    "## Ideas\n",
    "- Email ব্যবহারকারীর অনুপাত (Gmail, yahoo, ...)\n",
    "- কতজন ব্যবহারকারীর ইমেইল দেওয়া হয় নাই\n",
    "- কোন মাস এ Birthday বেশি\n",
    "- কোন দিন এ Birthday বেশি\n",
    "- Blood group অনুপাত।\n",
    "- Blood group , Male Female এর মধ্যে Relationships.\n",
    "- বিবাহিত ও অবিবাহিত ব্যবহারকারীর অনুপাত\n",
    "- কোন Month এ জইনিং বেশি।\n",
    "- ব্যবহারকারীরা কোন মোবাইল অপারেটর বেশি ব্যবহার করেন\n",
    "- কতজন ব্যবহারকারী marital status গোপণ রেখেছেন। :)\n",
    "\n",
    "\n",
    "funny alalysis\n",
    "- character frequency in names\n",
    "\n"
   ]
  },
  {
   "cell_type": "markdown",
   "id": "b7f1cfa8-2803-4426-ab42-ee9a2513dc13",
   "metadata": {},
   "source": [
    "### Analysis on Email\n",
    "\n",
    "Users should not use Yahoo"
   ]
  },
  {
   "cell_type": "code",
   "execution_count": 38,
   "id": "6046a5a0-d63e-4d27-bf14-840ff54e0066",
   "metadata": {},
   "outputs": [],
   "source": [
    "df_email = df[~df.personal_email.isnull()].copy(deep=True)\n",
    "# df_email = df.personal_email\n",
    "# dir(df_email.str)\n",
    "df_email['email_domain'] = df_email['personal_email'].str.extract(r'@(\\w+)\\.')\n",
    "# df_email.plot(kind='bar')\n"
   ]
  },
  {
   "cell_type": "code",
   "execution_count": 134,
   "id": "9915d3cf-b549-4169-9c48-b97f32ff1fdc",
   "metadata": {},
   "outputs": [],
   "source": [
    "df_email = df[~df.personal_email.isnull()].copy(deep=True)\n",
    "df_email['email_domain'] = df_email['personal_email'].str.split('@', expand=True)[1]\n",
    "df_email['email_domain'] =  df_email['email_domain'].str.strip()\n",
    "\n",
    "df_email['email_domain'] = df_email['email_domain'].map({'gmail.com': 'Gmail', 'yahoo.com': 'Yahoo'})\n",
    "df_email['email_domain'] = df_email['email_domain'].fillna('Others')\n",
    "df_email = df_email.groupby('email_domain').size().reset_index(name='counts')\n",
    "# df_email['email_domain'] = ['email_domain'].str.lower()\n",
    "# df_email.email_domain.value_counts()[:10]"
   ]
  },
  {
   "cell_type": "code",
   "execution_count": 135,
   "id": "21bbcde1-5d40-42f5-8350-70cd313aef3c",
   "metadata": {},
   "outputs": [
    {
     "data": {
      "text/html": [
       "<div>\n",
       "<style scoped>\n",
       "    .dataframe tbody tr th:only-of-type {\n",
       "        vertical-align: middle;\n",
       "    }\n",
       "\n",
       "    .dataframe tbody tr th {\n",
       "        vertical-align: top;\n",
       "    }\n",
       "\n",
       "    .dataframe thead th {\n",
       "        text-align: right;\n",
       "    }\n",
       "</style>\n",
       "<table border=\"1\" class=\"dataframe\">\n",
       "  <thead>\n",
       "    <tr style=\"text-align: right;\">\n",
       "      <th></th>\n",
       "      <th>email_domain</th>\n",
       "      <th>counts</th>\n",
       "    </tr>\n",
       "  </thead>\n",
       "  <tbody>\n",
       "    <tr>\n",
       "      <th>0</th>\n",
       "      <td>Gmail</td>\n",
       "      <td>66849</td>\n",
       "    </tr>\n",
       "    <tr>\n",
       "      <th>1</th>\n",
       "      <td>Others</td>\n",
       "      <td>8527</td>\n",
       "    </tr>\n",
       "    <tr>\n",
       "      <th>2</th>\n",
       "      <td>Yahoo</td>\n",
       "      <td>13058</td>\n",
       "    </tr>\n",
       "  </tbody>\n",
       "</table>\n",
       "</div>"
      ],
      "text/plain": [
       "  email_domain  counts\n",
       "0        Gmail   66849\n",
       "1       Others    8527\n",
       "2        Yahoo   13058"
      ]
     },
     "execution_count": 135,
     "metadata": {},
     "output_type": "execute_result"
    }
   ],
   "source": [
    "\n",
    "# df_email = df_email.groupby('email_domain').size().reset_index(name='counts')\n",
    "df_email"
   ]
  },
  {
   "cell_type": "code",
   "execution_count": 128,
   "id": "ed17d5f7-b1b1-4bc8-a9b7-972e29fe56e2",
   "metadata": {},
   "outputs": [
    {
     "data": {
      "text/plain": [
       "[None, None, None, None, None, None]"
      ]
     },
     "execution_count": 128,
     "metadata": {},
     "output_type": "execute_result"
    },
    {
     "data": {
      "text/plain": [
       "Text(0.5, 1.0, 'Email client statistics')"
      ]
     },
     "execution_count": 128,
     "metadata": {},
     "output_type": "execute_result"
    },
    {
     "data": {
      "image/png": "[encoded data removed]",
      "text/plain": [
       "<Figure size 432x288 with 1 Axes>"
      ]
     },
     "metadata": {},
     "output_type": "display_data"
    }
   ],
   "source": [
    "# creating the dataset\n",
    "labels = df_email['email_domain']\n",
    "values = df_email['counts']\n",
    "fig1, ax = plt.subplots()\n",
    "wedges, texts, autotexts = ax.pie(values, labels=labels, autopct='%1.1f%%',\n",
    "        shadow=True, startangle=90)\n",
    "_ = ax1.axis('equal')  # Equal aspect ratio ensures that pie is drawn as a circle.\n",
    "_ = ax.legend(wedges, labels, title=\"Email client\", loc=\"center left\", bbox_to_anchor=(1, 0, 0.5, 1))\n",
    "\n",
    "plt.setp(autotexts, size=10, weight=500)\n",
    "ax.set_title(\"Email client statistics\")\n",
    "plt.show()\n",
    "\n"
   ]
  },
  {
   "cell_type": "code",
   "execution_count": 149,
   "id": "f8095f9e-d2d7-428c-91ef-a38cdb69de92",
   "metadata": {},
   "outputs": [
    {
     "data": {
      "text/plain": [
       "(['Email Given', 'Email not Given'], [88434, 11566])"
      ]
     },
     "execution_count": 149,
     "metadata": {},
     "output_type": "execute_result"
    }
   ],
   "source": [
    "labels = ['Email Given', 'Email not Given']\n",
    "values = [df.personal_email.notnull().sum(), df.personal_email.isnull().sum()]\n",
    "lables, values\n",
    "# df.personal_email.notnull().sum()"
   ]
  },
  {
   "cell_type": "code",
   "execution_count": 150,
   "id": "7db09e25-63cd-422a-8e48-46d9c9e5df25",
   "metadata": {},
   "outputs": [
    {
     "data": {
      "text/plain": [
       "[None, None, None, None]"
      ]
     },
     "execution_count": 150,
     "metadata": {},
     "output_type": "execute_result"
    },
    {
     "data": {
      "text/plain": [
       "Text(0.5, 1.0, 'Email client statistics')"
      ]
     },
     "execution_count": 150,
     "metadata": {},
     "output_type": "execute_result"
    },
    {
     "data": {
      "image/png": "[encoded data removed]",
      "text/plain": [
       "<Figure size 432x288 with 1 Axes>"
      ]
     },
     "metadata": {},
     "output_type": "display_data"
    }
   ],
   "source": [
    "fig, ax = plt.subplots()\n",
    "wedges, texts, autotexts = ax.pie(values, labels=labels, autopct='%1.1f%%',\n",
    "        shadow=True, startangle=90)\n",
    "_ = ax1.axis('equal')  # Equal aspect ratio ensures that pie is drawn as a circle.\n",
    "_ = ax.legend(wedges, labels, title=\"Email client\", loc=\"center left\", bbox_to_anchor=(1, 0, 0.5, 1))\n",
    "\n",
    "plt.setp(autotexts, size=10, weight=500)\n",
    "ax.set_title(\"Email client statistics\")\n",
    "plt.show()"
   ]
  },
  {
   "cell_type": "markdown",
   "id": "1c571b71-3288-4238-a5a8-974c8b24dd17",
   "metadata": {},
   "source": [
    "### Analysis on Birthday"
   ]
  },
  {
   "cell_type": "code",
   "execution_count": null,
   "id": "dbb269fb-168f-4e27-a2cd-a3b52d86c5f0",
   "metadata": {},
   "outputs": [],
   "source": []
  },
  {
   "cell_type": "code",
   "execution_count": 166,
   "id": "13296de4-e06d-4bf5-9e0c-30dad84f769d",
   "metadata": {},
   "outputs": [
    {
     "data": {
      "text/plain": [
       "<Figure size 1280x800 with 0 Axes>"
      ]
     },
     "execution_count": 166,
     "metadata": {},
     "output_type": "execute_result"
    },
    {
     "data": {
      "text/plain": [
       "<BarContainer object of 31 artists>"
      ]
     },
     "execution_count": 166,
     "metadata": {},
     "output_type": "execute_result"
    },
    {
     "data": {
      "text/plain": [
       "Text(0.5, 1.0, 'Birthday')"
      ]
     },
     "execution_count": 166,
     "metadata": {},
     "output_type": "execute_result"
    },
    {
     "data": {
      "image/png": "[encoded data removed]",
      "text/plain": [
       "<Figure size 1280x800 with 1 Axes>"
      ]
     },
     "metadata": {
      "needs_background": "light"
     },
     "output_type": "display_data"
    }
   ],
   "source": [
    "# df.columns\n",
    "df_birthday = df[df.date_of_birth.notnull()].copy(deep=True)\n",
    "df_birthday['date_of_birth'] = pd.to_datetime(df_birthday['date_of_birth'], errors='coerce')\n",
    "df_birthday = df_birthday[df_birthday.date_of_birth.notnull()].copy(deep=True)\n",
    "\n",
    "plt.figure(figsize=(16,10), dpi= 80)\n",
    "df_birthday = df_birthday.groupby(df_birthday.date_of_birth.dt.day).size().reset_index(name='counts')\n",
    "plt.bar('date_of_birth', 'counts', data=df_birthday, color='tab:red')\n",
    "plt.title(\"Birthday\", fontsize=15)"
   ]
  },
  {
   "cell_type": "code",
   "execution_count": null,
   "id": "ae361b7a-d00e-44e6-bcf4-7fb7280c79a4",
   "metadata": {},
   "outputs": [],
   "source": []
  }
 ],
 "metadata": {
  "kernelspec": {
   "display_name": "Python 3 (ipykernel)",
   "language": "python",
   "name": "python3"
  },
  "language_info": {
   "codemirror_mode": {
    "name": "ipython",
    "version": 3
   },
   "file_extension": ".py",
   "mimetype": "text/x-python",
   "name": "python",
   "nbconvert_exporter": "python",
   "pygments_lexer": "ipython3",
   "version": "3.8.10"
  }
 },
 "nbformat": 4,
 "nbformat_minor": 5
}
