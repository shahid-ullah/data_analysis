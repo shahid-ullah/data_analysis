{
 "cells": [
  {
   "cell_type": "code",
   "execution_count": null,
   "id": "e7e306f7-f4cb-4d23-82e5-822556e39c7a",
   "metadata": {},
   "outputs": [],
   "source": []
  },
  {
   "cell_type": "markdown",
   "id": "e7c52072-cf4d-4c49-810c-a02ca6d838b1",
   "metadata": {},
   "source": [
    "```sql\n",
    "SELECT count(id) FROM nisponno_records where Date(operation_date) >= '2020-09-01' and Date(operation_date) <= '2020-09-30';\n",
    "```\n"
   ]
  },
  {
   "cell_type": "code",
   "execution_count": 1,
   "id": "c677e3be-6cf3-4d92-aaa0-26896e0d33f3",
   "metadata": {},
   "outputs": [],
   "source": [
    "# import necessary library\n",
    "from IPython.core.interactiveshell import InteractiveShell\n",
    "InteractiveShell.ast_node_interactivity = \"all\"\n",
    "\n",
    "import gc\n",
    "import time\n",
    "import pandas as pd\n",
    "import numpy as np\n",
    "import matplotlib.pyplot as plt\n",
    "pd.set_option('display.max_columns', None)"
   ]
  },
  {
   "cell_type": "code",
   "execution_count": 2,
   "id": "588790e5-457f-4be5-8c6d-af33ddcbae0d",
   "metadata": {},
   "outputs": [],
   "source": [
    "# utility functions\n",
    "def free_ram():\n",
    "    time.sleep(1)\n",
    "    gc.collect()\n",
    "    return None\n",
    "\n",
    "def print_local_variables(local_variables_dict):\n",
    "    local_variables_list = list(local_variables_dict)\n",
    "    for name in local_variables_list:\n",
    "        name\n",
    "        if not name.startswith('_'):\n",
    "            # name = None\n",
    "            # myvalue = eval(name)\n",
    "            print(name)\n",
    "    "
   ]
  },
  {
   "cell_type": "code",
   "execution_count": 3,
   "id": "d6e2d0dc-8e19-48ff-b104-26346a89d2c4",
   "metadata": {},
   "outputs": [
    {
     "data": {
      "text/plain": [
       "18"
      ]
     },
     "execution_count": 3,
     "metadata": {},
     "output_type": "execute_result"
    }
   ],
   "source": [
    "nisponno_records_table_columns_dict = {\n",
    "    '1': 'id',\n",
    "    '2': 'nothi_master_id',\n",
    "    '3': 'nothi_part_no',\n",
    "    '4': 'type',\n",
    "    '5': 'nothi_onucched_id',\n",
    "    '6': 'potrojari_id',\n",
    "    '7': 'nothi_office_id',\n",
    "    '8': 'office_id',\n",
    "    '9': 'unit_id',\n",
    "    '10': 'designation_id',\n",
    "    '11': 'employee_id',\n",
    "    '12': 'upokarvogi',\n",
    "    '13': 'potrojari_internal_own',\n",
    "    '14': 'potrojari_internal_other',\n",
    "    '15': 'dak_srijito',\n",
    "    '16': 'operation_date',\n",
    "    '17': 'created',\n",
    "    '18': 'modified'\n",
    "}\n",
    "nisponno_records_table_columns_list = list(nisponno_records_table_columns_dict.values())\n",
    "nisponno_records_table_columns = nisponno_records_table_columns_list\n",
    "# for key in nisponno_records_table_columns_dict.keys():\n",
    "#     value = \n",
    "\n",
    "len(nisponno_records_table_columns)\n"
   ]
  },
  {
   "cell_type": "markdown",
   "id": "6500fa50-2803-46ec-8428-d112be965a64",
   "metadata": {},
   "source": [
    "### Check column length consistency"
   ]
  },
  {
   "cell_type": "code",
   "execution_count": 4,
   "id": "a171995a-f551-41f1-abd2-53749db4a038",
   "metadata": {},
   "outputs": [],
   "source": [
    "nisponno_records_df = pd.read_csv('../Data/nisponno_records_24_11_2021.csv')\n",
    "if len(nisponno_records_table_columns) != nisponno_records_df.shape[1]: \n",
    "    print(f\"previous column length: {len(nisponno_records_table_columns)}, current column_length {nisponno_records_df.shape[1]}\")\n",
    "    raise ValueError('office table attribute added or removed')\n",
    "    \n",
    "# clearing ram\n",
    "nisponno_records_df = None\n",
    "free_ram()"
   ]
  },
  {
   "cell_type": "code",
   "execution_count": 6,
   "id": "f43e49b9-9982-4880-be74-3de8d835d0f8",
   "metadata": {},
   "outputs": [
    {
     "name": "stdout",
     "output_type": "stream",
     "text": [
      "In\n",
      "Out\n",
      "get_ipython\n",
      "exit\n",
      "quit\n",
      "InteractiveShell\n",
      "gc\n",
      "time\n",
      "pd\n",
      "np\n",
      "plt\n",
      "free_ram\n",
      "print_local_variables\n",
      "nisponno_records_table_columns_dict\n",
      "nisponno_records_table_columns_list\n",
      "nisponno_records_table_columns\n",
      "nisponno_records_df\n"
     ]
    }
   ],
   "source": [
    "# clearing ram\n",
    "# nisponno_records_df = None\n",
    "# free_ram()\n",
    "print_local_variables(locals())\n"
   ]
  },
  {
   "cell_type": "code",
   "execution_count": null,
   "id": "2de534ee-700c-4b27-849c-151cb0967179",
   "metadata": {},
   "outputs": [],
   "source": []
  },
  {
   "cell_type": "code",
   "execution_count": null,
   "id": "76dcaff6-fe50-4d04-8e58-2d97ad3c4fe4",
   "metadata": {},
   "outputs": [],
   "source": []
  },
  {
   "cell_type": "code",
   "execution_count": null,
   "id": "df671c04-f356-4f6f-afa5-4af0c50bd55f",
   "metadata": {},
   "outputs": [],
   "source": [
    "def load_nisponno_records_df():\n",
    "    return pd.read_csv('../Data/nisponno_records_24_11_2021.csv', names=nisponno_records_table_columns)"
   ]
  },
  {
   "cell_type": "code",
   "execution_count": null,
   "id": "3dd9cb87-f948-47bb-b3e6-1423b93e93a2",
   "metadata": {},
   "outputs": [],
   "source": [
    "nisponno_records_df = load_nisponno_records_df()\n"
   ]
  },
  {
   "cell_type": "code",
   "execution_count": null,
   "id": "33e8cf25-1ea5-4b2a-ae1b-68adae013ba8",
   "metadata": {},
   "outputs": [],
   "source": [
    "# nisponno_records_df = None\n",
    "# free_ram()"
   ]
  },
  {
   "cell_type": "code",
   "execution_count": null,
   "id": "83aa46b5-626f-41e0-8aac-518fbda7e928",
   "metadata": {},
   "outputs": [],
   "source": [
    "nisponno_records_df.head(7)"
   ]
  },
  {
   "cell_type": "code",
   "execution_count": null,
   "id": "21689432-f187-46e0-8a46-c61a82007352",
   "metadata": {},
   "outputs": [],
   "source": [
    "# observing dataframe size\n",
    "nisponno_records_df.shape\n",
    "nisponno_records_df.size"
   ]
  },
  {
   "cell_type": "code",
   "execution_count": null,
   "id": "c0e6857f-d125-4f6c-acab-4bf67ca2ad94",
   "metadata": {},
   "outputs": [],
   "source": [
    "# observing primary key\n",
    "\"min_id\", min(nisponno_records_df.id.values)\n",
    "\"max_id\", max(nisponno_records_df.id.values)\n",
    "\"table shape\", nisponno_records_df.shape"
   ]
  },
  {
   "cell_type": "code",
   "execution_count": null,
   "id": "d3742853-ae50-4f87-b6ab-62c80c1abcaa",
   "metadata": {},
   "outputs": [],
   "source": [
    "# observing missing values, datatype, dataframe memory size\n",
    "nisponno_records_df.info(memory_usage=\"deep\")\n",
    "# nisponno_records_df.memory_usage(deep=True)"
   ]
  },
  {
   "cell_type": "code",
   "execution_count": null,
   "id": "da6c9c8c-a833-474e-9e3e-017c424286f0",
   "metadata": {},
   "outputs": [],
   "source": [
    "# observing null value of every attribute\n",
    "nisponno_records_df.isnull().sum()"
   ]
  },
  {
   "cell_type": "code",
   "execution_count": null,
   "id": "c49848ac-efc5-445b-a198-ec35d09b3a05",
   "metadata": {},
   "outputs": [],
   "source": [
    "# Freeing ram\n",
    "nisponno_records_df = None\n",
    "free_ram()"
   ]
  },
  {
   "cell_type": "code",
   "execution_count": null,
   "id": "e88e129c-1047-40c5-aa4e-0ff1e2d841d6",
   "metadata": {},
   "outputs": [],
   "source": [
    "# type(locals())\n",
    "# local_vars = locals()\n",
    "# list(local_vars)\n",
    "# # for key, value in local_vars.items():\n",
    "# #     key, value\n",
    "#  if not name.startswith('__'):\n",
    "#         myvalue = eval(name)\n",
    "\n",
    "all_variables = dir()\n",
    "  \n",
    "# Iterate over the whole list where dir( )\n",
    "# is stored.\n",
    "for name in all_variables:\n",
    "    \n",
    "    # Print the item if it doesn't start with '__'\n",
    "    if not name.startswith('__'):\n",
    "        # myvalue = eval(name)\n",
    "        name\n",
    "        # myvalue\n",
    "        # print(name, \"is\", type(myvalue), \"and is equal to \", myvalue)"
   ]
  },
  {
   "cell_type": "code",
   "execution_count": null,
   "id": "0cf7c1b2-762b-40c9-8e2e-72133af45e6d",
   "metadata": {},
   "outputs": [],
   "source": [
    "# SELECT count(id) FROM nisponno_records where Date(operation_date) >= '2020-09-01' and Date(operation_date) <= '2020-09-30';\n",
    "\n",
    "\n",
    "# Extract mandatory attributes for offices graph analysis\n",
    "nisponno_records_df = load_nisponno_records_df()\n",
    "print(f\"Initial dataframe shape {nisponno_records_df.shape}\")\n",
    "nisponno_records_df = nisponno_records_df[['id', 'operation_date']] \n",
    "# remove null values\n",
    "nisponno_records_df = nisponno_records_df.loc[nisponno_records_df.operation_date.notnull()]\n",
    "print(f\"dataframe shape after removing operation_date null value {nisponno_records_df.shape}\")\n",
    "# add new column: cretead_new as datetime field from operation_date column\n",
    "nisponno_records_df['operation_date'] = pd.to_datetime(nisponno_records_df['operation_date'], errors='coerce')\n",
    "# errors{‘ignore’, ‘raise’, ‘coerce’}, default ‘raise’\n",
    "    # If ‘raise’, then invalid parsing will raise an exception.\n",
    "    # If ‘coerce’, then invalid parsing will be set as NaT.\n",
    "    # If ‘ignore’, then invalid parsing will return the input.\n",
    "nisponno_records_df.shape\n",
    "# again remove null values based on opeation_date field\n",
    "nisponno_records_df = nisponno_records_df.loc[nisponno_records_df.operation_date.notnull()]\n",
    "nisponno_records_df.shape"
   ]
  },
  {
   "cell_type": "code",
   "execution_count": null,
   "id": "3e3337c3-f5f0-4fd5-99c1-18d48486afdd",
   "metadata": {},
   "outputs": [],
   "source": [
    "# Extract years and months from created column\n",
    "operation_date_datetime_index = pd.DatetimeIndex(nisponno_records_df['operation_date'])\n",
    "years = operation_date_datetime_index.year.values.astype(str)\n",
    "months = operation_date_datetime_index.month.values.astype(str)\n",
    "type(years)\n",
    "type(months)\n",
    "set(years)\n",
    "set(months)"
   ]
  },
  {
   "cell_type": "code",
   "execution_count": null,
   "id": "9d6acc39-4e76-4de8-8240-cb1ed9f3946b",
   "metadata": {},
   "outputs": [],
   "source": [
    "# type(years[0])\n",
    "nisponno_records_df['year'] = years\n",
    "nisponno_records_df['month'] = months\n",
    "nisponno_records_df.shape"
   ]
  },
  {
   "cell_type": "code",
   "execution_count": null,
   "id": "4b9e2c5f-8b3e-4236-8c4b-a4769ea0d693",
   "metadata": {},
   "outputs": [],
   "source": [
    "# save the new dataframe as csv\n",
    "nisponno_records_df.to_csv('../Cleaned_data/nispottikritto_nothi.csv', index=False)"
   ]
  },
  {
   "cell_type": "code",
   "execution_count": null,
   "id": "b09ab1a3-f219-4dc8-a4da-4a78d97e42cf",
   "metadata": {},
   "outputs": [],
   "source": [
    "# observe number of offices in every year \n",
    "nisponno_records_year_by = nisponno_records_df.groupby('year')['id'].count()\n",
    "nisponno_records_year_by"
   ]
  },
  {
   "cell_type": "code",
   "execution_count": null,
   "id": "a7a1536e-b80c-48c4-8057-00f1fc4352e0",
   "metadata": {},
   "outputs": [],
   "source": [
    "plt.hist(nisponno_records_df['year'])\n",
    "\n",
    "\n",
    "plt.xlabel('years')\n",
    "plt.ylabel('Nispottikritto_nithi')\n",
    "plt.title('Nispottikritton_nothi in year base')\n",
    "# plt.text(60, .025, r'$\\mu=100,\\ \\sigma=15$')\n",
    "# plt.xlim(40, 160)\n",
    "# plt.ylim(0, 0.03)\n",
    "plt.grid(True)\n",
    "plt.show()"
   ]
  },
  {
   "cell_type": "code",
   "execution_count": null,
   "id": "8d4695af-de9c-4647-a765-a90f404e09ef",
   "metadata": {},
   "outputs": [],
   "source": [
    "month_map ={\n",
    "    '1': 'January',\n",
    "    '01': 'January',\n",
    "    '2': 'February',\n",
    "    '02': 'February',\n",
    "    '3': 'March',\n",
    "    '03': 'March',\n",
    "    '4': 'April',\n",
    "    '04': 'April',\n",
    "    '5': 'May',\n",
    "    '05': 'May',\n",
    "    '6': 'June',\n",
    "    '06': 'June',\n",
    "    '7': 'July',\n",
    "    '07': 'July',\n",
    "    '8': 'August',\n",
    "    '08': 'August',\n",
    "    '9': 'September',\n",
    "    '09': 'September',\n",
    "    '10': 'October',\n",
    "    '11': 'November',\n",
    "    '12': 'December',\n",
    "    'unknown': 'unknown',\n",
    "}"
   ]
  },
  {
   "cell_type": "code",
   "execution_count": null,
   "id": "9620c845-4c71-4642-b0a3-d4a71c49a0e8",
   "metadata": {},
   "outputs": [],
   "source": [
    "# Generate general_series and drilldown series for bar graph\n",
    "# general series: year: number of officess\n",
    "nisponno_records_year_by = nisponno_records_df.groupby('year')\n",
    "def generate_general_series_drilldown_series(dataframe_year_by, general_series_name):\n",
    "    general_series = [\n",
    "        \n",
    "        {\n",
    "            'name': general_series_name,\n",
    "            'colorByPoint': True,\n",
    "            'data': [],\n",
    "        }\n",
    "    ]\n",
    "    drilldown_series = []\n",
    "\n",
    "    for year, year_frame in dataframe_year_by:\n",
    "        year = str(year)\n",
    "        # year, year_frame.shape\n",
    "        temporary_dict_general = {'name': year, 'y': year_frame.shape[0], 'drilldown': year}\n",
    "        general_series[0]['data'].append(temporary_dict_general)\n",
    "        temporary_dict_drilldown = {\n",
    "            'name': year,\n",
    "            'id': year,\n",
    "            'data': [],\n",
    "        }\n",
    "        month_group_by = year_frame.groupby('month')\n",
    "        for month, month_frame in month_group_by:\n",
    "          \n",
    "            # mg, mf.shape[0]\n",
    "            month = str(month)\n",
    "            month = month_map[month]\n",
    "\n",
    "            # lst = [month, month_frame.shape[0]]\n",
    "            lst = [month, month_frame['id'].count()]\n",
    "            temporary_dict_drilldown['data'].append(lst)\n",
    "        drilldown_series.append(temporary_dict_drilldown)\n",
    "    return general_series, drilldown_series\n",
    "\n",
    "general_series, drilldown_series = generate_general_series_drilldown_series(nisponno_records_year_by, 'nispottikritto_nothi')\n"
   ]
  },
  {
   "cell_type": "code",
   "execution_count": null,
   "id": "655eaff2-c29e-4e79-9eaf-d1092a5abbb7",
   "metadata": {},
   "outputs": [],
   "source": [
    "general_series\n",
    "drilldown_series"
   ]
  },
  {
   "cell_type": "code",
   "execution_count": null,
   "id": "774f35d1-6e9e-49ed-894e-617857b39078",
   "metadata": {},
   "outputs": [],
   "source": [
    "month_list =['January', 'February', 'March', 'April', 'May', 'June', 'July', 'August','September', 'October','November', 'December', 'unknown' ]\n",
    "nispottikritto_nothi = {}\n",
    "\n",
    "dataframe_year_by = nisponno_records_df.groupby('year')\n",
    "\n",
    "for year, year_frame in dataframe_year_by:\n",
    "    year = str(year)\n",
    "    # year, year_frame.shape\n",
    "    \n",
    "    month_dict = {}\n",
    "\n",
    "    month_group_by = year_frame.groupby('month')\n",
    "    for month, month_frame in month_group_by:\n",
    "\n",
    "        # mg, mf.shape[0]\n",
    "        month = str(month)\n",
    "        month = month_map[month]\n",
    "        month_dict[month] = month_frame.shape[0]\n",
    "        \n",
    "    month_dict = dict(sorted(month_dict.items(), key=lambda x:month_list.index(x[0])))\n",
    "    dic = {'count': year_frame.shape[0], 'month_map': month_dict}\n",
    "    nispottikritto_nothi[year] = dic\n",
    "\n",
    "print(nispottikritto_nothi)"
   ]
  },
  {
   "cell_type": "code",
   "execution_count": null,
   "id": "a1da534b-5b5e-4781-974b-52e93a725c2a",
   "metadata": {},
   "outputs": [],
   "source": [
    "import json\n",
    "\n",
    "\n",
    "dictionary = nispottikritto_nothi\n",
    "\n",
    "with open('../Cleaned_data/nispottikritto_nothi.json', 'w', encoding='utf-8') as f:\n",
    "    json.dump(dictionary, f, ensure_ascii=False, indent=4)\n",
    "\n",
    "with open('../Cleaned_data/nispottikritto_nothi.json', 'r', encoding='utf-8') as json_file:\n",
    "    data = json.load(json_file)\n",
    "    print(data)\n",
    "    breakpoint()"
   ]
  },
  {
   "cell_type": "markdown",
   "id": "71c1247a-8fe9-4ba4-9f95-120716ce80e7",
   "metadata": {},
   "source": [
    "# End End End"
   ]
  }
 ],
 "metadata": {
  "kernelspec": {
   "display_name": "Python 3 (ipykernel)",
   "language": "python",
   "name": "python3"
  },
  "language_info": {
   "codemirror_mode": {
    "name": "ipython",
    "version": 3
   },
   "file_extension": ".py",
   "mimetype": "text/x-python",
   "name": "python",
   "nbconvert_exporter": "python",
   "pygments_lexer": "ipython3",
   "version": "3.8.10"
  }
 },
 "nbformat": 4,
 "nbformat_minor": 5
}
