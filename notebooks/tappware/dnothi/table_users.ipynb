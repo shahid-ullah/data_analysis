{
 "cells": [
  {
   "cell_type": "code",
   "execution_count": 2,
   "id": "5cce0f56-f61f-4eaa-a114-21d6c42ac629",
   "metadata": {},
   "outputs": [],
   "source": [
    "# import necessary library\n",
    "from IPython.core.interactiveshell import InteractiveShell\n",
    "InteractiveShell.ast_node_interactivity = \"all\"\n",
    "\n",
    "import pandas as pd\n",
    "import numpy as np\n",
    "import seaborn as sns\n",
    "import matplotlib.pyplot as plt\n",
    "pd.set_option('display.max_columns', None)"
   ]
  },
  {
   "cell_type": "code",
   "execution_count": 3,
   "id": "f5186bed-7f28-4d6c-8a8e-d3ab1651d734",
   "metadata": {},
   "outputs": [],
   "source": [
    "def load_dataframe(path=None, nrows=100000):\n",
    "    if not path:\n",
    "        path = '~/data_analysis/data/tappware/dnothi/users.csv'\n",
    "    return pd.read_csv(path, nrows=nrows)"
   ]
  },
  {
   "cell_type": "code",
   "execution_count": 4,
   "id": "9c786f94-243f-4e89-a0d8-0a886d8fa00f",
   "metadata": {},
   "outputs": [
    {
     "name": "stderr",
     "output_type": "stream",
     "text": [
      "/tmp/ipykernel_10390/89747571.py:4: DtypeWarning: Columns (1,4,8) have mixed types. Specify dtype option on import or set low_memory=False.\n",
      "  return pd.read_csv(path, nrows=nrows)\n"
     ]
    },
    {
     "data": {
      "text/plain": [
       "(100000, 21)"
      ]
     },
     "execution_count": 4,
     "metadata": {},
     "output_type": "execute_result"
    }
   ],
   "source": [
    "df = load_dataframe()\n",
    "df.shape"
   ]
  },
  {
   "cell_type": "code",
   "execution_count": 4,
   "id": "01a54e61-0c46-4b2d-9ff6-5c6484b4e1cf",
   "metadata": {},
   "outputs": [
    {
     "data": {
      "text/html": [
       "<div>\n",
       "<style scoped>\n",
       "    .dataframe tbody tr th:only-of-type {\n",
       "        vertical-align: middle;\n",
       "    }\n",
       "\n",
       "    .dataframe tbody tr th {\n",
       "        vertical-align: top;\n",
       "    }\n",
       "\n",
       "    .dataframe thead th {\n",
       "        text-align: right;\n",
       "    }\n",
       "</style>\n",
       "<table border=\"1\" class=\"dataframe\">\n",
       "  <thead>\n",
       "    <tr style=\"text-align: right;\">\n",
       "      <th></th>\n",
       "      <th>id</th>\n",
       "      <th>username</th>\n",
       "      <th>password</th>\n",
       "      <th>user_alias</th>\n",
       "      <th>hash_change_password</th>\n",
       "      <th>user_role_id</th>\n",
       "      <th>is_admin</th>\n",
       "      <th>active</th>\n",
       "      <th>user_status</th>\n",
       "      <th>is_email_verified</th>\n",
       "      <th>email_verify_code</th>\n",
       "      <th>verification_date</th>\n",
       "      <th>ssn</th>\n",
       "      <th>force_password_change</th>\n",
       "      <th>last_password_change</th>\n",
       "      <th>created</th>\n",
       "      <th>modified</th>\n",
       "      <th>created_by</th>\n",
       "      <th>modified_by</th>\n",
       "      <th>photo</th>\n",
       "      <th>employee_record_id</th>\n",
       "    </tr>\n",
       "  </thead>\n",
       "  <tbody>\n",
       "    <tr>\n",
       "      <th>0</th>\n",
       "      <td>1</td>\n",
       "      <td>superman</td>\n",
       "      <td>$2y$10$DgTkdt8bX1gNJOeO1PHzO.33k0tuLB7GuootzYv...</td>\n",
       "      <td>superman</td>\n",
       "      <td>NaN</td>\n",
       "      <td>1</td>\n",
       "      <td>0</td>\n",
       "      <td>1</td>\n",
       "      <td>registered</td>\n",
       "      <td>1.0</td>\n",
       "      <td>123</td>\n",
       "      <td>0000-00-00</td>\n",
       "      <td>123.0</td>\n",
       "      <td>1.0</td>\n",
       "      <td>2020-10-14 10:58:48</td>\n",
       "      <td>0000-00-00 00:00:00</td>\n",
       "      <td>2020-10-14 10:58:48</td>\n",
       "      <td>NaN</td>\n",
       "      <td>NaN</td>\n",
       "      <td>NaN</td>\n",
       "      <td>NaN</td>\n",
       "    </tr>\n",
       "    <tr>\n",
       "      <th>1</th>\n",
       "      <td>2</td>\n",
       "      <td>admin</td>\n",
       "      <td>$2y$10$vMlROpUDbCf8gdrBqGfpROUiT5Im97l9y1XOngB...</td>\n",
       "      <td>admin</td>\n",
       "      <td>NaN</td>\n",
       "      <td>2</td>\n",
       "      <td>0</td>\n",
       "      <td>1</td>\n",
       "      <td>NaN</td>\n",
       "      <td>0.0</td>\n",
       "      <td>NaN</td>\n",
       "      <td>0000-00-00</td>\n",
       "      <td>NaN</td>\n",
       "      <td>1.0</td>\n",
       "      <td>0000-00-00 00:00:00</td>\n",
       "      <td>0000-00-00 00:00:00</td>\n",
       "      <td>2018-04-19 10:30:42</td>\n",
       "      <td>NaN</td>\n",
       "      <td>NaN</td>\n",
       "      <td>NaN</td>\n",
       "      <td>NaN</td>\n",
       "    </tr>\n",
       "    <tr>\n",
       "      <th>2</th>\n",
       "      <td>48</td>\n",
       "      <td>200000000002</td>\n",
       "      <td>$2y$10$vMlROpUDbCf8gdrBqGfpROUiT5Im97l9y1XOngB...</td>\n",
       "      <td>200000000002</td>\n",
       "      <td>NaN</td>\n",
       "      <td>3</td>\n",
       "      <td>0</td>\n",
       "      <td>1</td>\n",
       "      <td>registered</td>\n",
       "      <td>1.0</td>\n",
       "      <td>123</td>\n",
       "      <td>0000-00-00</td>\n",
       "      <td>123.0</td>\n",
       "      <td>0.0</td>\n",
       "      <td>2016-02-06 13:19:58</td>\n",
       "      <td>0000-00-00 00:00:00</td>\n",
       "      <td>2016-02-06 13:19:58</td>\n",
       "      <td>NaN</td>\n",
       "      <td>NaN</td>\n",
       "      <td>NaN</td>\n",
       "      <td>30.0</td>\n",
       "    </tr>\n",
       "    <tr>\n",
       "      <th>3</th>\n",
       "      <td>49</td>\n",
       "      <td>200000000003</td>\n",
       "      <td>$2y$10$M14gp5AH90r4tz06nhkml.eggt8pcpx1Um3FNC9...</td>\n",
       "      <td>Raziul</td>\n",
       "      <td>NaN</td>\n",
       "      <td>3</td>\n",
       "      <td>0</td>\n",
       "      <td>1</td>\n",
       "      <td>registered</td>\n",
       "      <td>1.0</td>\n",
       "      <td>123</td>\n",
       "      <td>0000-00-00</td>\n",
       "      <td>123.0</td>\n",
       "      <td>0.0</td>\n",
       "      <td>2016-02-11 10:09:21</td>\n",
       "      <td>0000-00-00 00:00:00</td>\n",
       "      <td>2016-10-25 12:59:33</td>\n",
       "      <td>NaN</td>\n",
       "      <td>NaN</td>\n",
       "      <td>NaN</td>\n",
       "      <td>31.0</td>\n",
       "    </tr>\n",
       "    <tr>\n",
       "      <th>4</th>\n",
       "      <td>52</td>\n",
       "      <td>200000000004</td>\n",
       "      <td>$2y$10$vMlROpUDbCf8gdrBqGfpROUiT5Im97l9y1XOngB...</td>\n",
       "      <td>200000000004</td>\n",
       "      <td>NaN</td>\n",
       "      <td>3</td>\n",
       "      <td>0</td>\n",
       "      <td>1</td>\n",
       "      <td>registered</td>\n",
       "      <td>1.0</td>\n",
       "      <td>123</td>\n",
       "      <td>0000-00-00</td>\n",
       "      <td>123.0</td>\n",
       "      <td>0.0</td>\n",
       "      <td>2016-02-06 13:19:58</td>\n",
       "      <td>0000-00-00 00:00:00</td>\n",
       "      <td>2016-11-27 16:35:01</td>\n",
       "      <td>NaN</td>\n",
       "      <td>NaN</td>\n",
       "      <td>NaN</td>\n",
       "      <td>34.0</td>\n",
       "    </tr>\n",
       "  </tbody>\n",
       "</table>\n",
       "</div>"
      ],
      "text/plain": [
       "   id      username                                           password  \\\n",
       "0   1      superman  $2y$10$DgTkdt8bX1gNJOeO1PHzO.33k0tuLB7GuootzYv...   \n",
       "1   2         admin  $2y$10$vMlROpUDbCf8gdrBqGfpROUiT5Im97l9y1XOngB...   \n",
       "2  48  200000000002  $2y$10$vMlROpUDbCf8gdrBqGfpROUiT5Im97l9y1XOngB...   \n",
       "3  49  200000000003  $2y$10$M14gp5AH90r4tz06nhkml.eggt8pcpx1Um3FNC9...   \n",
       "4  52  200000000004  $2y$10$vMlROpUDbCf8gdrBqGfpROUiT5Im97l9y1XOngB...   \n",
       "\n",
       "     user_alias hash_change_password  user_role_id  is_admin  active  \\\n",
       "0      superman                  NaN             1         0       1   \n",
       "1         admin                  NaN             2         0       1   \n",
       "2  200000000002                  NaN             3         0       1   \n",
       "3        Raziul                  NaN             3         0       1   \n",
       "4  200000000004                  NaN             3         0       1   \n",
       "\n",
       "  user_status  is_email_verified email_verify_code verification_date    ssn  \\\n",
       "0  registered                1.0               123        0000-00-00  123.0   \n",
       "1         NaN                0.0               NaN        0000-00-00    NaN   \n",
       "2  registered                1.0               123        0000-00-00  123.0   \n",
       "3  registered                1.0               123        0000-00-00  123.0   \n",
       "4  registered                1.0               123        0000-00-00  123.0   \n",
       "\n",
       "   force_password_change last_password_change              created  \\\n",
       "0                    1.0  2020-10-14 10:58:48  0000-00-00 00:00:00   \n",
       "1                    1.0  0000-00-00 00:00:00  0000-00-00 00:00:00   \n",
       "2                    0.0  2016-02-06 13:19:58  0000-00-00 00:00:00   \n",
       "3                    0.0  2016-02-11 10:09:21  0000-00-00 00:00:00   \n",
       "4                    0.0  2016-02-06 13:19:58  0000-00-00 00:00:00   \n",
       "\n",
       "              modified  created_by  modified_by  photo  employee_record_id  \n",
       "0  2020-10-14 10:58:48         NaN          NaN    NaN                 NaN  \n",
       "1  2018-04-19 10:30:42         NaN          NaN    NaN                 NaN  \n",
       "2  2016-02-06 13:19:58         NaN          NaN    NaN                30.0  \n",
       "3  2016-10-25 12:59:33         NaN          NaN    NaN                31.0  \n",
       "4  2016-11-27 16:35:01         NaN          NaN    NaN                34.0  "
      ]
     },
     "execution_count": 4,
     "metadata": {},
     "output_type": "execute_result"
    }
   ],
   "source": [
    "df.head()"
   ]
  },
  {
   "cell_type": "code",
   "execution_count": 5,
   "id": "ea19612f-d849-4182-bfb5-a26be0b61cf9",
   "metadata": {},
   "outputs": [
    {
     "name": "stdout",
     "output_type": "stream",
     "text": [
      "<class 'pandas.core.frame.DataFrame'>\n",
      "RangeIndex: 100000 entries, 0 to 99999\n",
      "Data columns (total 21 columns):\n",
      " #   Column                 Non-Null Count   Dtype  \n",
      "---  ------                 --------------   -----  \n",
      " 0   id                     100000 non-null  int64  \n",
      " 1   username               99999 non-null   object \n",
      " 2   password               100000 non-null  object \n",
      " 3   user_alias             91555 non-null   object \n",
      " 4   hash_change_password   1 non-null       object \n",
      " 5   user_role_id           100000 non-null  int64  \n",
      " 6   is_admin               100000 non-null  int64  \n",
      " 7   active                 100000 non-null  int64  \n",
      " 8   user_status            99994 non-null   object \n",
      " 9   is_email_verified      99998 non-null   float64\n",
      " 10  email_verify_code      7478 non-null    object \n",
      " 11  verification_date      53592 non-null   object \n",
      " 12  ssn                    38 non-null      float64\n",
      " 13  force_password_change  99997 non-null   float64\n",
      " 14  last_password_change   84689 non-null   object \n",
      " 15  created                99997 non-null   object \n",
      " 16  modified               100000 non-null  object \n",
      " 17  created_by             60980 non-null   float64\n",
      " 18  modified_by            60980 non-null   float64\n",
      " 19  photo                  0 non-null       float64\n",
      " 20  employee_record_id     99994 non-null   float64\n",
      "dtypes: float64(7), int64(4), object(10)\n",
      "memory usage: 16.0+ MB\n"
     ]
    }
   ],
   "source": [
    "df.info()"
   ]
  },
  {
   "cell_type": "markdown",
   "id": "8688df65-c70f-414b-8bc5-78721e7bc069",
   "metadata": {},
   "source": [
    "### General Insights / General questions we can answer:\n",
    "- কোন নির্দিষ্ট সালে/মাসে/দিনে কতজন ব্যবহারকারী নথি সিস্টেম এ যুক্ত হয়েছেন।\n",
    "- কতজন ব্যবহারকারী পূর্বে নথি ব্যবহার করতেন বর্তমানে ব্যবহার করছেন না।\n",
    "\n",
    "### Business Insights / Questions we can explore:\n",
    "- কিছু ব্যবহারকারী বর্তমানে নথি ব্যবহার না করার কারন খুজে দেখা যেতে পারে।\n"
   ]
  },
  {
   "cell_type": "markdown",
   "id": "91619565-96de-40f0-9c5e-6a83204614da",
   "metadata": {},
   "source": [
    "## Analysis: Users registration trend"
   ]
  },
  {
   "cell_type": "code",
   "execution_count": null,
   "id": "9b6b10ac-ee78-4c50-bd5c-d26f7954a8d5",
   "metadata": {},
   "outputs": [],
   "source": []
  },
  {
   "cell_type": "code",
   "execution_count": 8,
   "id": "20552311-b603-49df-8a41-60b872f91bde",
   "metadata": {},
   "outputs": [
    {
     "data": {
      "text/html": [
       "<div>\n",
       "<style scoped>\n",
       "    .dataframe tbody tr th:only-of-type {\n",
       "        vertical-align: middle;\n",
       "    }\n",
       "\n",
       "    .dataframe tbody tr th {\n",
       "        vertical-align: top;\n",
       "    }\n",
       "\n",
       "    .dataframe thead th {\n",
       "        text-align: right;\n",
       "    }\n",
       "</style>\n",
       "<table border=\"1\" class=\"dataframe\">\n",
       "  <thead>\n",
       "    <tr style=\"text-align: right;\">\n",
       "      <th></th>\n",
       "      <th>created</th>\n",
       "      <th>counts</th>\n",
       "    </tr>\n",
       "  </thead>\n",
       "  <tbody>\n",
       "    <tr>\n",
       "      <th>0</th>\n",
       "      <td>2015</td>\n",
       "      <td>44</td>\n",
       "    </tr>\n",
       "    <tr>\n",
       "      <th>1</th>\n",
       "      <td>2016</td>\n",
       "      <td>17277</td>\n",
       "    </tr>\n",
       "    <tr>\n",
       "      <th>2</th>\n",
       "      <td>2017</td>\n",
       "      <td>42618</td>\n",
       "    </tr>\n",
       "    <tr>\n",
       "      <th>3</th>\n",
       "      <td>2018</td>\n",
       "      <td>65380</td>\n",
       "    </tr>\n",
       "    <tr>\n",
       "      <th>4</th>\n",
       "      <td>2019</td>\n",
       "      <td>86782</td>\n",
       "    </tr>\n",
       "    <tr>\n",
       "      <th>5</th>\n",
       "      <td>2020</td>\n",
       "      <td>98235</td>\n",
       "    </tr>\n",
       "    <tr>\n",
       "      <th>6</th>\n",
       "      <td>2021</td>\n",
       "      <td>100000</td>\n",
       "    </tr>\n",
       "  </tbody>\n",
       "</table>\n",
       "</div>"
      ],
      "text/plain": [
       "   created  counts\n",
       "0     2015      44\n",
       "1     2016   17277\n",
       "2     2017   42618\n",
       "3     2018   65380\n",
       "4     2019   86782\n",
       "5     2020   98235\n",
       "6     2021  100000"
      ]
     },
     "execution_count": 8,
     "metadata": {},
     "output_type": "execute_result"
    }
   ],
   "source": [
    "# df.created.describe()\n",
    "df_created = df.copy(deep=True)\n",
    "df_created['created'] = pd.to_datetime(df_created['created'], errors='coerce').fillna(method='bfill')\n",
    "df_trend = df_created.groupby(df_created.created.dt.year).size().reset_index(name='counts')\n",
    "df_trend['counts'] = df_trend.counts.cumsum()\n",
    "df_trend"
   ]
  },
  {
   "cell_type": "code",
   "execution_count": 9,
   "id": "d09081bf-e072-4a4c-b55c-bfc857729de9",
   "metadata": {},
   "outputs": [
    {
     "data": {
      "text/plain": [
       "<BarContainer object of 7 artists>"
      ]
     },
     "execution_count": 9,
     "metadata": {},
     "output_type": "execute_result"
    },
    {
     "data": {
      "text/plain": [
       "Text(0.5, 0, 'years')"
      ]
     },
     "execution_count": 9,
     "metadata": {},
     "output_type": "execute_result"
    },
    {
     "data": {
      "text/plain": [
       "Text(0, 0.5, 'No of Users')"
      ]
     },
     "execution_count": 9,
     "metadata": {},
     "output_type": "execute_result"
    },
    {
     "data": {
      "text/plain": [
       "Text(0.5, 1.0, 'users registered trend')"
      ]
     },
     "execution_count": 9,
     "metadata": {},
     "output_type": "execute_result"
    },
    {
     "data": {
      "image/png": "[encoded data removed]",
      "text/plain": [
       "<Figure size 720x360 with 1 Axes>"
      ]
     },
     "metadata": {
      "needs_background": "light"
     },
     "output_type": "display_data"
    }
   ],
   "source": [
    "years = df_trend.created\n",
    "registered_users = df_trend.counts\n",
    "  \n",
    "fig = plt.figure(figsize = (10, 5))\n",
    " \n",
    "# creating the bar plot\n",
    "plt.bar(years, registered_users, color ='maroon',\n",
    "        width = 0.4)\n",
    " \n",
    "plt.xlabel(\"years\")\n",
    "plt.ylabel(\"No of Users\")\n",
    "plt.title(\"users registered trend\")\n",
    "plt.show()"
   ]
  },
  {
   "cell_type": "code",
   "execution_count": 43,
   "id": "f290f04d-362b-4846-8a1a-8a23187c2cfc",
   "metadata": {},
   "outputs": [
    {
     "data": {
      "text/plain": [
       "[0, 1, 2, 3, 4, 5, 6]"
      ]
     },
     "execution_count": 43,
     "metadata": {},
     "output_type": "execute_result"
    },
    {
     "data": {
      "text/plain": [
       "[2015, 2016, 2017, 2018, 2019, 2020, 2021]"
      ]
     },
     "execution_count": 43,
     "metadata": {},
     "output_type": "execute_result"
    }
   ],
   "source": [
    "df_trend.index.tolist()\n",
    "df_trend.created.tolist()"
   ]
  },
  {
   "cell_type": "code",
   "execution_count": 45,
   "id": "e147591a-1a44-4a37-b139-60d76a469ce3",
   "metadata": {},
   "outputs": [
    {
     "data": {
      "text/plain": [
       "<AxesSubplot:>"
      ]
     },
     "execution_count": 45,
     "metadata": {},
     "output_type": "execute_result"
    },
    {
     "data": {
      "text/plain": [
       "([<matplotlib.axis.XTick at 0x7f3f44616400>,\n",
       "  <matplotlib.axis.XTick at 0x7f3f446163d0>,\n",
       "  <matplotlib.axis.XTick at 0x7f3f445c17f0>,\n",
       "  <matplotlib.axis.XTick at 0x7f3f445cdd00>,\n",
       "  <matplotlib.axis.XTick at 0x7f3f445cddf0>,\n",
       "  <matplotlib.axis.XTick at 0x7f3f445db820>,\n",
       "  <matplotlib.axis.XTick at 0x7f3f445e0040>],\n",
       " [Text(0, 0, '2015'),\n",
       "  Text(1, 0, '2016'),\n",
       "  Text(2, 0, '2017'),\n",
       "  Text(3, 0, '2018'),\n",
       "  Text(4, 0, '2019'),\n",
       "  Text(5, 0, '2020'),\n",
       "  Text(6, 0, '2021')])"
      ]
     },
     "execution_count": 45,
     "metadata": {},
     "output_type": "execute_result"
    },
    {
     "data": {
      "image/png": "[encoded data removed]",
      "text/plain": [
       "<Figure size 540x252 with 1 Axes>"
      ]
     },
     "metadata": {
      "needs_background": "light"
     },
     "output_type": "display_data"
    }
   ],
   "source": [
    "fig, ax = plt.subplots()\n",
    "plt.rcParams[\"figure.figsize\"] = [7.50, 3.50]\n",
    "plt.rcParams[\"figure.autolayout\"] = True\n",
    "\n",
    "x = df_trend['counts'].plot(kind='bar', color='red')\n",
    "xtick_location = df_trend.index.tolist()\n",
    "xtick_labels = df_trend.created.tolist()\n",
    "df_trend['counts'].plot(kind='line', marker='*', color='black', ms=10)\n",
    "plt.xticks(ticks = xtick_location, labels=xtick_labels)\n",
    "\n",
    "plt.show()"
   ]
  },
  {
   "cell_type": "code",
   "execution_count": 23,
   "id": "de7b9740-767b-4741-8c04-595773682047",
   "metadata": {},
   "outputs": [
    {
     "data": {
      "text/html": [
       "<div>\n",
       "<style scoped>\n",
       "    .dataframe tbody tr th:only-of-type {\n",
       "        vertical-align: middle;\n",
       "    }\n",
       "\n",
       "    .dataframe tbody tr th {\n",
       "        vertical-align: top;\n",
       "    }\n",
       "\n",
       "    .dataframe thead th {\n",
       "        text-align: right;\n",
       "    }\n",
       "</style>\n",
       "<table border=\"1\" class=\"dataframe\">\n",
       "  <thead>\n",
       "    <tr style=\"text-align: right;\">\n",
       "      <th></th>\n",
       "      <th>created</th>\n",
       "      <th>counts</th>\n",
       "    </tr>\n",
       "  </thead>\n",
       "  <tbody>\n",
       "    <tr>\n",
       "      <th>0</th>\n",
       "      <td>2015-12-30</td>\n",
       "      <td>12</td>\n",
       "    </tr>\n",
       "    <tr>\n",
       "      <th>1</th>\n",
       "      <td>2015-12-31</td>\n",
       "      <td>44</td>\n",
       "    </tr>\n",
       "    <tr>\n",
       "      <th>2</th>\n",
       "      <td>2016-01-01</td>\n",
       "      <td>75</td>\n",
       "    </tr>\n",
       "    <tr>\n",
       "      <th>3</th>\n",
       "      <td>2016-01-02</td>\n",
       "      <td>76</td>\n",
       "    </tr>\n",
       "    <tr>\n",
       "      <th>4</th>\n",
       "      <td>2016-01-07</td>\n",
       "      <td>77</td>\n",
       "    </tr>\n",
       "    <tr>\n",
       "      <th>...</th>\n",
       "      <td>...</td>\n",
       "      <td>...</td>\n",
       "    </tr>\n",
       "    <tr>\n",
       "      <th>1735</th>\n",
       "      <td>2021-03-04</td>\n",
       "      <td>99929</td>\n",
       "    </tr>\n",
       "    <tr>\n",
       "      <th>1736</th>\n",
       "      <td>2021-03-05</td>\n",
       "      <td>99937</td>\n",
       "    </tr>\n",
       "    <tr>\n",
       "      <th>1737</th>\n",
       "      <td>2021-03-06</td>\n",
       "      <td>99939</td>\n",
       "    </tr>\n",
       "    <tr>\n",
       "      <th>1738</th>\n",
       "      <td>2021-03-07</td>\n",
       "      <td>99988</td>\n",
       "    </tr>\n",
       "    <tr>\n",
       "      <th>1739</th>\n",
       "      <td>2021-03-08</td>\n",
       "      <td>100000</td>\n",
       "    </tr>\n",
       "  </tbody>\n",
       "</table>\n",
       "<p>1740 rows × 2 columns</p>\n",
       "</div>"
      ],
      "text/plain": [
       "         created  counts\n",
       "0     2015-12-30      12\n",
       "1     2015-12-31      44\n",
       "2     2016-01-01      75\n",
       "3     2016-01-02      76\n",
       "4     2016-01-07      77\n",
       "...          ...     ...\n",
       "1735  2021-03-04   99929\n",
       "1736  2021-03-05   99937\n",
       "1737  2021-03-06   99939\n",
       "1738  2021-03-07   99988\n",
       "1739  2021-03-08  100000\n",
       "\n",
       "[1740 rows x 2 columns]"
      ]
     },
     "execution_count": 23,
     "metadata": {},
     "output_type": "execute_result"
    }
   ],
   "source": [
    "dff = df.copy(deep=True)\n",
    "dff['created'] = pd.to_datetime(dff['created'], errors='coerce').fillna(method='bfill')\n",
    "dff = dff.groupby(dff.created.dt.date).size().reset_index(name='counts')\n",
    "dff['counts'] = dff.counts.cumsum()\n",
    "dff"
   ]
  },
  {
   "cell_type": "code",
   "execution_count": 30,
   "id": "981725c7-d968-4d63-ba70-62b3013383e9",
   "metadata": {},
   "outputs": [
    {
     "data": {
      "text/plain": [
       "<Figure size 1280x800 with 0 Axes>"
      ]
     },
     "execution_count": 30,
     "metadata": {},
     "output_type": "execute_result"
    },
    {
     "data": {
      "text/plain": [
       "[<matplotlib.lines.Line2D at 0x7f3f4c7d1100>]"
      ]
     },
     "execution_count": 30,
     "metadata": {},
     "output_type": "execute_result"
    },
    {
     "data": {
      "text/plain": [
       "Text(0.5, 1.0, 'User registration (2016 - 2021)')"
      ]
     },
     "execution_count": 30,
     "metadata": {},
     "output_type": "execute_result"
    },
    {
     "data": {
      "image/png": "[encoded data removed]",
      "text/plain": [
       "<Figure size 1280x800 with 1 Axes>"
      ]
     },
     "metadata": {
      "needs_background": "light"
     },
     "output_type": "display_data"
    }
   ],
   "source": [
    "# Draw Plot\n",
    "plt.figure(figsize=(16,10), dpi= 80)\n",
    "plt.plot('created', 'counts', data=dff, color='tab:red')\n",
    "# plt.plot('date', 'value', data=df_traffic, color='tab:red')\n",
    "\n",
    "# Decoration\n",
    "# plt.yticks(fontsize=12, alpha=.7)\n",
    "plt.title(\"User registration (2016 - 2021)\", fontsize=22)\n",
    "plt.grid(axis='both', alpha=.3)\n",
    "\n",
    "# Remove borders\n",
    "plt.gca().spines[\"top\"].set_alpha(0.0)    \n",
    "plt.gca().spines[\"bottom\"].set_alpha(0.3)\n",
    "plt.gca().spines[\"right\"].set_alpha(0.0)    \n",
    "plt.gca().spines[\"left\"].set_alpha(0.3)   \n",
    "plt.show()"
   ]
  },
  {
   "cell_type": "markdown",
   "id": "e6c32f62-6d81-4b2f-b1fc-94e439c09a06",
   "metadata": {},
   "source": [
    "## Analysis: Active vs Deactivate Users"
   ]
  },
  {
   "cell_type": "code",
   "execution_count": 20,
   "id": "7c379217-fa6c-4bab-9922-3074afe23ebd",
   "metadata": {},
   "outputs": [
    {
     "data": {
      "text/html": [
       "<div>\n",
       "<style scoped>\n",
       "    .dataframe tbody tr th:only-of-type {\n",
       "        vertical-align: middle;\n",
       "    }\n",
       "\n",
       "    .dataframe tbody tr th {\n",
       "        vertical-align: top;\n",
       "    }\n",
       "\n",
       "    .dataframe thead th {\n",
       "        text-align: right;\n",
       "    }\n",
       "</style>\n",
       "<table border=\"1\" class=\"dataframe\">\n",
       "  <thead>\n",
       "    <tr style=\"text-align: right;\">\n",
       "      <th></th>\n",
       "      <th>active</th>\n",
       "      <th>counts</th>\n",
       "    </tr>\n",
       "  </thead>\n",
       "  <tbody>\n",
       "    <tr>\n",
       "      <th>0</th>\n",
       "      <td>0</td>\n",
       "      <td>108</td>\n",
       "    </tr>\n",
       "    <tr>\n",
       "      <th>1</th>\n",
       "      <td>1</td>\n",
       "      <td>99892</td>\n",
       "    </tr>\n",
       "  </tbody>\n",
       "</table>\n",
       "</div>"
      ],
      "text/plain": [
       "   active  counts\n",
       "0       0     108\n",
       "1       1   99892"
      ]
     },
     "execution_count": 20,
     "metadata": {},
     "output_type": "execute_result"
    }
   ],
   "source": [
    "# df.active.value_counts().values\n",
    "df.groupby('active').size().reset_index(name='counts')"
   ]
  },
  {
   "cell_type": "code",
   "execution_count": 21,
   "id": "66bc05cb-1fc2-4b84-9b15-aac35d9897af",
   "metadata": {},
   "outputs": [
    {
     "data": {
      "text/plain": [
       "([<matplotlib.patches.Wedge at 0x7f3f4cb64a60>,\n",
       "  <matplotlib.patches.Wedge at 0x7f3f4cb711c0>],\n",
       " [Text(-1.0999936687323066, 0.003732123904754006, 'Active'),\n",
       "  Text(1.0999936690066583, -0.0037320430424225164, 'Deactive')],\n",
       " [Text(-0.5999965465812581, 0.0020357039480476393, '100%'),\n",
       "  Text(0.5999965467309044, -0.0020356598413213724, '0%')])"
      ]
     },
     "execution_count": 21,
     "metadata": {},
     "output_type": "execute_result"
    },
    {
     "data": {
      "image/png": "[encoded data removed]",
      "text/plain": [
       "<Figure size 540x252 with 1 Axes>"
      ]
     },
     "metadata": {},
     "output_type": "display_data"
    }
   ],
   "source": [
    "import matplotlib.pyplot as plt\n",
    "import seaborn as sns\n",
    "\n",
    "#define data\n",
    "data = df.active.value_counts().values\n",
    "labels = ['Active', 'Deactive',]\n",
    "\n",
    "#define Seaborn color palette to use\n",
    "colors = sns.color_palette('pastel')[0:2]\n",
    "\n",
    "#create pie chart\n",
    "plt.pie(data, labels = labels, colors = colors, autopct='%.0f%%')\n",
    "plt.show()"
   ]
  },
  {
   "cell_type": "code",
   "execution_count": 141,
   "id": "6ebe9ce7-5f77-4699-b028-532afba2c719",
   "metadata": {},
   "outputs": [
    {
     "data": {
      "text/html": [
       "<div>\n",
       "<style scoped>\n",
       "    .dataframe tbody tr th:only-of-type {\n",
       "        vertical-align: middle;\n",
       "    }\n",
       "\n",
       "    .dataframe tbody tr th {\n",
       "        vertical-align: top;\n",
       "    }\n",
       "\n",
       "    .dataframe thead th {\n",
       "        text-align: right;\n",
       "    }\n",
       "</style>\n",
       "<table border=\"1\" class=\"dataframe\">\n",
       "  <thead>\n",
       "    <tr style=\"text-align: right;\">\n",
       "      <th></th>\n",
       "      <th>id</th>\n",
       "      <th>username</th>\n",
       "      <th>password</th>\n",
       "      <th>user_alias</th>\n",
       "      <th>hash_change_password</th>\n",
       "      <th>user_role_id</th>\n",
       "      <th>is_admin</th>\n",
       "      <th>active</th>\n",
       "      <th>user_status</th>\n",
       "      <th>is_email_verified</th>\n",
       "      <th>email_verify_code</th>\n",
       "      <th>verification_date</th>\n",
       "      <th>ssn</th>\n",
       "      <th>force_password_change</th>\n",
       "      <th>last_password_change</th>\n",
       "      <th>created</th>\n",
       "      <th>modified</th>\n",
       "      <th>created_by</th>\n",
       "      <th>modified_by</th>\n",
       "      <th>photo</th>\n",
       "      <th>employee_record_id</th>\n",
       "    </tr>\n",
       "  </thead>\n",
       "  <tbody>\n",
       "    <tr>\n",
       "      <th>0</th>\n",
       "      <td>1</td>\n",
       "      <td>superman</td>\n",
       "      <td>$2y$10$DgTkdt8bX1gNJOeO1PHzO.33k0tuLB7GuootzYv...</td>\n",
       "      <td>superman</td>\n",
       "      <td>NaN</td>\n",
       "      <td>1</td>\n",
       "      <td>0</td>\n",
       "      <td>1</td>\n",
       "      <td>registered</td>\n",
       "      <td>1.0</td>\n",
       "      <td>123</td>\n",
       "      <td>0000-00-00</td>\n",
       "      <td>123.0</td>\n",
       "      <td>1.0</td>\n",
       "      <td>2020-10-14 10:58:48</td>\n",
       "      <td>0000-00-00 00:00:00</td>\n",
       "      <td>2020-10-14 10:58:48</td>\n",
       "      <td>NaN</td>\n",
       "      <td>NaN</td>\n",
       "      <td>NaN</td>\n",
       "      <td>NaN</td>\n",
       "    </tr>\n",
       "    <tr>\n",
       "      <th>1</th>\n",
       "      <td>2</td>\n",
       "      <td>admin</td>\n",
       "      <td>$2y$10$vMlROpUDbCf8gdrBqGfpROUiT5Im97l9y1XOngB...</td>\n",
       "      <td>admin</td>\n",
       "      <td>NaN</td>\n",
       "      <td>2</td>\n",
       "      <td>0</td>\n",
       "      <td>1</td>\n",
       "      <td>NaN</td>\n",
       "      <td>0.0</td>\n",
       "      <td>NaN</td>\n",
       "      <td>0000-00-00</td>\n",
       "      <td>NaN</td>\n",
       "      <td>1.0</td>\n",
       "      <td>0000-00-00 00:00:00</td>\n",
       "      <td>0000-00-00 00:00:00</td>\n",
       "      <td>2018-04-19 10:30:42</td>\n",
       "      <td>NaN</td>\n",
       "      <td>NaN</td>\n",
       "      <td>NaN</td>\n",
       "      <td>NaN</td>\n",
       "    </tr>\n",
       "    <tr>\n",
       "      <th>2</th>\n",
       "      <td>48</td>\n",
       "      <td>200000000002</td>\n",
       "      <td>$2y$10$vMlROpUDbCf8gdrBqGfpROUiT5Im97l9y1XOngB...</td>\n",
       "      <td>200000000002</td>\n",
       "      <td>NaN</td>\n",
       "      <td>3</td>\n",
       "      <td>0</td>\n",
       "      <td>1</td>\n",
       "      <td>registered</td>\n",
       "      <td>1.0</td>\n",
       "      <td>123</td>\n",
       "      <td>0000-00-00</td>\n",
       "      <td>123.0</td>\n",
       "      <td>0.0</td>\n",
       "      <td>2016-02-06 13:19:58</td>\n",
       "      <td>0000-00-00 00:00:00</td>\n",
       "      <td>2016-02-06 13:19:58</td>\n",
       "      <td>NaN</td>\n",
       "      <td>NaN</td>\n",
       "      <td>NaN</td>\n",
       "      <td>30.0</td>\n",
       "    </tr>\n",
       "    <tr>\n",
       "      <th>3</th>\n",
       "      <td>49</td>\n",
       "      <td>200000000003</td>\n",
       "      <td>$2y$10$M14gp5AH90r4tz06nhkml.eggt8pcpx1Um3FNC9...</td>\n",
       "      <td>Raziul</td>\n",
       "      <td>NaN</td>\n",
       "      <td>3</td>\n",
       "      <td>0</td>\n",
       "      <td>1</td>\n",
       "      <td>registered</td>\n",
       "      <td>1.0</td>\n",
       "      <td>123</td>\n",
       "      <td>0000-00-00</td>\n",
       "      <td>123.0</td>\n",
       "      <td>0.0</td>\n",
       "      <td>2016-02-11 10:09:21</td>\n",
       "      <td>0000-00-00 00:00:00</td>\n",
       "      <td>2016-10-25 12:59:33</td>\n",
       "      <td>NaN</td>\n",
       "      <td>NaN</td>\n",
       "      <td>NaN</td>\n",
       "      <td>31.0</td>\n",
       "    </tr>\n",
       "    <tr>\n",
       "      <th>4</th>\n",
       "      <td>52</td>\n",
       "      <td>200000000004</td>\n",
       "      <td>$2y$10$vMlROpUDbCf8gdrBqGfpROUiT5Im97l9y1XOngB...</td>\n",
       "      <td>200000000004</td>\n",
       "      <td>NaN</td>\n",
       "      <td>3</td>\n",
       "      <td>0</td>\n",
       "      <td>1</td>\n",
       "      <td>registered</td>\n",
       "      <td>1.0</td>\n",
       "      <td>123</td>\n",
       "      <td>0000-00-00</td>\n",
       "      <td>123.0</td>\n",
       "      <td>0.0</td>\n",
       "      <td>2016-02-06 13:19:58</td>\n",
       "      <td>0000-00-00 00:00:00</td>\n",
       "      <td>2016-11-27 16:35:01</td>\n",
       "      <td>NaN</td>\n",
       "      <td>NaN</td>\n",
       "      <td>NaN</td>\n",
       "      <td>34.0</td>\n",
       "    </tr>\n",
       "  </tbody>\n",
       "</table>\n",
       "</div>"
      ],
      "text/plain": [
       "   id      username                                           password  \\\n",
       "0   1      superman  $2y$10$DgTkdt8bX1gNJOeO1PHzO.33k0tuLB7GuootzYv...   \n",
       "1   2         admin  $2y$10$vMlROpUDbCf8gdrBqGfpROUiT5Im97l9y1XOngB...   \n",
       "2  48  200000000002  $2y$10$vMlROpUDbCf8gdrBqGfpROUiT5Im97l9y1XOngB...   \n",
       "3  49  200000000003  $2y$10$M14gp5AH90r4tz06nhkml.eggt8pcpx1Um3FNC9...   \n",
       "4  52  200000000004  $2y$10$vMlROpUDbCf8gdrBqGfpROUiT5Im97l9y1XOngB...   \n",
       "\n",
       "     user_alias hash_change_password  user_role_id  is_admin  active  \\\n",
       "0      superman                  NaN             1         0       1   \n",
       "1         admin                  NaN             2         0       1   \n",
       "2  200000000002                  NaN             3         0       1   \n",
       "3        Raziul                  NaN             3         0       1   \n",
       "4  200000000004                  NaN             3         0       1   \n",
       "\n",
       "  user_status  is_email_verified email_verify_code verification_date    ssn  \\\n",
       "0  registered                1.0               123        0000-00-00  123.0   \n",
       "1         NaN                0.0               NaN        0000-00-00    NaN   \n",
       "2  registered                1.0               123        0000-00-00  123.0   \n",
       "3  registered                1.0               123        0000-00-00  123.0   \n",
       "4  registered                1.0               123        0000-00-00  123.0   \n",
       "\n",
       "   force_password_change last_password_change              created  \\\n",
       "0                    1.0  2020-10-14 10:58:48  0000-00-00 00:00:00   \n",
       "1                    1.0  0000-00-00 00:00:00  0000-00-00 00:00:00   \n",
       "2                    0.0  2016-02-06 13:19:58  0000-00-00 00:00:00   \n",
       "3                    0.0  2016-02-11 10:09:21  0000-00-00 00:00:00   \n",
       "4                    0.0  2016-02-06 13:19:58  0000-00-00 00:00:00   \n",
       "\n",
       "              modified  created_by  modified_by  photo  employee_record_id  \n",
       "0  2020-10-14 10:58:48         NaN          NaN    NaN                 NaN  \n",
       "1  2018-04-19 10:30:42         NaN          NaN    NaN                 NaN  \n",
       "2  2016-02-06 13:19:58         NaN          NaN    NaN                30.0  \n",
       "3  2016-10-25 12:59:33         NaN          NaN    NaN                31.0  \n",
       "4  2016-11-27 16:35:01         NaN          NaN    NaN                34.0  "
      ]
     },
     "execution_count": 141,
     "metadata": {},
     "output_type": "execute_result"
    },
    {
     "data": {
      "text/plain": [
       "1             98242\n",
       "1              1696\n",
       "registered       37\n",
       "0                19\n",
       "Name: user_status, dtype: int64"
      ]
     },
     "execution_count": 141,
     "metadata": {},
     "output_type": "execute_result"
    }
   ],
   "source": [
    "# df.created_by.value_counts()\n",
    "# df.modified_by.value_counts()\n",
    "df.head()\n",
    "\n",
    "df.user_status.value_counts()"
   ]
  }
 ],
 "metadata": {
  "kernelspec": {
   "display_name": "Python 3 (ipykernel)",
   "language": "python",
   "name": "python3"
  },
  "language_info": {
   "codemirror_mode": {
    "name": "ipython",
    "version": 3
   },
   "file_extension": ".py",
   "mimetype": "text/x-python",
   "name": "python",
   "nbconvert_exporter": "python",
   "pygments_lexer": "ipython3",
   "version": "3.8.10"
  }
 },
 "nbformat": 4,
 "nbformat_minor": 5
}
