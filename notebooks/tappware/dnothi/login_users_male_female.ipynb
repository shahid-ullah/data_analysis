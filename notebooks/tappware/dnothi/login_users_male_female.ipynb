{
 "cells": [
  {
   "cell_type": "code",
   "execution_count": 1,
   "id": "f758e825-713e-4e9c-8444-ce7c878300a5",
   "metadata": {},
   "outputs": [],
   "source": [
    "\n",
    "# import necessary library\n",
    "from IPython.core.interactiveshell import InteractiveShell\n",
    "InteractiveShell.ast_node_interactivity = \"all\"\n",
    "\n",
    "import pandas as pd\n",
    "import numpy as np\n",
    "import matplotlib.pyplot as plt\n",
    "pd.set_option('display.max_columns', None)"
   ]
  },
  {
   "cell_type": "code",
   "execution_count": 2,
   "id": "c392eaa0-172f-46cc-9749-1f50e151ce09",
   "metadata": {},
   "outputs": [
    {
     "data": {
      "text/plain": [
       "29"
      ]
     },
     "execution_count": 2,
     "metadata": {},
     "output_type": "execute_result"
    }
   ],
   "source": [
    "user_login_history_table_columns = [\n",
    "    'id',\n",
    "    'is_mobile',\n",
    "    'client_ip',\n",
    "    'device_name',\n",
    "    'browser_name',\n",
    "    'employee_record_id',\n",
    "    'ministry_id',\n",
    "    'layer_id',\n",
    "    'origin_id',\n",
    "    'office_id',\n",
    "    'office_unit_id',\n",
    "    'office_unit_organogram',\n",
    "    'office_name',\n",
    "    'unit_name',\n",
    "    'organogram_name',\n",
    "    'user_id',\n",
    "    'employee_name',\n",
    "    'mobile_number',\n",
    "    'employee_email',\n",
    "    'login_time',\n",
    "    'logout_time',\n",
    "    'network_information',\n",
    "    'created',\n",
    "    'modified',\n",
    "    'created_by',\n",
    "    'modified_by',\n",
    "    'token',\n",
    "    'device_type',\n",
    "    'device_id',\n",
    "]\n",
    "len(user_login_history_table_columns)"
   ]
  },
  {
   "cell_type": "code",
   "execution_count": 3,
   "id": "a378099c-0f1a-41b9-8438-2cb4e8d6fba4",
   "metadata": {},
   "outputs": [
    {
     "data": {
      "text/plain": [
       "52"
      ]
     },
     "execution_count": 3,
     "metadata": {},
     "output_type": "execute_result"
    }
   ],
   "source": [
    "employee_records_table_columns_dict = {\n",
    "    '1': 'id',\n",
    "    '2': 'name_eng',\n",
    "    '3': 'name_bng',\n",
    "    '4': 'father_name_eng',\n",
    "    '5': 'father_name_bng',\n",
    "    '6': 'mother_name_eng',\n",
    "    '7': 'mother_name_bng',\n",
    "    '8': 'date_of_birth',\n",
    "    '9': 'nid',\n",
    "    '10': 'nid_valid',\n",
    "    '11': 'bcn',\n",
    "    '12': 'ppn',\n",
    "    '13': 'gender',\n",
    "    '14': 'religion',\n",
    "    '15': 'blood_group',\n",
    "    '16': 'marital_status',\n",
    "    '17': 'personal_email',\n",
    "    '18': 'personal_mobile',\n",
    "    '19': 'alternative_mobile',\n",
    "    '20': 'is_cadre',\n",
    "    '21': 'employee_grade',\n",
    "    '22': 'employee_cadre_id',\n",
    "    '23': 'employee_batch_id',\n",
    "    '24': 'identity_no',\n",
    "    '25': 'appointment_memo_no',\n",
    "    '26': 'joining_date',\n",
    "    '27': 'service_rank_id',\n",
    "    '28': 'service_grade_id',\n",
    "    '29': 'service_ministry_id',\n",
    "    '30': 'service_office_id',\n",
    "    '31': 'current_office_ministry_id',\n",
    "    '32': 'current_office_layer_id',\n",
    "    '33': 'current_office_id',\n",
    "    '34': 'current_office_unit_id',\n",
    "    '35': 'current_office_joining_date',\n",
    "    '36': 'current_office_designation_id',\n",
    "    '37': 'current_office_address',\n",
    "    '38': 'e_sign',\n",
    "    '39': 'd_sign',\n",
    "    '40': 'image_file_name',\n",
    "    '41': 'status',\n",
    "    '42': 'default_sign',\n",
    "    '43': 'hard_signature',\n",
    "    '44': 'soft_signature',\n",
    "    '45': 'cert_id',\n",
    "    '46': 'cert_type',\n",
    "    '47': 'cert_provider',\n",
    "    '48': 'cert_serial',\n",
    "    '49': 'created_by',\n",
    "    '50': 'modified_by',\n",
    "    '51': 'created',\n",
    "    '52': 'modified',\n",
    "}\n",
    "\n",
    "employee_records_table_columns_list = list(employee_records_table_columns_dict.values())\n",
    "employee_records_table_columns = employee_records_table_columns_list\n",
    "# for key in nisponno_records_table_columns_dict.keys():\n",
    "#     value = \n",
    "\n",
    "len(employee_records_table_columns)"
   ]
  },
  {
   "cell_type": "code",
   "execution_count": 4,
   "id": "d5ac8201-2a41-486f-a52c-19c12a35f8b9",
   "metadata": {},
   "outputs": [
    {
     "name": "stderr",
     "output_type": "stream",
     "text": [
      "/tmp/ipykernel_53646/1412570484.py:2: DtypeWarning: Columns (34,36,45,46,47) have mixed types. Specify dtype option on import or set low_memory=False.\n",
      "  employee_records_df = pd.read_csv('../Data/employee_records_24_11_2021.csv', names=employee_records_table_columns)\n"
     ]
    }
   ],
   "source": [
    "user_login_history_df = pd.read_csv('../Data/user_login_history_24_11_2021.csv', names=user_login_history_table_columns)\n",
    "employee_records_df = pd.read_csv('../Data/employee_records_24_11_2021.csv', names=employee_records_table_columns)"
   ]
  },
  {
   "cell_type": "code",
   "execution_count": null,
   "id": "c5f20b40-d7c0-4922-a3a6-5286c054b552",
   "metadata": {},
   "outputs": [],
   "source": []
  },
  {
   "cell_type": "code",
   "execution_count": 21,
   "id": "5bd1ccaa-5ffd-4024-95b8-74d6c92eb679",
   "metadata": {},
   "outputs": [
    {
     "data": {
      "text/plain": [
       "(4870908, 29)"
      ]
     },
     "execution_count": 21,
     "metadata": {},
     "output_type": "execute_result"
    },
    {
     "data": {
      "text/plain": [
       "(110356, 52)"
      ]
     },
     "execution_count": 21,
     "metadata": {},
     "output_type": "execute_result"
    },
    {
     "data": {
      "text/html": [
       "<div>\n",
       "<style scoped>\n",
       "    .dataframe tbody tr th:only-of-type {\n",
       "        vertical-align: middle;\n",
       "    }\n",
       "\n",
       "    .dataframe tbody tr th {\n",
       "        vertical-align: top;\n",
       "    }\n",
       "\n",
       "    .dataframe thead th {\n",
       "        text-align: right;\n",
       "    }\n",
       "</style>\n",
       "<table border=\"1\" class=\"dataframe\">\n",
       "  <thead>\n",
       "    <tr style=\"text-align: right;\">\n",
       "      <th></th>\n",
       "      <th>id</th>\n",
       "      <th>is_mobile</th>\n",
       "      <th>client_ip</th>\n",
       "      <th>device_name</th>\n",
       "      <th>browser_name</th>\n",
       "      <th>employee_record_id</th>\n",
       "      <th>ministry_id</th>\n",
       "      <th>layer_id</th>\n",
       "      <th>origin_id</th>\n",
       "      <th>office_id</th>\n",
       "      <th>office_unit_id</th>\n",
       "      <th>office_unit_organogram</th>\n",
       "      <th>office_name</th>\n",
       "      <th>unit_name</th>\n",
       "      <th>organogram_name</th>\n",
       "      <th>user_id</th>\n",
       "      <th>employee_name</th>\n",
       "      <th>mobile_number</th>\n",
       "      <th>employee_email</th>\n",
       "      <th>login_time</th>\n",
       "      <th>logout_time</th>\n",
       "      <th>network_information</th>\n",
       "      <th>created</th>\n",
       "      <th>modified</th>\n",
       "      <th>created_by</th>\n",
       "      <th>modified_by</th>\n",
       "      <th>token</th>\n",
       "      <th>device_type</th>\n",
       "      <th>device_id</th>\n",
       "    </tr>\n",
       "  </thead>\n",
       "  <tbody>\n",
       "    <tr>\n",
       "      <th>0</th>\n",
       "      <td>2</td>\n",
       "      <td>1</td>\n",
       "      <td>192.168.2.1</td>\n",
       "      <td>NaN</td>\n",
       "      <td>android</td>\n",
       "      <td>314312</td>\n",
       "      <td>37</td>\n",
       "      <td>202</td>\n",
       "      <td>468</td>\n",
       "      <td>6175</td>\n",
       "      <td>25288</td>\n",
       "      <td>147058</td>\n",
       "      <td>বাংলাদেশ মাদ্রাসা শিক্ষা বোর্ড</td>\n",
       "      <td>পরিদর্শন শাখা</td>\n",
       "      <td>উপ পরিদর্শক</td>\n",
       "      <td>182693</td>\n",
       "      <td>মোহাম্মদ আবুল কাশেম সরদার</td>\n",
       "      <td>01718014128</td>\n",
       "      <td>maksardar@gmail.com</td>\n",
       "      <td>2021-09-02 08:31:37</td>\n",
       "      <td>NaN</td>\n",
       "      <td>{\"ClientIp\":\"192.168.2.1\",\"UserAgent\":\"ASUS\",\"...</td>\n",
       "      <td>2021-09-02 08:31:37</td>\n",
       "      <td>2021-09-02 08:31:37</td>\n",
       "      <td>NaN</td>\n",
       "      <td>NaN</td>\n",
       "      <td>eyJ0eXAiOiJKV1QiLCJhbGciOiJIUzI1NiJ9.eyJpYXQiO...</td>\n",
       "      <td>android</td>\n",
       "      <td>39083043</td>\n",
       "    </tr>\n",
       "    <tr>\n",
       "      <th>1</th>\n",
       "      <td>4</td>\n",
       "      <td>1</td>\n",
       "      <td>192.168.2.1</td>\n",
       "      <td>NaN</td>\n",
       "      <td>android</td>\n",
       "      <td>183969</td>\n",
       "      <td>27</td>\n",
       "      <td>228</td>\n",
       "      <td>456</td>\n",
       "      <td>5983</td>\n",
       "      <td>22275</td>\n",
       "      <td>128957</td>\n",
       "      <td>জালালাবাদ গ্যাস ট্রান্সমিসন এ্যান্ড ডিস্ট্রিবি...</td>\n",
       "      <td>পার্সোনেল, প্রশাসন শাখা</td>\n",
       "      <td>ব্যবস্থাপক</td>\n",
       "      <td>45925</td>\n",
       "      <td>মোহাম্মদ বেলায়েত হোসাইন</td>\n",
       "      <td>০১৮১৯-৯৫৬২৭২</td>\n",
       "      <td>Balayettaj@gmail.com</td>\n",
       "      <td>2021-09-02 08:31:37</td>\n",
       "      <td>NaN</td>\n",
       "      <td>{\"ClientIp\":\"192.168.2.1\",\"UserAgent\":\"ASUS\",\"...</td>\n",
       "      <td>2021-09-02 08:31:37</td>\n",
       "      <td>2021-09-02 08:31:37</td>\n",
       "      <td>NaN</td>\n",
       "      <td>NaN</td>\n",
       "      <td>eyJ0eXAiOiJKV1QiLCJhbGciOiJIUzI1NiJ9.eyJpYXQiO...</td>\n",
       "      <td>android</td>\n",
       "      <td>39083043</td>\n",
       "    </tr>\n",
       "    <tr>\n",
       "      <th>2</th>\n",
       "      <td>6</td>\n",
       "      <td>1</td>\n",
       "      <td>192.168.2.1</td>\n",
       "      <td>NaN</td>\n",
       "      <td>android</td>\n",
       "      <td>77697</td>\n",
       "      <td>12</td>\n",
       "      <td>78</td>\n",
       "      <td>84</td>\n",
       "      <td>98</td>\n",
       "      <td>5066</td>\n",
       "      <td>12460</td>\n",
       "      <td>কৃষি মন্ত্রণালয়</td>\n",
       "      <td>বীজ অনুবিভাগ</td>\n",
       "      <td>মহাপরিচালক</td>\n",
       "      <td>3762</td>\n",
       "      <td>বলাই কৃষ্ণ হাজরা</td>\n",
       "      <td>01753504444</td>\n",
       "      <td>hkbalai99@gmail.com</td>\n",
       "      <td>2021-09-02 08:30:56</td>\n",
       "      <td>NaN</td>\n",
       "      <td>{\"ClientIp\":\"192.168.2.1\",\"UserAgent\":\"ASUS\",\"...</td>\n",
       "      <td>2021-09-02 08:30:56</td>\n",
       "      <td>2021-09-02 08:30:56</td>\n",
       "      <td>NaN</td>\n",
       "      <td>NaN</td>\n",
       "      <td>eyJ0eXAiOiJKV1QiLCJhbGciOiJIUzI1NiJ9.eyJpYXQiO...</td>\n",
       "      <td>android</td>\n",
       "      <td>39083043</td>\n",
       "    </tr>\n",
       "  </tbody>\n",
       "</table>\n",
       "</div>"
      ],
      "text/plain": [
       "   id  is_mobile    client_ip device_name browser_name  employee_record_id  \\\n",
       "0   2          1  192.168.2.1         NaN      android              314312   \n",
       "1   4          1  192.168.2.1         NaN      android              183969   \n",
       "2   6          1  192.168.2.1         NaN      android               77697   \n",
       "\n",
       "   ministry_id  layer_id  origin_id  office_id  office_unit_id  \\\n",
       "0           37       202        468       6175           25288   \n",
       "1           27       228        456       5983           22275   \n",
       "2           12        78         84         98            5066   \n",
       "\n",
       "   office_unit_organogram                                        office_name  \\\n",
       "0                  147058                    বাংলাদেশ মাদ্রাসা শিক্ষা বোর্ড    \n",
       "1                  128957  জালালাবাদ গ্যাস ট্রান্সমিসন এ্যান্ড ডিস্ট্রিবি...   \n",
       "2                   12460                                    কৃষি মন্ত্রণালয়   \n",
       "\n",
       "                 unit_name organogram_name  user_id  \\\n",
       "0            পরিদর্শন শাখা     উপ পরিদর্শক   182693   \n",
       "1  পার্সোনেল, প্রশাসন শাখা      ব্যবস্থাপক    45925   \n",
       "2             বীজ অনুবিভাগ      মহাপরিচালক     3762   \n",
       "\n",
       "               employee_name mobile_number        employee_email  \\\n",
       "0  মোহাম্মদ আবুল কাশেম সরদার   01718014128   maksardar@gmail.com   \n",
       "1    মোহাম্মদ বেলায়েত হোসাইন  ০১৮১৯-৯৫৬২৭২  Balayettaj@gmail.com   \n",
       "2           বলাই কৃষ্ণ হাজরা   01753504444   hkbalai99@gmail.com   \n",
       "\n",
       "            login_time  logout_time  \\\n",
       "0  2021-09-02 08:31:37          NaN   \n",
       "1  2021-09-02 08:31:37          NaN   \n",
       "2  2021-09-02 08:30:56          NaN   \n",
       "\n",
       "                                 network_information              created  \\\n",
       "0  {\"ClientIp\":\"192.168.2.1\",\"UserAgent\":\"ASUS\",\"...  2021-09-02 08:31:37   \n",
       "1  {\"ClientIp\":\"192.168.2.1\",\"UserAgent\":\"ASUS\",\"...  2021-09-02 08:31:37   \n",
       "2  {\"ClientIp\":\"192.168.2.1\",\"UserAgent\":\"ASUS\",\"...  2021-09-02 08:30:56   \n",
       "\n",
       "              modified  created_by  modified_by  \\\n",
       "0  2021-09-02 08:31:37         NaN          NaN   \n",
       "1  2021-09-02 08:31:37         NaN          NaN   \n",
       "2  2021-09-02 08:30:56         NaN          NaN   \n",
       "\n",
       "                                               token device_type device_id  \n",
       "0  eyJ0eXAiOiJKV1QiLCJhbGciOiJIUzI1NiJ9.eyJpYXQiO...     android  39083043  \n",
       "1  eyJ0eXAiOiJKV1QiLCJhbGciOiJIUzI1NiJ9.eyJpYXQiO...     android  39083043  \n",
       "2  eyJ0eXAiOiJKV1QiLCJhbGciOiJIUzI1NiJ9.eyJpYXQiO...     android  39083043  "
      ]
     },
     "execution_count": 21,
     "metadata": {},
     "output_type": "execute_result"
    }
   ],
   "source": [
    "user_login_history_df.shape\n",
    "employee_records_df.shape\n",
    "user_login_history_df.head(3)\n"
   ]
  },
  {
   "cell_type": "code",
   "execution_count": null,
   "id": "550bc4e9-37fb-4035-a615-5a7876e6a44e",
   "metadata": {},
   "outputs": [],
   "source": [
    "# user_login_history_df\n",
    "df = pd.merge(user_login_history_df, employee_records_df, how='left', left_on='employee_record_id',right_on='id', suffixes=('login_history', 'employee_records'))"
   ]
  },
  {
   "cell_type": "code",
   "execution_count": 27,
   "id": "62985023-453d-4296-bb68-cda4d4340246",
   "metadata": {},
   "outputs": [
    {
     "data": {
      "text/plain": [
       "49623"
      ]
     },
     "execution_count": 27,
     "metadata": {},
     "output_type": "execute_result"
    },
    {
     "data": {
      "text/plain": [
       "Index(['id_x', 'is_mobile', 'client_ip', 'device_name', 'browser_name',\n",
       "       'employee_record_id', 'ministry_id', 'layer_id', 'origin_id',\n",
       "       'office_id', 'office_unit_id', 'office_unit_organogram', 'office_name',\n",
       "       'unit_name', 'organogram_name', 'user_id', 'employee_name',\n",
       "       'mobile_number', 'employee_email', 'login_time', 'logout_time',\n",
       "       'network_information', 'created_x', 'modified_x', 'created_by_x',\n",
       "       'modified_by_x', 'token', 'device_type', 'device_id', 'id_y',\n",
       "       'name_eng', 'name_bng', 'father_name_eng', 'father_name_bng',\n",
       "       'mother_name_eng', 'mother_name_bng', 'date_of_birth', 'nid',\n",
       "       'nid_valid', 'bcn', 'ppn', 'gender', 'religion', 'blood_group',\n",
       "       'marital_status', 'personal_email', 'personal_mobile',\n",
       "       'alternative_mobile', 'is_cadre', 'employee_grade', 'employee_cadre_id',\n",
       "       'employee_batch_id', 'identity_no', 'appointment_memo_no',\n",
       "       'joining_date', 'service_rank_id', 'service_grade_id',\n",
       "       'service_ministry_id', 'service_office_id',\n",
       "       'current_office_ministry_id', 'current_office_layer_id',\n",
       "       'current_office_id', 'current_office_unit_id',\n",
       "       'current_office_joining_date', 'current_office_designation_id',\n",
       "       'current_office_address', 'e_sign', 'd_sign', 'image_file_name',\n",
       "       'status', 'default_sign', 'hard_signature', 'soft_signature', 'cert_id',\n",
       "       'cert_type', 'cert_provider', 'cert_serial', 'created_by_y',\n",
       "       'modified_by_y', 'created_y', 'modified_y'],\n",
       "      dtype='object')"
      ]
     },
     "execution_count": 27,
     "metadata": {},
     "output_type": "execute_result"
    }
   ],
   "source": [
    "len(set(df.employee_record_id.values))\n",
    "df.columns"
   ]
  }
 ],
 "metadata": {
  "kernelspec": {
   "display_name": "Python 3 (ipykernel)",
   "language": "python",
   "name": "python3"
  },
  "language_info": {
   "codemirror_mode": {
    "name": "ipython",
    "version": 3
   },
   "file_extension": ".py",
   "mimetype": "text/x-python",
   "name": "python",
   "nbconvert_exporter": "python",
   "pygments_lexer": "ipython3",
   "version": "3.8.10"
  }
 },
 "nbformat": 4,
 "nbformat_minor": 5
}
