{
 "cells": [
  {
   "cell_type": "code",
   "execution_count": 9,
   "id": "e3bcc166-272e-4139-a472-94a65ca0b579",
   "metadata": {},
   "outputs": [],
   "source": [
    "# import necessary library\n",
    "from IPython.core.interactiveshell import InteractiveShell\n",
    "InteractiveShell.ast_node_interactivity = \"all\"\n",
    "\n",
    "import sys\n",
    "import os\n",
    "import pandas as pd\n",
    "import numpy as np\n",
    "import seaborn as sns\n",
    "import matplotlib.pyplot as plt\n",
    "%matplotlib inline\n",
    "pd.set_option('display.max_columns', None)\n",
    "\n",
    "image_base_path  = os.path.expanduser('~/data_analysis/images/dnothi')\n"
   ]
  },
  {
   "cell_type": "code",
   "execution_count": null,
   "id": "2ac25646-6931-46bc-b42d-991d69898d15",
   "metadata": {},
   "outputs": [],
   "source": []
  },
  {
   "cell_type": "code",
   "execution_count": 10,
   "id": "53547a47-407d-427d-9ee5-54794fb307ca",
   "metadata": {},
   "outputs": [],
   "source": [
    "def load_dataframe(path=None, nrows=100000):\n",
    "    if not path:\n",
    "        path = '~/data_analysis/data/tappware/dnothi/employee_records.csv'\n",
    "    return pd.read_csv(path, nrows=nrows)"
   ]
  },
  {
   "cell_type": "code",
   "execution_count": 11,
   "id": "d86bac81-4303-4d58-894d-94f570622af1",
   "metadata": {},
   "outputs": [
    {
     "name": "stderr",
     "output_type": "stream",
     "text": [
      "/tmp/ipykernel_185607/4292819960.py:4: DtypeWarning: Columns (34,36,45,46,47) have mixed types. Specify dtype option on import or set low_memory=False.\n",
      "  return pd.read_csv(path, nrows=nrows)\n"
     ]
    },
    {
     "data": {
      "text/plain": [
       "(110356, 52)"
      ]
     },
     "execution_count": 11,
     "metadata": {},
     "output_type": "execute_result"
    }
   ],
   "source": [
    "df = load_dataframe(nrows=None)\n",
    "# df = load_dataframe()\n",
    "df.shape"
   ]
  },
  {
   "cell_type": "code",
   "execution_count": 12,
   "id": "f3687546-12fd-4d00-bcc5-bc613bec3cd2",
   "metadata": {},
   "outputs": [
    {
     "data": {
      "text/html": [
       "<div>\n",
       "<style scoped>\n",
       "    .dataframe tbody tr th:only-of-type {\n",
       "        vertical-align: middle;\n",
       "    }\n",
       "\n",
       "    .dataframe tbody tr th {\n",
       "        vertical-align: top;\n",
       "    }\n",
       "\n",
       "    .dataframe thead th {\n",
       "        text-align: right;\n",
       "    }\n",
       "</style>\n",
       "<table border=\"1\" class=\"dataframe\">\n",
       "  <thead>\n",
       "    <tr style=\"text-align: right;\">\n",
       "      <th></th>\n",
       "      <th>id</th>\n",
       "      <th>name_eng</th>\n",
       "      <th>name_bng</th>\n",
       "      <th>father_name_eng</th>\n",
       "      <th>father_name_bng</th>\n",
       "      <th>mother_name_eng</th>\n",
       "      <th>mother_name_bng</th>\n",
       "      <th>date_of_birth</th>\n",
       "      <th>nid</th>\n",
       "      <th>nid_valid</th>\n",
       "      <th>bcn</th>\n",
       "      <th>ppn</th>\n",
       "      <th>gender</th>\n",
       "      <th>religion</th>\n",
       "      <th>blood_group</th>\n",
       "      <th>marital_status</th>\n",
       "      <th>personal_email</th>\n",
       "      <th>personal_mobile</th>\n",
       "      <th>alternative_mobile</th>\n",
       "      <th>is_cadre</th>\n",
       "      <th>employee_grade</th>\n",
       "      <th>employee_cadre_id</th>\n",
       "      <th>employee_batch_id</th>\n",
       "      <th>identity_no</th>\n",
       "      <th>appointment_memo_no</th>\n",
       "      <th>joining_date</th>\n",
       "      <th>service_rank_id</th>\n",
       "      <th>service_grade_id</th>\n",
       "      <th>service_ministry_id</th>\n",
       "      <th>service_office_id</th>\n",
       "      <th>current_office_ministry_id</th>\n",
       "      <th>current_office_layer_id</th>\n",
       "      <th>current_office_id</th>\n",
       "      <th>current_office_unit_id</th>\n",
       "      <th>current_office_joining_date</th>\n",
       "      <th>current_office_designation_id</th>\n",
       "      <th>current_office_address</th>\n",
       "      <th>e_sign</th>\n",
       "      <th>d_sign</th>\n",
       "      <th>image_file_name</th>\n",
       "      <th>status</th>\n",
       "      <th>default_sign</th>\n",
       "      <th>hard_signature</th>\n",
       "      <th>soft_signature</th>\n",
       "      <th>cert_id</th>\n",
       "      <th>cert_type</th>\n",
       "      <th>cert_provider</th>\n",
       "      <th>cert_serial</th>\n",
       "      <th>created_by</th>\n",
       "      <th>modified_by</th>\n",
       "      <th>created</th>\n",
       "      <th>modified</th>\n",
       "    </tr>\n",
       "  </thead>\n",
       "  <tbody>\n",
       "    <tr>\n",
       "      <th>0</th>\n",
       "      <td>30</td>\n",
       "      <td>Maherunnesa</td>\n",
       "      <td>মেহেরুন নেছা</td>\n",
       "      <td>NaN</td>\n",
       "      <td>NaN</td>\n",
       "      <td>NaN</td>\n",
       "      <td>NaN</td>\n",
       "      <td>1958-07-09 00:00:00</td>\n",
       "      <td>3923606142583</td>\n",
       "      <td>0</td>\n",
       "      <td>NaN</td>\n",
       "      <td>NaN</td>\n",
       "      <td>NaN</td>\n",
       "      <td>NaN</td>\n",
       "      <td>NaN</td>\n",
       "      <td>NaN</td>\n",
       "      <td>meherunnisa.jamalpur@gmail.com</td>\n",
       "      <td>01717-090607</td>\n",
       "      <td>NaN</td>\n",
       "      <td>2</td>\n",
       "      <td>NaN</td>\n",
       "      <td>0.0</td>\n",
       "      <td>0.0</td>\n",
       "      <td>0</td>\n",
       "      <td>NaN</td>\n",
       "      <td>0000-00-00 00:00:00</td>\n",
       "      <td>0.0</td>\n",
       "      <td>13.0</td>\n",
       "      <td>5.0</td>\n",
       "      <td>NaN</td>\n",
       "      <td>0.0</td>\n",
       "      <td>0.0</td>\n",
       "      <td>0.0</td>\n",
       "      <td>0.0</td>\n",
       "      <td>0000-00-00 00:00:00</td>\n",
       "      <td>0.0</td>\n",
       "      <td>জেলা প্রশাসকের কার্যালয়, জামালপুর</td>\n",
       "      <td>NaN</td>\n",
       "      <td>NaN</td>\n",
       "      <td>NaN</td>\n",
       "      <td>0</td>\n",
       "      <td>0</td>\n",
       "      <td>0</td>\n",
       "      <td>0</td>\n",
       "      <td>NaN</td>\n",
       "      <td>NaN</td>\n",
       "      <td>NaN</td>\n",
       "      <td>NaN</td>\n",
       "      <td>0</td>\n",
       "      <td>0</td>\n",
       "      <td>0000-00-00 00:00:00</td>\n",
       "      <td>0000-00-00 00:00:00</td>\n",
       "    </tr>\n",
       "    <tr>\n",
       "      <th>1</th>\n",
       "      <td>31</td>\n",
       "      <td>Md. Raziul Hassan</td>\n",
       "      <td>মো: রাজিউল হাসান</td>\n",
       "      <td>Let.Manir udden sarkar</td>\n",
       "      <td>মৃত: মনির উদ্দিন সরকার</td>\n",
       "      <td>Let.Bashironnasa</td>\n",
       "      <td>মৃত: বছিরননেছা</td>\n",
       "      <td>1963-11-02 00:00:00</td>\n",
       "      <td>19633923602111523</td>\n",
       "      <td>0</td>\n",
       "      <td>NaN</td>\n",
       "      <td>NaN</td>\n",
       "      <td>1.0</td>\n",
       "      <td>Islam</td>\n",
       "      <td>B+</td>\n",
       "      <td>Married</td>\n",
       "      <td>raziul.hasan57@gmail.com</td>\n",
       "      <td>01715-566157</td>\n",
       "      <td>01713545338</td>\n",
       "      <td>2</td>\n",
       "      <td>NaN</td>\n",
       "      <td>0.0</td>\n",
       "      <td>0.0</td>\n",
       "      <td>0</td>\n",
       "      <td>NaN</td>\n",
       "      <td>1984-09-08 00:00:00</td>\n",
       "      <td>0.0</td>\n",
       "      <td>13.0</td>\n",
       "      <td>51.0</td>\n",
       "      <td>NaN</td>\n",
       "      <td>0.0</td>\n",
       "      <td>0.0</td>\n",
       "      <td>0.0</td>\n",
       "      <td>0.0</td>\n",
       "      <td>0000-00-00 00:00:00</td>\n",
       "      <td>0.0</td>\n",
       "      <td>জেলা ত্রাণ ও পুনর্বাসন কর্মকর্তার কার্যালয়</td>\n",
       "      <td>NaN</td>\n",
       "      <td>NaN</td>\n",
       "      <td>NaN</td>\n",
       "      <td>0</td>\n",
       "      <td>0</td>\n",
       "      <td>0</td>\n",
       "      <td>0</td>\n",
       "      <td>NaN</td>\n",
       "      <td>NaN</td>\n",
       "      <td>NaN</td>\n",
       "      <td>NaN</td>\n",
       "      <td>0</td>\n",
       "      <td>0</td>\n",
       "      <td>0000-00-00 00:00:00</td>\n",
       "      <td>2016-10-25 12:59:33</td>\n",
       "    </tr>\n",
       "    <tr>\n",
       "      <th>2</th>\n",
       "      <td>34</td>\n",
       "      <td>Md. Abul Hossain</td>\n",
       "      <td>মো: আবুল হোসাইন</td>\n",
       "      <td>Late Abul kashem</td>\n",
       "      <td>মৃত আবুল কাশেম</td>\n",
       "      <td>Late Amena Khatun.</td>\n",
       "      <td>মৃত আমেনা খাতুন</td>\n",
       "      <td>1958-04-21 00:00:00</td>\n",
       "      <td>19583923604125262</td>\n",
       "      <td>0</td>\n",
       "      <td>NaN</td>\n",
       "      <td>NaN</td>\n",
       "      <td>1.0</td>\n",
       "      <td>Islam</td>\n",
       "      <td>O-</td>\n",
       "      <td>Married</td>\n",
       "      <td>Abul Hossain@gmail.com</td>\n",
       "      <td>01718191256</td>\n",
       "      <td>NaN</td>\n",
       "      <td>2</td>\n",
       "      <td>NaN</td>\n",
       "      <td>0.0</td>\n",
       "      <td>0.0</td>\n",
       "      <td>0</td>\n",
       "      <td>NaN</td>\n",
       "      <td>1987-10-11 00:00:00</td>\n",
       "      <td>0.0</td>\n",
       "      <td>14.0</td>\n",
       "      <td>5.0</td>\n",
       "      <td>NaN</td>\n",
       "      <td>0.0</td>\n",
       "      <td>0.0</td>\n",
       "      <td>0.0</td>\n",
       "      <td>0.0</td>\n",
       "      <td>0000-00-00 00:00:00</td>\n",
       "      <td>0.0</td>\n",
       "      <td>জেলা প্রশাসকের কার্যালয়, জামালপুর</td>\n",
       "      <td>NaN</td>\n",
       "      <td>NaN</td>\n",
       "      <td>NaN</td>\n",
       "      <td>0</td>\n",
       "      <td>0</td>\n",
       "      <td>0</td>\n",
       "      <td>0</td>\n",
       "      <td>NaN</td>\n",
       "      <td>NaN</td>\n",
       "      <td>NaN</td>\n",
       "      <td>NaN</td>\n",
       "      <td>0</td>\n",
       "      <td>0</td>\n",
       "      <td>0000-00-00 00:00:00</td>\n",
       "      <td>2016-11-27 16:35:01</td>\n",
       "    </tr>\n",
       "    <tr>\n",
       "      <th>3</th>\n",
       "      <td>37</td>\n",
       "      <td>Md. Sarwardi</td>\n",
       "      <td>মো: ছরওয়ারদি</td>\n",
       "      <td>NaN</td>\n",
       "      <td>NaN</td>\n",
       "      <td>NaN</td>\n",
       "      <td>NaN</td>\n",
       "      <td>2009-02-03 00:00:00</td>\n",
       "      <td>20093923602110054</td>\n",
       "      <td>0</td>\n",
       "      <td>NaN</td>\n",
       "      <td>NaN</td>\n",
       "      <td>NaN</td>\n",
       "      <td>NaN</td>\n",
       "      <td>NaN</td>\n",
       "      <td>NaN</td>\n",
       "      <td>m_sarwardi@yahoo.com</td>\n",
       "      <td>01679-061448</td>\n",
       "      <td>NaN</td>\n",
       "      <td>2</td>\n",
       "      <td>NaN</td>\n",
       "      <td>0.0</td>\n",
       "      <td>0.0</td>\n",
       "      <td>0</td>\n",
       "      <td>NaN</td>\n",
       "      <td>0000-00-00 00:00:00</td>\n",
       "      <td>0.0</td>\n",
       "      <td>13.0</td>\n",
       "      <td>31.0</td>\n",
       "      <td>NaN</td>\n",
       "      <td>0.0</td>\n",
       "      <td>0.0</td>\n",
       "      <td>0.0</td>\n",
       "      <td>0.0</td>\n",
       "      <td>0000-00-00 00:00:00</td>\n",
       "      <td>0.0</td>\n",
       "      <td>জেলা প্রশাসকের কার্যালয়, জামালপুর</td>\n",
       "      <td>NaN</td>\n",
       "      <td>NaN</td>\n",
       "      <td>NaN</td>\n",
       "      <td>0</td>\n",
       "      <td>0</td>\n",
       "      <td>0</td>\n",
       "      <td>0</td>\n",
       "      <td>NaN</td>\n",
       "      <td>NaN</td>\n",
       "      <td>NaN</td>\n",
       "      <td>NaN</td>\n",
       "      <td>0</td>\n",
       "      <td>0</td>\n",
       "      <td>0000-00-00 00:00:00</td>\n",
       "      <td>2016-11-29 17:34:47</td>\n",
       "    </tr>\n",
       "    <tr>\n",
       "      <th>4</th>\n",
       "      <td>39</td>\n",
       "      <td>Md. Sultan Uddin</td>\n",
       "      <td>মো: সুলতান উদ্দিন</td>\n",
       "      <td>NaN</td>\n",
       "      <td>NaN</td>\n",
       "      <td>NaN</td>\n",
       "      <td>NaN</td>\n",
       "      <td>1962-10-31 00:00:00</td>\n",
       "      <td>19623913695446315</td>\n",
       "      <td>0</td>\n",
       "      <td>NaN</td>\n",
       "      <td>NaN</td>\n",
       "      <td>NaN</td>\n",
       "      <td>NaN</td>\n",
       "      <td>NaN</td>\n",
       "      <td>NaN</td>\n",
       "      <td>sultan_nazir43@yahoo.com</td>\n",
       "      <td>01714-711222</td>\n",
       "      <td>NaN</td>\n",
       "      <td>2</td>\n",
       "      <td>NaN</td>\n",
       "      <td>0.0</td>\n",
       "      <td>0.0</td>\n",
       "      <td>0</td>\n",
       "      <td>NaN</td>\n",
       "      <td>1987-10-11 00:00:00</td>\n",
       "      <td>0.0</td>\n",
       "      <td>13.0</td>\n",
       "      <td>5.0</td>\n",
       "      <td>NaN</td>\n",
       "      <td>0.0</td>\n",
       "      <td>0.0</td>\n",
       "      <td>0.0</td>\n",
       "      <td>0.0</td>\n",
       "      <td>0000-00-00 00:00:00</td>\n",
       "      <td>0.0</td>\n",
       "      <td>জেলা প্রশাসকের কার্যালয়, জামালপুর</td>\n",
       "      <td>NaN</td>\n",
       "      <td>NaN</td>\n",
       "      <td>NaN</td>\n",
       "      <td>0</td>\n",
       "      <td>0</td>\n",
       "      <td>0</td>\n",
       "      <td>0</td>\n",
       "      <td>NaN</td>\n",
       "      <td>NaN</td>\n",
       "      <td>NaN</td>\n",
       "      <td>NaN</td>\n",
       "      <td>0</td>\n",
       "      <td>0</td>\n",
       "      <td>0000-00-00 00:00:00</td>\n",
       "      <td>2016-11-11 09:39:37</td>\n",
       "    </tr>\n",
       "  </tbody>\n",
       "</table>\n",
       "</div>"
      ],
      "text/plain": [
       "   id            name_eng            name_bng         father_name_eng  \\\n",
       "0  30        Maherunnesa        মেহেরুন নেছা                      NaN   \n",
       "1  31  Md. Raziul Hassan    মো: রাজিউল হাসান   Let.Manir udden sarkar   \n",
       "2  34    Md. Abul Hossain    মো: আবুল হোসাইন         Late Abul kashem   \n",
       "3  37       Md. Sarwardi        মো: ছরওয়ারদি                      NaN   \n",
       "4  39   Md. Sultan Uddin   মো: সুলতান উদ্দিন                      NaN   \n",
       "\n",
       "          father_name_bng     mother_name_eng  mother_name_bng  \\\n",
       "0                     NaN                 NaN              NaN   \n",
       "1  মৃত: মনির উদ্দিন সরকার    Let.Bashironnasa   মৃত: বছিরননেছা   \n",
       "2         মৃত আবুল কাশেম   Late Amena Khatun.  মৃত আমেনা খাতুন   \n",
       "3                     NaN                 NaN              NaN   \n",
       "4                     NaN                 NaN              NaN   \n",
       "\n",
       "         date_of_birth                nid  nid_valid  bcn  ppn  gender  \\\n",
       "0  1958-07-09 00:00:00      3923606142583          0  NaN  NaN     NaN   \n",
       "1  1963-11-02 00:00:00  19633923602111523          0  NaN  NaN     1.0   \n",
       "2  1958-04-21 00:00:00  19583923604125262          0  NaN  NaN     1.0   \n",
       "3  2009-02-03 00:00:00  20093923602110054          0  NaN  NaN     NaN   \n",
       "4  1962-10-31 00:00:00  19623913695446315          0  NaN  NaN     NaN   \n",
       "\n",
       "  religion blood_group marital_status                   personal_email  \\\n",
       "0      NaN         NaN            NaN  meherunnisa.jamalpur@gmail.com    \n",
       "1    Islam          B+        Married        raziul.hasan57@gmail.com    \n",
       "2    Islam          O-        Married           Abul Hossain@gmail.com   \n",
       "3      NaN         NaN            NaN            m_sarwardi@yahoo.com    \n",
       "4      NaN         NaN            NaN         sultan_nazir43@yahoo.com   \n",
       "\n",
       "  personal_mobile alternative_mobile  is_cadre  employee_grade  \\\n",
       "0    01717-090607                NaN         2             NaN   \n",
       "1    01715-566157        01713545338         2             NaN   \n",
       "2     01718191256                NaN         2             NaN   \n",
       "3   01679-061448                 NaN         2             NaN   \n",
       "4    01714-711222                NaN         2             NaN   \n",
       "\n",
       "   employee_cadre_id  employee_batch_id identity_no appointment_memo_no  \\\n",
       "0                0.0                0.0           0                 NaN   \n",
       "1                0.0                0.0           0                 NaN   \n",
       "2                0.0                0.0           0                 NaN   \n",
       "3                0.0                0.0           0                 NaN   \n",
       "4                0.0                0.0           0                 NaN   \n",
       "\n",
       "          joining_date  service_rank_id  service_grade_id  \\\n",
       "0  0000-00-00 00:00:00              0.0              13.0   \n",
       "1  1984-09-08 00:00:00              0.0              13.0   \n",
       "2  1987-10-11 00:00:00              0.0              14.0   \n",
       "3  0000-00-00 00:00:00              0.0              13.0   \n",
       "4  1987-10-11 00:00:00              0.0              13.0   \n",
       "\n",
       "   service_ministry_id  service_office_id  current_office_ministry_id  \\\n",
       "0                  5.0                NaN                         0.0   \n",
       "1                 51.0                NaN                         0.0   \n",
       "2                  5.0                NaN                         0.0   \n",
       "3                 31.0                NaN                         0.0   \n",
       "4                  5.0                NaN                         0.0   \n",
       "\n",
       "   current_office_layer_id  current_office_id  current_office_unit_id  \\\n",
       "0                      0.0                0.0                     0.0   \n",
       "1                      0.0                0.0                     0.0   \n",
       "2                      0.0                0.0                     0.0   \n",
       "3                      0.0                0.0                     0.0   \n",
       "4                      0.0                0.0                     0.0   \n",
       "\n",
       "  current_office_joining_date  current_office_designation_id  \\\n",
       "0         0000-00-00 00:00:00                            0.0   \n",
       "1         0000-00-00 00:00:00                            0.0   \n",
       "2         0000-00-00 00:00:00                            0.0   \n",
       "3         0000-00-00 00:00:00                            0.0   \n",
       "4         0000-00-00 00:00:00                            0.0   \n",
       "\n",
       "                        current_office_address  e_sign  d_sign  \\\n",
       "0           জেলা প্রশাসকের কার্যালয়, জামালপুর      NaN     NaN   \n",
       "1  জেলা ত্রাণ ও পুনর্বাসন কর্মকর্তার কার্যালয়      NaN     NaN   \n",
       "2           জেলা প্রশাসকের কার্যালয়, জামালপুর      NaN     NaN   \n",
       "3           জেলা প্রশাসকের কার্যালয়, জামালপুর      NaN     NaN   \n",
       "4           জেলা প্রশাসকের কার্যালয়, জামালপুর      NaN     NaN   \n",
       "\n",
       "  image_file_name  status  default_sign  hard_signature  soft_signature  \\\n",
       "0             NaN       0             0               0               0   \n",
       "1             NaN       0             0               0               0   \n",
       "2             NaN       0             0               0               0   \n",
       "3             NaN       0             0               0               0   \n",
       "4             NaN       0             0               0               0   \n",
       "\n",
       "   cert_id cert_type cert_provider cert_serial  created_by  modified_by  \\\n",
       "0      NaN       NaN           NaN         NaN           0            0   \n",
       "1      NaN       NaN           NaN         NaN           0            0   \n",
       "2      NaN       NaN           NaN         NaN           0            0   \n",
       "3      NaN       NaN           NaN         NaN           0            0   \n",
       "4      NaN       NaN           NaN         NaN           0            0   \n",
       "\n",
       "               created             modified  \n",
       "0  0000-00-00 00:00:00  0000-00-00 00:00:00  \n",
       "1  0000-00-00 00:00:00  2016-10-25 12:59:33  \n",
       "2  0000-00-00 00:00:00  2016-11-27 16:35:01  \n",
       "3  0000-00-00 00:00:00  2016-11-29 17:34:47  \n",
       "4  0000-00-00 00:00:00  2016-11-11 09:39:37  "
      ]
     },
     "execution_count": 12,
     "metadata": {},
     "output_type": "execute_result"
    }
   ],
   "source": [
    "df.head()"
   ]
  },
  {
   "cell_type": "code",
   "execution_count": 13,
   "id": "68fa54e5-016b-485e-a225-1e9ca6b7e679",
   "metadata": {},
   "outputs": [
    {
     "data": {
      "text/plain": [
       "Index(['id', 'name_eng', 'name_bng', 'father_name_eng', 'father_name_bng',\n",
       "       'mother_name_eng', 'mother_name_bng', 'date_of_birth', 'nid',\n",
       "       'nid_valid', 'bcn', 'ppn', 'gender', 'religion', 'blood_group',\n",
       "       'marital_status', 'personal_email', 'personal_mobile',\n",
       "       'alternative_mobile', 'is_cadre', 'employee_grade', 'employee_cadre_id',\n",
       "       'employee_batch_id', 'identity_no', 'appointment_memo_no',\n",
       "       'joining_date', 'service_rank_id', 'service_grade_id',\n",
       "       'service_ministry_id', 'service_office_id',\n",
       "       'current_office_ministry_id', 'current_office_layer_id',\n",
       "       'current_office_id', 'current_office_unit_id',\n",
       "       'current_office_joining_date', 'current_office_designation_id',\n",
       "       'current_office_address', 'e_sign', 'd_sign', 'image_file_name',\n",
       "       'status', 'default_sign', 'hard_signature', 'soft_signature', 'cert_id',\n",
       "       'cert_type', 'cert_provider', 'cert_serial', 'created_by',\n",
       "       'modified_by', 'created', 'modified'],\n",
       "      dtype='object')"
      ]
     },
     "execution_count": 13,
     "metadata": {},
     "output_type": "execute_result"
    }
   ],
   "source": [
    "# df.employee_grade.nunique()\n",
    "df.columns"
   ]
  },
  {
   "cell_type": "markdown",
   "id": "23de6949-696d-4618-a398-dc05fd789f82",
   "metadata": {},
   "source": [
    "## Ideas\n",
    "- Email ব্যবহারকারীর অনুপাত (Gmail, yahoo, ...)\n",
    "- কতজন ব্যবহারকারীর ইমেইল দেওয়া হয় নাই\n",
    "- কোন মাস এ Birthday বেশি\n",
    "- কোন দিন এ Birthday বেশি\n",
    "- Blood group অনুপাত।\n",
    "- Blood group , Male Female এর মধ্যে Relationships.\n",
    "- বিবাহিত ও অবিবাহিত ব্যবহারকারীর অনুপাত\n",
    "- কোন মাস এ জইনিং বেশি।\n",
    "- ব্যবহারকারীরা কোন মোবাইল অপারেটর বেশি ব্যবহার করেন\n",
    "- কতজন ব্যবহারকারী marital status গোপণ রেখেছেন। :)\n",
    "    ### Rough \n",
    "    - Date of birth (Age band)\n",
    "    - Nid card (Digit band)\n",
    "\n",
    "\n",
    "\n",
    "\n",
    "funny alalysis\n",
    "- character frequency in names\n",
    "\n"
   ]
  },
  {
   "cell_type": "markdown",
   "id": "b7f1cfa8-2803-4426-ab42-ee9a2513dc13",
   "metadata": {},
   "source": [
    "### Analysis on Email\n",
    "\n",
    "Users should not use Yahoo"
   ]
  },
  {
   "cell_type": "code",
   "execution_count": 15,
   "id": "9915d3cf-b549-4169-9c48-b97f32ff1fdc",
   "metadata": {},
   "outputs": [
    {
     "data": {
      "text/html": [
       "<div>\n",
       "<style scoped>\n",
       "    .dataframe tbody tr th:only-of-type {\n",
       "        vertical-align: middle;\n",
       "    }\n",
       "\n",
       "    .dataframe tbody tr th {\n",
       "        vertical-align: top;\n",
       "    }\n",
       "\n",
       "    .dataframe thead th {\n",
       "        text-align: right;\n",
       "    }\n",
       "</style>\n",
       "<table border=\"1\" class=\"dataframe\">\n",
       "  <thead>\n",
       "    <tr style=\"text-align: right;\">\n",
       "      <th></th>\n",
       "      <th>email_domain</th>\n",
       "      <th>login_count</th>\n",
       "    </tr>\n",
       "  </thead>\n",
       "  <tbody>\n",
       "    <tr>\n",
       "      <th>0</th>\n",
       "      <td>Gmail</td>\n",
       "      <td>75315</td>\n",
       "    </tr>\n",
       "    <tr>\n",
       "      <th>1</th>\n",
       "      <td>Others</td>\n",
       "      <td>9134</td>\n",
       "    </tr>\n",
       "    <tr>\n",
       "      <th>2</th>\n",
       "      <td>Yahoo</td>\n",
       "      <td>13867</td>\n",
       "    </tr>\n",
       "  </tbody>\n",
       "</table>\n",
       "</div>"
      ],
      "text/plain": [
       "  email_domain  login_count\n",
       "0        Gmail        75315\n",
       "1       Others         9134\n",
       "2        Yahoo        13867"
      ]
     },
     "execution_count": 15,
     "metadata": {},
     "output_type": "execute_result"
    }
   ],
   "source": [
    "df_email = df[~df.personal_email.isnull()].copy(deep=True)\n",
    "df_email['email_domain'] = df_email['personal_email'].str.split('@', expand=True)[1]\n",
    "df_email['email_domain'] =  df_email['email_domain'].str.strip()\n",
    "\n",
    "df_email['email_domain'] = df_email['email_domain'].map({'gmail.com': 'Gmail', 'yahoo.com': 'Yahoo'})\n",
    "df_email['email_domain'] = df_email['email_domain'].fillna('Others')\n",
    "df_email = df_email.groupby('email_domain').size().reset_index(name='login_count')\n",
    "df_email"
   ]
  },
  {
   "cell_type": "code",
   "execution_count": 16,
   "id": "ed17d5f7-b1b1-4bc8-a9b7-972e29fe56e2",
   "metadata": {},
   "outputs": [
    {
     "data": {
      "text/plain": [
       "[None, None, None, None, None, None]"
      ]
     },
     "execution_count": 16,
     "metadata": {},
     "output_type": "execute_result"
    },
    {
     "data": {
      "text/plain": [
       "Text(0.5, 1.0, 'Email client statistics')"
      ]
     },
     "execution_count": 16,
     "metadata": {},
     "output_type": "execute_result"
    },
    {
     "data": {
      "image/png": "[encoded data removed]",
      "text/plain": [
       "<Figure size 1152x720 with 1 Axes>"
      ]
     },
     "metadata": {},
     "output_type": "display_data"
    }
   ],
   "source": [
    "# creating the dataset\n",
    "labels = df_email['email_domain']\n",
    "values = df_email['login_count']\n",
    "\n",
    "fig1, ax = plt.subplots(figsize=(16, 10))\n",
    "# fig1, ax = plt.subplots()\n",
    "\n",
    "wedges, texts, autotexts = ax.pie(values, labels=labels, autopct='%1.1f%%',\n",
    "        shadow=True, startangle=90)\n",
    "_ = ax.axis('equal')  # Equal aspect ratio ensures that pie is drawn as a circle.\n",
    "_ = ax.legend(wedges, labels, title=\"Email client\", loc=\"center left\", bbox_to_anchor=(1, 0, 0.5, 1))\n",
    "\n",
    "plt.setp(autotexts, size=10, weight=500)\n",
    "ax.set_title(\"Email client statistics\")\n",
    "image_path = os.path.join(image_base_path, 'email_client.jpg')\n",
    "plt.savefig(image_path)\n",
    "plt.show()\n",
    "\n"
   ]
  },
  {
   "cell_type": "markdown",
   "id": "8abcdf43-f9c2-49e3-99b4-51e5e3ef3b37",
   "metadata": {},
   "source": [
    "### Absent email in accounts"
   ]
  },
  {
   "cell_type": "code",
   "execution_count": 17,
   "id": "f8095f9e-d2d7-428c-91ef-a38cdb69de92",
   "metadata": {},
   "outputs": [
    {
     "data": {
      "text/html": [
       "<div>\n",
       "<style scoped>\n",
       "    .dataframe tbody tr th:only-of-type {\n",
       "        vertical-align: middle;\n",
       "    }\n",
       "\n",
       "    .dataframe tbody tr th {\n",
       "        vertical-align: top;\n",
       "    }\n",
       "\n",
       "    .dataframe thead th {\n",
       "        text-align: right;\n",
       "    }\n",
       "</style>\n",
       "<table border=\"1\" class=\"dataframe\">\n",
       "  <thead>\n",
       "    <tr style=\"text-align: right;\">\n",
       "      <th></th>\n",
       "      <th>has_email</th>\n",
       "      <th>count</th>\n",
       "    </tr>\n",
       "  </thead>\n",
       "  <tbody>\n",
       "    <tr>\n",
       "      <th>0</th>\n",
       "      <td>Email Absent</td>\n",
       "      <td>98316</td>\n",
       "    </tr>\n",
       "    <tr>\n",
       "      <th>1</th>\n",
       "      <td>Email present</td>\n",
       "      <td>12040</td>\n",
       "    </tr>\n",
       "  </tbody>\n",
       "</table>\n",
       "</div>"
      ],
      "text/plain": [
       "       has_email  count\n",
       "0   Email Absent  98316\n",
       "1  Email present  12040"
      ]
     },
     "execution_count": 17,
     "metadata": {},
     "output_type": "execute_result"
    }
   ],
   "source": [
    "df['has_email'] = df.personal_email.isnull()\n",
    "df_has_email = df.groupby('has_email').size().reset_index(name='count')\n",
    "df_has_email['has_email'] = df_has_email.has_email.map({True: 'Email present', False: 'Email Absent'})\n",
    "df_has_email"
   ]
  },
  {
   "cell_type": "code",
   "execution_count": 18,
   "id": "7db09e25-63cd-422a-8e48-46d9c9e5df25",
   "metadata": {},
   "outputs": [
    {
     "data": {
      "text/plain": [
       "[None, None, None, None]"
      ]
     },
     "execution_count": 18,
     "metadata": {},
     "output_type": "execute_result"
    },
    {
     "data": {
      "text/plain": [
       "Text(0.5, 1.0, 'Email client statistics')"
      ]
     },
     "execution_count": 18,
     "metadata": {},
     "output_type": "execute_result"
    },
    {
     "data": {
      "image/png": "[encoded data removed]",
      "text/plain": [
       "<Figure size 1152x720 with 1 Axes>"
      ]
     },
     "metadata": {},
     "output_type": "display_data"
    }
   ],
   "source": [
    "fig, ax = plt.subplots(figsize=(16, 10))\n",
    "values = df_has_email['count'].values\n",
    "labels = df_has_email['has_email'].values\n",
    "\n",
    "wedges, texts, autotexts = ax.pie(values, labels=labels, autopct='%1.1f%%',\n",
    "        shadow=True, startangle=90)\n",
    "_ = ax.axis('equal')  # Equal aspect ratio ensures that pie is drawn as a circle.\n",
    "_ = ax.legend(wedges, labels, title=\"Email client\", loc=\"center left\", bbox_to_anchor=(1, 0, 0.5, 1))\n",
    "\n",
    "plt.setp(autotexts, size=10, weight=500)\n",
    "ax.set_title(\"Email client statistics\")\n",
    "plt.show()"
   ]
  },
  {
   "cell_type": "markdown",
   "id": "1c571b71-3288-4238-a5a8-974c8b24dd17",
   "metadata": {},
   "source": [
    "### Analysis on Birthday"
   ]
  },
  {
   "cell_type": "code",
   "execution_count": null,
   "id": "dbb269fb-168f-4e27-a2cd-a3b52d86c5f0",
   "metadata": {},
   "outputs": [],
   "source": []
  },
  {
   "cell_type": "code",
   "execution_count": 19,
   "id": "13296de4-e06d-4bf5-9e0c-30dad84f769d",
   "metadata": {},
   "outputs": [
    {
     "data": {
      "text/plain": [
       "<Figure size 1280x800 with 0 Axes>"
      ]
     },
     "execution_count": 19,
     "metadata": {},
     "output_type": "execute_result"
    },
    {
     "data": {
      "text/plain": [
       "<BarContainer object of 31 artists>"
      ]
     },
     "execution_count": 19,
     "metadata": {},
     "output_type": "execute_result"
    },
    {
     "data": {
      "text/plain": [
       "Text(0.5, 1.0, 'Birthday summary by day')"
      ]
     },
     "execution_count": 19,
     "metadata": {},
     "output_type": "execute_result"
    },
    {
     "data": {
      "image/png": "[encoded data removed]",
      "text/plain": [
       "<Figure size 1280x800 with 1 Axes>"
      ]
     },
     "metadata": {
      "needs_background": "light"
     },
     "output_type": "display_data"
    }
   ],
   "source": [
    "# df.columns\n",
    "df_birthday = df[df.date_of_birth.notnull()].copy(deep=True)\n",
    "df_birthday['date_of_birth'] = pd.to_datetime(df_birthday['date_of_birth'], errors='coerce')\n",
    "df_birthday = df_birthday[df_birthday.date_of_birth.notnull()].copy(deep=True)\n",
    "df_birthday = df_birthday.groupby(df_birthday.date_of_birth.dt.day).size().reset_index(name='counts')\n",
    "\n",
    "plt.figure(figsize=(16,10), dpi= 80)\n",
    "plt.bar('date_of_birth', 'counts', data=df_birthday, color='tab:red')\n",
    "plt.title(\"Birthday summary by day\", fontsize=15)\n",
    "image_path = os.path.join(image_base_path, 'birth_day.jpg')\n",
    "plt.savefig(image_path)\n",
    "plt.show()"
   ]
  },
  {
   "cell_type": "code",
   "execution_count": 36,
   "id": "0c661ce0-209a-464f-8021-cdb0af420c88",
   "metadata": {},
   "outputs": [
    {
     "data": {
      "text/plain": [
       "array([22113,  4028,  3094,  2257,  4339,  2219,  2491,  2160,  1528,\n",
       "        5531,  2308,  3380,  1537,  1594,  5997,  2364,  1655,  1868,\n",
       "        1353,  3692,  2238,  1470,  1261,  1404,  3547,  1470,  1574,\n",
       "        2114,  1151,  4388,  5343])"
      ]
     },
     "execution_count": 36,
     "metadata": {},
     "output_type": "execute_result"
    }
   ],
   "source": [
    "# birthday_data = {}\n",
    "# for day, birthday_count in zip(list(df_birthday.date_of_birth), list(df_birthday.counts)):\n",
    "#     birthday_data[str(day)] = birthday_count\n",
    "\n",
    "# birthday_data\n",
    "df_birthday.counts.values"
   ]
  },
  {
   "cell_type": "markdown",
   "id": "4e0ad645-5089-4fb9-9581-0da1c24ca3a9",
   "metadata": {},
   "source": [
    "### Blood Group"
   ]
  },
  {
   "cell_type": "code",
   "execution_count": 30,
   "id": "a93ea39c-df23-48ef-8637-515505986e9a",
   "metadata": {},
   "outputs": [
    {
     "data": {
      "text/html": [
       "<div>\n",
       "<style scoped>\n",
       "    .dataframe tbody tr th:only-of-type {\n",
       "        vertical-align: middle;\n",
       "    }\n",
       "\n",
       "    .dataframe tbody tr th {\n",
       "        vertical-align: top;\n",
       "    }\n",
       "\n",
       "    .dataframe thead th {\n",
       "        text-align: right;\n",
       "    }\n",
       "</style>\n",
       "<table border=\"1\" class=\"dataframe\">\n",
       "  <thead>\n",
       "    <tr style=\"text-align: right;\">\n",
       "      <th></th>\n",
       "      <th>blood_group</th>\n",
       "      <th>total_count</th>\n",
       "    </tr>\n",
       "  </thead>\n",
       "  <tbody>\n",
       "    <tr>\n",
       "      <th>4</th>\n",
       "      <td>B+</td>\n",
       "      <td>19956</td>\n",
       "    </tr>\n",
       "    <tr>\n",
       "      <th>6</th>\n",
       "      <td>O+</td>\n",
       "      <td>19190</td>\n",
       "    </tr>\n",
       "    <tr>\n",
       "      <th>0</th>\n",
       "      <td>A+</td>\n",
       "      <td>14126</td>\n",
       "    </tr>\n",
       "    <tr>\n",
       "      <th>2</th>\n",
       "      <td>AB+</td>\n",
       "      <td>5884</td>\n",
       "    </tr>\n",
       "    <tr>\n",
       "      <th>7</th>\n",
       "      <td>O-</td>\n",
       "      <td>783</td>\n",
       "    </tr>\n",
       "    <tr>\n",
       "      <th>5</th>\n",
       "      <td>B-</td>\n",
       "      <td>619</td>\n",
       "    </tr>\n",
       "    <tr>\n",
       "      <th>1</th>\n",
       "      <td>A-</td>\n",
       "      <td>520</td>\n",
       "    </tr>\n",
       "    <tr>\n",
       "      <th>3</th>\n",
       "      <td>AB-</td>\n",
       "      <td>243</td>\n",
       "    </tr>\n",
       "  </tbody>\n",
       "</table>\n",
       "</div>"
      ],
      "text/plain": [
       "  blood_group  total_count\n",
       "4          B+        19956\n",
       "6          O+        19190\n",
       "0          A+        14126\n",
       "2         AB+         5884\n",
       "7          O-          783\n",
       "5          B-          619\n",
       "1          A-          520\n",
       "3         AB-          243"
      ]
     },
     "execution_count": 30,
     "metadata": {},
     "output_type": "execute_result"
    }
   ],
   "source": [
    "df_blood_group = df.groupby('blood_group').size().reset_index(name='total_count').sort_values(by='total_count', ascending= False)\n",
    "# x['blood_group'].value_counts(normalize=True).mul(100).round(1).astype(str) + '%'\n",
    "# x.blood_group.value_counts()\n",
    "# x['percent'] = (x['total_count'] / x['total_count'].sum()) * 100\n",
    "# # x.plot.bar('percent')\n",
    "df_blood_group"
   ]
  },
  {
   "cell_type": "code",
   "execution_count": 31,
   "id": "5783eb11-c8f4-4282-bb8f-2887f62ac1e1",
   "metadata": {},
   "outputs": [
    {
     "data": {
      "text/plain": [
       "[None,\n",
       " None,\n",
       " None,\n",
       " None,\n",
       " None,\n",
       " None,\n",
       " None,\n",
       " None,\n",
       " None,\n",
       " None,\n",
       " None,\n",
       " None,\n",
       " None,\n",
       " None,\n",
       " None,\n",
       " None]"
      ]
     },
     "execution_count": 31,
     "metadata": {},
     "output_type": "execute_result"
    },
    {
     "data": {
      "text/plain": [
       "Text(0.5, 1.0, 'Blood group vs Users')"
      ]
     },
     "execution_count": 31,
     "metadata": {},
     "output_type": "execute_result"
    },
    {
     "data": {
      "image/png": "[encoded data removed]",
      "text/plain": [
       "<Figure size 1152x720 with 1 Axes>"
      ]
     },
     "metadata": {},
     "output_type": "display_data"
    }
   ],
   "source": [
    "fig, ax = plt.subplots(figsize=(16, 10))\n",
    "values = df_blood_group['total_count'].values\n",
    "labels = df_blood_group['blood_group'].values\n",
    "\n",
    "wedges, texts, autotexts = ax.pie(values, labels=labels, autopct='%1.1f%%',\n",
    "        shadow=True, startangle=90)\n",
    "_ = ax.axis('equal')  # Equal aspect ratio ensures that pie is drawn as a circle.\n",
    "_ = ax.legend(wedges, labels, title=\"blood group\", loc=\"center left\", bbox_to_anchor=(1, 0, 0.5, 1))\n",
    "\n",
    "plt.setp(autotexts, size=10, weight=500)\n",
    "ax.set_title(\"Blood group vs Users\")\n",
    "image_path = os.path.join(image_base_path, 'blood_group.jpg')\n",
    "plt.savefig(image_path)\n",
    "plt.show()"
   ]
  },
  {
   "cell_type": "markdown",
   "id": "d750a3c7-db22-4f13-b100-198abc144555",
   "metadata": {},
   "source": [
    "### Married vs Unmarried"
   ]
  },
  {
   "cell_type": "code",
   "execution_count": 53,
   "id": "dc20ac25-0ff4-4ad0-802e-e59df6432ce9",
   "metadata": {},
   "outputs": [
    {
     "data": {
      "text/plain": [
       "Married      55412\n",
       "Single        7517\n",
       "Widowed         96\n",
       "Separated       51\n",
       "Name: marital_status, dtype: int64"
      ]
     },
     "execution_count": 53,
     "metadata": {},
     "output_type": "execute_result"
    }
   ],
   "source": [
    "# df.marital_status\n",
    "df.marital_status.value_counts()"
   ]
  },
  {
   "cell_type": "markdown",
   "id": "7477b362-bbf0-4873-a196-bb3da52313b6",
   "metadata": {},
   "source": [
    "### Mobile operator"
   ]
  },
  {
   "cell_type": "code",
   "execution_count": 32,
   "id": "952497e3-0e66-44ed-b290-f0053b0e025f",
   "metadata": {},
   "outputs": [],
   "source": [
    "# df.personal_mobile.value_countsdef map_operator_name(x):\n",
    "def map_operator_name(x):\n",
    "    x = str(x)\n",
    "    if x.startswith('017') | x.startswith('17') | x.startswith('০১৭') | x.startswith('১৭'):\n",
    "        return 'GP'\n",
    "    elif x.startswith('018') | x.startswith('18') | x.startswith('০১৮') | x.startswith('১৮'):\n",
    "        return 'Robi'\n",
    "    elif x.startswith('019') | x.startswith('19') | x.startswith('০১৯') | x.startswith('১৯'):\n",
    "        return 'BL'\n",
    "    elif x.startswith('016') | x.startswith('16') | x.startswith('০১৬') | x.startswith('১৬'):\n",
    "        return 'Airtel'\n",
    "    elif x.startswith('015') | x.startswith('15') | x.startswith('০১৫') | x.startswith('১৫'):\n",
    "        return 'Teletalk'\n",
    "    else:\n",
    "        return 'others'"
   ]
  },
  {
   "cell_type": "code",
   "execution_count": 82,
   "id": "b4767f8c-d2ee-486e-803f-85cb12c24757",
   "metadata": {},
   "outputs": [],
   "source": [
    "# df.personal_mobile.values\n"
   ]
  },
  {
   "cell_type": "code",
   "execution_count": 33,
   "id": "044c852c-629a-4027-a54b-b5e67add4c5f",
   "metadata": {},
   "outputs": [
    {
     "data": {
      "text/html": [
       "<div>\n",
       "<style scoped>\n",
       "    .dataframe tbody tr th:only-of-type {\n",
       "        vertical-align: middle;\n",
       "    }\n",
       "\n",
       "    .dataframe tbody tr th {\n",
       "        vertical-align: top;\n",
       "    }\n",
       "\n",
       "    .dataframe thead th {\n",
       "        text-align: right;\n",
       "    }\n",
       "</style>\n",
       "<table border=\"1\" class=\"dataframe\">\n",
       "  <thead>\n",
       "    <tr style=\"text-align: right;\">\n",
       "      <th></th>\n",
       "      <th>operator</th>\n",
       "      <th>counts</th>\n",
       "    </tr>\n",
       "  </thead>\n",
       "  <tbody>\n",
       "    <tr>\n",
       "      <th>2</th>\n",
       "      <td>GP</td>\n",
       "      <td>72857</td>\n",
       "    </tr>\n",
       "    <tr>\n",
       "      <th>1</th>\n",
       "      <td>BL</td>\n",
       "      <td>14615</td>\n",
       "    </tr>\n",
       "    <tr>\n",
       "      <th>3</th>\n",
       "      <td>Robi</td>\n",
       "      <td>9983</td>\n",
       "    </tr>\n",
       "    <tr>\n",
       "      <th>4</th>\n",
       "      <td>Teletalk</td>\n",
       "      <td>6326</td>\n",
       "    </tr>\n",
       "    <tr>\n",
       "      <th>0</th>\n",
       "      <td>Airtel</td>\n",
       "      <td>4722</td>\n",
       "    </tr>\n",
       "    <tr>\n",
       "      <th>5</th>\n",
       "      <td>others</td>\n",
       "      <td>1582</td>\n",
       "    </tr>\n",
       "  </tbody>\n",
       "</table>\n",
       "</div>"
      ],
      "text/plain": [
       "   operator  counts\n",
       "2        GP   72857\n",
       "1        BL   14615\n",
       "3      Robi    9983\n",
       "4  Teletalk    6326\n",
       "0    Airtel    4722\n",
       "5    others    1582"
      ]
     },
     "execution_count": 33,
     "metadata": {},
     "output_type": "execute_result"
    }
   ],
   "source": [
    "df_mobile = df[~df.personal_mobile.isnull()].copy(deep=True)\n",
    "df_mobile['operator'] = df.personal_mobile.str.strip()\n",
    "df_mobile['operator'] = df.personal_mobile.str.slice(stop=3)\n",
    "\n",
    "df_mobile['operator'] = df_mobile.operator.apply(map_operator_name)\n",
    "df_mobile = df_mobile.groupby('operator').size().reset_index(name='counts').sort_values(by='counts', ascending=False)\n",
    "df_mobile\n",
    "# df_mobile['operator'].value_counts(normalize=True).mul(100).round(1).astype(str) + '%'"
   ]
  },
  {
   "cell_type": "code",
   "execution_count": 96,
   "id": "93855484-b22e-4aea-8cbf-2dab14e4d889",
   "metadata": {},
   "outputs": [
    {
     "data": {
      "text/plain": [
       "[None, None, None, None, None, None, None, None, None, None, None, None]"
      ]
     },
     "execution_count": 96,
     "metadata": {},
     "output_type": "execute_result"
    },
    {
     "data": {
      "text/plain": [
       "Text(0.5, 1.0, 'Mobile operator vs Users')"
      ]
     },
     "execution_count": 96,
     "metadata": {},
     "output_type": "execute_result"
    },
    {
     "data": {
      "image/png": "[encoded data removed]",
      "text/plain": [
       "<Figure size 1152x720 with 1 Axes>"
      ]
     },
     "metadata": {},
     "output_type": "display_data"
    }
   ],
   "source": [
    "fig, ax = plt.subplots(figsize=(16, 10))\n",
    "values = df_mobile['counts'].values\n",
    "labels = df_mobile['operator'].values\n",
    "\n",
    "wedges, texts, autotexts = ax.pie(values, labels=labels, autopct='%1.1f%%',\n",
    "        shadow=True, startangle=90)\n",
    "_ = ax.axis('equal')  # Equal aspect ratio ensures that pie is drawn as a circle.\n",
    "_ = ax.legend(wedges, labels, title=\"Operator\", loc=\"center left\", bbox_to_anchor=(1, 0, 0.5, 1))\n",
    "\n",
    "plt.setp(autotexts, size=10, weight=500)\n",
    "ax.set_title(\"Mobile operator vs Users\")\n",
    "image_path = os.path.join(image_base_path, 'mobile_operator.jpg')\n",
    "plt.savefig(image_path)\n",
    "plt.show()"
   ]
  },
  {
   "cell_type": "markdown",
   "id": "36d5e7a3-b003-4ed4-9912-bf98a0ffe3f8",
   "metadata": {},
   "source": [
    "## Joining Month"
   ]
  },
  {
   "cell_type": "code",
   "execution_count": 68,
   "id": "a0d0118a-9493-41fa-b0ed-6576becee81e",
   "metadata": {},
   "outputs": [
    {
     "data": {
      "text/plain": [
       "Index(['id', 'name_eng', 'name_bng', 'father_name_eng', 'father_name_bng',\n",
       "       'mother_name_eng', 'mother_name_bng', 'date_of_birth', 'nid',\n",
       "       'nid_valid', 'bcn', 'ppn', 'gender', 'religion', 'blood_group',\n",
       "       'marital_status', 'personal_email', 'personal_mobile',\n",
       "       'alternative_mobile', 'is_cadre', 'employee_grade', 'employee_cadre_id',\n",
       "       'employee_batch_id', 'identity_no', 'appointment_memo_no',\n",
       "       'joining_date', 'service_rank_id', 'service_grade_id',\n",
       "       'service_ministry_id', 'service_office_id',\n",
       "       'current_office_ministry_id', 'current_office_layer_id',\n",
       "       'current_office_id', 'current_office_unit_id',\n",
       "       'current_office_joining_date', 'current_office_designation_id',\n",
       "       'current_office_address', 'e_sign', 'd_sign', 'image_file_name',\n",
       "       'status', 'default_sign', 'hard_signature', 'soft_signature', 'cert_id',\n",
       "       'cert_type', 'cert_provider', 'cert_serial', 'created_by',\n",
       "       'modified_by', 'created', 'modified', 'has_email'],\n",
       "      dtype='object')"
      ]
     },
     "execution_count": 68,
     "metadata": {},
     "output_type": "execute_result"
    }
   ],
   "source": [
    "df.columns"
   ]
  },
  {
   "cell_type": "code",
   "execution_count": null,
   "id": "a0459376-3c8a-40e1-91a6-354c50c750b1",
   "metadata": {},
   "outputs": [],
   "source": []
  },
  {
   "cell_type": "code",
   "execution_count": null,
   "id": "09a46274-3a46-4caf-a18d-e846bade2885",
   "metadata": {},
   "outputs": [],
   "source": []
  },
  {
   "cell_type": "code",
   "execution_count": null,
   "id": "4524297f-89c8-441d-bc84-72ef33727007",
   "metadata": {},
   "outputs": [],
   "source": []
  },
  {
   "cell_type": "code",
   "execution_count": null,
   "id": "3741338c-4f93-4eca-81ce-54057534e8c7",
   "metadata": {},
   "outputs": [],
   "source": []
  },
  {
   "cell_type": "code",
   "execution_count": null,
   "id": "132c96f3-00d5-444f-8834-1875c73a25f1",
   "metadata": {},
   "outputs": [],
   "source": []
  },
  {
   "cell_type": "code",
   "execution_count": 56,
   "id": "64e8e433-eedd-48cb-a86f-ea548c80af23",
   "metadata": {},
   "outputs": [
    {
     "data": {
      "text/plain": [
       "<AxesSubplot:xlabel='operator'>"
      ]
     },
     "execution_count": 56,
     "metadata": {},
     "output_type": "execute_result"
    },
    {
     "data": {
      "image/png": "[encoded data removed]",
      "text/plain": [
       "<Figure size 1152x720 with 1 Axes>"
      ]
     },
     "metadata": {
      "needs_background": "light"
     },
     "output_type": "display_data"
    }
   ],
   "source": [
    "x = df[~df.personal_mobile.isnull()].copy(deep=True)\n",
    "x['operator'] = df.personal_mobile.str.strip()\n",
    "x['operator'] = df.personal_mobile.str.slice(stop=3)\n",
    "\n",
    "x['operator'] = x.operator.apply(map_operator_name)\n",
    "x = pd.crosstab(index=x['operator'], columns=x['blood_group'])\n",
    "x.plot.bar(figsize=(16, 10))"
   ]
  },
  {
   "cell_type": "code",
   "execution_count": null,
   "id": "a03d8508-5a2a-419f-9094-97820a57d0ba",
   "metadata": {},
   "outputs": [],
   "source": []
  },
  {
   "cell_type": "code",
   "execution_count": null,
   "id": "09b662a6-e55c-4520-8b69-507ab9155e0c",
   "metadata": {},
   "outputs": [],
   "source": []
  },
  {
   "cell_type": "code",
   "execution_count": null,
   "id": "a65e2faf-bcf4-46c4-955f-36788945259f",
   "metadata": {},
   "outputs": [],
   "source": []
  }
 ],
 "metadata": {
  "kernelspec": {
   "display_name": "Python 3 (ipykernel)",
   "language": "python",
   "name": "python3"
  },
  "language_info": {
   "codemirror_mode": {
    "name": "ipython",
    "version": 3
   },
   "file_extension": ".py",
   "mimetype": "text/x-python",
   "name": "python",
   "nbconvert_exporter": "python",
   "pygments_lexer": "ipython3",
   "version": "3.8.10"
  }
 },
 "nbformat": 4,
 "nbformat_minor": 5
}
