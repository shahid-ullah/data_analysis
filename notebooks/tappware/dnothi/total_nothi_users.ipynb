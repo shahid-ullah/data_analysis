{
 "cells": [
  {
   "cell_type": "code",
   "execution_count": 26,
   "id": "aa38b76b-84db-4858-854a-5dc8c371c954",
   "metadata": {},
   "outputs": [],
   "source": [
    "# SELECT count(id) FROM users WHERE date(created) <= '2020-09-30';"
   ]
  },
  {
   "cell_type": "code",
   "execution_count": 4,
   "id": "d3c0a307-7e82-41ae-9c94-eaf535461fb3",
   "metadata": {},
   "outputs": [],
   "source": [
    "\n",
    "# import necessary library\n",
    "from IPython.core.interactiveshell import InteractiveShell\n",
    "InteractiveShell.ast_node_interactivity = \"all\"\n",
    "\n",
    "import pandas as pd\n",
    "import numpy as np\n",
    "import matplotlib.pyplot as plt\n",
    "pd.set_option('display.max_columns', None)"
   ]
  },
  {
   "cell_type": "code",
   "execution_count": 3,
   "id": "f9db5a9b-9018-44f0-80ee-e300c1a147b9",
   "metadata": {},
   "outputs": [
    {
     "data": {
      "text/plain": [
       "21"
      ]
     },
     "execution_count": 3,
     "metadata": {},
     "output_type": "execute_result"
    }
   ],
   "source": [
    "users_table_columns_dict = {\n",
    "    '1': 'id',\n",
    "    '2': 'username',\n",
    "    '3': 'password',\n",
    "    '4': 'user_alias',\n",
    "    '5': 'hash_change_password',\n",
    "    '6': 'user_role_id',\n",
    "    '7': 'is_admin',\n",
    "    '8': 'active',\n",
    "    '9': 'user_status',\n",
    "    '10': 'is_email_verified',\n",
    "    '11': 'email_verify_code',\n",
    "    '12': 'verification_date',\n",
    "    '13': 'ssn',\n",
    "    '14': 'force_password_change',\n",
    "    '15': 'last_password_change',\n",
    "    '16': 'created',\n",
    "    '17': 'modified',\n",
    "    '18': 'created_by',\n",
    "    '19': 'modified_by',\n",
    "    '20': 'photo',\n",
    "    '21': 'employee_record_id',\n",
    "}\n",
    "users_table_columns_list = list(users_table_columns_dict.values())\n",
    "users_table_columns = users_table_columns_list\n",
    "# for key in nisponno_records_table_columns_dict.keys():\n",
    "#     value = \n",
    "\n",
    "len(users_table_columns)"
   ]
  },
  {
   "cell_type": "code",
   "execution_count": 5,
   "id": "b1f9b5a7-35ad-4973-b112-b4a8e531ce84",
   "metadata": {},
   "outputs": [],
   "source": [
    "\n",
    "# check current dataframe column length and previous dataframe column length\n",
    "\n",
    "users_df = pd.read_csv('../Data/users_24_11_2021.csv')\n",
    "if users_df.shape[1] != len(users_table_columns):\n",
    "    print(f\"previous column length: {len(users_table_columns)}, current column_length {users_df.shape[1]}\")\n",
    "    raise ValueError('New columns added or removed from table')"
   ]
  },
  {
   "cell_type": "code",
   "execution_count": 6,
   "id": "07fd2987-7679-4a0a-bfc7-defe778e405b",
   "metadata": {},
   "outputs": [],
   "source": [
    "def load_users_df():\n",
    "    users_df = pd.read_csv('../Data/users_24_11_2021.csv', names=users_table_columns)\n",
    "    return users_df"
   ]
  },
  {
   "cell_type": "code",
   "execution_count": 7,
   "id": "9b61e941-395f-46f5-9115-3834c110e8a3",
   "metadata": {},
   "outputs": [
    {
     "name": "stderr",
     "output_type": "stream",
     "text": [
      "/tmp/ipykernel_19296/1213647803.py:1: DtypeWarning: Columns (1,4,8) have mixed types.Specify dtype option on import or set low_memory=False.\n",
      "  users_df = load_users_df()\n"
     ]
    },
    {
     "data": {
      "text/html": [
       "<div>\n",
       "<style scoped>\n",
       "    .dataframe tbody tr th:only-of-type {\n",
       "        vertical-align: middle;\n",
       "    }\n",
       "\n",
       "    .dataframe tbody tr th {\n",
       "        vertical-align: top;\n",
       "    }\n",
       "\n",
       "    .dataframe thead th {\n",
       "        text-align: right;\n",
       "    }\n",
       "</style>\n",
       "<table border=\"1\" class=\"dataframe\">\n",
       "  <thead>\n",
       "    <tr style=\"text-align: right;\">\n",
       "      <th></th>\n",
       "      <th>id</th>\n",
       "      <th>username</th>\n",
       "      <th>password</th>\n",
       "      <th>user_alias</th>\n",
       "      <th>hash_change_password</th>\n",
       "      <th>user_role_id</th>\n",
       "      <th>is_admin</th>\n",
       "      <th>active</th>\n",
       "      <th>user_status</th>\n",
       "      <th>is_email_verified</th>\n",
       "      <th>email_verify_code</th>\n",
       "      <th>verification_date</th>\n",
       "      <th>ssn</th>\n",
       "      <th>force_password_change</th>\n",
       "      <th>last_password_change</th>\n",
       "      <th>created</th>\n",
       "      <th>modified</th>\n",
       "      <th>created_by</th>\n",
       "      <th>modified_by</th>\n",
       "      <th>photo</th>\n",
       "      <th>employee_record_id</th>\n",
       "    </tr>\n",
       "  </thead>\n",
       "  <tbody>\n",
       "    <tr>\n",
       "      <th>0</th>\n",
       "      <td>1</td>\n",
       "      <td>superman</td>\n",
       "      <td>$2y$10$DgTkdt8bX1gNJOeO1PHzO.33k0tuLB7GuootzYv...</td>\n",
       "      <td>superman</td>\n",
       "      <td>NaN</td>\n",
       "      <td>1</td>\n",
       "      <td>0</td>\n",
       "      <td>1</td>\n",
       "      <td>registered</td>\n",
       "      <td>1.0</td>\n",
       "      <td>123</td>\n",
       "      <td>0000-00-00</td>\n",
       "      <td>123.0</td>\n",
       "      <td>1.0</td>\n",
       "      <td>2020-10-14 10:58:48</td>\n",
       "      <td>0000-00-00 00:00:00</td>\n",
       "      <td>2020-10-14 10:58:48</td>\n",
       "      <td>NaN</td>\n",
       "      <td>NaN</td>\n",
       "      <td>NaN</td>\n",
       "      <td>NaN</td>\n",
       "    </tr>\n",
       "    <tr>\n",
       "      <th>1</th>\n",
       "      <td>2</td>\n",
       "      <td>admin</td>\n",
       "      <td>$2y$10$vMlROpUDbCf8gdrBqGfpROUiT5Im97l9y1XOngB...</td>\n",
       "      <td>admin</td>\n",
       "      <td>NaN</td>\n",
       "      <td>2</td>\n",
       "      <td>0</td>\n",
       "      <td>1</td>\n",
       "      <td>NaN</td>\n",
       "      <td>0.0</td>\n",
       "      <td>NaN</td>\n",
       "      <td>0000-00-00</td>\n",
       "      <td>NaN</td>\n",
       "      <td>1.0</td>\n",
       "      <td>0000-00-00 00:00:00</td>\n",
       "      <td>0000-00-00 00:00:00</td>\n",
       "      <td>2018-04-19 10:30:42</td>\n",
       "      <td>NaN</td>\n",
       "      <td>NaN</td>\n",
       "      <td>NaN</td>\n",
       "      <td>NaN</td>\n",
       "    </tr>\n",
       "    <tr>\n",
       "      <th>2</th>\n",
       "      <td>48</td>\n",
       "      <td>200000000002</td>\n",
       "      <td>$2y$10$vMlROpUDbCf8gdrBqGfpROUiT5Im97l9y1XOngB...</td>\n",
       "      <td>200000000002</td>\n",
       "      <td>NaN</td>\n",
       "      <td>3</td>\n",
       "      <td>0</td>\n",
       "      <td>1</td>\n",
       "      <td>registered</td>\n",
       "      <td>1.0</td>\n",
       "      <td>123</td>\n",
       "      <td>0000-00-00</td>\n",
       "      <td>123.0</td>\n",
       "      <td>0.0</td>\n",
       "      <td>2016-02-06 13:19:58</td>\n",
       "      <td>0000-00-00 00:00:00</td>\n",
       "      <td>2016-02-06 13:19:58</td>\n",
       "      <td>NaN</td>\n",
       "      <td>NaN</td>\n",
       "      <td>NaN</td>\n",
       "      <td>30.0</td>\n",
       "    </tr>\n",
       "    <tr>\n",
       "      <th>3</th>\n",
       "      <td>49</td>\n",
       "      <td>200000000003</td>\n",
       "      <td>$2y$10$M14gp5AH90r4tz06nhkml.eggt8pcpx1Um3FNC9...</td>\n",
       "      <td>Raziul</td>\n",
       "      <td>NaN</td>\n",
       "      <td>3</td>\n",
       "      <td>0</td>\n",
       "      <td>1</td>\n",
       "      <td>registered</td>\n",
       "      <td>1.0</td>\n",
       "      <td>123</td>\n",
       "      <td>0000-00-00</td>\n",
       "      <td>123.0</td>\n",
       "      <td>0.0</td>\n",
       "      <td>2016-02-11 10:09:21</td>\n",
       "      <td>0000-00-00 00:00:00</td>\n",
       "      <td>2016-10-25 12:59:33</td>\n",
       "      <td>NaN</td>\n",
       "      <td>NaN</td>\n",
       "      <td>NaN</td>\n",
       "      <td>31.0</td>\n",
       "    </tr>\n",
       "    <tr>\n",
       "      <th>4</th>\n",
       "      <td>52</td>\n",
       "      <td>200000000004</td>\n",
       "      <td>$2y$10$vMlROpUDbCf8gdrBqGfpROUiT5Im97l9y1XOngB...</td>\n",
       "      <td>200000000004</td>\n",
       "      <td>NaN</td>\n",
       "      <td>3</td>\n",
       "      <td>0</td>\n",
       "      <td>1</td>\n",
       "      <td>registered</td>\n",
       "      <td>1.0</td>\n",
       "      <td>123</td>\n",
       "      <td>0000-00-00</td>\n",
       "      <td>123.0</td>\n",
       "      <td>0.0</td>\n",
       "      <td>2016-02-06 13:19:58</td>\n",
       "      <td>0000-00-00 00:00:00</td>\n",
       "      <td>2016-11-27 16:35:01</td>\n",
       "      <td>NaN</td>\n",
       "      <td>NaN</td>\n",
       "      <td>NaN</td>\n",
       "      <td>34.0</td>\n",
       "    </tr>\n",
       "  </tbody>\n",
       "</table>\n",
       "</div>"
      ],
      "text/plain": [
       "   id      username                                           password  \\\n",
       "0   1      superman  $2y$10$DgTkdt8bX1gNJOeO1PHzO.33k0tuLB7GuootzYv...   \n",
       "1   2         admin  $2y$10$vMlROpUDbCf8gdrBqGfpROUiT5Im97l9y1XOngB...   \n",
       "2  48  200000000002  $2y$10$vMlROpUDbCf8gdrBqGfpROUiT5Im97l9y1XOngB...   \n",
       "3  49  200000000003  $2y$10$M14gp5AH90r4tz06nhkml.eggt8pcpx1Um3FNC9...   \n",
       "4  52  200000000004  $2y$10$vMlROpUDbCf8gdrBqGfpROUiT5Im97l9y1XOngB...   \n",
       "\n",
       "     user_alias hash_change_password  user_role_id  is_admin  active  \\\n",
       "0      superman                  NaN             1         0       1   \n",
       "1         admin                  NaN             2         0       1   \n",
       "2  200000000002                  NaN             3         0       1   \n",
       "3        Raziul                  NaN             3         0       1   \n",
       "4  200000000004                  NaN             3         0       1   \n",
       "\n",
       "  user_status  is_email_verified email_verify_code verification_date    ssn  \\\n",
       "0  registered                1.0               123        0000-00-00  123.0   \n",
       "1         NaN                0.0               NaN        0000-00-00    NaN   \n",
       "2  registered                1.0               123        0000-00-00  123.0   \n",
       "3  registered                1.0               123        0000-00-00  123.0   \n",
       "4  registered                1.0               123        0000-00-00  123.0   \n",
       "\n",
       "   force_password_change last_password_change              created  \\\n",
       "0                    1.0  2020-10-14 10:58:48  0000-00-00 00:00:00   \n",
       "1                    1.0  0000-00-00 00:00:00  0000-00-00 00:00:00   \n",
       "2                    0.0  2016-02-06 13:19:58  0000-00-00 00:00:00   \n",
       "3                    0.0  2016-02-11 10:09:21  0000-00-00 00:00:00   \n",
       "4                    0.0  2016-02-06 13:19:58  0000-00-00 00:00:00   \n",
       "\n",
       "              modified  created_by  modified_by  photo  employee_record_id  \n",
       "0  2020-10-14 10:58:48         NaN          NaN    NaN                 NaN  \n",
       "1  2018-04-19 10:30:42         NaN          NaN    NaN                 NaN  \n",
       "2  2016-02-06 13:19:58         NaN          NaN    NaN                30.0  \n",
       "3  2016-10-25 12:59:33         NaN          NaN    NaN                31.0  \n",
       "4  2016-11-27 16:35:01         NaN          NaN    NaN                34.0  "
      ]
     },
     "execution_count": 7,
     "metadata": {},
     "output_type": "execute_result"
    }
   ],
   "source": [
    "users_df = load_users_df()\n",
    "users_df.head()"
   ]
  },
  {
   "cell_type": "code",
   "execution_count": 8,
   "id": "e4ce6fe2-5ea4-4094-841f-c596436083f5",
   "metadata": {},
   "outputs": [
    {
     "data": {
      "text/plain": [
       "('max_id', 1)"
      ]
     },
     "execution_count": 8,
     "metadata": {},
     "output_type": "execute_result"
    },
    {
     "data": {
      "text/plain": [
       "('min_id', 221029)"
      ]
     },
     "execution_count": 8,
     "metadata": {},
     "output_type": "execute_result"
    },
    {
     "data": {
      "text/plain": [
       "('table shape', (109138, 21))"
      ]
     },
     "execution_count": 8,
     "metadata": {},
     "output_type": "execute_result"
    }
   ],
   "source": [
    "# observing primary key\n",
    "\"max_id\", min(users_df.id.values)\n",
    "\"min_id\", max(users_df.id.values)\n",
    "\"table shape\", users_df.shape"
   ]
  },
  {
   "cell_type": "code",
   "execution_count": 10,
   "id": "d7ab0eb0-22ca-4859-9d50-0d8ad3292416",
   "metadata": {},
   "outputs": [],
   "source": [
    "# observing missing values, datatype, dataframe memory size\n",
    "# users_df.info()\n"
   ]
  },
  {
   "cell_type": "code",
   "execution_count": 12,
   "id": "e2c5cd65-445d-4848-95ea-d7e9e825e975",
   "metadata": {},
   "outputs": [],
   "source": [
    "# observing null value of every attribute\n",
    "# users_df.isnull().sum()"
   ]
  },
  {
   "cell_type": "code",
   "execution_count": 26,
   "id": "45c0367a-e612-40ae-abbc-09d5d568c646",
   "metadata": {},
   "outputs": [
    {
     "name": "stdout",
     "output_type": "stream",
     "text": [
      "Initial dataframe shape (109138, 21)\n"
     ]
    },
    {
     "name": "stderr",
     "output_type": "stream",
     "text": [
      "/tmp/ipykernel_19296/3576825856.py:6: DtypeWarning: Columns (1,4,8) have mixed types.Specify dtype option on import or set low_memory=False.\n",
      "  users_df = load_users_df()\n"
     ]
    },
    {
     "data": {
      "text/plain": [
       "(109138, 2)"
      ]
     },
     "execution_count": 26,
     "metadata": {},
     "output_type": "execute_result"
    }
   ],
   "source": [
    "# SELECT count(id) FROM users WHERE date(created) <= '2020-09-30';\n",
    "\n",
    "\n",
    "# Extract mandatory attributes for offices graph analysis\n",
    "users_df = None\n",
    "users_df = load_users_df()\n",
    "print(f\"Initial dataframe shape {users_df.shape}\")\n",
    "users_df = users_df[['id', 'created']] \n",
    "# remove null values\n",
    "# users_df = users_df.loc[users_df.created.notnull()]\n",
    "# print(f\"dataframe shape after removing created null value {users_df.shape}\")\n",
    "# add new column: cretead_new as datetime field from created column\n",
    "users_df['created'] = pd.to_datetime(users_df['created'], errors='coerce')\n",
    "# errors{‘ignore’, ‘raise’, ‘coerce’}, default ‘raise’\n",
    "    # If ‘raise’, then invalid parsing will raise an exception.\n",
    "    # If ‘coerce’, then invalid parsing will be set as NaT.\n",
    "    # If ‘ignore’, then invalid parsing will return the input.\n",
    "users_df.shape\n",
    "# again remove null values based on opeation_date field\n",
    "# users_df = users_df.loc[users_df.created.notnull()]\n",
    "# users_df.shape"
   ]
  },
  {
   "cell_type": "code",
   "execution_count": 62,
   "id": "f18ffc8f-9fa5-4b21-ae77-9032ad61cb2e",
   "metadata": {},
   "outputs": [
    {
     "name": "stdout",
     "output_type": "stream",
     "text": [
      "Initial dataframe shape (109138, 21)\n",
      "dataframe shape after removing created null value (109135, 21)\n"
     ]
    },
    {
     "name": "stderr",
     "output_type": "stream",
     "text": [
      "/tmp/ipykernel_19296/1565710733.py:1: DtypeWarning: Columns (1,4,8) have mixed types.Specify dtype option on import or set low_memory=False.\n",
      "  users_df = load_users_df()\n"
     ]
    }
   ],
   "source": [
    "users_df = load_users_df()\n",
    "print(f\"Initial dataframe shape {users_df.shape}\")\n",
    "users_df = users_df.loc[users_df.created.notnull()]\n",
    "print(f\"dataframe shape after removing created null value {users_df.shape}\")\n",
    "\n",
    "users_df['created'] = pd.to_datetime(users_df['created'], errors='coerce')\n",
    "# users_df.shape\n",
    "# add new column: cretead_new as datetime field from created column"
   ]
  },
  {
   "cell_type": "code",
   "execution_count": 66,
   "id": "3697885e-a893-4a86-8246-6b3fca9310d9",
   "metadata": {},
   "outputs": [
    {
     "data": {
      "text/plain": [
       "0                        NaT\n",
       "1                        NaT\n",
       "2                        NaT\n",
       "3                        NaT\n",
       "4                        NaT\n",
       "                 ...        \n",
       "109133   2021-11-23 10:53:51\n",
       "109134   2021-11-23 11:02:07\n",
       "109135   2021-11-23 10:59:19\n",
       "109136   2021-11-23 11:30:37\n",
       "109137   2021-11-23 12:08:37\n",
       "Name: created, Length: 109135, dtype: datetime64[ns]"
      ]
     },
     "execution_count": 66,
     "metadata": {},
     "output_type": "execute_result"
    }
   ],
   "source": [
    "\n",
    "# users_df.created.dt.date\n",
    "# pd.to_datetime(users_df['created'], errors='coerce')[:50]\n",
    "# users_df.fillna(method='bfill').created[:50]\n",
    "# users_df.created[:50]\n",
    "# users_df['created'] = \n",
    "# users_df.created.bfill()\n",
    "\n",
    "# users_df.created.dt.date\n",
    "users_df.created\n",
    "# users_df.created\n",
    "# users_df.created[:20]\n",
    "# users_df.shape\n"
   ]
  },
  {
   "cell_type": "code",
   "execution_count": 50,
   "id": "0ecbf30d-b967-4f30-95a9-fdd2a15a7e77",
   "metadata": {},
   "outputs": [
    {
     "data": {
      "text/plain": [
       "0         0000-00-00 00:00:00\n",
       "1         0000-00-00 00:00:00\n",
       "2         0000-00-00 00:00:00\n",
       "3         0000-00-00 00:00:00\n",
       "4         0000-00-00 00:00:00\n",
       "                 ...         \n",
       "109133    2021-11-23 10:53:51\n",
       "109134    2021-11-23 11:02:07\n",
       "109135    2021-11-23 10:59:19\n",
       "109136    2021-11-23 11:30:37\n",
       "109137    2021-11-23 12:08:37\n",
       "Name: created, Length: 109135, dtype: object"
      ]
     },
     "execution_count": 50,
     "metadata": {},
     "output_type": "execute_result"
    }
   ],
   "source": [
    "users_df.created"
   ]
  },
  {
   "cell_type": "code",
   "execution_count": 6,
   "id": "ebb0cfe9-27aa-4c08-8d2a-4f837210dfea",
   "metadata": {},
   "outputs": [
    {
     "data": {
      "text/plain": [
       "numpy.ndarray"
      ]
     },
     "execution_count": 6,
     "metadata": {},
     "output_type": "execute_result"
    },
    {
     "data": {
      "text/plain": [
       "numpy.ndarray"
      ]
     },
     "execution_count": 6,
     "metadata": {},
     "output_type": "execute_result"
    },
    {
     "data": {
      "text/plain": [
       "{'2015', '2016', '2017', '2018', '2019', '2020', '2021'}"
      ]
     },
     "execution_count": 6,
     "metadata": {},
     "output_type": "execute_result"
    },
    {
     "data": {
      "text/plain": [
       "{'1', '10', '11', '12', '2', '3', '4', '5', '6', '7', '8', '9'}"
      ]
     },
     "execution_count": 6,
     "metadata": {},
     "output_type": "execute_result"
    }
   ],
   "source": [
    "# Extract years and months from created column\n",
    "created_datetime_index = pd.DatetimeIndex(users_df['created'])\n",
    "years = created_datetime_index.year.values.astype(str)\n",
    "months = created_datetime_index.month.values.astype(str)\n",
    "type(years)\n",
    "type(months)\n",
    "set(years)\n",
    "set(months)"
   ]
  },
  {
   "cell_type": "code",
   "execution_count": 8,
   "id": "349db3ad-bfc6-4f1d-932e-adf18f03dd72",
   "metadata": {},
   "outputs": [
    {
     "data": {
      "text/plain": [
       "(109034, 4)"
      ]
     },
     "execution_count": 8,
     "metadata": {},
     "output_type": "execute_result"
    }
   ],
   "source": [
    "# type(years[0])\n",
    "users_df['year'] = years\n",
    "users_df['month'] = months\n",
    "users_df.shape"
   ]
  },
  {
   "cell_type": "code",
   "execution_count": 11,
   "id": "74908036-1286-42c9-9d87-c9566c1344b5",
   "metadata": {},
   "outputs": [],
   "source": [
    "# save the new dataframe as csv\n",
    "users_df.to_csv('../Cleaned_data/total_users.csv', index=False)"
   ]
  },
  {
   "cell_type": "code",
   "execution_count": 9,
   "id": "600ad3c6-3862-4004-99ba-682eb10d0de0",
   "metadata": {},
   "outputs": [
    {
     "data": {
      "text/plain": [
       "year\n",
       "2015       43\n",
       "2016    17160\n",
       "2017    26062\n",
       "2018    22806\n",
       "2019    21662\n",
       "2020    13240\n",
       "2021     8061\n",
       "Name: id, dtype: int64"
      ]
     },
     "execution_count": 9,
     "metadata": {},
     "output_type": "execute_result"
    }
   ],
   "source": [
    "# observe number of offices in every year \n",
    "nisponno_records_year_by = users_df.groupby('year')['id'].count()\n",
    "nisponno_records_year_by"
   ]
  },
  {
   "cell_type": "code",
   "execution_count": 13,
   "id": "8c5194b7-8adc-4819-80a1-9f592dbca436",
   "metadata": {},
   "outputs": [
    {
     "data": {
      "text/plain": [
       "(array([17160.,    43.,     0., 26062.,     0., 22806., 21662.,     0.,\n",
       "        13240.,  8061.]),\n",
       " array([0. , 0.6, 1.2, 1.8, 2.4, 3. , 3.6, 4.2, 4.8, 5.4, 6. ]),\n",
       " <BarContainer object of 10 artists>)"
      ]
     },
     "execution_count": 13,
     "metadata": {},
     "output_type": "execute_result"
    },
    {
     "data": {
      "text/plain": [
       "Text(0.5, 0, 'years')"
      ]
     },
     "execution_count": 13,
     "metadata": {},
     "output_type": "execute_result"
    },
    {
     "data": {
      "text/plain": [
       "Text(0, 0.5, '')"
      ]
     },
     "execution_count": 13,
     "metadata": {},
     "output_type": "execute_result"
    },
    {
     "data": {
      "text/plain": [
       "Text(0.5, 1.0, '')"
      ]
     },
     "execution_count": 13,
     "metadata": {},
     "output_type": "execute_result"
    },
    {
     "data": {
      "image/png": "[encoded data removed]",
      "text/plain": [
       "<Figure size 432x288 with 1 Axes>"
      ]
     },
     "metadata": {
      "needs_background": "light"
     },
     "output_type": "display_data"
    }
   ],
   "source": [
    "plt.hist(users_df['year'])\n",
    "\n",
    "\n",
    "plt.xlabel('years')\n",
    "plt.ylabel('')\n",
    "plt.title('')\n",
    "# plt.text(60, .025, r'$\\mu=100,\\ \\sigma=15$')\n",
    "# plt.xlim(40, 160)\n",
    "# plt.ylim(0, 0.03)\n",
    "plt.grid(True)\n",
    "plt.show()"
   ]
  },
  {
   "cell_type": "code",
   "execution_count": 10,
   "id": "dda60f23-1289-4645-abdd-a4089d849d9a",
   "metadata": {},
   "outputs": [],
   "source": [
    "month_map ={\n",
    "    '1': 'January',\n",
    "    '01': 'January',\n",
    "    '2': 'February',\n",
    "    '02': 'February',\n",
    "    '3': 'March',\n",
    "    '03': 'March',\n",
    "    '4': 'April',\n",
    "    '04': 'April',\n",
    "    '5': 'May',\n",
    "    '05': 'May',\n",
    "    '6': 'June',\n",
    "    '06': 'June',\n",
    "    '7': 'July',\n",
    "    '07': 'July',\n",
    "    '8': 'August',\n",
    "    '08': 'August',\n",
    "    '9': 'September',\n",
    "    '09': 'September',\n",
    "    '10': 'October',\n",
    "    '11': 'November',\n",
    "    '12': 'December',\n",
    "    'unknown': 'unknown',\n",
    "}"
   ]
  },
  {
   "cell_type": "code",
   "execution_count": 11,
   "id": "530f96d1-c1ef-4471-aeeb-24bf7b86ad9e",
   "metadata": {},
   "outputs": [],
   "source": [
    "# Generate general_series and drilldown series for bar graph\n",
    "# general series: year: number of officess\n",
    "users_df_year_by = users_df.groupby('year')\n",
    "def generate_general_series_drilldown_series(dataframe_year_by, general_series_name):\n",
    "    general_series = [\n",
    "        \n",
    "        {\n",
    "            'name': general_series_name,\n",
    "            'colorByPoint': True,\n",
    "            'data': [],\n",
    "        }\n",
    "    ]\n",
    "    drilldown_series = []\n",
    "\n",
    "    for year, year_frame in dataframe_year_by:\n",
    "        year = str(year)\n",
    "        # year, year_frame.shape\n",
    "        temporary_dict_general = {'name': year, 'y': year_frame.shape[0], 'drilldown': year}\n",
    "        general_series[0]['data'].append(temporary_dict_general)\n",
    "        temporary_dict_drilldown = {\n",
    "            'name': year,\n",
    "            'id': year,\n",
    "            'data': [],\n",
    "        }\n",
    "        month_group_by = year_frame.groupby('month')\n",
    "        for month, month_frame in month_group_by:\n",
    "          \n",
    "            # mg, mf.shape[0]\n",
    "            month = str(month)\n",
    "            month = month_map[month]\n",
    "\n",
    "            # lst = [month, month_frame.shape[0]]\n",
    "            lst = [month, month_frame['id'].count()]\n",
    "            temporary_dict_drilldown['data'].append(lst)\n",
    "        drilldown_series.append(temporary_dict_drilldown)\n",
    "    return general_series, drilldown_series\n",
    "\n",
    "general_series, drilldown_series = generate_general_series_drilldown_series(users_df_year_by, 'years')\n"
   ]
  },
  {
   "cell_type": "code",
   "execution_count": 12,
   "id": "7241436a-ff37-479e-b948-6c8648bb90c1",
   "metadata": {},
   "outputs": [
    {
     "data": {
      "text/plain": [
       "[{'name': 'years',\n",
       "  'colorByPoint': True,\n",
       "  'data': [{'name': '2015', 'y': 43, 'drilldown': '2015'},\n",
       "   {'name': '2016', 'y': 17160, 'drilldown': '2016'},\n",
       "   {'name': '2017', 'y': 26062, 'drilldown': '2017'},\n",
       "   {'name': '2018', 'y': 22806, 'drilldown': '2018'},\n",
       "   {'name': '2019', 'y': 21662, 'drilldown': '2019'},\n",
       "   {'name': '2020', 'y': 13240, 'drilldown': '2020'},\n",
       "   {'name': '2021', 'y': 8061, 'drilldown': '2021'}]}]"
      ]
     },
     "execution_count": 12,
     "metadata": {},
     "output_type": "execute_result"
    },
    {
     "data": {
      "text/plain": [
       "[{'name': '2015', 'id': '2015', 'data': [['December', 43]]},\n",
       " {'name': '2016',\n",
       "  'id': '2016',\n",
       "  'data': [['January', 82],\n",
       "   ['October', 1472],\n",
       "   ['November', 2174],\n",
       "   ['December', 1628],\n",
       "   ['February', 117],\n",
       "   ['March', 1070],\n",
       "   ['April', 411],\n",
       "   ['May', 1676],\n",
       "   ['June', 2512],\n",
       "   ['July', 1833],\n",
       "   ['August', 2531],\n",
       "   ['September', 1654]]},\n",
       " {'name': '2017',\n",
       "  'id': '2017',\n",
       "  'data': [['January', 2604],\n",
       "   ['October', 1753],\n",
       "   ['November', 1933],\n",
       "   ['December', 1272],\n",
       "   ['February', 2887],\n",
       "   ['March', 3343],\n",
       "   ['April', 2156],\n",
       "   ['May', 2278],\n",
       "   ['June', 1945],\n",
       "   ['July', 2081],\n",
       "   ['August', 2136],\n",
       "   ['September', 1674]]},\n",
       " {'name': '2018',\n",
       "  'id': '2018',\n",
       "  'data': [['January', 2055],\n",
       "   ['October', 1584],\n",
       "   ['November', 1654],\n",
       "   ['December', 1959],\n",
       "   ['February', 1832],\n",
       "   ['March', 2101],\n",
       "   ['April', 2422],\n",
       "   ['May', 2075],\n",
       "   ['June', 1317],\n",
       "   ['July', 2637],\n",
       "   ['August', 1814],\n",
       "   ['September', 1356]]},\n",
       " {'name': '2019',\n",
       "  'id': '2019',\n",
       "  'data': [['January', 2045],\n",
       "   ['October', 2167],\n",
       "   ['November', 1652],\n",
       "   ['December', 1532],\n",
       "   ['February', 1633],\n",
       "   ['March', 1519],\n",
       "   ['April', 1807],\n",
       "   ['May', 1654],\n",
       "   ['June', 1687],\n",
       "   ['July', 2027],\n",
       "   ['August', 1511],\n",
       "   ['September', 2428]]},\n",
       " {'name': '2020',\n",
       "  'id': '2020',\n",
       "  'data': [['January', 1987],\n",
       "   ['October', 1733],\n",
       "   ['November', 858],\n",
       "   ['December', 677],\n",
       "   ['February', 1713],\n",
       "   ['March', 1286],\n",
       "   ['April', 168],\n",
       "   ['May', 249],\n",
       "   ['June', 1064],\n",
       "   ['July', 982],\n",
       "   ['August', 1176],\n",
       "   ['September', 1347]]},\n",
       " {'name': '2021',\n",
       "  'id': '2021',\n",
       "  'data': [['January', 717],\n",
       "   ['October', 873],\n",
       "   ['November', 600],\n",
       "   ['February', 896],\n",
       "   ['March', 961],\n",
       "   ['April', 550],\n",
       "   ['May', 382],\n",
       "   ['June', 735],\n",
       "   ['July', 504],\n",
       "   ['August', 1006],\n",
       "   ['September', 837]]}]"
      ]
     },
     "execution_count": 12,
     "metadata": {},
     "output_type": "execute_result"
    }
   ],
   "source": [
    "general_series\n",
    "drilldown_series"
   ]
  },
  {
   "cell_type": "code",
   "execution_count": 14,
   "id": "52f44715-9c24-4623-8bd4-9eb84298b6be",
   "metadata": {},
   "outputs": [
    {
     "name": "stdout",
     "output_type": "stream",
     "text": [
      "{'2015': {'count': 43, 'month_map': {'December': 43}}, '2016': {'count': 17160, 'month_map': {'January': 82, 'February': 117, 'March': 1070, 'April': 411, 'May': 1676, 'June': 2512, 'July': 1833, 'August': 2531, 'September': 1654, 'October': 1472, 'November': 2174, 'December': 1628}}, '2017': {'count': 26062, 'month_map': {'January': 2604, 'February': 2887, 'March': 3343, 'April': 2156, 'May': 2278, 'June': 1945, 'July': 2081, 'August': 2136, 'September': 1674, 'October': 1753, 'November': 1933, 'December': 1272}}, '2018': {'count': 22806, 'month_map': {'January': 2055, 'February': 1832, 'March': 2101, 'April': 2422, 'May': 2075, 'June': 1317, 'July': 2637, 'August': 1814, 'September': 1356, 'October': 1584, 'November': 1654, 'December': 1959}}, '2019': {'count': 21662, 'month_map': {'January': 2045, 'February': 1633, 'March': 1519, 'April': 1807, 'May': 1654, 'June': 1687, 'July': 2027, 'August': 1511, 'September': 2428, 'October': 2167, 'November': 1652, 'December': 1532}}, '2020': {'count': 13240, 'month_map': {'January': 1987, 'February': 1713, 'March': 1286, 'April': 168, 'May': 249, 'June': 1064, 'July': 982, 'August': 1176, 'September': 1347, 'October': 1733, 'November': 858, 'December': 677}}, '2021': {'count': 8061, 'month_map': {'January': 717, 'February': 896, 'March': 961, 'April': 550, 'May': 382, 'June': 735, 'July': 504, 'August': 1006, 'September': 837, 'October': 873, 'November': 600}}}\n"
     ]
    }
   ],
   "source": [
    "month_list =['January', 'February', 'March', 'April', 'May', 'June', 'July', 'August','September', 'October','November', 'December', 'unknown' ]\n",
    "total_nothi_users = {}\n",
    "\n",
    "dataframe_year_by = users_df.groupby('year')\n",
    "\n",
    "for year, year_frame in dataframe_year_by:\n",
    "    year = str(year)\n",
    "    # year, year_frame.shape\n",
    "    \n",
    "    month_dict = {}\n",
    "\n",
    "    month_group_by = year_frame.groupby('month')\n",
    "    for month, month_frame in month_group_by:\n",
    "\n",
    "        # mg, mf.shape[0]\n",
    "        month = str(month)\n",
    "        month = month_map[month]\n",
    "        month_dict[month] = month_frame.shape[0]\n",
    "    month_dict = dict(sorted(month_dict.items(), key=lambda x:month_list.index(x[0])))\n",
    "    dic = {'count': year_frame.shape[0], 'month_map': month_dict}\n",
    "    total_nothi_users[year] = dic\n",
    "\n",
    "print(total_nothi_users)"
   ]
  },
  {
   "cell_type": "code",
   "execution_count": 15,
   "id": "fa026640-0f44-4fed-a81a-d0f2f44c2940",
   "metadata": {},
   "outputs": [
    {
     "name": "stdout",
     "output_type": "stream",
     "text": [
      "{'2015': {'count': 43, 'month_map': {'December': 43}}, '2016': {'count': 17160, 'month_map': {'January': 82, 'February': 117, 'March': 1070, 'April': 411, 'May': 1676, 'June': 2512, 'July': 1833, 'August': 2531, 'September': 1654, 'October': 1472, 'November': 2174, 'December': 1628}}, '2017': {'count': 26062, 'month_map': {'January': 2604, 'February': 2887, 'March': 3343, 'April': 2156, 'May': 2278, 'June': 1945, 'July': 2081, 'August': 2136, 'September': 1674, 'October': 1753, 'November': 1933, 'December': 1272}}, '2018': {'count': 22806, 'month_map': {'January': 2055, 'February': 1832, 'March': 2101, 'April': 2422, 'May': 2075, 'June': 1317, 'July': 2637, 'August': 1814, 'September': 1356, 'October': 1584, 'November': 1654, 'December': 1959}}, '2019': {'count': 21662, 'month_map': {'January': 2045, 'February': 1633, 'March': 1519, 'April': 1807, 'May': 1654, 'June': 1687, 'July': 2027, 'August': 1511, 'September': 2428, 'October': 2167, 'November': 1652, 'December': 1532}}, '2020': {'count': 13240, 'month_map': {'January': 1987, 'February': 1713, 'March': 1286, 'April': 168, 'May': 249, 'June': 1064, 'July': 982, 'August': 1176, 'September': 1347, 'October': 1733, 'November': 858, 'December': 677}}, '2021': {'count': 8061, 'month_map': {'January': 717, 'February': 896, 'March': 961, 'April': 550, 'May': 382, 'June': 735, 'July': 504, 'August': 1006, 'September': 837, 'October': 873, 'November': 600}}}\n"
     ]
    }
   ],
   "source": [
    "import json\n",
    "\n",
    "\n",
    "dictionary = total_nothi_users\n",
    "\n",
    "with open('../Cleaned_data/total_nothi_users.json', 'w', encoding='utf-8') as f:\n",
    "    json.dump(dictionary, f, ensure_ascii=False, indent=4)\n",
    "\n",
    "with open('../Cleaned_data/total_nothi_users.json', 'r', encoding='utf-8') as json_file:\n",
    "    data = json.load(json_file)\n",
    "    print(data)"
   ]
  }
 ],
 "metadata": {
  "kernelspec": {
   "display_name": "Python 3 (ipykernel)",
   "language": "python",
   "name": "python3"
  },
  "language_info": {
   "codemirror_mode": {
    "name": "ipython",
    "version": 3
   },
   "file_extension": ".py",
   "mimetype": "text/x-python",
   "name": "python",
   "nbconvert_exporter": "python",
   "pygments_lexer": "ipython3",
   "version": "3.8.10"
  }
 },
 "nbformat": 4,
 "nbformat_minor": 5
}
