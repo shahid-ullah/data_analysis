{
 "cells": [
  {
   "cell_type": "code",
   "execution_count": 1,
   "id": "706473d5-fa04-4e29-8f4a-205a56a2988e",
   "metadata": {},
   "outputs": [],
   "source": [
    "\n",
    "# import necessary library\n",
    "from IPython.core.interactiveshell import InteractiveShell\n",
    "from IPython.core.debugger import Pdb;\n",
    "InteractiveShell.ast_node_interactivity = \"all\"\n",
    "\n",
    "import pandas as pd\n",
    "import numpy as np\n",
    "import matplotlib.pyplot as plt\n",
    "pd.set_option('display.max_columns', None)"
   ]
  },
  {
   "cell_type": "code",
   "execution_count": 2,
   "id": "8510140f-6e84-4b5a-a1f2-21d0fbb32b2f",
   "metadata": {},
   "outputs": [
    {
     "data": {
      "text/plain": [
       "29"
      ]
     },
     "execution_count": 2,
     "metadata": {},
     "output_type": "execute_result"
    }
   ],
   "source": [
    "\n",
    "user_login_history_table_columns = [\n",
    "    'id',\n",
    "    'is_mobile',\n",
    "    'client_ip',\n",
    "    'device_name',\n",
    "    'browser_name',\n",
    "    'employee_record_id',\n",
    "    'ministry_id',\n",
    "    'layer_id',\n",
    "    'origin_id',\n",
    "    'office_id',\n",
    "    'office_unit_id',\n",
    "    'office_unit_organogram',\n",
    "    'office_name',\n",
    "    'unit_name',\n",
    "    'organogram_name',\n",
    "    'user_id',\n",
    "    'employee_name',\n",
    "    'mobile_number',\n",
    "    'employee_email',\n",
    "    'login_time',\n",
    "    'logout_time',\n",
    "    'network_information',\n",
    "    'created',\n",
    "    'modified',\n",
    "    'created_by',\n",
    "    'modified_by',\n",
    "    'token',\n",
    "    'device_type',\n",
    "    'device_id',\n",
    "]\n",
    "len(user_login_history_table_columns)"
   ]
  },
  {
   "cell_type": "code",
   "execution_count": 63,
   "id": "3072af1a-085a-46eb-92a0-9190f880cc7f",
   "metadata": {},
   "outputs": [],
   "source": [
    "required_columns = ['id', 'employee_record_id', 'created']\n",
    "def load_dataframe(nrows=1000000):\n",
    "    return pd.read_csv('../Data/user_login_history_24_11_2021.csv', names=user_login_history_table_columns, nrows=nrows)\n"
   ]
  },
  {
   "cell_type": "code",
   "execution_count": 64,
   "id": "1d791e70-e69f-4b17-abe7-e2f4105f944a",
   "metadata": {},
   "outputs": [],
   "source": [
    "dataframe = load_dataframe()"
   ]
  },
  {
   "cell_type": "code",
   "execution_count": 65,
   "id": "4c34e8c5-da63-4436-9434-e991e5e8aa6a",
   "metadata": {},
   "outputs": [
    {
     "data": {
      "text/plain": [
       "(1000000, 29)"
      ]
     },
     "execution_count": 65,
     "metadata": {},
     "output_type": "execute_result"
    }
   ],
   "source": [
    "dataframe.shape\n",
    "dataframe = dataframe[['id', 'employee_record_id', 'created']]"
   ]
  },
  {
   "cell_type": "code",
   "execution_count": 66,
   "id": "e0af802f-7b70-4391-934f-c3e7ca7e7ad7",
   "metadata": {},
   "outputs": [
    {
     "data": {
      "text/html": [
       "<div>\n",
       "<style scoped>\n",
       "    .dataframe tbody tr th:only-of-type {\n",
       "        vertical-align: middle;\n",
       "    }\n",
       "\n",
       "    .dataframe tbody tr th {\n",
       "        vertical-align: top;\n",
       "    }\n",
       "\n",
       "    .dataframe thead th {\n",
       "        text-align: right;\n",
       "    }\n",
       "</style>\n",
       "<table border=\"1\" class=\"dataframe\">\n",
       "  <thead>\n",
       "    <tr style=\"text-align: right;\">\n",
       "      <th></th>\n",
       "      <th>id</th>\n",
       "      <th>employee_record_id</th>\n",
       "      <th>created</th>\n",
       "    </tr>\n",
       "  </thead>\n",
       "  <tbody>\n",
       "    <tr>\n",
       "      <th>0</th>\n",
       "      <td>2</td>\n",
       "      <td>314312</td>\n",
       "      <td>2021-09-02 08:31:37</td>\n",
       "    </tr>\n",
       "    <tr>\n",
       "      <th>1</th>\n",
       "      <td>4</td>\n",
       "      <td>183969</td>\n",
       "      <td>2021-09-02 08:31:37</td>\n",
       "    </tr>\n",
       "    <tr>\n",
       "      <th>2</th>\n",
       "      <td>6</td>\n",
       "      <td>77697</td>\n",
       "      <td>2021-09-02 08:30:56</td>\n",
       "    </tr>\n",
       "    <tr>\n",
       "      <th>3</th>\n",
       "      <td>10</td>\n",
       "      <td>104730</td>\n",
       "      <td>2021-09-02 08:27:47</td>\n",
       "    </tr>\n",
       "    <tr>\n",
       "      <th>4</th>\n",
       "      <td>14</td>\n",
       "      <td>205981</td>\n",
       "      <td>2021-09-02 08:31:39</td>\n",
       "    </tr>\n",
       "  </tbody>\n",
       "</table>\n",
       "</div>"
      ],
      "text/plain": [
       "   id  employee_record_id              created\n",
       "0   2              314312  2021-09-02 08:31:37\n",
       "1   4              183969  2021-09-02 08:31:37\n",
       "2   6               77697  2021-09-02 08:30:56\n",
       "3  10              104730  2021-09-02 08:27:47\n",
       "4  14              205981  2021-09-02 08:31:39"
      ]
     },
     "execution_count": 66,
     "metadata": {},
     "output_type": "execute_result"
    },
    {
     "data": {
      "text/plain": [
       "(1000000, 3)"
      ]
     },
     "execution_count": 66,
     "metadata": {},
     "output_type": "execute_result"
    },
    {
     "data": {
      "text/plain": [
       "519"
      ]
     },
     "execution_count": 66,
     "metadata": {},
     "output_type": "execute_result"
    }
   ],
   "source": [
    "# dataframe.employee_record_id.count()\n",
    "# len(dataframe.employee_record_id.unique())\n",
    "# dataframe.employee_record_id.value_counts()[:10]\n",
    "dataframe.head()\n",
    "dataframe.shape\n",
    "dataframe.created.isnull().sum()"
   ]
  },
  {
   "cell_type": "code",
   "execution_count": 67,
   "id": "c5054c31-eaaa-4375-9a31-102e158626cf",
   "metadata": {},
   "outputs": [
    {
     "data": {
      "text/plain": [
       "(1000000, 3)"
      ]
     },
     "execution_count": 67,
     "metadata": {},
     "output_type": "execute_result"
    },
    {
     "data": {
      "text/plain": [
       "0"
      ]
     },
     "execution_count": 67,
     "metadata": {},
     "output_type": "execute_result"
    }
   ],
   "source": [
    "# dataframe[dataframe.employee_record_id == 234460].head()\n",
    "\n",
    "# dataframe[dataframe.employee_record_id == 234460].tail()\n",
    "# # dataframe.created.dt.date\n",
    "# dataframe.created.dt.date\n",
    "dataframe['created'] = pd.to_datetime(dataframe['created'], errors='coerce')\n",
    "dataframe['created'] = dataframe.created.fillna(method='bfill')\n",
    "\n",
    "groupby_date = dataframe.groupby(dataframe.created.dt.date)\n",
    "\n",
    "# for date, frame in groupby_date:\n",
    "#   frame.shape[0]\n",
    "dataframe.shape\n",
    "dataframe.created.isnull().sum()"
   ]
  },
  {
   "cell_type": "code",
   "execution_count": 68,
   "id": "5343dc7a-7740-4b55-8b23-192d43de6a0a",
   "metadata": {},
   "outputs": [
    {
     "data": {
      "text/plain": [
       "38586"
      ]
     },
     "execution_count": 68,
     "metadata": {},
     "output_type": "execute_result"
    }
   ],
   "source": [
    "dataframe.employee_record_id.nunique()"
   ]
  },
  {
   "cell_type": "code",
   "execution_count": 89,
   "id": "896768b1-659f-460b-a8af-2d15956648f2",
   "metadata": {},
   "outputs": [],
   "source": [
    "# len(set(dataframe.employee_record_id.values))\n",
    "# dic = {}\n",
    "\n",
    "# date is unique date in the whole dataframe\n",
    "\n",
    "dataframe_object_list = []\n",
    "\n",
    "global_dic  = []\n",
    "for date, frame in groupby_date:\n",
    "    # dic = {}\n",
    "    employee_ids = dict()\n",
    "    inner_list = []\n",
    "    \n",
    "    year = date.year\n",
    "    month = date.month\n",
    "    day = date.day\n",
    "    \n",
    "    count_or_sum = frame.employee_record_id.nunique()\n",
    "    \n",
    "  \n",
    "    for id in frame.employee_record_id.values:\n",
    "        var = employee_ids.setdefault(id, 1)\n",
    "        \n",
    "    inner_list.append(year)\n",
    "    inner_list.append(month)\n",
    "    inner_list.append(day)\n",
    "    inner_list.append(count_or_sum)\n",
    "    inner_list.append(employee_ids)\n",
    "    \n",
    "    dataframe_object_list.append(inner_list)\n",
    "    "
   ]
  },
  {
   "cell_type": "code",
   "execution_count": 45,
   "id": "92da2e46-8b8a-4591-a8d5-482ffe0b7f4e",
   "metadata": {},
   "outputs": [],
   "source": [
    "# dataframe_object_list\n",
    "\n"
   ]
  },
  {
   "cell_type": "code",
   "execution_count": 95,
   "id": "06e0ff30-6f15-4141-9823-8dfc7ba6738a",
   "metadata": {},
   "outputs": [],
   "source": [
    "new_df = pd.DataFrame(dataframe_object_list, columns=['year', 'month', 'day', 'count_or_sum', 'employee_ids'])"
   ]
  },
  {
   "cell_type": "code",
   "execution_count": 96,
   "id": "e677799c-c834-426e-b21e-9487f80ee9c4",
   "metadata": {},
   "outputs": [
    {
     "data": {
      "text/html": [
       "<div>\n",
       "<style scoped>\n",
       "    .dataframe tbody tr th:only-of-type {\n",
       "        vertical-align: middle;\n",
       "    }\n",
       "\n",
       "    .dataframe tbody tr th {\n",
       "        vertical-align: top;\n",
       "    }\n",
       "\n",
       "    .dataframe thead th {\n",
       "        text-align: right;\n",
       "    }\n",
       "</style>\n",
       "<table border=\"1\" class=\"dataframe\">\n",
       "  <thead>\n",
       "    <tr style=\"text-align: right;\">\n",
       "      <th></th>\n",
       "      <th>year</th>\n",
       "      <th>month</th>\n",
       "      <th>day</th>\n",
       "      <th>count_or_sum</th>\n",
       "      <th>employee_ids</th>\n",
       "    </tr>\n",
       "  </thead>\n",
       "  <tbody>\n",
       "    <tr>\n",
       "      <th>0</th>\n",
       "      <td>2021</td>\n",
       "      <td>9</td>\n",
       "      <td>2</td>\n",
       "      <td>21489</td>\n",
       "      <td>{314312: 1, 183969: 1, 77697: 1, 104730: 1, 20...</td>\n",
       "    </tr>\n",
       "    <tr>\n",
       "      <th>1</th>\n",
       "      <td>2021</td>\n",
       "      <td>9</td>\n",
       "      <td>3</td>\n",
       "      <td>6489</td>\n",
       "      <td>{226961: 1, 110398: 1, 289860: 1, 245105: 1, 2...</td>\n",
       "    </tr>\n",
       "    <tr>\n",
       "      <th>2</th>\n",
       "      <td>2021</td>\n",
       "      <td>9</td>\n",
       "      <td>4</td>\n",
       "      <td>8682</td>\n",
       "      <td>{285699: 1, 330561: 1, 77666: 1, 220924: 1, 10...</td>\n",
       "    </tr>\n",
       "    <tr>\n",
       "      <th>3</th>\n",
       "      <td>2021</td>\n",
       "      <td>9</td>\n",
       "      <td>5</td>\n",
       "      <td>22151</td>\n",
       "      <td>{109844: 1, 248721: 1, 218937: 1, 262499: 1, 9...</td>\n",
       "    </tr>\n",
       "    <tr>\n",
       "      <th>4</th>\n",
       "      <td>2021</td>\n",
       "      <td>9</td>\n",
       "      <td>6</td>\n",
       "      <td>21885</td>\n",
       "      <td>{201726: 1, 207799: 1, 232163: 1, 98760: 1, 22...</td>\n",
       "    </tr>\n",
       "    <tr>\n",
       "      <th>5</th>\n",
       "      <td>2021</td>\n",
       "      <td>9</td>\n",
       "      <td>7</td>\n",
       "      <td>21800</td>\n",
       "      <td>{110797: 1, 187541: 1, 99153: 1, 109897: 1, 26...</td>\n",
       "    </tr>\n",
       "    <tr>\n",
       "      <th>6</th>\n",
       "      <td>2021</td>\n",
       "      <td>9</td>\n",
       "      <td>8</td>\n",
       "      <td>21555</td>\n",
       "      <td>{304971: 1, 204788: 1, 107319: 1, 105501: 1, 1...</td>\n",
       "    </tr>\n",
       "    <tr>\n",
       "      <th>7</th>\n",
       "      <td>2021</td>\n",
       "      <td>9</td>\n",
       "      <td>9</td>\n",
       "      <td>21148</td>\n",
       "      <td>{294421: 1, 310386: 1, 240183: 1, 112407: 1, 8...</td>\n",
       "    </tr>\n",
       "    <tr>\n",
       "      <th>8</th>\n",
       "      <td>2021</td>\n",
       "      <td>9</td>\n",
       "      <td>10</td>\n",
       "      <td>6358</td>\n",
       "      <td>{87300: 1, 92594: 1, 208755: 1, 305912: 1, 284...</td>\n",
       "    </tr>\n",
       "    <tr>\n",
       "      <th>9</th>\n",
       "      <td>2021</td>\n",
       "      <td>9</td>\n",
       "      <td>11</td>\n",
       "      <td>8198</td>\n",
       "      <td>{274112: 1, 217975: 1, 285086: 1, 81838: 1, 20...</td>\n",
       "    </tr>\n",
       "    <tr>\n",
       "      <th>10</th>\n",
       "      <td>2021</td>\n",
       "      <td>9</td>\n",
       "      <td>12</td>\n",
       "      <td>21814</td>\n",
       "      <td>{81178: 1, 275070: 1, 217023: 1, 187217: 1, 19...</td>\n",
       "    </tr>\n",
       "    <tr>\n",
       "      <th>11</th>\n",
       "      <td>2021</td>\n",
       "      <td>9</td>\n",
       "      <td>13</td>\n",
       "      <td>21922</td>\n",
       "      <td>{289630: 1, 208039: 1, 80042: 1, 204896: 1, 32...</td>\n",
       "    </tr>\n",
       "    <tr>\n",
       "      <th>12</th>\n",
       "      <td>2021</td>\n",
       "      <td>9</td>\n",
       "      <td>14</td>\n",
       "      <td>21732</td>\n",
       "      <td>{112229: 1, 81726: 1, 265796: 1, 102180: 1, 18...</td>\n",
       "    </tr>\n",
       "    <tr>\n",
       "      <th>13</th>\n",
       "      <td>2021</td>\n",
       "      <td>9</td>\n",
       "      <td>15</td>\n",
       "      <td>21827</td>\n",
       "      <td>{203580: 1, 87130: 1, 98901: 1, 108129: 1, 181...</td>\n",
       "    </tr>\n",
       "    <tr>\n",
       "      <th>14</th>\n",
       "      <td>2021</td>\n",
       "      <td>9</td>\n",
       "      <td>16</td>\n",
       "      <td>20840</td>\n",
       "      <td>{274935: 1, 115630: 1, 214389: 1, 268236: 1, 2...</td>\n",
       "    </tr>\n",
       "    <tr>\n",
       "      <th>15</th>\n",
       "      <td>2021</td>\n",
       "      <td>9</td>\n",
       "      <td>17</td>\n",
       "      <td>2379</td>\n",
       "      <td>{110856: 1, 109303: 1, 276548: 1, 295066: 1, 2...</td>\n",
       "    </tr>\n",
       "  </tbody>\n",
       "</table>\n",
       "</div>"
      ],
      "text/plain": [
       "    year  month  day  count_or_sum  \\\n",
       "0   2021      9    2         21489   \n",
       "1   2021      9    3          6489   \n",
       "2   2021      9    4          8682   \n",
       "3   2021      9    5         22151   \n",
       "4   2021      9    6         21885   \n",
       "5   2021      9    7         21800   \n",
       "6   2021      9    8         21555   \n",
       "7   2021      9    9         21148   \n",
       "8   2021      9   10          6358   \n",
       "9   2021      9   11          8198   \n",
       "10  2021      9   12         21814   \n",
       "11  2021      9   13         21922   \n",
       "12  2021      9   14         21732   \n",
       "13  2021      9   15         21827   \n",
       "14  2021      9   16         20840   \n",
       "15  2021      9   17          2379   \n",
       "\n",
       "                                         employee_ids  \n",
       "0   {314312: 1, 183969: 1, 77697: 1, 104730: 1, 20...  \n",
       "1   {226961: 1, 110398: 1, 289860: 1, 245105: 1, 2...  \n",
       "2   {285699: 1, 330561: 1, 77666: 1, 220924: 1, 10...  \n",
       "3   {109844: 1, 248721: 1, 218937: 1, 262499: 1, 9...  \n",
       "4   {201726: 1, 207799: 1, 232163: 1, 98760: 1, 22...  \n",
       "5   {110797: 1, 187541: 1, 99153: 1, 109897: 1, 26...  \n",
       "6   {304971: 1, 204788: 1, 107319: 1, 105501: 1, 1...  \n",
       "7   {294421: 1, 310386: 1, 240183: 1, 112407: 1, 8...  \n",
       "8   {87300: 1, 92594: 1, 208755: 1, 305912: 1, 284...  \n",
       "9   {274112: 1, 217975: 1, 285086: 1, 81838: 1, 20...  \n",
       "10  {81178: 1, 275070: 1, 217023: 1, 187217: 1, 19...  \n",
       "11  {289630: 1, 208039: 1, 80042: 1, 204896: 1, 32...  \n",
       "12  {112229: 1, 81726: 1, 265796: 1, 102180: 1, 18...  \n",
       "13  {203580: 1, 87130: 1, 98901: 1, 108129: 1, 181...  \n",
       "14  {274935: 1, 115630: 1, 214389: 1, 268236: 1, 2...  \n",
       "15  {110856: 1, 109303: 1, 276548: 1, 295066: 1, 2...  "
      ]
     },
     "execution_count": 96,
     "metadata": {},
     "output_type": "execute_result"
    }
   ],
   "source": [
    "new_df"
   ]
  },
  {
   "cell_type": "code",
   "execution_count": 93,
   "id": "7f5bf676-7505-4569-9efe-19ad92b49028",
   "metadata": {},
   "outputs": [],
   "source": [
    "# for count, ids in zip(new_df.count_or_sum.values, new_df.employee_ids.values):\n",
    "#     count, len(ids)\n",
    "#     if count != len(ids):\n",
    "#         print('mismatch')\n",
    "#     else:\n",
    "#         print('same')\n",
    "YEAR_MAP = {}\n",
    "MONTH_MAP = {}\n",
    "DAY_MAP = {}\n",
    "\n",
    "for year, year_frame in new_df.groupby('year'):\n",
    "    year_set = set()\n",
    "    for st in year_frame['employee_ids'].values:\n",
    "        year_set.update(st)\n",
    "        \n",
    "    YEAR_MAP[year] = len(year_set)\n",
    "    \n",
    "    MONTH_MAP[year] = {}\n",
    "    DAY_MAP[year] = {}\n",
    "    \n",
    "    month_group_by = year_frame.groupby('month')\n",
    "    \n",
    "    for month, month_frame in month_group_by:\n",
    "        month_set = set()\n",
    "        for st in month_frame['employee_ids'].values:\n",
    "            month_set.update(st)\n",
    "        MONTH_MAP[year][month] = len(month_set)\n",
    "        \n",
    "        DAY_MAP[year][month] = {}\n",
    "        \n",
    "        day_group_by = month_frame.groupby('day')\n",
    "        for day, day_frame in day_group_by:\n",
    "            DAY_MAP[year][month][day] = day_frame['count_or_sum'].sum()\n",
    "\n",
    "\n",
    "        \n",
    "\n",
    "\n",
    "    "
   ]
  },
  {
   "cell_type": "code",
   "execution_count": 94,
   "id": "23dc924a-af0a-4ea8-8ad3-9944ac895188",
   "metadata": {},
   "outputs": [
    {
     "data": {
      "text/plain": [
       "{2021: 38586}"
      ]
     },
     "execution_count": 94,
     "metadata": {},
     "output_type": "execute_result"
    },
    {
     "data": {
      "text/plain": [
       "{2021: {9: 38586}}"
      ]
     },
     "execution_count": 94,
     "metadata": {},
     "output_type": "execute_result"
    },
    {
     "data": {
      "text/plain": [
       "{2021: {9: {2: 21489,\n",
       "   3: 6489,\n",
       "   4: 8682,\n",
       "   5: 22151,\n",
       "   6: 21885,\n",
       "   7: 21800,\n",
       "   8: 21555,\n",
       "   9: 21148,\n",
       "   10: 6358,\n",
       "   11: 8198,\n",
       "   12: 21814,\n",
       "   13: 21922,\n",
       "   14: 21732,\n",
       "   15: 21827,\n",
       "   16: 20840,\n",
       "   17: 2379}}}"
      ]
     },
     "execution_count": 94,
     "metadata": {},
     "output_type": "execute_result"
    }
   ],
   "source": [
    "YEAR_MAP\n",
    "MONTH_MAP\n",
    "DAY_MAP"
   ]
  }
 ],
 "metadata": {
  "kernelspec": {
   "display_name": "Python 3 (ipykernel)",
   "language": "python",
   "name": "python3"
  },
  "language_info": {
   "codemirror_mode": {
    "name": "ipython",
    "version": 3
   },
   "file_extension": ".py",
   "mimetype": "text/x-python",
   "name": "python",
   "nbconvert_exporter": "python",
   "pygments_lexer": "ipython3",
   "version": "3.8.10"
  }
 },
 "nbformat": 4,
 "nbformat_minor": 5
}
