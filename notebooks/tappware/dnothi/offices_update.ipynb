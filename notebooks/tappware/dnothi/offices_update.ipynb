{
 "cells": [
  {
   "cell_type": "markdown",
   "id": "115164a1-1948-4604-aaee-6e5d3891180a",
   "metadata": {},
   "source": [
    "### SELECT count(id) FROM offices WHERE date(created) <= '2020-09-30' AND active_status =1;\n",
    "\n",
    "- Get all offices in year based"
   ]
  },
  {
   "cell_type": "code",
   "execution_count": null,
   "id": "37596049-beb5-4430-823a-aad8386db711",
   "metadata": {},
   "outputs": [],
   "source": [
    "# import necessary library\n",
    "from IPython.core.interactiveshell import InteractiveShell\n",
    "InteractiveShell.ast_node_interactivity = \"all\"\n",
    "\n",
    "import pandas as pd\n",
    "import numpy as np\n",
    "import matplotlib.pyplot as plt\n",
    "pd.set_option('display.max_columns', None)"
   ]
  },
  {
   "cell_type": "code",
   "execution_count": null,
   "id": "ecda6042-ebf1-4200-8b6f-e432f6dc2f7d",
   "metadata": {},
   "outputs": [],
   "source": []
  },
  {
   "cell_type": "code",
   "execution_count": null,
   "id": "3ba71965-655c-4492-b927-c20178362aeb",
   "metadata": {},
   "outputs": [],
   "source": [
    "# columns / offices table attributes \n",
    "office_table_attribute_names = [\n",
    "    'id',\n",
    "    'office_ministry_id',\n",
    "    'office_layer_id',\n",
    "    'custom_layer_id',\n",
    "    'office_origin_id',\n",
    "    'office_name_eng',\n",
    "    'office_name_bng',\n",
    "    'geo_division_id',\n",
    "    'geo_district_id',\n",
    "    'geo_upazila_id',\n",
    "    'geo_union_id',\n",
    "    'office_address',\n",
    "    'digital_nothi_code',\n",
    "    'referece_code',\n",
    "    'office_code',\n",
    "    'office_phone',\n",
    "    'office_mobile',\n",
    "    'office_fax',\n",
    "    'office_email',\n",
    "    'office_web',\n",
    "    'parent_office_id',\n",
    "    'active_status',\n",
    "    'unit_organogrm_edit_option',\n",
    "    'unit_organogram_edit_option_status_updated_at',\n",
    "    'created_by',\n",
    "    'modified_by',\n",
    "    'created',\n",
    "    'modified'\n",
    "]"
   ]
  },
  {
   "cell_type": "markdown",
   "id": "7bbefa30-5b6b-454f-8a72-d614a5cc78eb",
   "metadata": {},
   "source": [
    "### Check column length consistency"
   ]
  },
  {
   "cell_type": "code",
   "execution_count": 29,
   "id": "1a3f3dea-6c7e-425c-a2f5-a4dbeef91fcf",
   "metadata": {},
   "outputs": [],
   "source": [
    "offices_df = pd.read_csv('./Data/offices.csv')\n",
    "if len(office_attribute_names) != offices_df.shape[1]:\n",
    "    raise ValueError('office table attribute added or removed')"
   ]
  },
  {
   "cell_type": "code",
   "execution_count": null,
   "id": "e1b58ad9-0319-4169-96df-80b3b4c98051",
   "metadata": {},
   "outputs": [],
   "source": []
  },
  {
   "cell_type": "code",
   "execution_count": 34,
   "id": "7c6abced-ffd4-463e-bd88-ae5f7f9979c6",
   "metadata": {},
   "outputs": [],
   "source": [
    "def load_offices_df():\n",
    "    offices_df = pd.read_csv('./Data/offices.csv', names=office_table_attribute_names)\n",
    "    return offices_df"
   ]
  },
  {
   "cell_type": "code",
   "execution_count": 35,
   "id": "d353876f-45cc-41a4-9676-67cf40174a5c",
   "metadata": {},
   "outputs": [
    {
     "data": {
      "text/html": [
       "<div>\n",
       "<style scoped>\n",
       "    .dataframe tbody tr th:only-of-type {\n",
       "        vertical-align: middle;\n",
       "    }\n",
       "\n",
       "    .dataframe tbody tr th {\n",
       "        vertical-align: top;\n",
       "    }\n",
       "\n",
       "    .dataframe thead th {\n",
       "        text-align: right;\n",
       "    }\n",
       "</style>\n",
       "<table border=\"1\" class=\"dataframe\">\n",
       "  <thead>\n",
       "    <tr style=\"text-align: right;\">\n",
       "      <th></th>\n",
       "      <th>id</th>\n",
       "      <th>office_ministry_id</th>\n",
       "      <th>office_layer_id</th>\n",
       "      <th>custom_layer_id</th>\n",
       "      <th>office_origin_id</th>\n",
       "      <th>office_name_eng</th>\n",
       "      <th>office_name_bng</th>\n",
       "      <th>geo_division_id</th>\n",
       "      <th>geo_district_id</th>\n",
       "      <th>geo_upazila_id</th>\n",
       "      <th>geo_union_id</th>\n",
       "      <th>office_address</th>\n",
       "      <th>digital_nothi_code</th>\n",
       "      <th>referece_code</th>\n",
       "      <th>office_code</th>\n",
       "      <th>office_phone</th>\n",
       "      <th>office_mobile</th>\n",
       "      <th>office_fax</th>\n",
       "      <th>office_email</th>\n",
       "      <th>office_web</th>\n",
       "      <th>parent_office_id</th>\n",
       "      <th>active_status</th>\n",
       "      <th>unit_organogrm_edit_option</th>\n",
       "      <th>unit_organogram_edit_option_status_updated_at</th>\n",
       "      <th>created_by</th>\n",
       "      <th>modified_by</th>\n",
       "      <th>created</th>\n",
       "      <th>modified</th>\n",
       "    </tr>\n",
       "  </thead>\n",
       "  <tbody>\n",
       "    <tr>\n",
       "      <th>0</th>\n",
       "      <td>3</td>\n",
       "      <td>5</td>\n",
       "      <td>22</td>\n",
       "      <td>1.0</td>\n",
       "      <td>16</td>\n",
       "      <td>Office of the Deputy Commissionar, Chittagong</td>\n",
       "      <td>জেলা প্রশাসকের কার্যালয়, চট্টগ্রাম</td>\n",
       "      <td>2</td>\n",
       "      <td>10</td>\n",
       "      <td>0</td>\n",
       "      <td>0</td>\n",
       "      <td>NaN</td>\n",
       "      <td>০৫.৪২.১৫০০</td>\n",
       "      <td>NaN</td>\n",
       "      <td>৪২</td>\n",
       "      <td>০৩১- ৬১৯৯৯৬</td>\n",
       "      <td>01713104332</td>\n",
       "      <td>৮৮-০৩১-৬২০৫৭০, ৮৮-০৩১-৬৩৫২৭২</td>\n",
       "      <td>dcchittagong@mopa.gov.bd</td>\n",
       "      <td>www.chittagong.gov.bd</td>\n",
       "      <td>10</td>\n",
       "      <td>1</td>\n",
       "      <td>NaN</td>\n",
       "      <td>NaN</td>\n",
       "      <td>0</td>\n",
       "      <td>0</td>\n",
       "      <td>2015-08-02 12:10:01</td>\n",
       "      <td>2018-10-10 12:53:52</td>\n",
       "    </tr>\n",
       "    <tr>\n",
       "      <th>1</th>\n",
       "      <td>5</td>\n",
       "      <td>5</td>\n",
       "      <td>21</td>\n",
       "      <td>NaN</td>\n",
       "      <td>15</td>\n",
       "      <td>Office of the Divisional Commissioner, Dhaka</td>\n",
       "      <td>বিভাগীয় কমিশনারের কার্যালয়, ঢাকা</td>\n",
       "      <td>3</td>\n",
       "      <td>18</td>\n",
       "      <td>0</td>\n",
       "      <td>0</td>\n",
       "      <td>NaN</td>\n",
       "      <td>05.41.3000</td>\n",
       "      <td>NaN</td>\n",
       "      <td>NaN</td>\n",
       "      <td>123456২২২২২২২২২</td>\n",
       "      <td>789012</td>\n",
       "      <td>NaN</td>\n",
       "      <td>xyz@divoffice.com</td>\n",
       "      <td>NaN</td>\n",
       "      <td>8</td>\n",
       "      <td>1</td>\n",
       "      <td>NaN</td>\n",
       "      <td>NaN</td>\n",
       "      <td>1</td>\n",
       "      <td>1</td>\n",
       "      <td>2015-08-13 03:51:02</td>\n",
       "      <td>2020-02-16 16:09:12</td>\n",
       "    </tr>\n",
       "    <tr>\n",
       "      <th>2</th>\n",
       "      <td>6</td>\n",
       "      <td>5</td>\n",
       "      <td>22</td>\n",
       "      <td>NaN</td>\n",
       "      <td>16</td>\n",
       "      <td>Office of the Deputy Commissionar, Narsingdi</td>\n",
       "      <td>জেলা প্রশাসকের কার্যালয়,নরসিংদী</td>\n",
       "      <td>3</td>\n",
       "      <td>29</td>\n",
       "      <td>0</td>\n",
       "      <td>0</td>\n",
       "      <td>নরসিংদী</td>\n",
       "      <td>০৫.৩০.৬৮০০</td>\n",
       "      <td>NaN</td>\n",
       "      <td>NaN</td>\n",
       "      <td>+৮৮০২৯৪৬২৫০০</td>\n",
       "      <td>+৮৮০১৭৬৬১৮৮২৮৮</td>\n",
       "      <td>+৮৮৯৪৬৪৪৩৩</td>\n",
       "      <td>dcnarsingdi@mopa.gov.bd</td>\n",
       "      <td>http://www.narsingdi.gov.bd</td>\n",
       "      <td>5</td>\n",
       "      <td>1</td>\n",
       "      <td>NaN</td>\n",
       "      <td>NaN</td>\n",
       "      <td>0</td>\n",
       "      <td>0</td>\n",
       "      <td>2015-08-13 03:53:42</td>\n",
       "      <td>2016-08-09 11:19:13</td>\n",
       "    </tr>\n",
       "    <tr>\n",
       "      <th>3</th>\n",
       "      <td>8</td>\n",
       "      <td>5</td>\n",
       "      <td>19</td>\n",
       "      <td>NaN</td>\n",
       "      <td>12</td>\n",
       "      <td>Ministry of Public Administration</td>\n",
       "      <td>জনপ্রশাসন মন্ত্রণালয়</td>\n",
       "      <td>3</td>\n",
       "      <td>18</td>\n",
       "      <td>0</td>\n",
       "      <td>0</td>\n",
       "      <td>NaN</td>\n",
       "      <td>০৫.০০.০০০০</td>\n",
       "      <td>NaN</td>\n",
       "      <td>০৫</td>\n",
       "      <td>NaN</td>\n",
       "      <td>NaN</td>\n",
       "      <td>NaN</td>\n",
       "      <td>info@mopa.gov.bd</td>\n",
       "      <td>www.mopa.gov.bd</td>\n",
       "      <td>0</td>\n",
       "      <td>1</td>\n",
       "      <td>NaN</td>\n",
       "      <td>NaN</td>\n",
       "      <td>0</td>\n",
       "      <td>0</td>\n",
       "      <td>2015-08-13 11:50:28</td>\n",
       "      <td>2016-09-07 10:55:57</td>\n",
       "    </tr>\n",
       "    <tr>\n",
       "      <th>4</th>\n",
       "      <td>9</td>\n",
       "      <td>5</td>\n",
       "      <td>23</td>\n",
       "      <td>NaN</td>\n",
       "      <td>17</td>\n",
       "      <td>Office of the Upazila Nirbahi Officer, Rangunia</td>\n",
       "      <td>উপজেলা নির্বাহী অফিসারের কার্যালয়, রাঙ্গুনিয়া,...</td>\n",
       "      <td>2</td>\n",
       "      <td>10</td>\n",
       "      <td>0</td>\n",
       "      <td>0</td>\n",
       "      <td>উপজেলা নির্বাহী অফিসারের কার্যালয়, রাঙ্গুনিয়া,...</td>\n",
       "      <td>০৫.৪২.১৫৬৬</td>\n",
       "      <td>NaN</td>\n",
       "      <td>NaN</td>\n",
       "      <td>NaN</td>\n",
       "      <td>01716147056</td>\n",
       "      <td>NaN</td>\n",
       "      <td>NaN</td>\n",
       "      <td>http://rangunia.chittagong.gov.bd</td>\n",
       "      <td>3</td>\n",
       "      <td>1</td>\n",
       "      <td>NaN</td>\n",
       "      <td>NaN</td>\n",
       "      <td>0</td>\n",
       "      <td>0</td>\n",
       "      <td>2015-08-14 13:59:36</td>\n",
       "      <td>2020-01-07 11:32:33</td>\n",
       "    </tr>\n",
       "  </tbody>\n",
       "</table>\n",
       "</div>"
      ],
      "text/plain": [
       "   id  office_ministry_id  office_layer_id  custom_layer_id  office_origin_id  \\\n",
       "0   3                   5               22              1.0                16   \n",
       "1   5                   5               21              NaN                15   \n",
       "2   6                   5               22              NaN                16   \n",
       "3   8                   5               19              NaN                12   \n",
       "4   9                   5               23              NaN                17   \n",
       "\n",
       "                                   office_name_eng  \\\n",
       "0    Office of the Deputy Commissionar, Chittagong   \n",
       "1     Office of the Divisional Commissioner, Dhaka   \n",
       "2     Office of the Deputy Commissionar, Narsingdi   \n",
       "3                Ministry of Public Administration   \n",
       "4  Office of the Upazila Nirbahi Officer, Rangunia   \n",
       "\n",
       "                                     office_name_bng  geo_division_id  \\\n",
       "0                 জেলা প্রশাসকের কার্যালয়, চট্টগ্রাম                2   \n",
       "1                   বিভাগীয় কমিশনারের কার্যালয়, ঢাকা                3   \n",
       "2                    জেলা প্রশাসকের কার্যালয়,নরসিংদী                3   \n",
       "3                               জনপ্রশাসন মন্ত্রণালয়                3   \n",
       "4  উপজেলা নির্বাহী অফিসারের কার্যালয়, রাঙ্গুনিয়া,...                2   \n",
       "\n",
       "   geo_district_id  geo_upazila_id  geo_union_id  \\\n",
       "0               10               0             0   \n",
       "1               18               0             0   \n",
       "2               29               0             0   \n",
       "3               18               0             0   \n",
       "4               10               0             0   \n",
       "\n",
       "                                      office_address digital_nothi_code  \\\n",
       "0                                                NaN         ০৫.৪২.১৫০০   \n",
       "1                                                NaN         05.41.3000   \n",
       "2                                            নরসিংদী         ০৫.৩০.৬৮০০   \n",
       "3                                                NaN         ০৫.০০.০০০০   \n",
       "4  উপজেলা নির্বাহী অফিসারের কার্যালয়, রাঙ্গুনিয়া,...         ০৫.৪২.১৫৬৬   \n",
       "\n",
       "   referece_code office_code     office_phone    office_mobile  \\\n",
       "0            NaN          ৪২      ০৩১- ৬১৯৯৯৬      01713104332   \n",
       "1            NaN         NaN  123456২২২২২২২২২           789012   \n",
       "2            NaN         NaN     +৮৮০২৯৪৬২৫০০  +৮৮০১৭৬৬১৮৮২৮৮    \n",
       "3            NaN          ০৫              NaN              NaN   \n",
       "4            NaN         NaN              NaN      01716147056   \n",
       "\n",
       "                     office_fax              office_email  \\\n",
       "0  ৮৮-০৩১-৬২০৫৭০, ৮৮-০৩১-৬৩৫২৭২  dcchittagong@mopa.gov.bd   \n",
       "1                           NaN         xyz@divoffice.com   \n",
       "2                    +৮৮৯৪৬৪৪৩৩  dcnarsingdi@mopa.gov.bd    \n",
       "3                           NaN          info@mopa.gov.bd   \n",
       "4                           NaN                       NaN   \n",
       "\n",
       "                          office_web  parent_office_id  active_status  \\\n",
       "0              www.chittagong.gov.bd                10              1   \n",
       "1                                NaN                 8              1   \n",
       "2        http://www.narsingdi.gov.bd                 5              1   \n",
       "3                    www.mopa.gov.bd                 0              1   \n",
       "4  http://rangunia.chittagong.gov.bd                 3              1   \n",
       "\n",
       "   unit_organogrm_edit_option unit_organogram_edit_option_status_updated_at  \\\n",
       "0                         NaN                                           NaN   \n",
       "1                         NaN                                           NaN   \n",
       "2                         NaN                                           NaN   \n",
       "3                         NaN                                           NaN   \n",
       "4                         NaN                                           NaN   \n",
       "\n",
       "   created_by  modified_by              created             modified  \n",
       "0           0            0  2015-08-02 12:10:01  2018-10-10 12:53:52  \n",
       "1           1            1  2015-08-13 03:51:02  2020-02-16 16:09:12  \n",
       "2           0            0  2015-08-13 03:53:42  2016-08-09 11:19:13  \n",
       "3           0            0  2015-08-13 11:50:28  2016-09-07 10:55:57  \n",
       "4           0            0  2015-08-14 13:59:36  2020-01-07 11:32:33  "
      ]
     },
     "execution_count": 35,
     "metadata": {},
     "output_type": "execute_result"
    }
   ],
   "source": [
    "offices_df = load_offices_df()\n",
    "offices_df.head()"
   ]
  },
  {
   "cell_type": "code",
   "execution_count": 9,
   "id": "e5716ed1-884b-4018-931c-eaee9af9cbdb",
   "metadata": {},
   "outputs": [
    {
     "data": {
      "text/plain": [
       "(16931, 28)"
      ]
     },
     "execution_count": 9,
     "metadata": {},
     "output_type": "execute_result"
    },
    {
     "data": {
      "text/plain": [
       "474068"
      ]
     },
     "execution_count": 9,
     "metadata": {},
     "output_type": "execute_result"
    }
   ],
   "source": [
    "# observing dataframe size\n",
    "offices_df.shape\n",
    "offices_df.size"
   ]
  },
  {
   "cell_type": "code",
   "execution_count": 33,
   "id": "83c716df-8134-40d7-bdfd-80f1835ff1fd",
   "metadata": {},
   "outputs": [
    {
     "name": "stdout",
     "output_type": "stream",
     "text": [
      "<class 'pandas.core.frame.DataFrame'>\n",
      "RangeIndex: 16931 entries, 0 to 16930\n",
      "Data columns (total 28 columns):\n",
      " #   Column                                         Non-Null Count  Dtype  \n",
      "---  ------                                         --------------  -----  \n",
      " 0   id                                             16931 non-null  int64  \n",
      " 1   office_ministry_id                             16931 non-null  int64  \n",
      " 2   office_layer_id                                16931 non-null  int64  \n",
      " 3   custom_layer_id                                179 non-null    float64\n",
      " 4   office_origin_id                               16931 non-null  int64  \n",
      " 5   office_name_eng                                16929 non-null  object \n",
      " 6   office_name_bng                                16930 non-null  object \n",
      " 7   geo_division_id                                16931 non-null  int64  \n",
      " 8   geo_district_id                                16931 non-null  int64  \n",
      " 9   geo_upazila_id                                 16931 non-null  int64  \n",
      " 10  geo_union_id                                   16931 non-null  int64  \n",
      " 11  office_address                                 16114 non-null  object \n",
      " 12  digital_nothi_code                             15317 non-null  object \n",
      " 13  referece_code                                  0 non-null      float64\n",
      " 14  office_code                                    58 non-null     object \n",
      " 15  office_phone                                   2787 non-null   object \n",
      " 16  office_mobile                                  2445 non-null   object \n",
      " 17  office_fax                                     780 non-null    object \n",
      " 18  office_email                                   4522 non-null   object \n",
      " 19  office_web                                     2644 non-null   object \n",
      " 20  parent_office_id                               16931 non-null  int64  \n",
      " 21  active_status                                  16931 non-null  int64  \n",
      " 22  unit_organogrm_edit_option                     28 non-null     float64\n",
      " 23  unit_organogram_edit_option_status_updated_at  188 non-null    object \n",
      " 24  created_by                                     16931 non-null  int64  \n",
      " 25  modified_by                                    16931 non-null  int64  \n",
      " 26  created                                        16931 non-null  object \n",
      " 27  modified                                       16931 non-null  object \n",
      "dtypes: float64(3), int64(12), object(13)\n",
      "memory usage: 3.6+ MB\n"
     ]
    }
   ],
   "source": [
    "# observing missing values, datatype, dataframe memory size\n",
    "offices_df.info()\n"
   ]
  },
  {
   "cell_type": "code",
   "execution_count": 79,
   "id": "5dd8a38d-651c-4943-8aa7-4f6c83917392",
   "metadata": {},
   "outputs": [
    {
     "data": {
      "text/plain": [
       "(16931, 28)"
      ]
     },
     "execution_count": 79,
     "metadata": {},
     "output_type": "execute_result"
    },
    {
     "data": {
      "text/plain": [
       "(16931, 3)"
      ]
     },
     "execution_count": 79,
     "metadata": {},
     "output_type": "execute_result"
    },
    {
     "data": {
      "text/plain": [
       "(16931, 4)"
      ]
     },
     "execution_count": 79,
     "metadata": {},
     "output_type": "execute_result"
    },
    {
     "data": {
      "text/plain": [
       "(16929, 4)"
      ]
     },
     "execution_count": 79,
     "metadata": {},
     "output_type": "execute_result"
    }
   ],
   "source": [
    "# Extract mandatory attributes for offices graph analysis\n",
    "offices_df = load_offices_df()\n",
    "offices_df.shape\n",
    "offices_df = offices_df[['id', 'active_status', 'created']] \n",
    "# remove null values\n",
    "offices_df = offices_df.loc[offices_df.created.notnull()]\n",
    "offices_df.shape\n",
    "# add new column: cretead_new as datetime field from created column\n",
    "offices_df['created_new'] = pd.to_datetime(offices_df['created'], errors='coerce')\n",
    "# errors{‘ignore’, ‘raise’, ‘coerce’}, default ‘raise’\n",
    "    # If ‘raise’, then invalid parsing will raise an exception.\n",
    "    # If ‘coerce’, then invalid parsing will be set as NaT.\n",
    "    # If ‘ignore’, then invalid parsing will return the input.\n",
    "offices_df.shape\n",
    "# again remove null values based on created_new field\n",
    "offices_df = offices_df.loc[offices_df.created_new.notnull()]\n",
    "offices_df.shape"
   ]
  },
  {
   "cell_type": "code",
   "execution_count": 92,
   "id": "f5506a04-5fa3-4993-b14e-773b2b3d045e",
   "metadata": {},
   "outputs": [
    {
     "data": {
      "text/plain": [
       "numpy.ndarray"
      ]
     },
     "execution_count": 92,
     "metadata": {},
     "output_type": "execute_result"
    },
    {
     "data": {
      "text/plain": [
       "numpy.ndarray"
      ]
     },
     "execution_count": 92,
     "metadata": {},
     "output_type": "execute_result"
    }
   ],
   "source": [
    "# Extract years and months from created column\n",
    "created_datetime_index = pd.DatetimeIndex(offices_df['created_new'])\n",
    "years = created_datetime_index.year.values.astype(str)\n",
    "months = created_datetime_index.month.values.astype(str)\n",
    "type(years)\n",
    "type(months)"
   ]
  },
  {
   "cell_type": "code",
   "execution_count": 95,
   "id": "b974ed8c-274b-45cd-bb56-1e18e1e519e3",
   "metadata": {},
   "outputs": [
    {
     "data": {
      "text/plain": [
       "(16929, 6)"
      ]
     },
     "execution_count": 95,
     "metadata": {},
     "output_type": "execute_result"
    }
   ],
   "source": [
    "# type(years[0])\n",
    "offices_df['year'] = years\n",
    "offices_df['month'] = months\n",
    "offices_df.shape"
   ]
  },
  {
   "cell_type": "code",
   "execution_count": 101,
   "id": "7824a43a-87ab-4f80-a26e-de8af2e56de2",
   "metadata": {},
   "outputs": [],
   "source": [
    "# save the new dataframe as csv\n",
    "offices_df.to_csv('offices.csv', index=False)"
   ]
  },
  {
   "cell_type": "code",
   "execution_count": 103,
   "id": "188a7691-6d70-424b-bedb-a29214cebf92",
   "metadata": {},
   "outputs": [
    {
     "data": {
      "text/plain": [
       "year\n",
       "2015      41\n",
       "2016    2922\n",
       "2017    3227\n",
       "2018    2379\n",
       "2019    3821\n",
       "2020    4030\n",
       "2021     509\n",
       "Name: year, dtype: int64"
      ]
     },
     "execution_count": 103,
     "metadata": {},
     "output_type": "execute_result"
    }
   ],
   "source": [
    "# observe number of offices in every year \n",
    "offices_year_by = offices_df.groupby('year')['year'].count()\n",
    "offices_year_by"
   ]
  },
  {
   "cell_type": "code",
   "execution_count": null,
   "id": "9547bb3d-f491-497c-8fc1-0452b6bef887",
   "metadata": {},
   "outputs": [],
   "source": []
  },
  {
   "cell_type": "code",
   "execution_count": 104,
   "id": "107ac992-ab4b-422f-8ca4-7f519c445d30",
   "metadata": {},
   "outputs": [
    {
     "ename": "SyntaxError",
     "evalue": "unexpected EOF while parsing (3462797335.py, line 36)",
     "output_type": "error",
     "traceback": [
      "\u001b[0;36m  File \u001b[0;32m\"/tmp/ipykernel_63040/3462797335.py\"\u001b[0;36m, line \u001b[0;32m36\u001b[0m\n\u001b[0;31m    general_series, drillown_series = generate_general_series_and_drilldown_series(offffffffffffffffffffffffffffffffffffffffffffffffffffffffffffffffffffffffffffffffffffffffffffffff\u001b[0m\n\u001b[0m                                                                                                                                                                                    ^\u001b[0m\n\u001b[0;31mSyntaxError\u001b[0m\u001b[0;31m:\u001b[0m unexpected EOF while parsing\n"
     ]
    }
   ],
   "source": [
    "# Generate general_series and drilldown series for bar graph\n",
    "# general series: year: number of officess\n",
    "def generate_general_series_and_drilldown_series(dataframe_year_by, general_series_name):\n",
    "    general_series = [\n",
    "        \n",
    "        {\n",
    "            'name': general_series_name,\n",
    "            'colorByPoint': True,\n",
    "            'data': [],\n",
    "        }\n",
    "    ]\n",
    "    drilldown_series = []\n",
    "\n",
    "    for year, year_frame in dataframe_year_by:\n",
    "        year = str(year)\n",
    "        # year, year_frame.shape\n",
    "        t_dict_ge = {'name': year, 'y': year_frame.shape[0], 'drilldown': year}\n",
    "        general_series[0]['data'].append(t_dict_ge)\n",
    "\n",
    "        t_dict_dr = {\n",
    "            'name': year,\n",
    "            'id': year,\n",
    "            'data': [],\n",
    "        }\n",
    "        month_group_by = year_frame.groupby('month')\n",
    "        for month, month_frame in month_group_by:\n",
    "            # mg, mf.shape[0]\n",
    "            month = str(month)\n",
    "            month = month_map[month]\n",
    "\n",
    "            lst = [month, month_frame.shape[0]]\n",
    "            t_dict_dr['data'].append(lst)\n",
    "            drilldown_series.append(t_dict_dr)\n",
    "    return general_series, drilldown_series\n",
    "\n",
    "general_series, drillown_series = generate_general_series_and_drilldown_series(offffffffffffffffffffffffffffffffffffffffffffffffffffffffffffffffffffffffffffffffffffffffffffffff\n"
   ]
  },
  {
   "cell_type": "code",
   "execution_count": null,
   "id": "c92c9dbf-7cc9-4f01-8395-cfbd7f5a3302",
   "metadata": {},
   "outputs": [],
   "source": []
  },
  {
   "cell_type": "code",
   "execution_count": null,
   "id": "885a75e7-c1ad-4448-9ca2-3844fe7705e4",
   "metadata": {},
   "outputs": [],
   "source": []
  },
  {
   "cell_type": "code",
   "execution_count": null,
   "id": "36e54b66-47a7-495a-8b15-864acb94dd31",
   "metadata": {},
   "outputs": [],
   "source": []
  },
  {
   "cell_type": "code",
   "execution_count": null,
   "id": "cc926232-98e4-4e0b-ae66-b0f16431e3c7",
   "metadata": {},
   "outputs": [],
   "source": []
  },
  {
   "cell_type": "code",
   "execution_count": 98,
   "id": "5760376b-13d9-400e-8d48-51e78d6e3bb6",
   "metadata": {},
   "outputs": [],
   "source": [
    "# offices_df.created.values[:10]\n",
    "# offices_df.created.shape\n",
    "# times = offices_df.created\n",
    "# for time in times:\n",
    "    # print(time)\n",
    "    # type(time)\n",
    "# times.index"
   ]
  },
  {
   "cell_type": "code",
   "execution_count": 77,
   "id": "911c7491-50e7-4402-b592-c91ed6cee2a9",
   "metadata": {},
   "outputs": [],
   "source": [
    "# import re\n",
    "# year_month_regex = re.compile(r'(\\d\\d\\d\\d)-(\\d\\d)-(\\d\\d)')"
   ]
  },
  {
   "cell_type": "code",
   "execution_count": 81,
   "id": "1e2dba5b-06bb-413f-b43d-99792e3df3e8",
   "metadata": {},
   "outputs": [],
   "source": [
    "# years = []\n",
    "# months = []\n",
    "# indexes = []\n",
    "\n",
    "# times = offices_df.created.values\n",
    "# for index, time in enumerate(times, start=0):\n",
    "#     mo = year_month_regex.search(time)\n",
    "#     year = mo.group(1)\n",
    "#     month = mo.group(2)\n",
    "#     years.append(year)\n",
    "#     months.append(month)\n",
    "#     indexes.append(index)\n"
   ]
  },
  {
   "cell_type": "code",
   "execution_count": 91,
   "id": "dcbeca4d-3bbe-4569-a05e-3a581ec2cc55",
   "metadata": {},
   "outputs": [],
   "source": [
    "# for y1, y2 in zip(created_datetime_index.year.values.astype(str), years):\n",
    "#     # y1 = int(y1)\n",
    "#     # y2 = int(y2)\n",
    "#     # print(type(y1), type(y2))\n",
    "#     if y1 != y2:\n",
    "#         print('y1: ', y1, 'y2: ', y2)\n",
    "# for m1, m2 in zip(created_datetime_index.month.values.astype(str), months):\n",
    "#     m1 = int(m1)\n",
    "#     m2 = int(m2)\n",
    "#     if m1 != m2:\n",
    "#         print('m1: ', m1, 'm2: ', m2)"
   ]
  },
  {
   "cell_type": "code",
   "execution_count": 14,
   "id": "7a10cada-3cb7-4c74-a0a3-b6863c8a558a",
   "metadata": {},
   "outputs": [
    {
     "data": {
      "text/plain": [
       "{'0000', '2015', '2016', '2017', '2018', '2019', '2020', '2021'}"
      ]
     },
     "execution_count": 14,
     "metadata": {},
     "output_type": "execute_result"
    },
    {
     "data": {
      "text/plain": [
       "{'00', '01', '02', '03', '04', '05', '06', '07', '08', '09', '10', '11', '12'}"
      ]
     },
     "execution_count": 14,
     "metadata": {},
     "output_type": "execute_result"
    },
    {
     "data": {
      "text/plain": [
       "[[0, '2015'],\n",
       " [1, '2015'],\n",
       " [2, '2015'],\n",
       " [3, '2015'],\n",
       " [4, '2015'],\n",
       " [5, '2015'],\n",
       " [6, '2015'],\n",
       " [7, '2015'],\n",
       " [8, '2015'],\n",
       " [9, '2015']]"
      ]
     },
     "execution_count": 14,
     "metadata": {},
     "output_type": "execute_result"
    }
   ],
   "source": [
    "# year_list[:10]\n",
    "# month_list[:10]\n",
    "set(years)\n",
    "set(months)\n",
    "year_list[:10]"
   ]
  },
  {
   "cell_type": "code",
   "execution_count": 11,
   "id": "f2afdb22-0c79-4d94-bf83-bf6c9abdbdfe",
   "metadata": {},
   "outputs": [
    {
     "data": {
      "text/plain": [
       "'2015'"
      ]
     },
     "execution_count": 11,
     "metadata": {},
     "output_type": "execute_result"
    }
   ],
   "source": [
    "year_list[1][1]"
   ]
  },
  {
   "cell_type": "code",
   "execution_count": 15,
   "id": "0fe5269b-f652-4d7a-8bb8-fd662035e75a",
   "metadata": {},
   "outputs": [
    {
     "data": {
      "text/plain": [
       "0    2015\n",
       "1    2015\n",
       "2    2015\n",
       "3    2015\n",
       "4    2015\n",
       "5    2015\n",
       "6    2015\n",
       "7    2015\n",
       "8    2015\n",
       "9    2015\n",
       "dtype: object"
      ]
     },
     "execution_count": 15,
     "metadata": {},
     "output_type": "execute_result"
    },
    {
     "data": {
      "text/plain": [
       "0    08\n",
       "1    08\n",
       "2    08\n",
       "3    08\n",
       "4    08\n",
       "5    08\n",
       "6    10\n",
       "7    10\n",
       "8    10\n",
       "9    10\n",
       "dtype: object"
      ]
     },
     "execution_count": 15,
     "metadata": {},
     "output_type": "execute_result"
    }
   ],
   "source": [
    "year_series_df = pd.Series(years, index=indexes)\n",
    "month_series_df = pd.Series(months, index=indexes)\n",
    "year_series_df[:10]\n",
    "month_series_df[:10]\n"
   ]
  },
  {
   "cell_type": "code",
   "execution_count": 13,
   "id": "a21419ce-e6d4-422a-9c05-dfa8f6e00f50",
   "metadata": {},
   "outputs": [],
   "source": [
    "# offices_df['created']= pd.to_datetime(offices_df['created'], unit='s')"
   ]
  },
  {
   "cell_type": "code",
   "execution_count": 16,
   "id": "517fbc05-7a67-4533-9f0c-03b34b7cebe0",
   "metadata": {},
   "outputs": [],
   "source": [
    "# offices_df\n",
    "offices_df['year'] = year_series_df\n",
    "offices_df['month'] = month_series_df"
   ]
  },
  {
   "cell_type": "code",
   "execution_count": 15,
   "id": "d884bde6-4872-4f2e-ae1e-f4a0d9d3d7fb",
   "metadata": {},
   "outputs": [
    {
     "data": {
      "text/html": [
       "<div>\n",
       "<style scoped>\n",
       "    .dataframe tbody tr th:only-of-type {\n",
       "        vertical-align: middle;\n",
       "    }\n",
       "\n",
       "    .dataframe tbody tr th {\n",
       "        vertical-align: top;\n",
       "    }\n",
       "\n",
       "    .dataframe thead th {\n",
       "        text-align: right;\n",
       "    }\n",
       "</style>\n",
       "<table border=\"1\" class=\"dataframe\">\n",
       "  <thead>\n",
       "    <tr style=\"text-align: right;\">\n",
       "      <th></th>\n",
       "      <th>id</th>\n",
       "      <th>office_ministry_id</th>\n",
       "      <th>office_layer_id</th>\n",
       "      <th>custom_layer_id</th>\n",
       "      <th>office_origin_id</th>\n",
       "      <th>office_name_eng</th>\n",
       "      <th>office_name_bng</th>\n",
       "      <th>geo_division_id</th>\n",
       "      <th>geo_district_id</th>\n",
       "      <th>geo_upazila_id</th>\n",
       "      <th>geo_union_id</th>\n",
       "      <th>office_address</th>\n",
       "      <th>digital_nothi_code</th>\n",
       "      <th>referece_code</th>\n",
       "      <th>office_code</th>\n",
       "      <th>office_phone</th>\n",
       "      <th>office_mobile</th>\n",
       "      <th>office_fax</th>\n",
       "      <th>office_email</th>\n",
       "      <th>office_web</th>\n",
       "      <th>parent_office_id</th>\n",
       "      <th>active_status</th>\n",
       "      <th>unit_organogrm_edit_option</th>\n",
       "      <th>unit_organogram_edit_option_status_updated_at</th>\n",
       "      <th>created_by</th>\n",
       "      <th>modified_by</th>\n",
       "      <th>created</th>\n",
       "      <th>modified</th>\n",
       "      <th>year</th>\n",
       "      <th>month</th>\n",
       "    </tr>\n",
       "  </thead>\n",
       "  <tbody>\n",
       "    <tr>\n",
       "      <th>0</th>\n",
       "      <td>3</td>\n",
       "      <td>5</td>\n",
       "      <td>22</td>\n",
       "      <td>1.0</td>\n",
       "      <td>16</td>\n",
       "      <td>Office of the Deputy Commissionar, Chittagong</td>\n",
       "      <td>জেলা প্রশাসকের কার্যালয়, চট্টগ্রাম</td>\n",
       "      <td>2</td>\n",
       "      <td>10</td>\n",
       "      <td>0</td>\n",
       "      <td>0</td>\n",
       "      <td>NaN</td>\n",
       "      <td>০৫.৪২.১৫০০</td>\n",
       "      <td>NaN</td>\n",
       "      <td>৪২</td>\n",
       "      <td>০৩১- ৬১৯৯৯৬</td>\n",
       "      <td>01713104332</td>\n",
       "      <td>৮৮-০৩১-৬২০৫৭০, ৮৮-০৩১-৬৩৫২৭২</td>\n",
       "      <td>dcchittagong@mopa.gov.bd</td>\n",
       "      <td>www.chittagong.gov.bd</td>\n",
       "      <td>10</td>\n",
       "      <td>1</td>\n",
       "      <td>NaN</td>\n",
       "      <td>NaN</td>\n",
       "      <td>0</td>\n",
       "      <td>0</td>\n",
       "      <td>2015-08-02 12:10:01</td>\n",
       "      <td>2018-10-10 12:53:52</td>\n",
       "      <td>2015</td>\n",
       "      <td>08</td>\n",
       "    </tr>\n",
       "    <tr>\n",
       "      <th>1</th>\n",
       "      <td>5</td>\n",
       "      <td>5</td>\n",
       "      <td>21</td>\n",
       "      <td>NaN</td>\n",
       "      <td>15</td>\n",
       "      <td>Office of the Divisional Commissioner, Dhaka</td>\n",
       "      <td>বিভাগীয় কমিশনারের কার্যালয়, ঢাকা</td>\n",
       "      <td>3</td>\n",
       "      <td>18</td>\n",
       "      <td>0</td>\n",
       "      <td>0</td>\n",
       "      <td>NaN</td>\n",
       "      <td>05.41.3000</td>\n",
       "      <td>NaN</td>\n",
       "      <td>NaN</td>\n",
       "      <td>123456২২২২২২২২২</td>\n",
       "      <td>789012</td>\n",
       "      <td>NaN</td>\n",
       "      <td>xyz@divoffice.com</td>\n",
       "      <td>NaN</td>\n",
       "      <td>8</td>\n",
       "      <td>1</td>\n",
       "      <td>NaN</td>\n",
       "      <td>NaN</td>\n",
       "      <td>1</td>\n",
       "      <td>1</td>\n",
       "      <td>2015-08-13 03:51:02</td>\n",
       "      <td>2020-02-16 16:09:12</td>\n",
       "      <td>2015</td>\n",
       "      <td>08</td>\n",
       "    </tr>\n",
       "    <tr>\n",
       "      <th>2</th>\n",
       "      <td>6</td>\n",
       "      <td>5</td>\n",
       "      <td>22</td>\n",
       "      <td>NaN</td>\n",
       "      <td>16</td>\n",
       "      <td>Office of the Deputy Commissionar, Narsingdi</td>\n",
       "      <td>জেলা প্রশাসকের কার্যালয়,নরসিংদী</td>\n",
       "      <td>3</td>\n",
       "      <td>29</td>\n",
       "      <td>0</td>\n",
       "      <td>0</td>\n",
       "      <td>নরসিংদী</td>\n",
       "      <td>০৫.৩০.৬৮০০</td>\n",
       "      <td>NaN</td>\n",
       "      <td>NaN</td>\n",
       "      <td>+৮৮০২৯৪৬২৫০০</td>\n",
       "      <td>+৮৮০১৭৬৬১৮৮২৮৮</td>\n",
       "      <td>+৮৮৯৪৬৪৪৩৩</td>\n",
       "      <td>dcnarsingdi@mopa.gov.bd</td>\n",
       "      <td>http://www.narsingdi.gov.bd</td>\n",
       "      <td>5</td>\n",
       "      <td>1</td>\n",
       "      <td>NaN</td>\n",
       "      <td>NaN</td>\n",
       "      <td>0</td>\n",
       "      <td>0</td>\n",
       "      <td>2015-08-13 03:53:42</td>\n",
       "      <td>2016-08-09 11:19:13</td>\n",
       "      <td>2015</td>\n",
       "      <td>08</td>\n",
       "    </tr>\n",
       "    <tr>\n",
       "      <th>3</th>\n",
       "      <td>8</td>\n",
       "      <td>5</td>\n",
       "      <td>19</td>\n",
       "      <td>NaN</td>\n",
       "      <td>12</td>\n",
       "      <td>Ministry of Public Administration</td>\n",
       "      <td>জনপ্রশাসন মন্ত্রণালয়</td>\n",
       "      <td>3</td>\n",
       "      <td>18</td>\n",
       "      <td>0</td>\n",
       "      <td>0</td>\n",
       "      <td>NaN</td>\n",
       "      <td>০৫.০০.০০০০</td>\n",
       "      <td>NaN</td>\n",
       "      <td>০৫</td>\n",
       "      <td>NaN</td>\n",
       "      <td>NaN</td>\n",
       "      <td>NaN</td>\n",
       "      <td>info@mopa.gov.bd</td>\n",
       "      <td>www.mopa.gov.bd</td>\n",
       "      <td>0</td>\n",
       "      <td>1</td>\n",
       "      <td>NaN</td>\n",
       "      <td>NaN</td>\n",
       "      <td>0</td>\n",
       "      <td>0</td>\n",
       "      <td>2015-08-13 11:50:28</td>\n",
       "      <td>2016-09-07 10:55:57</td>\n",
       "      <td>2015</td>\n",
       "      <td>08</td>\n",
       "    </tr>\n",
       "    <tr>\n",
       "      <th>4</th>\n",
       "      <td>9</td>\n",
       "      <td>5</td>\n",
       "      <td>23</td>\n",
       "      <td>NaN</td>\n",
       "      <td>17</td>\n",
       "      <td>Office of the Upazila Nirbahi Officer, Rangunia</td>\n",
       "      <td>উপজেলা নির্বাহী অফিসারের কার্যালয়, রাঙ্গুনিয়া,...</td>\n",
       "      <td>2</td>\n",
       "      <td>10</td>\n",
       "      <td>0</td>\n",
       "      <td>0</td>\n",
       "      <td>উপজেলা নির্বাহী অফিসারের কার্যালয়, রাঙ্গুনিয়া,...</td>\n",
       "      <td>০৫.৪২.১৫৬৬</td>\n",
       "      <td>NaN</td>\n",
       "      <td>NaN</td>\n",
       "      <td>NaN</td>\n",
       "      <td>01716147056</td>\n",
       "      <td>NaN</td>\n",
       "      <td>NaN</td>\n",
       "      <td>http://rangunia.chittagong.gov.bd</td>\n",
       "      <td>3</td>\n",
       "      <td>1</td>\n",
       "      <td>NaN</td>\n",
       "      <td>NaN</td>\n",
       "      <td>0</td>\n",
       "      <td>0</td>\n",
       "      <td>2015-08-14 13:59:36</td>\n",
       "      <td>2020-01-07 11:32:33</td>\n",
       "      <td>2015</td>\n",
       "      <td>08</td>\n",
       "    </tr>\n",
       "  </tbody>\n",
       "</table>\n",
       "</div>"
      ],
      "text/plain": [
       "   id  office_ministry_id  office_layer_id  custom_layer_id  office_origin_id  \\\n",
       "0   3                   5               22              1.0                16   \n",
       "1   5                   5               21              NaN                15   \n",
       "2   6                   5               22              NaN                16   \n",
       "3   8                   5               19              NaN                12   \n",
       "4   9                   5               23              NaN                17   \n",
       "\n",
       "                                   office_name_eng  \\\n",
       "0    Office of the Deputy Commissionar, Chittagong   \n",
       "1     Office of the Divisional Commissioner, Dhaka   \n",
       "2     Office of the Deputy Commissionar, Narsingdi   \n",
       "3                Ministry of Public Administration   \n",
       "4  Office of the Upazila Nirbahi Officer, Rangunia   \n",
       "\n",
       "                                     office_name_bng  geo_division_id  \\\n",
       "0                 জেলা প্রশাসকের কার্যালয়, চট্টগ্রাম                2   \n",
       "1                   বিভাগীয় কমিশনারের কার্যালয়, ঢাকা                3   \n",
       "2                    জেলা প্রশাসকের কার্যালয়,নরসিংদী                3   \n",
       "3                               জনপ্রশাসন মন্ত্রণালয়                3   \n",
       "4  উপজেলা নির্বাহী অফিসারের কার্যালয়, রাঙ্গুনিয়া,...                2   \n",
       "\n",
       "   geo_district_id  geo_upazila_id  geo_union_id  \\\n",
       "0               10               0             0   \n",
       "1               18               0             0   \n",
       "2               29               0             0   \n",
       "3               18               0             0   \n",
       "4               10               0             0   \n",
       "\n",
       "                                      office_address digital_nothi_code  \\\n",
       "0                                                NaN         ০৫.৪২.১৫০০   \n",
       "1                                                NaN         05.41.3000   \n",
       "2                                            নরসিংদী         ০৫.৩০.৬৮০০   \n",
       "3                                                NaN         ০৫.০০.০০০০   \n",
       "4  উপজেলা নির্বাহী অফিসারের কার্যালয়, রাঙ্গুনিয়া,...         ০৫.৪২.১৫৬৬   \n",
       "\n",
       "   referece_code office_code     office_phone    office_mobile  \\\n",
       "0            NaN          ৪২      ০৩১- ৬১৯৯৯৬      01713104332   \n",
       "1            NaN         NaN  123456২২২২২২২২২           789012   \n",
       "2            NaN         NaN     +৮৮০২৯৪৬২৫০০  +৮৮০১৭৬৬১৮৮২৮৮    \n",
       "3            NaN          ০৫              NaN              NaN   \n",
       "4            NaN         NaN              NaN      01716147056   \n",
       "\n",
       "                     office_fax              office_email  \\\n",
       "0  ৮৮-০৩১-৬২০৫৭০, ৮৮-০৩১-৬৩৫২৭২  dcchittagong@mopa.gov.bd   \n",
       "1                           NaN         xyz@divoffice.com   \n",
       "2                    +৮৮৯৪৬৪৪৩৩  dcnarsingdi@mopa.gov.bd    \n",
       "3                           NaN          info@mopa.gov.bd   \n",
       "4                           NaN                       NaN   \n",
       "\n",
       "                          office_web  parent_office_id  active_status  \\\n",
       "0              www.chittagong.gov.bd                10              1   \n",
       "1                                NaN                 8              1   \n",
       "2        http://www.narsingdi.gov.bd                 5              1   \n",
       "3                    www.mopa.gov.bd                 0              1   \n",
       "4  http://rangunia.chittagong.gov.bd                 3              1   \n",
       "\n",
       "   unit_organogrm_edit_option unit_organogram_edit_option_status_updated_at  \\\n",
       "0                         NaN                                           NaN   \n",
       "1                         NaN                                           NaN   \n",
       "2                         NaN                                           NaN   \n",
       "3                         NaN                                           NaN   \n",
       "4                         NaN                                           NaN   \n",
       "\n",
       "   created_by  modified_by              created             modified  year  \\\n",
       "0           0            0  2015-08-02 12:10:01  2018-10-10 12:53:52  2015   \n",
       "1           1            1  2015-08-13 03:51:02  2020-02-16 16:09:12  2015   \n",
       "2           0            0  2015-08-13 03:53:42  2016-08-09 11:19:13  2015   \n",
       "3           0            0  2015-08-13 11:50:28  2016-09-07 10:55:57  2015   \n",
       "4           0            0  2015-08-14 13:59:36  2020-01-07 11:32:33  2015   \n",
       "\n",
       "  month  \n",
       "0    08  \n",
       "1    08  \n",
       "2    08  \n",
       "3    08  \n",
       "4    08  "
      ]
     },
     "execution_count": 15,
     "metadata": {},
     "output_type": "execute_result"
    }
   ],
   "source": [
    "offices_df.head()"
   ]
  },
  {
   "cell_type": "code",
   "execution_count": 96,
   "id": "cac50405-d442-4502-b897-7ebd127a0b20",
   "metadata": {},
   "outputs": [
    {
     "data": {
      "text/plain": [
       "(array([  41., 2922.,    0., 3227.,    0., 2379., 3821.,    0., 4030.,\n",
       "         509.]),\n",
       " array([0. , 0.6, 1.2, 1.8, 2.4, 3. , 3.6, 4.2, 4.8, 5.4, 6. ]),\n",
       " <BarContainer object of 10 artists>)"
      ]
     },
     "execution_count": 96,
     "metadata": {},
     "output_type": "execute_result"
    },
    {
     "data": {
      "text/plain": [
       "Text(0.5, 0, 'years')"
      ]
     },
     "execution_count": 96,
     "metadata": {},
     "output_type": "execute_result"
    },
    {
     "data": {
      "text/plain": [
       "Text(0, 0.5, 'Number of offices')"
      ]
     },
     "execution_count": 96,
     "metadata": {},
     "output_type": "execute_result"
    },
    {
     "data": {
      "text/plain": [
       "Text(0.5, 1.0, 'Offices in year base')"
      ]
     },
     "execution_count": 96,
     "metadata": {},
     "output_type": "execute_result"
    },
    {
     "data": {
      "image/png": "[encoded data removed]",
      "text/plain": [
       "<Figure size 432x288 with 1 Axes>"
      ]
     },
     "metadata": {
      "needs_background": "light"
     },
     "output_type": "display_data"
    }
   ],
   "source": [
    "\n",
    "# Fixing random state for reproducibility\n",
    "# np.random.seed(19680801)\n",
    "\n",
    "# mu, sigma = 100, 15\n",
    "# x = mu + sigma * np.random.randn(10000)\n",
    "\n",
    "# # the histogram of the data\n",
    "# n, bins, patches = plt.hist(x, 50, density=True, facecolor='g', alpha=0.75)\n",
    "plt.hist(offices_df['year'])\n",
    "\n",
    "\n",
    "plt.xlabel('years')\n",
    "plt.ylabel('Number of offices')\n",
    "plt.title('Offices in year base')\n",
    "# plt.text(60, .025, r'$\\mu=100,\\ \\sigma=15$')\n",
    "# plt.xlim(40, 160)\n",
    "# plt.ylim(0, 0.03)\n",
    "plt.grid(True)\n",
    "plt.show()\n"
   ]
  },
  {
   "cell_type": "code",
   "execution_count": 97,
   "id": "322629a9-77e8-4ae7-909d-db4a2cfd5132",
   "metadata": {},
   "outputs": [
    {
     "data": {
      "text/plain": [
       "year\n",
       "2015      41\n",
       "2016    2922\n",
       "2017    3227\n",
       "Name: year, dtype: int64"
      ]
     },
     "execution_count": 97,
     "metadata": {},
     "output_type": "execute_result"
    }
   ],
   "source": [
    "offices_year_by = offices_df.groupby('year')['year'].count()\n",
    "offices_year_by.head(3)"
   ]
  },
  {
   "cell_type": "code",
   "execution_count": 19,
   "id": "d4914836-f72e-420b-b585-d315ed33f2b3",
   "metadata": {},
   "outputs": [
    {
     "data": {
      "text/plain": [
       "pandas.core.series.Series"
      ]
     },
     "execution_count": 19,
     "metadata": {},
     "output_type": "execute_result"
    },
    {
     "data": {
      "text/plain": [
       "year\n",
       "0000       2\n",
       "2015      41\n",
       "2016    2922\n",
       "2017    3227\n",
       "2018    2379\n",
       "2019    3821\n",
       "2020    4030\n",
       "2021     509\n",
       "Name: year, dtype: int64"
      ]
     },
     "execution_count": 19,
     "metadata": {},
     "output_type": "execute_result"
    }
   ],
   "source": [
    "\n",
    "type(offices_year_by)\n",
    "offices_year_by"
   ]
  },
  {
   "cell_type": "code",
   "execution_count": 126,
   "id": "7c7e1bf1-18e6-4fca-850c-d4d35011521a",
   "metadata": {},
   "outputs": [
    {
     "data": {
      "text/plain": [
       "pandas.core.series.Series"
      ]
     },
     "execution_count": 126,
     "metadata": {},
     "output_type": "execute_result"
    },
    {
     "data": {
      "text/plain": [
       "[2, 41, 2922, 3227, 2379, 3821, 4030, 509]"
      ]
     },
     "execution_count": 126,
     "metadata": {},
     "output_type": "execute_result"
    },
    {
     "data": {
      "text/plain": [
       "['0000', '2015', '2016', '2017', '2018', '2019', '2020', '2021']"
      ]
     },
     "execution_count": 126,
     "metadata": {},
     "output_type": "execute_result"
    }
   ],
   "source": [
    "type(office_count)\n",
    "list(office_count.values)\n",
    "# office_count.index\n",
    "# type(office_count.index)\n",
    "# dir(office_count.index)\n",
    "# office_count.index.array\n",
    "list(office_count.index.values)"
   ]
  },
  {
   "cell_type": "code",
   "execution_count": 20,
   "id": "a4b2b6b5-4a97-4d9f-ba09-ce6524b9065f",
   "metadata": {},
   "outputs": [],
   "source": [
    "offices_df.to_csv('offices_updated.csv', index=False)"
   ]
  }
 ],
 "metadata": {
  "kernelspec": {
   "display_name": "Python 3 (ipykernel)",
   "language": "python",
   "name": "python3"
  },
  "language_info": {
   "codemirror_mode": {
    "name": "ipython",
    "version": 3
   },
   "file_extension": ".py",
   "mimetype": "text/x-python",
   "name": "python",
   "nbconvert_exporter": "python",
   "pygments_lexer": "ipython3",
   "version": "3.8.10"
  }
 },
 "nbformat": 4,
 "nbformat_minor": 5
}
