{
 "cells": [
  {
   "cell_type": "markdown",
   "id": "51dcc94a-5349-4e1e-9ce2-3ed00b547b1b",
   "metadata": {},
   "source": [
    "``` sql\n",
    "SELECT count(id) FROM `user_login_history` where date(created) >= '2020-09-01'  and date(created) <= '2020-09-30' and is_mobile = 1;\n",
    "```"
   ]
  },
  {
   "cell_type": "code",
   "execution_count": null,
   "id": "edd80719-930e-4f19-9aad-8d0c307fbed7",
   "metadata": {},
   "outputs": [],
   "source": [
    "\n",
    "# import necessary library\n",
    "from IPython.core.interactiveshell import InteractiveShell\n",
    "InteractiveShell.ast_node_interactivity = \"all\"\n",
    "\n",
    "import pandas as pd\n",
    "import numpy as np\n",
    "import matplotlib.pyplot as plt\n",
    "pd.set_option('display.max_columns', None)"
   ]
  },
  {
   "cell_type": "code",
   "execution_count": null,
   "id": "40cb338e-e5b5-4cdb-bca6-0cc4d9dd4a6c",
   "metadata": {},
   "outputs": [],
   "source": [
    "user_login_history_table_columns_dict = {\n",
    "    '1': 'id',\n",
    "    '2': 'is_mobile',\n",
    "    '3': 'client_ip',\n",
    "    '4': 'device_name',\n",
    "    '5': 'browser_name',\n",
    "    '6': 'employee_record_id',\n",
    "    '7': 'ministry_id',\n",
    "    '8': 'layer_id',\n",
    "    '9': 'origin_id',\n",
    "    '10': 'ofice_id',\n",
    "    '11': 'office_unit_id',\n",
    "    '12': 'office_unit_organogram',\n",
    "    '13': 'office_name',\n",
    "    '14': 'unit_name',\n",
    "    '15': 'organogram_name',\n",
    "    '16': 'user_id',\n",
    "    '17': 'employee_name',\n",
    "    '18': 'mobile_number',\n",
    "    '19': 'employee_email',\n",
    "    '20': 'login_time',\n",
    "    '21': 'logout_time',\n",
    "    '22': 'network_information',\n",
    "    '23': 'created',\n",
    "    '24': 'modified',\n",
    "    '25': 'created_by',\n",
    "    '26': 'modified_by',\n",
    "    '27': 'token',\n",
    "    '28': 'device_type',\n",
    "    '29': 'device_id',\n",
    "}\n",
    "user_login_history_table_columns_list = list(user_login_history_table_columns_dict.values())\n",
    "user_login_history_table_columns = user_login_history_table_columns_list\n",
    "# for key in nisponno_records_table_columns_dict.keys():\n",
    "#     value = \n",
    "\n",
    "len(user_login_history_table_columns)"
   ]
  },
  {
   "cell_type": "markdown",
   "id": "0e13c63e-43d5-4dc0-af46-e47de971989b",
   "metadata": {},
   "source": [
    "### Check column length consistency"
   ]
  },
  {
   "cell_type": "code",
   "execution_count": null,
   "id": "6bf08cc7-3d95-4a80-a6f4-d364c9bcff20",
   "metadata": {},
   "outputs": [],
   "source": [
    "user_login_history_df = pd.read_csv('../Data/user_login_history_24_11_2021.csv')\n",
    "if len(user_login_history_table_columns) != user_login_history_df.shape[1]: \n",
    "    print(f\"previous column length: {len(user_login_history_table_columns)}, current column_length {user_login_history_df.shape[1]}\")\n",
    "    raise ValueError('office table attribute added or removed')"
   ]
  },
  {
   "cell_type": "code",
   "execution_count": null,
   "id": "3e93a7ca-cc22-4936-a03e-384312f160ec",
   "metadata": {},
   "outputs": [],
   "source": [
    "def load_user_login_history_df():\n",
    "    user_login_history_df = pd.read_csv('../Data/user_login_history_24_11_2021.csv', names=user_login_history_table_columns)\n",
    "    return user_login_history_df"
   ]
  },
  {
   "cell_type": "code",
   "execution_count": null,
   "id": "9ec18069-7ec8-498d-80c6-2134e587eaa8",
   "metadata": {},
   "outputs": [],
   "source": [
    "user_login_history_df = None\n",
    "user_login_history_df = load_user_login_history_df()\n",
    "user_login_history_df.head()"
   ]
  },
  {
   "cell_type": "code",
   "execution_count": null,
   "id": "e253d71e-81b2-4c12-be0a-7356a06a7a73",
   "metadata": {},
   "outputs": [],
   "source": [
    "# observing dataframe size\n",
    "user_login_history_df.shape\n",
    "user_login_history_df.size"
   ]
  },
  {
   "cell_type": "code",
   "execution_count": null,
   "id": "4f352d07-fbcf-4927-87e8-702f3bd9d58c",
   "metadata": {},
   "outputs": [],
   "source": [
    "\n",
    "# observing primary key\n",
    "\"min_id\", min(user_login_history_df.id.values)\n",
    "\"max_id\", max(user_login_history_df.id.values)\n",
    "\"table shape\", user_login_history_df.shape"
   ]
  },
  {
   "cell_type": "code",
   "execution_count": null,
   "id": "78988fd0-e1cd-4232-95ee-082a7cb0ed4c",
   "metadata": {},
   "outputs": [],
   "source": [
    "# observing missing values, datatype, dataframe memory size\n",
    "user_login_history_df.info()\n"
   ]
  },
  {
   "cell_type": "code",
   "execution_count": null,
   "id": "de789064-9936-4008-9a37-412021269a70",
   "metadata": {},
   "outputs": [],
   "source": [
    "# observing null value of every attribute\n",
    "user_login_history_df.isnull().sum()\n",
    "# nisponno_records_df.upokarvogi.unique()"
   ]
  },
  {
   "cell_type": "code",
   "execution_count": null,
   "id": "f450e1a3-7217-42d4-808f-fbd8892041d6",
   "metadata": {},
   "outputs": [],
   "source": [
    "# SELECT count(id) FROM `user_login_history` where date(created) >= '2020-09-01'  and date(created) <= '2020-09-30' and is_mobile = 1;\n",
    "\n",
    "# Extract mandatory attributes for offices graph analysis\n",
    "user_login_history_df = None\n",
    "user_login_history_df = load_user_login_history_df()\n",
    "print(f\"Initial dataframe shape {user_login_history_df.shape}\")\n",
    "user_login_history_df = user_login_history_df[['id', 'is_mobile', 'created']]\n",
    "user_login_history_df = user_login_history_df.loc[user_login_history_df.is_mobile == 1]\n",
    "# remove null values\n",
    "user_login_history_df = user_login_history_df.loc[user_login_history_df.created.notnull()]\n",
    "print(f\"dataframe shape after removing operation_date null value {user_login_history_df.shape}\")\n",
    "# add new column: cretead_new as datetime field from operation_date column\n",
    "user_login_history_df['created'] = pd.to_datetime(user_login_history_df['created'], errors='coerce')\n",
    "# errors{‘ignore’, ‘raise’, ‘coerce’}, default ‘raise’\n",
    "    # If ‘raise’, then invalid parsing will raise an exception.\n",
    "    # If ‘coerce’, then invalid parsing will be set as NaT.\n",
    "    # If ‘ignore’, then invalid parsing will return the input.\n",
    "user_login_history_df.shape\n",
    "# again remove null values based on created field\n",
    "user_login_history_df = user_login_history_df.loc[user_login_history_df.created.notnull()]\n",
    "user_login_history_df.shape"
   ]
  },
  {
   "cell_type": "code",
   "execution_count": null,
   "id": "ec48b9e4-270b-4b41-b082-341a81f9bcc2",
   "metadata": {},
   "outputs": [],
   "source": [
    "# Extract years and months from created column\n",
    "created_datetime_index = pd.DatetimeIndex(user_login_history_df['created'])\n",
    "years = created_datetime_index.year.values.astype(str)\n",
    "months = created_datetime_index.month.values.astype(str)\n",
    "type(years)\n",
    "type(months)\n",
    "set(years)\n",
    "set(months)"
   ]
  },
  {
   "cell_type": "code",
   "execution_count": null,
   "id": "af75e8fa-28dd-4300-a98d-ed4c2a8bdbec",
   "metadata": {},
   "outputs": [],
   "source": [
    "# type(years[0])\n",
    "user_login_history_df['year'] = years\n",
    "user_login_history_df['month'] = months\n",
    "user_login_history_df.shape"
   ]
  },
  {
   "cell_type": "code",
   "execution_count": null,
   "id": "95b3e70f-0734-48fe-bd50-af11d96bc0fd",
   "metadata": {},
   "outputs": [],
   "source": [
    "# save the new dataframe as csv\n",
    "user_login_history_df.to_csv('../Cleaned_data/mobile_app_users.csv', index=False)"
   ]
  },
  {
   "cell_type": "code",
   "execution_count": null,
   "id": "67b5bf2a-cb53-4612-874e-a02e48c78b24",
   "metadata": {},
   "outputs": [],
   "source": [
    "# observe number of offices in every year \n",
    "user_login_history_year_by = user_login_history_df.groupby('year')['year'].count()\n",
    "user_login_history_year_by"
   ]
  },
  {
   "cell_type": "code",
   "execution_count": null,
   "id": "a520d384-852d-4ead-8e6f-f0f63c796995",
   "metadata": {},
   "outputs": [],
   "source": [
    "plt.hist(user_login_history_df['year'])\n",
    "\n",
    "\n",
    "plt.xlabel('years')\n",
    "plt.ylabel('')\n",
    "plt.title('')\n",
    "# plt.text(60, .025, r'$\\mu=100,\\ \\sigma=15$')\n",
    "# plt.xlim(40, 160)\n",
    "# plt.ylim(0, 0.03)\n",
    "plt.grid(True)\n",
    "plt.show()"
   ]
  },
  {
   "cell_type": "code",
   "execution_count": null,
   "id": "e04a1723-9350-45be-9ab5-ca1e4c4e13f9",
   "metadata": {},
   "outputs": [],
   "source": [
    "month_map ={\n",
    "    '1': 'January',\n",
    "    '01': 'January',\n",
    "    '2': 'February',\n",
    "    '02': 'February',\n",
    "    '3': 'March',\n",
    "    '03': 'March',\n",
    "    '4': 'April',\n",
    "    '04': 'April',\n",
    "    '5': 'May',\n",
    "    '05': 'May',\n",
    "    '6': 'June',\n",
    "    '06': 'June',\n",
    "    '7': 'July',\n",
    "    '07': 'July',\n",
    "    '8': 'August',\n",
    "    '08': 'August',\n",
    "    '9': 'September',\n",
    "    '09': 'September',\n",
    "    '10': 'October',\n",
    "    '11': 'November',\n",
    "    '12': 'December',\n",
    "    'unknown': 'unknown',\n",
    "}"
   ]
  },
  {
   "cell_type": "code",
   "execution_count": null,
   "id": "778c0ce5-c7e1-4763-9458-3bd609aedd40",
   "metadata": {},
   "outputs": [],
   "source": [
    "# Generate general_series and drilldown series for bar graph\n",
    "# general series: year: number of officess\n",
    "user_login_histroy_year_by = user_login_history_df.groupby('year')\n",
    "\n",
    "def generate_general_series_drilldown_series(dataframe_year_by, general_series_name):\n",
    "    general_series = [\n",
    "        \n",
    "        {\n",
    "            'name': general_series_name,\n",
    "            'colorByPoint': True,\n",
    "            'data': [],\n",
    "        }\n",
    "    ]\n",
    "    drilldown_series = []\n",
    "\n",
    "    for year, year_frame in dataframe_year_by:\n",
    "        year = str(year)\n",
    "        # year, year_frame.shape\n",
    "        temporary_dict_general = {'name': year, 'y': year_frame.shape[0], 'drilldown': year}\n",
    "        general_series[0]['data'].append(temporary_dict_general)\n",
    "        temporary_dict_drilldown = {\n",
    "            'name': year,\n",
    "            'id': year,\n",
    "            'data': [],\n",
    "        }\n",
    "        month_group_by = year_frame.groupby('month')\n",
    "        for month, month_frame in month_group_by:\n",
    "          \n",
    "            # mg, mf.shape[0]\n",
    "            month = str(month)\n",
    "            month = month_map[month]\n",
    "\n",
    "            lst = [month, month_frame.shape[0]]\n",
    "            # lst = [month, month_frame['upokarvogi'].sum()]\n",
    "            temporary_dict_drilldown['data'].append(lst)\n",
    "        drilldown_series.append(temporary_dict_drilldown)\n",
    "    return general_series, drilldown_series\n",
    "\n",
    "general_series, drilldown_series = generate_general_series_drilldown_series(user_login_histroy_year_by, 'upokarvogi')\n"
   ]
  },
  {
   "cell_type": "code",
   "execution_count": null,
   "id": "d0544da0-9cc5-47c2-8fa7-a48582edf9c9",
   "metadata": {},
   "outputs": [],
   "source": [
    "general_series\n",
    "drilldown_series"
   ]
  },
  {
   "cell_type": "code",
   "execution_count": null,
   "id": "655e2bcb-8865-478b-b6fd-5b39b9291901",
   "metadata": {},
   "outputs": [],
   "source": [
    "\n",
    "month_list =['January', 'February', 'March', 'April', 'May', 'June', 'July', 'August','September', 'October','November', 'December', 'unknown' ]\n",
    "mobile_app_users = {}\n",
    "\n",
    "dataframe_year_by = user_login_history_df.groupby('year')\n",
    "\n",
    "for year, year_frame in dataframe_year_by:\n",
    "    year = str(year)\n",
    "    # year, year_frame.shape\n",
    "    \n",
    "    month_dict = {}\n",
    "\n",
    "    month_group_by = year_frame.groupby('month')\n",
    "    for month, month_frame in month_group_by:\n",
    "\n",
    "        # mg, mf.shape[0]\n",
    "        month = str(month)\n",
    "        month = month_map[month]\n",
    "        month_dict[month] = int(month_frame.shape[0])\n",
    "    month_dict = dict(sorted(month_dict.items(), key=lambda x:month_list.index(x[0])))\n",
    "    dic = {'count': int(year_frame.shape[0]), 'month_map': month_dict}\n",
    "    mobile_app_users[year] = dic\n",
    "\n",
    "print(mobile_app_users)"
   ]
  },
  {
   "cell_type": "code",
   "execution_count": null,
   "id": "269f1173-30ad-457c-9a2f-5704e8078f2d",
   "metadata": {},
   "outputs": [],
   "source": [
    "import json\n",
    "\n",
    "dictionary = mobile_app_users\n",
    "\n",
    "with open('../Cleaned_data/mobile_app_users.json', 'w', encoding='utf-8') as f:\n",
    "    json.dump(dictionary, f, ensure_ascii=False, indent=4)\n",
    "\n",
    "with open('../Cleaned_data/mobile_app_users.json', 'r', encoding='utf-8') as json_file:\n",
    "    data = json.load(json_file)\n",
    "    print(data)"
   ]
  },
  {
   "cell_type": "markdown",
   "id": "a6285beb-3595-41db-a71c-90d49e115052",
   "metadata": {},
   "source": [
    "# End End End"
   ]
  }
 ],
 "metadata": {
  "kernelspec": {
   "display_name": "Python 3 (ipykernel)",
   "language": "python",
   "name": "python3"
  },
  "language_info": {
   "codemirror_mode": {
    "name": "ipython",
    "version": 3
   },
   "file_extension": ".py",
   "mimetype": "text/x-python",
   "name": "python",
   "nbconvert_exporter": "python",
   "pygments_lexer": "ipython3",
   "version": "3.8.10"
  }
 },
 "nbformat": 4,
 "nbformat_minor": 5
}
