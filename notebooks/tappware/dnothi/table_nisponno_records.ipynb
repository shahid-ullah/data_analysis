{
 "cells": [
  {
   "cell_type": "code",
   "execution_count": 121,
   "id": "124dc85d-8b3c-4163-8cda-42e57a61ae50",
   "metadata": {},
   "outputs": [],
   "source": [
    "# import necessary library\n",
    "from IPython.core.interactiveshell import InteractiveShell\n",
    "InteractiveShell.ast_node_interactivity = \"all\"\n",
    "\n",
    "import pandas as pd\n",
    "import numpy as np\n",
    "import matplotlib.pyplot as plt\n",
    "import seaborn as sns\n",
    "pd.set_option('display.max_columns', None)"
   ]
  },
  {
   "cell_type": "code",
   "execution_count": 3,
   "id": "053ef562-1acd-40f6-b516-23c20fe90df1",
   "metadata": {},
   "outputs": [],
   "source": [
    "def load_dataframe(path=None, nrows=100000):\n",
    "    if not path:\n",
    "        path = '~/data_analysis/data/tappware/dnothi/nisponno_records.csv'\n",
    "    return pd.read_csv(path, nrows=nrows)"
   ]
  },
  {
   "cell_type": "code",
   "execution_count": 4,
   "id": "5c9ab769-51a5-4dbf-b2a8-aedb722e5c0f",
   "metadata": {},
   "outputs": [
    {
     "data": {
      "text/plain": [
       "(100000, 18)"
      ]
     },
     "execution_count": 4,
     "metadata": {},
     "output_type": "execute_result"
    }
   ],
   "source": [
    "df = load_dataframe()\n",
    "df.shape"
   ]
  },
  {
   "cell_type": "code",
   "execution_count": 34,
   "id": "13a145bd-bdc0-4106-a466-05751e5b7ce1",
   "metadata": {},
   "outputs": [
    {
     "data": {
      "text/html": [
       "<div>\n",
       "<style scoped>\n",
       "    .dataframe tbody tr th:only-of-type {\n",
       "        vertical-align: middle;\n",
       "    }\n",
       "\n",
       "    .dataframe tbody tr th {\n",
       "        vertical-align: top;\n",
       "    }\n",
       "\n",
       "    .dataframe thead th {\n",
       "        text-align: right;\n",
       "    }\n",
       "</style>\n",
       "<table border=\"1\" class=\"dataframe\">\n",
       "  <thead>\n",
       "    <tr style=\"text-align: right;\">\n",
       "      <th></th>\n",
       "      <th>id</th>\n",
       "      <th>nothi_master_id</th>\n",
       "      <th>nothi_part_no</th>\n",
       "      <th>type</th>\n",
       "      <th>nothi_onucched_id</th>\n",
       "      <th>potrojari_id</th>\n",
       "      <th>nothi_office_id</th>\n",
       "      <th>office_id</th>\n",
       "      <th>unit_id</th>\n",
       "      <th>designation_id</th>\n",
       "      <th>employee_id</th>\n",
       "      <th>upokarvogi</th>\n",
       "      <th>potrojari_internal_own</th>\n",
       "      <th>potrojari_internal_other</th>\n",
       "      <th>dak_srijito</th>\n",
       "      <th>operation_date</th>\n",
       "      <th>created</th>\n",
       "      <th>modified</th>\n",
       "    </tr>\n",
       "  </thead>\n",
       "  <tbody>\n",
       "    <tr>\n",
       "      <th>0</th>\n",
       "      <td>1</td>\n",
       "      <td>1</td>\n",
       "      <td>1</td>\n",
       "      <td>potrojari</td>\n",
       "      <td>1.0</td>\n",
       "      <td>0</td>\n",
       "      <td>11</td>\n",
       "      <td>11</td>\n",
       "      <td>333</td>\n",
       "      <td>817</td>\n",
       "      <td>76</td>\n",
       "      <td>0</td>\n",
       "      <td>0</td>\n",
       "      <td>0</td>\n",
       "      <td>0</td>\n",
       "      <td>2016-02-10 00:00:00</td>\n",
       "      <td>2016-11-26 12:27:29</td>\n",
       "      <td>2016-11-26 12:27:29</td>\n",
       "    </tr>\n",
       "    <tr>\n",
       "      <th>1</th>\n",
       "      <td>2</td>\n",
       "      <td>3</td>\n",
       "      <td>5</td>\n",
       "      <td>potrojari</td>\n",
       "      <td>7.0</td>\n",
       "      <td>0</td>\n",
       "      <td>11</td>\n",
       "      <td>11</td>\n",
       "      <td>770</td>\n",
       "      <td>1810</td>\n",
       "      <td>478</td>\n",
       "      <td>0</td>\n",
       "      <td>0</td>\n",
       "      <td>0</td>\n",
       "      <td>0</td>\n",
       "      <td>2016-02-13 00:00:00</td>\n",
       "      <td>2016-11-26 12:27:29</td>\n",
       "      <td>2016-11-26 12:27:29</td>\n",
       "    </tr>\n",
       "    <tr>\n",
       "      <th>2</th>\n",
       "      <td>3</td>\n",
       "      <td>3</td>\n",
       "      <td>6</td>\n",
       "      <td>potrojari</td>\n",
       "      <td>10.0</td>\n",
       "      <td>0</td>\n",
       "      <td>11</td>\n",
       "      <td>11</td>\n",
       "      <td>770</td>\n",
       "      <td>1810</td>\n",
       "      <td>478</td>\n",
       "      <td>0</td>\n",
       "      <td>0</td>\n",
       "      <td>0</td>\n",
       "      <td>0</td>\n",
       "      <td>2016-02-13 00:00:00</td>\n",
       "      <td>2016-11-26 12:27:29</td>\n",
       "      <td>2016-11-26 12:27:29</td>\n",
       "    </tr>\n",
       "    <tr>\n",
       "      <th>3</th>\n",
       "      <td>4</td>\n",
       "      <td>7</td>\n",
       "      <td>10</td>\n",
       "      <td>potrojari</td>\n",
       "      <td>13.0</td>\n",
       "      <td>0</td>\n",
       "      <td>11</td>\n",
       "      <td>11</td>\n",
       "      <td>333</td>\n",
       "      <td>817</td>\n",
       "      <td>76</td>\n",
       "      <td>0</td>\n",
       "      <td>0</td>\n",
       "      <td>0</td>\n",
       "      <td>0</td>\n",
       "      <td>2016-11-16 00:00:00</td>\n",
       "      <td>2016-11-26 12:27:29</td>\n",
       "      <td>2016-11-26 12:27:29</td>\n",
       "    </tr>\n",
       "    <tr>\n",
       "      <th>4</th>\n",
       "      <td>5</td>\n",
       "      <td>9</td>\n",
       "      <td>12</td>\n",
       "      <td>potrojari</td>\n",
       "      <td>14.0</td>\n",
       "      <td>0</td>\n",
       "      <td>11</td>\n",
       "      <td>11</td>\n",
       "      <td>770</td>\n",
       "      <td>1810</td>\n",
       "      <td>478</td>\n",
       "      <td>0</td>\n",
       "      <td>0</td>\n",
       "      <td>0</td>\n",
       "      <td>0</td>\n",
       "      <td>2016-02-14 00:00:00</td>\n",
       "      <td>2016-11-26 12:27:29</td>\n",
       "      <td>2016-11-26 12:27:29</td>\n",
       "    </tr>\n",
       "  </tbody>\n",
       "</table>\n",
       "</div>"
      ],
      "text/plain": [
       "   id  nothi_master_id  nothi_part_no       type  nothi_onucched_id  \\\n",
       "0   1                1              1  potrojari                1.0   \n",
       "1   2                3              5  potrojari                7.0   \n",
       "2   3                3              6  potrojari               10.0   \n",
       "3   4                7             10  potrojari               13.0   \n",
       "4   5                9             12  potrojari               14.0   \n",
       "\n",
       "   potrojari_id  nothi_office_id  office_id  unit_id  designation_id  \\\n",
       "0             0               11         11      333             817   \n",
       "1             0               11         11      770            1810   \n",
       "2             0               11         11      770            1810   \n",
       "3             0               11         11      333             817   \n",
       "4             0               11         11      770            1810   \n",
       "\n",
       "   employee_id  upokarvogi  potrojari_internal_own  potrojari_internal_other  \\\n",
       "0           76           0                       0                         0   \n",
       "1          478           0                       0                         0   \n",
       "2          478           0                       0                         0   \n",
       "3           76           0                       0                         0   \n",
       "4          478           0                       0                         0   \n",
       "\n",
       "   dak_srijito       operation_date              created             modified  \n",
       "0            0  2016-02-10 00:00:00  2016-11-26 12:27:29  2016-11-26 12:27:29  \n",
       "1            0  2016-02-13 00:00:00  2016-11-26 12:27:29  2016-11-26 12:27:29  \n",
       "2            0  2016-02-13 00:00:00  2016-11-26 12:27:29  2016-11-26 12:27:29  \n",
       "3            0  2016-11-16 00:00:00  2016-11-26 12:27:29  2016-11-26 12:27:29  \n",
       "4            0  2016-02-14 00:00:00  2016-11-26 12:27:29  2016-11-26 12:27:29  "
      ]
     },
     "execution_count": 34,
     "metadata": {},
     "output_type": "execute_result"
    }
   ],
   "source": [
    "# df.upokarvogi.nunique()\n",
    "# df.shape[0]\n",
    "df.head()"
   ]
  },
  {
   "cell_type": "code",
   "execution_count": 36,
   "id": "fbfd86fc-60fd-4158-a893-c7857ba68dfb",
   "metadata": {},
   "outputs": [
    {
     "name": "stdout",
     "output_type": "stream",
     "text": [
      "<class 'pandas.core.frame.DataFrame'>\n",
      "RangeIndex: 100000 entries, 0 to 99999\n",
      "Data columns (total 18 columns):\n",
      " #   Column                    Non-Null Count   Dtype  \n",
      "---  ------                    --------------   -----  \n",
      " 0   id                        100000 non-null  int64  \n",
      " 1   nothi_master_id           100000 non-null  int64  \n",
      " 2   nothi_part_no             100000 non-null  int64  \n",
      " 3   type                      100000 non-null  object \n",
      " 4   nothi_onucched_id         85355 non-null   float64\n",
      " 5   potrojari_id              100000 non-null  int64  \n",
      " 6   nothi_office_id           100000 non-null  int64  \n",
      " 7   office_id                 100000 non-null  int64  \n",
      " 8   unit_id                   100000 non-null  int64  \n",
      " 9   designation_id            100000 non-null  int64  \n",
      " 10  employee_id               100000 non-null  int64  \n",
      " 11  upokarvogi                100000 non-null  int64  \n",
      " 12  potrojari_internal_own    100000 non-null  int64  \n",
      " 13  potrojari_internal_other  100000 non-null  int64  \n",
      " 14  dak_srijito               100000 non-null  int64  \n",
      " 15  operation_date            100000 non-null  object \n",
      " 16  created                   100000 non-null  object \n",
      " 17  modified                  100000 non-null  object \n",
      "dtypes: float64(1), int64(13), object(4)\n",
      "memory usage: 38.3 MB\n"
     ]
    }
   ],
   "source": [
    "# Dataset overview\n",
    "df.info(memory_usage='deep')\n",
    "# df.columns"
   ]
  },
  {
   "cell_type": "code",
   "execution_count": null,
   "id": "504095e4-bf2d-4479-afb5-80f745414698",
   "metadata": {},
   "outputs": [],
   "source": []
  },
  {
   "cell_type": "markdown",
   "id": "6fda5c54-1d48-4551-ab3a-5669c11475c0",
   "metadata": {},
   "source": [
    "### General Insights / General questions we can answer:\n",
    "    - কোন নির্দিষ্ট সালে/মাসে/দিনে উপকারভোগী সংখ্যা।\n",
    "    - কোন নির্দিষ্ট সালে/মাসে/দিনে নোট নিষ্পন্ন সংখ্যা।\n",
    "    - কোন নির্দিষ্ট সালে/মাসে/দিনে পত্রজারি সংখ্যা।\n",
    "    - পত্রজারি এবং নোট নিষ্পন্নের হার বা অনুপাত।\n",
    "    - Internal_own vs Internal_other পত্রজারির অনুপাত।\n",
    "\n",
    "### Business Insights / Questions we can explore:\n",
    "    - কোন নির্দিষ্ট সালে/মাসে/দিনে উপকারভোগী সংখ্যা।\n",
    "    - কোন নির্দিষ্ট সালে/মাসে/দিনে নোট নিষ্পন্ন সংখ্যা।\n",
    "    - কোন নির্দিষ্ট সালে/মাসে/দিনে পত্রজারি সংখ্যা।\n",
    "\n",
    "\n",
    "\n",
    "### Rough \n",
    "- cummulative sum / year trend of upokarvogi, note_nisponno, potrojari"
   ]
  },
  {
   "cell_type": "markdown",
   "id": "4ac361bb-8af2-417a-b42c-59c0b855c4ff",
   "metadata": {},
   "source": [
    "### উপকারভোগী সংখ্যা"
   ]
  },
  {
   "cell_type": "code",
   "execution_count": 81,
   "id": "ff172758-09f7-4da7-8910-d3be8a78cbd4",
   "metadata": {},
   "outputs": [
    {
     "data": {
      "text/html": [
       "<div>\n",
       "<style scoped>\n",
       "    .dataframe tbody tr th:only-of-type {\n",
       "        vertical-align: middle;\n",
       "    }\n",
       "\n",
       "    .dataframe tbody tr th {\n",
       "        vertical-align: top;\n",
       "    }\n",
       "\n",
       "    .dataframe thead th {\n",
       "        text-align: right;\n",
       "    }\n",
       "</style>\n",
       "<table border=\"1\" class=\"dataframe\">\n",
       "  <thead>\n",
       "    <tr style=\"text-align: right;\">\n",
       "      <th></th>\n",
       "      <th>operation_date</th>\n",
       "      <th>upokarvogi</th>\n",
       "    </tr>\n",
       "  </thead>\n",
       "  <tbody>\n",
       "    <tr>\n",
       "      <th>0</th>\n",
       "      <td>2016</td>\n",
       "      <td>5</td>\n",
       "    </tr>\n",
       "    <tr>\n",
       "      <th>1</th>\n",
       "      <td>2017</td>\n",
       "      <td>0</td>\n",
       "    </tr>\n",
       "  </tbody>\n",
       "</table>\n",
       "</div>"
      ],
      "text/plain": [
       "   operation_date  upokarvogi\n",
       "0            2016           5\n",
       "1            2017           0"
      ]
     },
     "execution_count": 81,
     "metadata": {},
     "output_type": "execute_result"
    }
   ],
   "source": [
    "df_upokarvogi = df[['upokarvogi', 'operation_date']].copy(deep=True)\n",
    "df_upokarvogi['operation_date'] = pd.to_datetime(df_upokarvogi.operation_date)\n",
    "# year summary\n",
    "upokarvogi_summary = df_upokarvogi.groupby(df_upokarvogi.operation_date.dt.year)['upokarvogi'].sum().reset_index(name='upokarvogi')\n",
    "upokarvogi_summary"
   ]
  },
  {
   "cell_type": "code",
   "execution_count": 124,
   "id": "e018a707-0c09-421d-afeb-7ebe7b76ba28",
   "metadata": {},
   "outputs": [
    {
     "data": {
      "text/plain": [
       "<BarContainer object of 2 artists>"
      ]
     },
     "execution_count": 124,
     "metadata": {},
     "output_type": "execute_result"
    },
    {
     "data": {
      "text/plain": [
       "Text(0.5, 1.0, 'Upokarvogi by year')"
      ]
     },
     "execution_count": 124,
     "metadata": {},
     "output_type": "execute_result"
    },
    {
     "data": {
      "text/plain": [
       "Text(0, 0.5, 'upokarvogi count')"
      ]
     },
     "execution_count": 124,
     "metadata": {},
     "output_type": "execute_result"
    },
    {
     "data": {
      "text/plain": [
       "<matplotlib.legend.Legend at 0x7fa9a0b735b0>"
      ]
     },
     "execution_count": 124,
     "metadata": {},
     "output_type": "execute_result"
    },
    {
     "data": {
      "image/png": "[encoded data removed]",
      "text/plain": [
       "<Figure size 432x288 with 1 Axes>"
      ]
     },
     "metadata": {
      "needs_background": "light"
     },
     "output_type": "display_data"
    }
   ],
   "source": [
    "fig, ax = plt.subplots()\n",
    "\n",
    "labels = []\n",
    "for year in upokarvogi_summary.operation_date.values:\n",
    "    labels.append(str(year))\n",
    "    \n",
    "height = upokarvogi_summary.upokarvogi.values\n",
    "\n",
    "# Define searborn color palette to use\n",
    "colors = sns.color_palette('bright')[0:len(labels)]\n",
    "\n",
    "\n",
    "ax.bar(labels, height, label='upokarvogi', color=colors)\n",
    "ax.set_title('Upokarvogi by year')\n",
    "ax.set_ylabel('upokarvogi count')\n",
    "ax.legend()\n",
    "plt.show()\n"
   ]
  },
  {
   "cell_type": "code",
   "execution_count": 119,
   "id": "7af50722-78d8-4243-8805-c352526a890c",
   "metadata": {},
   "outputs": [],
   "source": [
    "# list(upokarvogi_summary.upokarvogi.values)\n",
    "# list(upokarvogi_summary.operation_date.values)"
   ]
  },
  {
   "cell_type": "markdown",
   "id": "6e038d68-59fa-4f2f-8b1a-be14cfcd814b",
   "metadata": {},
   "source": [
    "### নোট নিষ্পন্ন সংখ্যা\n"
   ]
  },
  {
   "cell_type": "code",
   "execution_count": 126,
   "id": "85226209-b488-4298-9399-57cc2c119614",
   "metadata": {},
   "outputs": [
    {
     "data": {
      "text/html": [
       "<div>\n",
       "<style scoped>\n",
       "    .dataframe tbody tr th:only-of-type {\n",
       "        vertical-align: middle;\n",
       "    }\n",
       "\n",
       "    .dataframe tbody tr th {\n",
       "        vertical-align: top;\n",
       "    }\n",
       "\n",
       "    .dataframe thead th {\n",
       "        text-align: right;\n",
       "    }\n",
       "</style>\n",
       "<table border=\"1\" class=\"dataframe\">\n",
       "  <thead>\n",
       "    <tr style=\"text-align: right;\">\n",
       "      <th></th>\n",
       "      <th>operation_date</th>\n",
       "      <th>note_nisponno</th>\n",
       "    </tr>\n",
       "  </thead>\n",
       "  <tbody>\n",
       "    <tr>\n",
       "      <th>0</th>\n",
       "      <td>2016</td>\n",
       "      <td>57907</td>\n",
       "    </tr>\n",
       "    <tr>\n",
       "      <th>1</th>\n",
       "      <td>2017</td>\n",
       "      <td>22465</td>\n",
       "    </tr>\n",
       "  </tbody>\n",
       "</table>\n",
       "</div>"
      ],
      "text/plain": [
       "   operation_date  note_nisponno\n",
       "0            2016          57907\n",
       "1            2017          22465"
      ]
     },
     "execution_count": 126,
     "metadata": {},
     "output_type": "execute_result"
    }
   ],
   "source": [
    "df_note_nisponno = df[df['type'] != 'potrojari'][['type', 'operation_date']]\n",
    "df_note_nisponno['operation_date'] = pd.to_datetime(df_note_nisponno.operation_date)\n",
    "# year summary\n",
    "note_nisponno_summary = df_note_nisponno.groupby(df_note_nisponno.operation_date.dt.year).size().reset_index(name='note_nisponno')\n",
    "note_nisponno_summary"
   ]
  },
  {
   "cell_type": "code",
   "execution_count": 128,
   "id": "9bcb1464-14d9-4855-acc6-869f5f670a54",
   "metadata": {},
   "outputs": [
    {
     "data": {
      "text/plain": [
       "<BarContainer object of 2 artists>"
      ]
     },
     "execution_count": 128,
     "metadata": {},
     "output_type": "execute_result"
    },
    {
     "data": {
      "text/plain": [
       "Text(0.5, 1.0, 'note_nisponno by year')"
      ]
     },
     "execution_count": 128,
     "metadata": {},
     "output_type": "execute_result"
    },
    {
     "data": {
      "text/plain": [
       "Text(0, 0.5, 'note_nisponno count')"
      ]
     },
     "execution_count": 128,
     "metadata": {},
     "output_type": "execute_result"
    },
    {
     "data": {
      "text/plain": [
       "<matplotlib.legend.Legend at 0x7fa9a04f2a90>"
      ]
     },
     "execution_count": 128,
     "metadata": {},
     "output_type": "execute_result"
    },
    {
     "data": {
      "image/png": "[encoded data removed]",
      "text/plain": [
       "<Figure size 432x288 with 1 Axes>"
      ]
     },
     "metadata": {
      "needs_background": "light"
     },
     "output_type": "display_data"
    }
   ],
   "source": [
    "fig, ax = plt.subplots()\n",
    "\n",
    "labels = []\n",
    "for year in note_nisponno_summary.operation_date.values:\n",
    "    labels.append(str(year))\n",
    "    \n",
    "height = note_nisponno_summary.note_nisponno.values\n",
    "\n",
    "# Define searborn color palette to use\n",
    "colors = sns.color_palette('bright')[0:len(labels)]\n",
    "\n",
    "\n",
    "ax.bar(labels, height, label='note_nisponno', color=colors)\n",
    "ax.set_title('note_nisponno by year')\n",
    "ax.set_ylabel('note_nisponno count')\n",
    "ax.legend()\n",
    "plt.show()"
   ]
  },
  {
   "cell_type": "markdown",
   "id": "7f27c6a8-2551-42f9-9073-827f52784bb6",
   "metadata": {},
   "source": [
    "### পত্রজারি সংখ্যা"
   ]
  },
  {
   "cell_type": "code",
   "execution_count": 129,
   "id": "7de1bf57-1d6e-42a0-ae1e-7a31066c9b69",
   "metadata": {},
   "outputs": [
    {
     "data": {
      "text/html": [
       "<div>\n",
       "<style scoped>\n",
       "    .dataframe tbody tr th:only-of-type {\n",
       "        vertical-align: middle;\n",
       "    }\n",
       "\n",
       "    .dataframe tbody tr th {\n",
       "        vertical-align: top;\n",
       "    }\n",
       "\n",
       "    .dataframe thead th {\n",
       "        text-align: right;\n",
       "    }\n",
       "</style>\n",
       "<table border=\"1\" class=\"dataframe\">\n",
       "  <thead>\n",
       "    <tr style=\"text-align: right;\">\n",
       "      <th></th>\n",
       "      <th>operation_date</th>\n",
       "      <th>potrojari</th>\n",
       "    </tr>\n",
       "  </thead>\n",
       "  <tbody>\n",
       "    <tr>\n",
       "      <th>0</th>\n",
       "      <td>2016</td>\n",
       "      <td>13359</td>\n",
       "    </tr>\n",
       "    <tr>\n",
       "      <th>1</th>\n",
       "      <td>2017</td>\n",
       "      <td>6269</td>\n",
       "    </tr>\n",
       "  </tbody>\n",
       "</table>\n",
       "</div>"
      ],
      "text/plain": [
       "   operation_date  potrojari\n",
       "0            2016      13359\n",
       "1            2017       6269"
      ]
     },
     "execution_count": 129,
     "metadata": {},
     "output_type": "execute_result"
    }
   ],
   "source": [
    "df_potrojari = df[df['type'] == 'potrojari'][['type', 'operation_date']]\n",
    "df_potrojari['operation_date'] = pd.to_datetime(df_potrojari.operation_date)\n",
    "# year_summary\n",
    "potrojari_summary = df_potrojari.groupby(df_potrojari.operation_date.dt.year).size().reset_index(name='potrojari')\n",
    "potrojari_summary"
   ]
  },
  {
   "cell_type": "code",
   "execution_count": 130,
   "id": "742d6edd-4f64-4be4-880a-6c820cd2815d",
   "metadata": {},
   "outputs": [
    {
     "data": {
      "text/plain": [
       "<BarContainer object of 2 artists>"
      ]
     },
     "execution_count": 130,
     "metadata": {},
     "output_type": "execute_result"
    },
    {
     "data": {
      "text/plain": [
       "Text(0.5, 1.0, 'potrojari by year')"
      ]
     },
     "execution_count": 130,
     "metadata": {},
     "output_type": "execute_result"
    },
    {
     "data": {
      "text/plain": [
       "Text(0, 0.5, 'potrojari count')"
      ]
     },
     "execution_count": 130,
     "metadata": {},
     "output_type": "execute_result"
    },
    {
     "data": {
      "text/plain": [
       "<matplotlib.legend.Legend at 0x7fa9a04fe7f0>"
      ]
     },
     "execution_count": 130,
     "metadata": {},
     "output_type": "execute_result"
    },
    {
     "data": {
      "image/png": "[encoded data removed]",
      "text/plain": [
       "<Figure size 432x288 with 1 Axes>"
      ]
     },
     "metadata": {
      "needs_background": "light"
     },
     "output_type": "display_data"
    }
   ],
   "source": [
    "fig, ax = plt.subplots()\n",
    "\n",
    "labels = []\n",
    "for year in potrojari_summary.operation_date.values:\n",
    "    labels.append(str(year))\n",
    "    \n",
    "height = potrojari_summary.potrojari.values\n",
    "\n",
    "# Define searborn color palette to use\n",
    "colors = sns.color_palette('bright')[0:len(labels)]\n",
    "\n",
    "\n",
    "ax.bar(labels, height, label='potrojari', color=colors)\n",
    "ax.set_title('potrojari by year')\n",
    "ax.set_ylabel('potrojari count')\n",
    "ax.legend()\n",
    "plt.show()"
   ]
  },
  {
   "cell_type": "markdown",
   "id": "15e9c6f6-deb0-43c6-9186-eac4a74dc670",
   "metadata": {},
   "source": [
    "### পত্রজারি এবং নোট নিষ্পন্নের হার বা অনুপাত।\n",
    " "
   ]
  },
  {
   "cell_type": "code",
   "execution_count": 80,
   "id": "95c75a4c-e23a-4878-8177-f5e4c99c263b",
   "metadata": {},
   "outputs": [
    {
     "data": {
      "text/plain": [
       "note         80.4%\n",
       "potrojari    19.6%\n",
       "Name: type, dtype: object"
      ]
     },
     "execution_count": 80,
     "metadata": {},
     "output_type": "execute_result"
    }
   ],
   "source": [
    "df['type'].value_counts(normalize=True).mul(100).round(1).astype(str) + '%'\n",
    "# df['type'].value_counts()"
   ]
  },
  {
   "cell_type": "code",
   "execution_count": 142,
   "id": "c46d6c7e-91b5-4121-ab22-a70dd764343c",
   "metadata": {},
   "outputs": [
    {
     "data": {
      "text/plain": [
       "[None, None, None, None]"
      ]
     },
     "execution_count": 142,
     "metadata": {},
     "output_type": "execute_result"
    },
    {
     "data": {
      "text/plain": [
       "Text(0.5, 1.0, 'potrojari vs note nisponno')"
      ]
     },
     "execution_count": 142,
     "metadata": {},
     "output_type": "execute_result"
    },
    {
     "data": {
      "image/png": "[encoded data removed]",
      "text/plain": [
       "<Figure size 1120x560 with 1 Axes>"
      ]
     },
     "metadata": {},
     "output_type": "display_data"
    }
   ],
   "source": [
    "dak_type_summary = df.groupby('type').size().reset_index(name='counts')\n",
    "\n",
    "fig, ax = plt.subplots(figsize=(14, 7), subplot_kw=dict(aspect=\"equal\"), dpi= 80)\n",
    "\n",
    "# Define searborn color palette to use\n",
    "colors = sns.color_palette('bright')[0:5]\n",
    "# colors = sns.color_palette('pastel')[0:5]\n",
    "wedges, texts, autotexts = ax.pie(dak_type_summary['counts'], \n",
    "                                  autopct='%.0f%%',\n",
    "                                  textprops=dict(color=\"w\"), \n",
    "                                  colors=colors,\n",
    "                                  startangle=90,\n",
    "                                 )\n",
    "\n",
    "_ = ax.legend(wedges, dak_type_summary['type'], title=\"type\", loc=\"center left\", bbox_to_anchor=(1, 0, 0.5, 1))\n",
    "\n",
    "plt.setp(autotexts, size=10, weight=700)\n",
    "ax.set_title(\"potrojari vs note nisponno\")\n",
    "\n",
    "plt.show()"
   ]
  },
  {
   "cell_type": "markdown",
   "id": "8a79bc75-2acb-4fce-96e6-9ba2d7f3c22d",
   "metadata": {},
   "source": [
    "### Internal own vs Internal other পত্রজারির অনুপাত\n"
   ]
  },
  {
   "cell_type": "code",
   "execution_count": 79,
   "id": "bb213f34-8156-46d1-9faa-c59f844330dc",
   "metadata": {},
   "outputs": [
    {
     "data": {
      "text/plain": [
       "0    100000\n",
       "Name: potrojari_internal_own, dtype: int64"
      ]
     },
     "execution_count": 79,
     "metadata": {},
     "output_type": "execute_result"
    },
    {
     "data": {
      "text/plain": [
       "0    100000\n",
       "Name: potrojari_internal_other, dtype: int64"
      ]
     },
     "execution_count": 79,
     "metadata": {},
     "output_type": "execute_result"
    }
   ],
   "source": [
    "df.potrojari_internal_own.value_counts()\n",
    "df.potrojari_internal_other.value_counts()\n"
   ]
  }
 ],
 "metadata": {
  "kernelspec": {
   "display_name": "Python 3 (ipykernel)",
   "language": "python",
   "name": "python3"
  },
  "language_info": {
   "codemirror_mode": {
    "name": "ipython",
    "version": 3
   },
   "file_extension": ".py",
   "mimetype": "text/x-python",
   "name": "python",
   "nbconvert_exporter": "python",
   "pygments_lexer": "ipython3",
   "version": "3.8.10"
  }
 },
 "nbformat": 4,
 "nbformat_minor": 5
}
