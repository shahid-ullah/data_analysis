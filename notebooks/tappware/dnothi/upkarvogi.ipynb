{
 "cells": [
  {
   "cell_type": "markdown",
   "id": "f6ce2242-be23-44d2-91ef-710315392df8",
   "metadata": {},
   "source": [
    "``` sql\n",
    "SELECT SUM(upokarvogi) FROM nisponno_records where Date(operation_date) >= '2020-12-23' and Date(operation_date) <= '2020-23-24';\n",
    "```\n",
    "Goals:\n",
    "- Generate Total upkarvogi by Year and month\n",
    "\n",
    "Challenges:\n",
    "1. operation date missing values\n",
    "1. operation date not compatible with date time format\n",
    "\n",
    "Future plan:\n",
    "1. fix missing operation_date values\n",
    "2. fill upokarvogi null value with zero\n"
   ]
  },
  {
   "cell_type": "code",
   "execution_count": 1,
   "id": "cdb9c5b5-7bf9-450f-bfeb-14ca623cc272",
   "metadata": {},
   "outputs": [],
   "source": [
    "# import necessary library\n",
    "from IPython.core.interactiveshell import InteractiveShell\n",
    "InteractiveShell.ast_node_interactivity = \"all\"\n",
    "\n",
    "import pandas as pd\n",
    "import numpy as np\n",
    "import matplotlib.pyplot as plt\n",
    "pd.set_option('display.max_columns', None)"
   ]
  },
  {
   "cell_type": "code",
   "execution_count": 2,
   "id": "7884ba4c-d3b6-4e99-81e7-491c79cb119f",
   "metadata": {},
   "outputs": [
    {
     "data": {
      "text/plain": [
       "18"
      ]
     },
     "execution_count": 2,
     "metadata": {},
     "output_type": "execute_result"
    }
   ],
   "source": [
    "nisponno_records_table_columns_dict = {\n",
    "    '1': 'id',\n",
    "    '2': 'nothi_master_id',\n",
    "    '3': 'nothi_part_no',\n",
    "    '4': 'type',\n",
    "    '5': 'nothi_onucched_id',\n",
    "    '6': 'potrojari_id',\n",
    "    '7': 'nothi_office_id',\n",
    "    '8': 'office_id',\n",
    "    '9': 'unit_id',\n",
    "    '10': 'designation_id',\n",
    "    '11': 'employee_id',\n",
    "    '12': 'upokarvogi',\n",
    "    '13': 'potrojari_internal_own',\n",
    "    '14': 'potrojari_internal_other',\n",
    "    '15': 'dak_srijito',\n",
    "    '16': 'operation_date',\n",
    "    '17': 'created',\n",
    "    '18': 'modified'\n",
    "}\n",
    "nisponno_records_table_columns_list = list(nisponno_records_table_columns_dict.values())\n",
    "nisponno_records_table_columns = nisponno_records_table_columns_list\n",
    "# for key in nisponno_records_table_columns_dict.keys():\n",
    "#     value = \n",
    "\n",
    "len(nisponno_records_table_columns)\n"
   ]
  },
  {
   "cell_type": "markdown",
   "id": "2da7b4d6-5335-4e77-90b5-f2ff8711e7c9",
   "metadata": {},
   "source": [
    "### Check column length consistency"
   ]
  },
  {
   "cell_type": "code",
   "execution_count": 3,
   "id": "1c7c9420-f2fe-4a89-afeb-d86bb4bc515d",
   "metadata": {},
   "outputs": [],
   "source": [
    "nisponno_records_df = pd.read_csv('../Data/nisponno_records_24_11_2021.csv')\n",
    "if len(nisponno_records_table_columns) != nisponno_records_df.shape[1]: \n",
    "    print(f\"previous column length: {len(nisponno_records_table_columns)}, current column_length {nisponno_records_df.shape[1]}\")\n",
    "    raise ValueError('office table attribute added or removed')"
   ]
  },
  {
   "cell_type": "code",
   "execution_count": 3,
   "id": "52c7d2cf-6e88-45b4-a107-84178b5bf678",
   "metadata": {},
   "outputs": [],
   "source": [
    "def load_nisponno_records_df():\n",
    "    nisponno_records_df = pd.read_csv('../Data/nisponno_records_24_11_2021.csv', names=nisponno_records_table_columns)\n",
    "    return nisponno_records_df"
   ]
  },
  {
   "cell_type": "code",
   "execution_count": 4,
   "id": "03bd783c-f0bb-4758-8d67-be7cadfe3f11",
   "metadata": {},
   "outputs": [
    {
     "data": {
      "text/html": [
       "<div>\n",
       "<style scoped>\n",
       "    .dataframe tbody tr th:only-of-type {\n",
       "        vertical-align: middle;\n",
       "    }\n",
       "\n",
       "    .dataframe tbody tr th {\n",
       "        vertical-align: top;\n",
       "    }\n",
       "\n",
       "    .dataframe thead th {\n",
       "        text-align: right;\n",
       "    }\n",
       "</style>\n",
       "<table border=\"1\" class=\"dataframe\">\n",
       "  <thead>\n",
       "    <tr style=\"text-align: right;\">\n",
       "      <th></th>\n",
       "      <th>id</th>\n",
       "      <th>nothi_master_id</th>\n",
       "      <th>nothi_part_no</th>\n",
       "      <th>type</th>\n",
       "      <th>nothi_onucched_id</th>\n",
       "      <th>potrojari_id</th>\n",
       "      <th>nothi_office_id</th>\n",
       "      <th>office_id</th>\n",
       "      <th>unit_id</th>\n",
       "      <th>designation_id</th>\n",
       "      <th>employee_id</th>\n",
       "      <th>upokarvogi</th>\n",
       "      <th>potrojari_internal_own</th>\n",
       "      <th>potrojari_internal_other</th>\n",
       "      <th>dak_srijito</th>\n",
       "      <th>operation_date</th>\n",
       "      <th>created</th>\n",
       "      <th>modified</th>\n",
       "    </tr>\n",
       "  </thead>\n",
       "  <tbody>\n",
       "    <tr>\n",
       "      <th>0</th>\n",
       "      <td>1</td>\n",
       "      <td>1</td>\n",
       "      <td>1</td>\n",
       "      <td>potrojari</td>\n",
       "      <td>1.0</td>\n",
       "      <td>0</td>\n",
       "      <td>11</td>\n",
       "      <td>11</td>\n",
       "      <td>333</td>\n",
       "      <td>817</td>\n",
       "      <td>76</td>\n",
       "      <td>0</td>\n",
       "      <td>0</td>\n",
       "      <td>0</td>\n",
       "      <td>0</td>\n",
       "      <td>2016-02-10 00:00:00</td>\n",
       "      <td>2016-11-26 12:27:29</td>\n",
       "      <td>2016-11-26 12:27:29</td>\n",
       "    </tr>\n",
       "    <tr>\n",
       "      <th>1</th>\n",
       "      <td>2</td>\n",
       "      <td>3</td>\n",
       "      <td>5</td>\n",
       "      <td>potrojari</td>\n",
       "      <td>7.0</td>\n",
       "      <td>0</td>\n",
       "      <td>11</td>\n",
       "      <td>11</td>\n",
       "      <td>770</td>\n",
       "      <td>1810</td>\n",
       "      <td>478</td>\n",
       "      <td>0</td>\n",
       "      <td>0</td>\n",
       "      <td>0</td>\n",
       "      <td>0</td>\n",
       "      <td>2016-02-13 00:00:00</td>\n",
       "      <td>2016-11-26 12:27:29</td>\n",
       "      <td>2016-11-26 12:27:29</td>\n",
       "    </tr>\n",
       "    <tr>\n",
       "      <th>2</th>\n",
       "      <td>3</td>\n",
       "      <td>3</td>\n",
       "      <td>6</td>\n",
       "      <td>potrojari</td>\n",
       "      <td>10.0</td>\n",
       "      <td>0</td>\n",
       "      <td>11</td>\n",
       "      <td>11</td>\n",
       "      <td>770</td>\n",
       "      <td>1810</td>\n",
       "      <td>478</td>\n",
       "      <td>0</td>\n",
       "      <td>0</td>\n",
       "      <td>0</td>\n",
       "      <td>0</td>\n",
       "      <td>2016-02-13 00:00:00</td>\n",
       "      <td>2016-11-26 12:27:29</td>\n",
       "      <td>2016-11-26 12:27:29</td>\n",
       "    </tr>\n",
       "    <tr>\n",
       "      <th>3</th>\n",
       "      <td>4</td>\n",
       "      <td>7</td>\n",
       "      <td>10</td>\n",
       "      <td>potrojari</td>\n",
       "      <td>13.0</td>\n",
       "      <td>0</td>\n",
       "      <td>11</td>\n",
       "      <td>11</td>\n",
       "      <td>333</td>\n",
       "      <td>817</td>\n",
       "      <td>76</td>\n",
       "      <td>0</td>\n",
       "      <td>0</td>\n",
       "      <td>0</td>\n",
       "      <td>0</td>\n",
       "      <td>2016-11-16 00:00:00</td>\n",
       "      <td>2016-11-26 12:27:29</td>\n",
       "      <td>2016-11-26 12:27:29</td>\n",
       "    </tr>\n",
       "    <tr>\n",
       "      <th>4</th>\n",
       "      <td>5</td>\n",
       "      <td>9</td>\n",
       "      <td>12</td>\n",
       "      <td>potrojari</td>\n",
       "      <td>14.0</td>\n",
       "      <td>0</td>\n",
       "      <td>11</td>\n",
       "      <td>11</td>\n",
       "      <td>770</td>\n",
       "      <td>1810</td>\n",
       "      <td>478</td>\n",
       "      <td>0</td>\n",
       "      <td>0</td>\n",
       "      <td>0</td>\n",
       "      <td>0</td>\n",
       "      <td>2016-02-14 00:00:00</td>\n",
       "      <td>2016-11-26 12:27:29</td>\n",
       "      <td>2016-11-26 12:27:29</td>\n",
       "    </tr>\n",
       "  </tbody>\n",
       "</table>\n",
       "</div>"
      ],
      "text/plain": [
       "   id  nothi_master_id  nothi_part_no       type  nothi_onucched_id  \\\n",
       "0   1                1              1  potrojari                1.0   \n",
       "1   2                3              5  potrojari                7.0   \n",
       "2   3                3              6  potrojari               10.0   \n",
       "3   4                7             10  potrojari               13.0   \n",
       "4   5                9             12  potrojari               14.0   \n",
       "\n",
       "   potrojari_id  nothi_office_id  office_id  unit_id  designation_id  \\\n",
       "0             0               11         11      333             817   \n",
       "1             0               11         11      770            1810   \n",
       "2             0               11         11      770            1810   \n",
       "3             0               11         11      333             817   \n",
       "4             0               11         11      770            1810   \n",
       "\n",
       "   employee_id  upokarvogi  potrojari_internal_own  potrojari_internal_other  \\\n",
       "0           76           0                       0                         0   \n",
       "1          478           0                       0                         0   \n",
       "2          478           0                       0                         0   \n",
       "3           76           0                       0                         0   \n",
       "4          478           0                       0                         0   \n",
       "\n",
       "   dak_srijito       operation_date              created             modified  \n",
       "0            0  2016-02-10 00:00:00  2016-11-26 12:27:29  2016-11-26 12:27:29  \n",
       "1            0  2016-02-13 00:00:00  2016-11-26 12:27:29  2016-11-26 12:27:29  \n",
       "2            0  2016-02-13 00:00:00  2016-11-26 12:27:29  2016-11-26 12:27:29  \n",
       "3            0  2016-11-16 00:00:00  2016-11-26 12:27:29  2016-11-26 12:27:29  \n",
       "4            0  2016-02-14 00:00:00  2016-11-26 12:27:29  2016-11-26 12:27:29  "
      ]
     },
     "execution_count": 4,
     "metadata": {},
     "output_type": "execute_result"
    }
   ],
   "source": [
    "nisponno_records_df = load_nisponno_records_df()\n",
    "nisponno_records_df.head()"
   ]
  },
  {
   "cell_type": "code",
   "execution_count": 3,
   "id": "ce426a96-9788-4484-9123-3e11e5a55a47",
   "metadata": {},
   "outputs": [
    {
     "ename": "NameError",
     "evalue": "name 'nisponno_records_df' is not defined",
     "output_type": "error",
     "traceback": [
      "\u001b[0;31m---------------------------------------------------------------------------\u001b[0m",
      "\u001b[0;31mNameError\u001b[0m                                 Traceback (most recent call last)",
      "\u001b[0;32m/tmp/ipykernel_61194/2648802962.py\u001b[0m in \u001b[0;36m<module>\u001b[0;34m\u001b[0m\n\u001b[1;32m      1\u001b[0m \u001b[0;31m# observing dataframe size\u001b[0m\u001b[0;34m\u001b[0m\u001b[0;34m\u001b[0m\u001b[0;34m\u001b[0m\u001b[0m\n\u001b[0;32m----> 2\u001b[0;31m \u001b[0mnisponno_records_df\u001b[0m\u001b[0;34m.\u001b[0m\u001b[0mshape\u001b[0m\u001b[0;34m\u001b[0m\u001b[0;34m\u001b[0m\u001b[0m\n\u001b[0m\u001b[1;32m      3\u001b[0m \u001b[0mnisponno_records_df\u001b[0m\u001b[0;34m.\u001b[0m\u001b[0msize\u001b[0m\u001b[0;34m\u001b[0m\u001b[0;34m\u001b[0m\u001b[0m\n",
      "\u001b[0;31mNameError\u001b[0m: name 'nisponno_records_df' is not defined"
     ]
    }
   ],
   "source": [
    "# observing dataframe size\n",
    "nisponno_records_df.shape\n",
    "nisponno_records_df.size"
   ]
  },
  {
   "cell_type": "code",
   "execution_count": null,
   "id": "db61eba6-2a4d-487f-a92d-9c977d40648b",
   "metadata": {},
   "outputs": [],
   "source": [
    "\n",
    "# observing primary key\n",
    "\"min_id\", min(nisponno_records_df.id.values)\n",
    "\"max_id\", max(nisponno_records_df.id.values)\n",
    "\"table shape\", nisponno_records_df.shape"
   ]
  },
  {
   "cell_type": "code",
   "execution_count": 6,
   "id": "8788d58d-1ab0-4124-acb3-382a49889c79",
   "metadata": {},
   "outputs": [
    {
     "name": "stdout",
     "output_type": "stream",
     "text": [
      "<class 'pandas.core.frame.DataFrame'>\n",
      "RangeIndex: 16416402 entries, 0 to 16416401\n",
      "Data columns (total 18 columns):\n",
      " #   Column                    Dtype  \n",
      "---  ------                    -----  \n",
      " 0   id                        int64  \n",
      " 1   nothi_master_id           int64  \n",
      " 2   nothi_part_no             int64  \n",
      " 3   type                      object \n",
      " 4   nothi_onucched_id         float64\n",
      " 5   potrojari_id              int64  \n",
      " 6   nothi_office_id           int64  \n",
      " 7   office_id                 int64  \n",
      " 8   unit_id                   int64  \n",
      " 9   designation_id            int64  \n",
      " 10  employee_id               int64  \n",
      " 11  upokarvogi                int64  \n",
      " 12  potrojari_internal_own    int64  \n",
      " 13  potrojari_internal_other  int64  \n",
      " 14  dak_srijito               int64  \n",
      " 15  operation_date            object \n",
      " 16  created                   object \n",
      " 17  modified                  object \n",
      "dtypes: float64(1), int64(13), object(4)\n",
      "memory usage: 2.2+ GB\n"
     ]
    }
   ],
   "source": [
    "# observing missing values, datatype, dataframe memory size\n",
    "nisponno_records_df.info()\n"
   ]
  },
  {
   "cell_type": "code",
   "execution_count": 7,
   "id": "0993bf1f-59a5-4baf-ab22-b15ba837c4cc",
   "metadata": {},
   "outputs": [
    {
     "data": {
      "text/plain": [
       "id                              0\n",
       "nothi_master_id                 0\n",
       "nothi_part_no                   0\n",
       "type                            0\n",
       "nothi_onucched_id           87711\n",
       "potrojari_id                    0\n",
       "nothi_office_id                 0\n",
       "office_id                       0\n",
       "unit_id                         0\n",
       "designation_id                  0\n",
       "employee_id                     0\n",
       "upokarvogi                      0\n",
       "potrojari_internal_own          0\n",
       "potrojari_internal_other        0\n",
       "dak_srijito                     0\n",
       "operation_date                  0\n",
       "created                         0\n",
       "modified                        0\n",
       "dtype: int64"
      ]
     },
     "execution_count": 7,
     "metadata": {},
     "output_type": "execute_result"
    }
   ],
   "source": [
    "# observing null value of every attribute\n",
    "nisponno_records_df.isnull().sum()\n",
    "# nisponno_records_df.upokarvogi.unique()"
   ]
  },
  {
   "cell_type": "code",
   "execution_count": 4,
   "id": "6cd9bbc1-2f40-4334-949a-a1609c95e3f5",
   "metadata": {},
   "outputs": [
    {
     "name": "stdout",
     "output_type": "stream",
     "text": [
      "Initial dataframe shape (16416402, 18)\n",
      "dataframe shape after removing operation_date null value (16416402, 3)\n"
     ]
    },
    {
     "data": {
      "text/plain": [
       "(16416402, 4)"
      ]
     },
     "execution_count": 4,
     "metadata": {},
     "output_type": "execute_result"
    },
    {
     "data": {
      "text/plain": [
       "(16416402, 4)"
      ]
     },
     "execution_count": 4,
     "metadata": {},
     "output_type": "execute_result"
    }
   ],
   "source": [
    "# SELECT SUM(upokarvogi) FROM nisponno_records where Date(operation_date) >= '2020-12-23' and Date(operation_date) <= '2020-23-24';\n",
    "\n",
    "# Extract mandatory attributes for offices graph analysis\n",
    "nisponno_records_df = load_nisponno_records_df()\n",
    "print(f\"Initial dataframe shape {nisponno_records_df.shape}\")\n",
    "nisponno_records_df = nisponno_records_df[['id', 'upokarvogi', 'operation_date']] \n",
    "# remove null values\n",
    "nisponno_records_df = nisponno_records_df.loc[nisponno_records_df.operation_date.notnull()]\n",
    "print(f\"dataframe shape after removing operation_date null value {nisponno_records_df.shape}\")\n",
    "# add new column: cretead_new as datetime field from operation_date column\n",
    "nisponno_records_df['opeation_date'] = pd.to_datetime(nisponno_records_df['operation_date'], errors='coerce')\n",
    "# errors{‘ignore’, ‘raise’, ‘coerce’}, default ‘raise’\n",
    "    # If ‘raise’, then invalid parsing will raise an exception.\n",
    "    # If ‘coerce’, then invalid parsing will be set as NaT.\n",
    "    # If ‘ignore’, then invalid parsing will return the input.\n",
    "nisponno_records_df.shape\n",
    "# again remove null values based on opeation_date field\n",
    "nisponno_records_df = nisponno_records_df.loc[nisponno_records_df.opeation_date.notnull()]\n",
    "nisponno_records_df.shape"
   ]
  },
  {
   "cell_type": "code",
   "execution_count": 10,
   "id": "448e811f-4277-40bc-94d2-952803135eb4",
   "metadata": {},
   "outputs": [],
   "source": [
    "# nisponno_records_df.info()"
   ]
  },
  {
   "cell_type": "code",
   "execution_count": 5,
   "id": "da0f93a8-dd32-47c8-af71-00ca36ea217a",
   "metadata": {},
   "outputs": [
    {
     "data": {
      "text/plain": [
       "numpy.ndarray"
      ]
     },
     "execution_count": 5,
     "metadata": {},
     "output_type": "execute_result"
    },
    {
     "data": {
      "text/plain": [
       "numpy.ndarray"
      ]
     },
     "execution_count": 5,
     "metadata": {},
     "output_type": "execute_result"
    },
    {
     "data": {
      "text/plain": [
       "{'2016', '2017', '2018', '2019', '2020', '2021'}"
      ]
     },
     "execution_count": 5,
     "metadata": {},
     "output_type": "execute_result"
    },
    {
     "data": {
      "text/plain": [
       "{'1', '10', '11', '12', '2', '3', '4', '5', '6', '7', '8', '9'}"
      ]
     },
     "execution_count": 5,
     "metadata": {},
     "output_type": "execute_result"
    }
   ],
   "source": [
    "# Extract years and months from created column\n",
    "operation_date_datetime_index = pd.DatetimeIndex(nisponno_records_df['opeation_date'])\n",
    "years = operation_date_datetime_index.year.values.astype(str)\n",
    "months = operation_date_datetime_index.month.values.astype(str)\n",
    "type(years)\n",
    "type(months)\n",
    "set(years)\n",
    "set(months)"
   ]
  },
  {
   "cell_type": "code",
   "execution_count": 6,
   "id": "133faa07-493f-4607-af08-502a6c0d60c7",
   "metadata": {},
   "outputs": [
    {
     "data": {
      "text/plain": [
       "(16416402, 6)"
      ]
     },
     "execution_count": 6,
     "metadata": {},
     "output_type": "execute_result"
    }
   ],
   "source": [
    "# type(years[0])\n",
    "nisponno_records_df['year'] = years\n",
    "nisponno_records_df['month'] = months\n",
    "nisponno_records_df.shape"
   ]
  },
  {
   "cell_type": "code",
   "execution_count": 9,
   "id": "4797ca57-1284-4759-bbbd-75af93ff37d0",
   "metadata": {},
   "outputs": [],
   "source": [
    "# save the new dataframe as csv\n",
    "nisponno_records_df.to_csv('../Cleaned_data/upokarvogi.csv', index=False)"
   ]
  },
  {
   "cell_type": "code",
   "execution_count": 8,
   "id": "52767e6f-824b-42dc-b14b-44622880b382",
   "metadata": {},
   "outputs": [
    {
     "data": {
      "text/plain": [
       "year\n",
       "2016      71359\n",
       "2017    1327923\n",
       "2018    2988585\n",
       "2019    5178475\n",
       "2020    4877229\n",
       "2021    1972831\n",
       "Name: year, dtype: int64"
      ]
     },
     "execution_count": 8,
     "metadata": {},
     "output_type": "execute_result"
    }
   ],
   "source": [
    "# observe number of offices in every year \n",
    "nisponno_records_year_by = nisponno_records_df.groupby('year')['year'].count()\n",
    "nisponno_records_year_by"
   ]
  },
  {
   "cell_type": "code",
   "execution_count": 11,
   "id": "7542d58d-6a6a-4070-9c87-c4f127e819fa",
   "metadata": {},
   "outputs": [
    {
     "data": {
      "text/plain": [
       "(array([  71359.,       0., 1327923.,       0., 2988585.,       0.,\n",
       "        5178475.,       0., 4877229., 1972831.]),\n",
       " array([0. , 0.5, 1. , 1.5, 2. , 2.5, 3. , 3.5, 4. , 4.5, 5. ]),\n",
       " <BarContainer object of 10 artists>)"
      ]
     },
     "execution_count": 11,
     "metadata": {},
     "output_type": "execute_result"
    },
    {
     "data": {
      "text/plain": [
       "Text(0.5, 0, 'years')"
      ]
     },
     "execution_count": 11,
     "metadata": {},
     "output_type": "execute_result"
    },
    {
     "data": {
      "text/plain": [
       "Text(0, 0.5, 'upokarvogi (in thousands)')"
      ]
     },
     "execution_count": 11,
     "metadata": {},
     "output_type": "execute_result"
    },
    {
     "data": {
      "text/plain": [
       "Text(0.5, 1.0, 'upokarvogi in year base')"
      ]
     },
     "execution_count": 11,
     "metadata": {},
     "output_type": "execute_result"
    },
    {
     "data": {
      "image/png": "[encoded data removed]",
      "text/plain": [
       "<Figure size 432x288 with 1 Axes>"
      ]
     },
     "metadata": {
      "needs_background": "light"
     },
     "output_type": "display_data"
    }
   ],
   "source": [
    "plt.hist(nisponno_records_df['year'])\n",
    "\n",
    "\n",
    "plt.xlabel('years')\n",
    "plt.ylabel('upokarvogi (in thousands)')\n",
    "plt.title('upokarvogi in year base')\n",
    "# plt.text(60, .025, r'$\\mu=100,\\ \\sigma=15$')\n",
    "# plt.xlim(40, 160)\n",
    "# plt.ylim(0, 0.03)\n",
    "plt.grid(True)\n",
    "plt.show()"
   ]
  },
  {
   "cell_type": "code",
   "execution_count": 9,
   "id": "ae3241c5-90d6-4bd1-bf81-ddd8072b24e3",
   "metadata": {},
   "outputs": [],
   "source": [
    "month_map ={\n",
    "    '1': 'January',\n",
    "    '01': 'January',\n",
    "    '2': 'February',\n",
    "    '02': 'February',\n",
    "    '3': 'March',\n",
    "    '03': 'March',\n",
    "    '4': 'April',\n",
    "    '04': 'April',\n",
    "    '5': 'May',\n",
    "    '05': 'May',\n",
    "    '6': 'June',\n",
    "    '06': 'June',\n",
    "    '7': 'July',\n",
    "    '07': 'July',\n",
    "    '8': 'August',\n",
    "    '08': 'August',\n",
    "    '9': 'September',\n",
    "    '09': 'September',\n",
    "    '10': 'October',\n",
    "    '11': 'November',\n",
    "    '12': 'December',\n",
    "    'unknown': 'unknown',\n",
    "}"
   ]
  },
  {
   "cell_type": "code",
   "execution_count": 10,
   "id": "7fe1e9d1-a23a-4f68-8f99-e1e91ee001d4",
   "metadata": {},
   "outputs": [],
   "source": [
    "# Generate general_series and drilldown series for bar graph\n",
    "# general series: year: number of officess\n",
    "nisponno_records_year_by = nisponno_records_df.groupby('year')\n",
    "def generate_general_series_drilldown_series(dataframe_year_by, general_series_name):\n",
    "    general_series = [\n",
    "        \n",
    "        {\n",
    "            'name': general_series_name,\n",
    "            'colorByPoint': True,\n",
    "            'data': [],\n",
    "        }\n",
    "    ]\n",
    "    drilldown_series = []\n",
    "\n",
    "    for year, year_frame in dataframe_year_by:\n",
    "        year = str(year)\n",
    "        # year, year_frame.shape\n",
    "        temporary_dict_general = {'name': year, 'y': year_frame.shape[0], 'drilldown': year}\n",
    "        general_series[0]['data'].append(temporary_dict_general)\n",
    "        temporary_dict_drilldown = {\n",
    "            'name': year,\n",
    "            'id': year,\n",
    "            'data': [],\n",
    "        }\n",
    "        month_group_by = year_frame.groupby('month')\n",
    "        for month, month_frame in month_group_by:\n",
    "          \n",
    "            # mg, mf.shape[0]\n",
    "            month = str(month)\n",
    "            month = month_map[month]\n",
    "\n",
    "            # lst = [month, month_frame.shape[0]]\n",
    "            lst = [month, month_frame['upokarvogi'].sum()]\n",
    "            temporary_dict_drilldown['data'].append(lst)\n",
    "        drilldown_series.append(temporary_dict_drilldown)\n",
    "    return general_series, drilldown_series\n",
    "\n",
    "general_series, drilldown_series = generate_general_series_drilldown_series(nisponno_records_year_by, 'upokarvogi')\n"
   ]
  },
  {
   "cell_type": "code",
   "execution_count": 11,
   "id": "640a2ff5-6ef6-4ad4-bc08-0b40fdc62dc7",
   "metadata": {},
   "outputs": [
    {
     "data": {
      "text/plain": [
       "[{'name': 'upokarvogi',\n",
       "  'colorByPoint': True,\n",
       "  'data': [{'name': '2016', 'y': 71359, 'drilldown': '2016'},\n",
       "   {'name': '2017', 'y': 1327923, 'drilldown': '2017'},\n",
       "   {'name': '2018', 'y': 2988585, 'drilldown': '2018'},\n",
       "   {'name': '2019', 'y': 5178475, 'drilldown': '2019'},\n",
       "   {'name': '2020', 'y': 4877229, 'drilldown': '2020'},\n",
       "   {'name': '2021', 'y': 1972831, 'drilldown': '2021'}]}]"
      ]
     },
     "execution_count": 11,
     "metadata": {},
     "output_type": "execute_result"
    },
    {
     "data": {
      "text/plain": [
       "[{'name': '2016',\n",
       "  'id': '2016',\n",
       "  'data': [['October', 0],\n",
       "   ['November', 0],\n",
       "   ['December', 0],\n",
       "   ['February', 0],\n",
       "   ['March', 0],\n",
       "   ['April', 0],\n",
       "   ['May', 0],\n",
       "   ['June', 0],\n",
       "   ['July', 0],\n",
       "   ['August', 0],\n",
       "   ['September', 0]]},\n",
       " {'name': '2017',\n",
       "  'id': '2017',\n",
       "  'data': [['January', 0],\n",
       "   ['October', 0],\n",
       "   ['November', 0],\n",
       "   ['December', 0],\n",
       "   ['February', 0],\n",
       "   ['March', 0],\n",
       "   ['April', 0],\n",
       "   ['May', 0],\n",
       "   ['June', 0],\n",
       "   ['July', 0],\n",
       "   ['August', 0],\n",
       "   ['September', 0]]},\n",
       " {'name': '2018',\n",
       "  'id': '2018',\n",
       "  'data': [['January', 0],\n",
       "   ['October', 0],\n",
       "   ['November', 0],\n",
       "   ['December', 0],\n",
       "   ['February', 0],\n",
       "   ['March', 0],\n",
       "   ['April', 0],\n",
       "   ['May', 0],\n",
       "   ['June', 0],\n",
       "   ['July', 0],\n",
       "   ['August', 0],\n",
       "   ['September', 0]]},\n",
       " {'name': '2019',\n",
       "  'id': '2019',\n",
       "  'data': [['January', 0],\n",
       "   ['October', 0],\n",
       "   ['November', 0],\n",
       "   ['December', 0],\n",
       "   ['February', 0],\n",
       "   ['March', 0],\n",
       "   ['April', 0],\n",
       "   ['May', 0],\n",
       "   ['June', 0],\n",
       "   ['July', 0],\n",
       "   ['August', 0],\n",
       "   ['September', 0]]},\n",
       " {'name': '2020',\n",
       "  'id': '2020',\n",
       "  'data': [['January', 0],\n",
       "   ['October', 0],\n",
       "   ['November', 0],\n",
       "   ['December', 35869],\n",
       "   ['February', 0],\n",
       "   ['March', 0],\n",
       "   ['April', 0],\n",
       "   ['May', 0],\n",
       "   ['June', 0],\n",
       "   ['July', 0],\n",
       "   ['August', 0],\n",
       "   ['September', 0]]},\n",
       " {'name': '2021',\n",
       "  'id': '2021',\n",
       "  'data': [['January', 57472],\n",
       "   ['October', 675667],\n",
       "   ['November', 545933],\n",
       "   ['February', 33280],\n",
       "   ['March', 31596],\n",
       "   ['April', 57782],\n",
       "   ['May', 515204],\n",
       "   ['June', 783717],\n",
       "   ['July', 513562],\n",
       "   ['August', 688022],\n",
       "   ['September', 721948]]}]"
      ]
     },
     "execution_count": 11,
     "metadata": {},
     "output_type": "execute_result"
    }
   ],
   "source": [
    "general_series\n",
    "drilldown_series"
   ]
  },
  {
   "cell_type": "code",
   "execution_count": 13,
   "id": "dc7810ae-7658-4631-a03f-23aff702f5e0",
   "metadata": {},
   "outputs": [
    {
     "name": "stdout",
     "output_type": "stream",
     "text": [
      "{'2020': {'count': 35869, 'month_map': {'January': 0, 'February': 0, 'March': 0, 'April': 0, 'May': 0, 'June': 0, 'July': 0, 'August': 0, 'September': 0, 'October': 0, 'November': 0, 'December': 35869}}, '2021': {'count': 4624183, 'month_map': {'January': 57472, 'February': 33280, 'March': 31596, 'April': 57782, 'May': 515204, 'June': 783717, 'July': 513562, 'August': 688022, 'September': 721948, 'October': 675667, 'November': 545933}}}\n"
     ]
    }
   ],
   "source": [
    "\n",
    "month_list =['January', 'February', 'March', 'April', 'May', 'June', 'July', 'August','September', 'October','November', 'December', 'unknown' ]\n",
    "upokarvogi = {}\n",
    "\n",
    "dataframe_year_by = nisponno_records_df.groupby('year')\n",
    "\n",
    "for year, year_frame in dataframe_year_by:\n",
    "    year = str(year)\n",
    "    # year, year_frame.shape\n",
    "    upokarvogi_in_year = int(year_frame['upokarvogi'].sum())\n",
    "    \n",
    "    month_dict = {}\n",
    "\n",
    "    month_group_by = year_frame.groupby('month')\n",
    "    for month, month_frame in month_group_by:\n",
    "\n",
    "        # mg, mf.shape[0]\n",
    "        month = str(month)\n",
    "        month = month_map[month]\n",
    "        month_dict[month] = int(month_frame['upokarvogi'].sum())\n",
    "    if upokarvogi_in_year != 0:\n",
    "        month_dict = dict(sorted(month_dict.items(), key=lambda x:month_list.index(x[0])))\n",
    "        dic = {'count': upokarvogi_in_year, 'month_map': month_dict}\n",
    "        upokarvogi[year] = dic\n",
    "\n",
    "print(upokarvogi)"
   ]
  },
  {
   "cell_type": "code",
   "execution_count": 14,
   "id": "0114f930-1ca0-4c66-82ea-e60f387940bf",
   "metadata": {},
   "outputs": [
    {
     "name": "stdout",
     "output_type": "stream",
     "text": [
      "{'2020': {'count': 35869, 'month_map': {'January': 0, 'February': 0, 'March': 0, 'April': 0, 'May': 0, 'June': 0, 'July': 0, 'August': 0, 'September': 0, 'October': 0, 'November': 0, 'December': 35869}}, '2021': {'count': 4624183, 'month_map': {'January': 57472, 'February': 33280, 'March': 31596, 'April': 57782, 'May': 515204, 'June': 783717, 'July': 513562, 'August': 688022, 'September': 721948, 'October': 675667, 'November': 545933}}}\n"
     ]
    }
   ],
   "source": [
    "import json\n",
    "\n",
    "dictionary = upokarvogi\n",
    "\n",
    "with open('../Cleaned_data/upokarvogi.json', 'w', encoding='utf-8') as f:\n",
    "    json.dump(dictionary, f, ensure_ascii=False, indent=4)\n",
    "\n",
    "with open('../Cleaned_data/upokarvogi.json', 'r', encoding='utf-8') as json_file:\n",
    "    data = json.load(json_file)\n",
    "    print(data)"
   ]
  },
  {
   "cell_type": "markdown",
   "id": "793eb5c9-2fe1-4ad1-a3cd-dd1bd2cebdd0",
   "metadata": {},
   "source": [
    "# End End End"
   ]
  }
 ],
 "metadata": {
  "kernelspec": {
   "display_name": "Python 3 (ipykernel)",
   "language": "python",
   "name": "python3"
  },
  "language_info": {
   "codemirror_mode": {
    "name": "ipython",
    "version": 3
   },
   "file_extension": ".py",
   "mimetype": "text/x-python",
   "name": "python",
   "nbconvert_exporter": "python",
   "pygments_lexer": "ipython3",
   "version": "3.8.10"
  }
 },
 "nbformat": 4,
 "nbformat_minor": 5
}
