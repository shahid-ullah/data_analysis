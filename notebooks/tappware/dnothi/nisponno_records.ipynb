{
 "cells": [
  {
   "cell_type": "markdown",
   "id": "e08efce1-9185-426e-b073-b9b2961eb8cd",
   "metadata": {},
   "source": [
    "- নিষ্পত্তিকৃত নথি\n",
    "- মোট নিষ্পন্ন\n",
    "- পত্রজারি\n",
    "- মোট উপকারভোগী\n",
    "\n",
    "1. নিষ্পত্তিকৃত নথি - SELECT count(id) FROM nisponno_records\n",
    "1. মোট নিষ্পন্ন - SELECT count(id) FROM nisponno_records where type != 'potrojari'\n",
    "1. পত্রজারি - SELECT count(id) FROM nisponno_records where type!= 'potrojari'"
   ]
  },
  {
   "cell_type": "code",
   "execution_count": 3,
   "id": "0e09044e-aec0-42a6-9096-4d386a443208",
   "metadata": {},
   "outputs": [],
   "source": [
    "# import necessary library\n",
    "from IPython.core.interactiveshell import InteractiveShell\n",
    "InteractiveShell.ast_node_interactivity = \"all\"\n",
    "\n",
    "import pandas as pd\n",
    "import numpy as np\n",
    "import matplotlib.pyplot as plt\n",
    "pd.set_option('display.max_columns', None)"
   ]
  },
  {
   "cell_type": "code",
   "execution_count": 5,
   "id": "ab612f73-9bbc-4620-bd37-8373502fc639",
   "metadata": {},
   "outputs": [],
   "source": [
    "nisponno_records_table_columns_dict = {\n",
    "    '1': 'id',\n",
    "    '2': 'nothi_master_id',\n",
    "    '3': 'nothi_part_no',\n",
    "    '4': 'type',\n",
    "    '5': 'nothi_onucched_id',\n",
    "    '6': 'potrojari_id',\n",
    "    '7': 'nothi_office_id',\n",
    "    '8': 'office_id',\n",
    "    '9': 'unit_id',\n",
    "    '10': 'designation_id',\n",
    "    '11': 'employee_id',\n",
    "    '12': 'upokarvogi',\n",
    "    '13': 'potrojari_internal_own',\n",
    "    '14': 'potrojari_internal_other',\n",
    "    '15': 'dak_srijito',\n",
    "    '16': 'operation_date',\n",
    "    '17': 'created',\n",
    "    '18': 'modified'\n",
    "}\n",
    "nisponno_records_table_columns_list = list(nisponno_records_table_columns_dict.values())\n",
    "nisponno_records_table_columns = nisponno_records_table_columns_list"
   ]
  },
  {
   "cell_type": "code",
   "execution_count": 7,
   "id": "728b639e-4ef4-4cae-a964-96b8bfcfcdc4",
   "metadata": {},
   "outputs": [
    {
     "name": "stdout",
     "output_type": "stream",
     "text": [
      "/home/shahid/Desktop/Tappware/DataAnalysis/NothiReport/Notebooks\n"
     ]
    }
   ],
   "source": [
    "!pwd"
   ]
  },
  {
   "cell_type": "code",
   "execution_count": 8,
   "id": "4b4581cd-f596-4b71-9e1f-3bde4d9e6578",
   "metadata": {},
   "outputs": [],
   "source": [
    "nisponno_records_df = pd.read_csv('../Data/nisponno_records_previous.csv', names=nisponno_records_table_columns)\n"
   ]
  },
  {
   "cell_type": "code",
   "execution_count": 11,
   "id": "8edee47a-54f2-4cdd-a374-757bde656d59",
   "metadata": {},
   "outputs": [
    {
     "data": {
      "text/plain": [
       "array(['potrojari', 'note'], dtype=object)"
      ]
     },
     "execution_count": 11,
     "metadata": {},
     "output_type": "execute_result"
    }
   ],
   "source": [
    "nisponno_records_df.type.unique()"
   ]
  },
  {
   "cell_type": "code",
   "execution_count": 9,
   "id": "3498d4fb-62b2-45eb-9c13-52f41f45bdc2",
   "metadata": {},
   "outputs": [
    {
     "name": "stdout",
     "output_type": "stream",
     "text": [
      "<class 'pandas.core.frame.DataFrame'>\n",
      "RangeIndex: 45693 entries, 0 to 45692\n",
      "Data columns (total 18 columns):\n",
      " #   Column                    Non-Null Count  Dtype  \n",
      "---  ------                    --------------  -----  \n",
      " 0   id                        45693 non-null  int64  \n",
      " 1   nothi_master_id           45693 non-null  int64  \n",
      " 2   nothi_part_no             45693 non-null  int64  \n",
      " 3   type                      45693 non-null  object \n",
      " 4   nothi_onucched_id         44843 non-null  float64\n",
      " 5   potrojari_id              45693 non-null  int64  \n",
      " 6   nothi_office_id           45693 non-null  int64  \n",
      " 7   office_id                 45693 non-null  int64  \n",
      " 8   unit_id                   45693 non-null  int64  \n",
      " 9   designation_id            45693 non-null  int64  \n",
      " 10  employee_id               45693 non-null  int64  \n",
      " 11  upokarvogi                45693 non-null  int64  \n",
      " 12  potrojari_internal_own    45693 non-null  int64  \n",
      " 13  potrojari_internal_other  45693 non-null  int64  \n",
      " 14  dak_srijito               45693 non-null  object \n",
      " 15  operation_date            45693 non-null  object \n",
      " 16  created                   45693 non-null  object \n",
      " 17  modified                  0 non-null      float64\n",
      "dtypes: float64(2), int64(12), object(4)\n",
      "memory usage: 6.3+ MB\n"
     ]
    }
   ],
   "source": [
    "nisponno_records_df.info()"
   ]
  },
  {
   "cell_type": "code",
   "execution_count": 3,
   "id": "f649495f-5c0d-42a7-8a61-58a6fd8b22b4",
   "metadata": {},
   "outputs": [
    {
     "data": {
      "text/plain": [
       "17"
      ]
     },
     "execution_count": 3,
     "metadata": {},
     "output_type": "execute_result"
    }
   ],
   "source": [
    "nisponno_records_table_columns =[\n",
    "    'id',\n",
    "    'nothi_master_id',\n",
    "    'nothi_part_no',\n",
    "    'type',\n",
    "    'nothi_onucched_id',\n",
    "    'potrojari_id',\n",
    "    'nothi_office_id',\n",
    "    'office_id',\n",
    "    'unit_id',\n",
    "    'designation_id',\n",
    "    'employee_id',\n",
    "    'potrojari_internal_own',\n",
    "    'potrojari_internal_other',\n",
    "    'dak_srijito',\n",
    "    'operation_date',\n",
    "    'created',\n",
    "    'modified'\n",
    "]\n",
    "len(nisponno_records_table_columns)"
   ]
  },
  {
   "cell_type": "code",
   "execution_count": 6,
   "id": "6ac7658b-5583-44c0-8a85-fe5f6cb5e7a5",
   "metadata": {},
   "outputs": [
    {
     "data": {
      "text/html": [
       "<div>\n",
       "<style scoped>\n",
       "    .dataframe tbody tr th:only-of-type {\n",
       "        vertical-align: middle;\n",
       "    }\n",
       "\n",
       "    .dataframe tbody tr th {\n",
       "        vertical-align: top;\n",
       "    }\n",
       "\n",
       "    .dataframe thead th {\n",
       "        text-align: right;\n",
       "    }\n",
       "</style>\n",
       "<table border=\"1\" class=\"dataframe\">\n",
       "  <thead>\n",
       "    <tr style=\"text-align: right;\">\n",
       "      <th></th>\n",
       "      <th>id</th>\n",
       "      <th>nothi_master_id</th>\n",
       "      <th>nothi_part_no</th>\n",
       "      <th>type</th>\n",
       "      <th>nothi_onucched_id</th>\n",
       "      <th>potrojari_id</th>\n",
       "      <th>nothi_office_id</th>\n",
       "      <th>office_id</th>\n",
       "      <th>unit_id</th>\n",
       "      <th>designation_id</th>\n",
       "      <th>employee_id</th>\n",
       "      <th>potrojari_internal_own</th>\n",
       "      <th>potrojari_internal_other</th>\n",
       "      <th>dak_srijito</th>\n",
       "      <th>operation_date</th>\n",
       "      <th>created</th>\n",
       "      <th>modified</th>\n",
       "    </tr>\n",
       "  </thead>\n",
       "  <tbody>\n",
       "    <tr>\n",
       "      <th>0</th>\n",
       "      <td>1</td>\n",
       "      <td>2</td>\n",
       "      <td>2</td>\n",
       "      <td>potrojari</td>\n",
       "      <td>1.0</td>\n",
       "      <td>0</td>\n",
       "      <td>65</td>\n",
       "      <td>65</td>\n",
       "      <td>9625</td>\n",
       "      <td>22164</td>\n",
       "      <td>4397</td>\n",
       "      <td>0</td>\n",
       "      <td>0</td>\n",
       "      <td>0</td>\n",
       "      <td>2017-08-04 23:45:02</td>\n",
       "      <td>2017-08-04 23:43:02</td>\n",
       "      <td>2017-08-04 23:43:02</td>\n",
       "    </tr>\n",
       "    <tr>\n",
       "      <th>1</th>\n",
       "      <td>2</td>\n",
       "      <td>1</td>\n",
       "      <td>1</td>\n",
       "      <td>potrojari</td>\n",
       "      <td>3.0</td>\n",
       "      <td>0</td>\n",
       "      <td>65</td>\n",
       "      <td>65</td>\n",
       "      <td>9625</td>\n",
       "      <td>22163</td>\n",
       "      <td>4369</td>\n",
       "      <td>0</td>\n",
       "      <td>0</td>\n",
       "      <td>0</td>\n",
       "      <td>2017-08-05 00:05:41</td>\n",
       "      <td>2017-08-05 00:03:41</td>\n",
       "      <td>2017-08-05 00:03:41</td>\n",
       "    </tr>\n",
       "    <tr>\n",
       "      <th>2</th>\n",
       "      <td>3</td>\n",
       "      <td>2</td>\n",
       "      <td>2</td>\n",
       "      <td>potrojari</td>\n",
       "      <td>1.0</td>\n",
       "      <td>0</td>\n",
       "      <td>65</td>\n",
       "      <td>65</td>\n",
       "      <td>9625</td>\n",
       "      <td>22164</td>\n",
       "      <td>4397</td>\n",
       "      <td>0</td>\n",
       "      <td>0</td>\n",
       "      <td>0</td>\n",
       "      <td>2017-08-05 00:45:06</td>\n",
       "      <td>2017-08-05 00:43:06</td>\n",
       "      <td>2017-08-05 00:43:06</td>\n",
       "    </tr>\n",
       "    <tr>\n",
       "      <th>3</th>\n",
       "      <td>4</td>\n",
       "      <td>1</td>\n",
       "      <td>1</td>\n",
       "      <td>potrojari</td>\n",
       "      <td>1.0</td>\n",
       "      <td>0</td>\n",
       "      <td>4264</td>\n",
       "      <td>4264</td>\n",
       "      <td>24939</td>\n",
       "      <td>93293</td>\n",
       "      <td>25367</td>\n",
       "      <td>0</td>\n",
       "      <td>0</td>\n",
       "      <td>0</td>\n",
       "      <td>2017-08-05 11:47:55</td>\n",
       "      <td>2017-08-05 11:45:55</td>\n",
       "      <td>2017-08-05 11:45:55</td>\n",
       "    </tr>\n",
       "    <tr>\n",
       "      <th>4</th>\n",
       "      <td>5</td>\n",
       "      <td>1</td>\n",
       "      <td>1</td>\n",
       "      <td>potrojari</td>\n",
       "      <td>NaN</td>\n",
       "      <td>0</td>\n",
       "      <td>2932</td>\n",
       "      <td>2932</td>\n",
       "      <td>19643</td>\n",
       "      <td>83242</td>\n",
       "      <td>23245</td>\n",
       "      <td>0</td>\n",
       "      <td>0</td>\n",
       "      <td>0</td>\n",
       "      <td>2017-08-05 12:05:14</td>\n",
       "      <td>2017-08-05 12:03:14</td>\n",
       "      <td>2017-08-05 12:03:14</td>\n",
       "    </tr>\n",
       "  </tbody>\n",
       "</table>\n",
       "</div>"
      ],
      "text/plain": [
       "   id  nothi_master_id  nothi_part_no       type  nothi_onucched_id  \\\n",
       "0   1                2              2  potrojari                1.0   \n",
       "1   2                1              1  potrojari                3.0   \n",
       "2   3                2              2  potrojari                1.0   \n",
       "3   4                1              1  potrojari                1.0   \n",
       "4   5                1              1  potrojari                NaN   \n",
       "\n",
       "   potrojari_id  nothi_office_id  office_id  unit_id  designation_id  \\\n",
       "0             0               65         65     9625           22164   \n",
       "1             0               65         65     9625           22163   \n",
       "2             0               65         65     9625           22164   \n",
       "3             0             4264       4264    24939           93293   \n",
       "4             0             2932       2932    19643           83242   \n",
       "\n",
       "   employee_id  potrojari_internal_own  potrojari_internal_other  dak_srijito  \\\n",
       "0         4397                       0                         0            0   \n",
       "1         4369                       0                         0            0   \n",
       "2         4397                       0                         0            0   \n",
       "3        25367                       0                         0            0   \n",
       "4        23245                       0                         0            0   \n",
       "\n",
       "        operation_date              created             modified  \n",
       "0  2017-08-04 23:45:02  2017-08-04 23:43:02  2017-08-04 23:43:02  \n",
       "1  2017-08-05 00:05:41  2017-08-05 00:03:41  2017-08-05 00:03:41  \n",
       "2  2017-08-05 00:45:06  2017-08-05 00:43:06  2017-08-05 00:43:06  \n",
       "3  2017-08-05 11:47:55  2017-08-05 11:45:55  2017-08-05 11:45:55  \n",
       "4  2017-08-05 12:05:14  2017-08-05 12:03:14  2017-08-05 12:03:14  "
      ]
     },
     "execution_count": 6,
     "metadata": {},
     "output_type": "execute_result"
    }
   ],
   "source": [
    "nisponno_records_df.head()"
   ]
  },
  {
   "cell_type": "code",
   "execution_count": 7,
   "id": "ecc3999e-695e-49ee-93a6-11ac37404233",
   "metadata": {},
   "outputs": [
    {
     "name": "stdout",
     "output_type": "stream",
     "text": [
      "<class 'pandas.core.frame.DataFrame'>\n",
      "RangeIndex: 45693 entries, 0 to 45692\n",
      "Data columns (total 17 columns):\n",
      " #   Column                    Non-Null Count  Dtype  \n",
      "---  ------                    --------------  -----  \n",
      " 0   id                        45693 non-null  int64  \n",
      " 1   nothi_master_id           45693 non-null  int64  \n",
      " 2   nothi_part_no             45693 non-null  int64  \n",
      " 3   type                      45693 non-null  object \n",
      " 4   nothi_onucched_id         44843 non-null  float64\n",
      " 5   potrojari_id              45693 non-null  int64  \n",
      " 6   nothi_office_id           45693 non-null  int64  \n",
      " 7   office_id                 45693 non-null  int64  \n",
      " 8   unit_id                   45693 non-null  int64  \n",
      " 9   designation_id            45693 non-null  int64  \n",
      " 10  employee_id               45693 non-null  int64  \n",
      " 11  potrojari_internal_own    45693 non-null  int64  \n",
      " 12  potrojari_internal_other  45693 non-null  int64  \n",
      " 13  dak_srijito               45693 non-null  int64  \n",
      " 14  operation_date            45693 non-null  object \n",
      " 15  created                   45693 non-null  object \n",
      " 16  modified                  45693 non-null  object \n",
      "dtypes: float64(1), int64(12), object(4)\n",
      "memory usage: 5.9+ MB\n"
     ]
    }
   ],
   "source": [
    "nisponno_records_df.info()"
   ]
  },
  {
   "cell_type": "code",
   "execution_count": 8,
   "id": "5facb810-ca65-49fe-a8b8-1654c32bb3a9",
   "metadata": {},
   "outputs": [
    {
     "data": {
      "text/plain": [
       "(45693, 17)"
      ]
     },
     "execution_count": 8,
     "metadata": {},
     "output_type": "execute_result"
    },
    {
     "data": {
      "text/plain": [
       "776781"
      ]
     },
     "execution_count": 8,
     "metadata": {},
     "output_type": "execute_result"
    }
   ],
   "source": [
    "# nisponno_records_df.memory_usage() / 1024 \n",
    "nisponno_records_df.shape\n",
    "nisponno_records_df.size"
   ]
  },
  {
   "cell_type": "code",
   "execution_count": 11,
   "id": "e9b7a89a-7f34-4f65-8e65-a903530ede0d",
   "metadata": {},
   "outputs": [],
   "source": [
    "# SELECT count(id) FROM nisponno_records where Date(operation_date) >= '2020-09-01' and Date(operation_date) <= '2020-09-30';9\n",
    "def dt2cal(dt):\n",
    "    \"\"\"\n",
    "    Convert array of datetime64 to a calendar array of year, month, day, hour,\n",
    "    minute, seconds, microsecond with these quantites indexed on the last axis.\n",
    "\n",
    "    Parameters\n",
    "    ----------\n",
    "    dt : datetime64 array (...)\n",
    "        numpy.ndarray of datetimes of arbitrary shape\n",
    "\n",
    "    Returns\n",
    "    -------\n",
    "    cal : uint32 array (..., 7)\n",
    "        calendar array with last axis representing year, month, day, hour,\n",
    "        minute, second, microsecond\n",
    "    \"\"\"\n",
    "\n",
    "    # allocate output \n",
    "    out = np.empty(dt.shape + (7,), dtype=\"u4\")\n",
    "    # decompose calendar floors\n",
    "    Y, M, D, h, m, s = [dt.astype(f\"M8[{x}]\") for x in \"YMDhms\"]\n",
    "    out[..., 0] = Y + 1970 # Gregorian Year\n",
    "    out[..., 1] = (M - Y) + 1 # month\n",
    "    out[..., 2] = (D - M) + 1 # dat\n",
    "    out[..., 3] = (dt - D).astype(\"m8[h]\") # hour\n",
    "    out[..., 4] = (dt - h).astype(\"m8[m]\") # minute\n",
    "    out[..., 5] = (dt - m).astype(\"m8[s]\") # second\n",
    "    out[..., 6] = (dt - s).astype(\"m8[us]\") # microsecond\n",
    "    return out"
   ]
  },
  {
   "cell_type": "code",
   "execution_count": 24,
   "id": "a39f93c3-5c03-422c-9424-888d8a83d399",
   "metadata": {},
   "outputs": [
    {
     "data": {
      "text/plain": [
       "(45693, 17)"
      ]
     },
     "execution_count": 24,
     "metadata": {},
     "output_type": "execute_result"
    },
    {
     "data": {
      "text/plain": [
       "DatetimeIndex(['2017-08-04 23:43:02', '2017-08-05 00:03:41',\n",
       "               '2017-08-05 00:43:06', '2017-08-05 11:45:55',\n",
       "               '2017-08-05 12:03:14', '2017-08-05 12:18:49',\n",
       "               '2017-08-05 13:42:11', '2017-08-05 13:45:15',\n",
       "               '2017-08-05 14:40:39', '2017-08-05 14:38:26',\n",
       "               ...\n",
       "               '2021-10-25 15:29:49', '2021-10-25 16:00:23',\n",
       "               '2021-10-25 16:00:48', '2021-10-25 16:00:53',\n",
       "               '2021-10-25 16:01:05', '2021-10-25 16:09:48',\n",
       "               '2021-10-25 16:11:48', '2021-10-25 16:15:25',\n",
       "               '2021-10-25 16:25:26', '2021-10-25 16:33:13'],\n",
       "              dtype='datetime64[ns]', name='created_new', length=45693, freq=None)"
      ]
     },
     "execution_count": 24,
     "metadata": {},
     "output_type": "execute_result"
    }
   ],
   "source": [
    "# users_df[users_df.created.isnull()].shape\n",
    "nisponno_records_df = pd.read_csv('./Data/nisponno_records.csv', names=nisponno_records_table_columns)\n",
    "nisponno_records_df.shape\n",
    "nisponno_records_df = nisponno_records_df.loc[nisponno_records_df.created.notnull()]\n",
    "nisponno_records_df['created_new'] = pd.to_datetime(nisponno_records_df['created'])\n",
    "# users_df[users_df.created_new.notnull()]['created_new'][:5]\n",
    "# date_before = pd.Timestamp(year=2020, month=9, day=30, hour=12, minute=0, second=0)\n",
    "# datetime1 = np.datetime64('2020-09-01')\n",
    "# datetime2 = np.datetime64('2020-09-30 23:59:59')\n",
    "# # date_before = np.datetime64('2020-09-30')\n",
    "# date_before\n",
    "# nisponno_records_df[(nisponno_records_df.created_new >= datetime1) & (nisponno_records_df.created_new <= datetime2)].shape\n",
    "\n",
    "# for dates in nisponno_records_df['created_new'].values[:10]:\n",
    "#     # years = dates.astype('datetime64[Y]').astype(int) + 1970\n",
    "#     # months = dates.astype('datetime64[M]').astype(int) % 12 + 1\n",
    "#     # days = dates - dates.astype('datetime64[M]') + 1\n",
    "#     dates.year\n",
    "    # print(years)\n",
    "    # print(months)\n",
    "    # print(days)\n",
    "\n",
    "# dt2cal(datetime1)\n",
    "# dt2cal(datetime1)\n",
    "\n",
    "# years = pd.DatetimeIndex(nisponno_records_df['created_new']).year\n",
    "# months = pd.DatetimeIndex(nisponno_records_df['created_new']).month\n",
    "x = pd.DatetimeIndex(nisponno_records_df['created_new'])\n",
    "x\n",
    "# years\n",
    "# months\n",
    "# set(years)\n",
    "# set(months)"
   ]
  },
  {
   "cell_type": "code",
   "execution_count": 9,
   "id": "67502202-4c0f-49d7-8863-8cf8aa4d586a",
   "metadata": {},
   "outputs": [
    {
     "data": {
      "text/plain": [
       "id                            0\n",
       "nothi_master_id               0\n",
       "nothi_part_no                 0\n",
       "type                          0\n",
       "nothi_onucched_id           850\n",
       "potrojari_id                  0\n",
       "nothi_office_id               0\n",
       "office_id                     0\n",
       "unit_id                       0\n",
       "designation_id                0\n",
       "employee_id                   0\n",
       "potrojari_internal_own        0\n",
       "potrojari_internal_other      0\n",
       "dak_srijito                   0\n",
       "operation_date                0\n",
       "created                       0\n",
       "modified                      0\n",
       "dtype: int64"
      ]
     },
     "execution_count": 9,
     "metadata": {},
     "output_type": "execute_result"
    }
   ],
   "source": [
    "nisponno_records_df.isna().sum()"
   ]
  },
  {
   "cell_type": "markdown",
   "id": "158029ba-5b95-4ed6-a144-84f04e7e8b7e",
   "metadata": {},
   "source": [
    "### মোট নিষ্পন্ন"
   ]
  },
  {
   "cell_type": "code",
   "execution_count": 10,
   "id": "1d907721-e3ec-412e-819d-bae61141785d",
   "metadata": {},
   "outputs": [
    {
     "data": {
      "text/plain": [
       "array(['potrojari', 'note'], dtype=object)"
      ]
     },
     "execution_count": 10,
     "metadata": {},
     "output_type": "execute_result"
    }
   ],
   "source": [
    "nisponno_records_df.type.unique()\n",
    "import copy"
   ]
  },
  {
   "cell_type": "code",
   "execution_count": 39,
   "id": "1df23cf8-4cd3-4d70-90e9-f34946e12ada",
   "metadata": {},
   "outputs": [
    {
     "data": {
      "text/plain": [
       "(21315, 17)"
      ]
     },
     "execution_count": 39,
     "metadata": {},
     "output_type": "execute_result"
    }
   ],
   "source": [
    "total_nisponno_df = nisponno_records_df[nisponno_records_df.type != 'potrojari']\n",
    "# abc = nisponno_records_df[nisponno_records_df.type != 'potrojari']\n",
    "total_nisponno_df = copy.deepcopy(total_nisponno_df)\n",
    "total_nisponno_df.shape\n",
    "# abc.shape"
   ]
  },
  {
   "cell_type": "code",
   "execution_count": 15,
   "id": "359d4e07-6bc0-48df-ad6d-1a13b1a3e638",
   "metadata": {},
   "outputs": [],
   "source": [
    "total_nisponno_df[\"created\"].fillna(\"unknown\", inplace = True)\n"
   ]
  },
  {
   "cell_type": "code",
   "execution_count": 40,
   "id": "bf67275d-67b9-461c-b340-312e90ad86f0",
   "metadata": {},
   "outputs": [
    {
     "data": {
      "text/plain": [
       "(21315, 17)"
      ]
     },
     "execution_count": 40,
     "metadata": {},
     "output_type": "execute_result"
    },
    {
     "data": {
      "text/plain": [
       "(45693, 17)"
      ]
     },
     "execution_count": 40,
     "metadata": {},
     "output_type": "execute_result"
    },
    {
     "data": {
      "text/plain": [
       "(0, 17)"
      ]
     },
     "execution_count": 40,
     "metadata": {},
     "output_type": "execute_result"
    }
   ],
   "source": [
    "total_nisponno_df.shape\n",
    "nisponno_records_df.shape\n",
    "total_nisponno_df[total_nisponno_df.created == 'unknown'].shape\n"
   ]
  },
  {
   "cell_type": "code",
   "execution_count": 207,
   "id": "9a9ffc4a-4d85-4bc9-a0bf-7e39c7f1ee10",
   "metadata": {},
   "outputs": [],
   "source": [
    "# total_nisponnno_df.index"
   ]
  },
  {
   "cell_type": "code",
   "execution_count": 18,
   "id": "a0fa5ec8-e9c8-49a9-a938-d78e9e042adb",
   "metadata": {},
   "outputs": [],
   "source": [
    "import re\n",
    "year_month_regex = re.compile(r'(\\d\\d\\d\\d)-(\\d\\d)-(\\d\\d)')"
   ]
  },
  {
   "cell_type": "code",
   "execution_count": 20,
   "id": "8970a9b2-9553-483d-8871-8cb643978a5e",
   "metadata": {},
   "outputs": [],
   "source": [
    "# users_df.info()\n",
    "years = []\n",
    "months = []\n",
    "# indexes = []\n",
    "\n",
    "times = total_nisponno_df.created.values\n",
    "for index, time in enumerate(times, start=0):\n",
    "    if time == 'unknown':\n",
    "        print('if statmement')\n",
    "        year = time\n",
    "        month = time\n",
    "        years.append(year)\n",
    "        months.append(month)\n",
    "        # indexes.append(index)\n",
    "    else:\n",
    "        # print(time)\n",
    "        mo = year_month_regex.search(time)\n",
    "        year = mo.group(1)\n",
    "        month = mo.group(2)\n",
    "        years.append(year)\n",
    "        months.append(month)\n",
    "        # indexes.append(index)"
   ]
  },
  {
   "cell_type": "code",
   "execution_count": 22,
   "id": "95a488a3-a2f0-4e9e-b24d-62a517270e99",
   "metadata": {},
   "outputs": [
    {
     "data": {
      "text/plain": [
       "['2021']"
      ]
     },
     "execution_count": 22,
     "metadata": {},
     "output_type": "execute_result"
    },
    {
     "data": {
      "text/plain": [
       "['10']"
      ]
     },
     "execution_count": 22,
     "metadata": {},
     "output_type": "execute_result"
    },
    {
     "data": {
      "text/html": [
       "<div>\n",
       "<style scoped>\n",
       "    .dataframe tbody tr th:only-of-type {\n",
       "        vertical-align: middle;\n",
       "    }\n",
       "\n",
       "    .dataframe tbody tr th {\n",
       "        vertical-align: top;\n",
       "    }\n",
       "\n",
       "    .dataframe thead th {\n",
       "        text-align: right;\n",
       "    }\n",
       "</style>\n",
       "<table border=\"1\" class=\"dataframe\">\n",
       "  <thead>\n",
       "    <tr style=\"text-align: right;\">\n",
       "      <th></th>\n",
       "      <th>id</th>\n",
       "      <th>nothi_master_id</th>\n",
       "      <th>nothi_part_no</th>\n",
       "      <th>type</th>\n",
       "      <th>nothi_onucched_id</th>\n",
       "      <th>potrojari_id</th>\n",
       "      <th>nothi_office_id</th>\n",
       "      <th>office_id</th>\n",
       "      <th>unit_id</th>\n",
       "      <th>designation_id</th>\n",
       "      <th>employee_id</th>\n",
       "      <th>potrojari_internal_own</th>\n",
       "      <th>potrojari_internal_other</th>\n",
       "      <th>dak_srijito</th>\n",
       "      <th>operation_date</th>\n",
       "      <th>created</th>\n",
       "      <th>modified</th>\n",
       "    </tr>\n",
       "  </thead>\n",
       "  <tbody>\n",
       "    <tr>\n",
       "      <th>45692</th>\n",
       "      <td>49199</td>\n",
       "      <td>1826</td>\n",
       "      <td>5501</td>\n",
       "      <td>note</td>\n",
       "      <td>1.0</td>\n",
       "      <td>0</td>\n",
       "      <td>17846</td>\n",
       "      <td>17846</td>\n",
       "      <td>91412</td>\n",
       "      <td>433736</td>\n",
       "      <td>81927</td>\n",
       "      <td>0</td>\n",
       "      <td>0</td>\n",
       "      <td>1</td>\n",
       "      <td>2021-10-25 16:35:13</td>\n",
       "      <td>2021-10-25 16:33:13</td>\n",
       "      <td>2021-10-25 16:33:13</td>\n",
       "    </tr>\n",
       "  </tbody>\n",
       "</table>\n",
       "</div>"
      ],
      "text/plain": [
       "          id  nothi_master_id  nothi_part_no  type  nothi_onucched_id  \\\n",
       "45692  49199             1826           5501  note                1.0   \n",
       "\n",
       "       potrojari_id  nothi_office_id  office_id  unit_id  designation_id  \\\n",
       "45692             0            17846      17846    91412          433736   \n",
       "\n",
       "       employee_id  potrojari_internal_own  potrojari_internal_other  \\\n",
       "45692        81927                       0                         0   \n",
       "\n",
       "       dak_srijito       operation_date              created  \\\n",
       "45692            1  2021-10-25 16:35:13  2021-10-25 16:33:13   \n",
       "\n",
       "                  modified  \n",
       "45692  2021-10-25 16:33:13  "
      ]
     },
     "execution_count": 22,
     "metadata": {},
     "output_type": "execute_result"
    }
   ],
   "source": [
    "years[-1:]\n",
    "months[-1:]\n",
    "total_nisponno_df[-1:]"
   ]
  },
  {
   "cell_type": "code",
   "execution_count": 23,
   "id": "1b68c86c-594e-4328-8242-3fce6e8e2293",
   "metadata": {},
   "outputs": [
    {
     "data": {
      "text/plain": [
       "(21315,)"
      ]
     },
     "execution_count": 23,
     "metadata": {},
     "output_type": "execute_result"
    }
   ],
   "source": [
    "year_series_df = pd.Series(years, index=total_nisponno_df.index)\n",
    "month_series_df = pd.Series(months, index=total_nisponno_df.index)\n",
    "# year_series_df[:10]\n",
    "# month_series_df[:10]\n",
    "year_series_df.shape"
   ]
  },
  {
   "cell_type": "code",
   "execution_count": 24,
   "id": "334c42ab-c774-40b2-9544-820ace62e829",
   "metadata": {},
   "outputs": [],
   "source": [
    "# year_series_df[:10]\n",
    "# total_nisponnno_df[:10]"
   ]
  },
  {
   "cell_type": "code",
   "execution_count": 166,
   "id": "a3655529-b126-4ad5-bdfd-ad13c33e292b",
   "metadata": {},
   "outputs": [],
   "source": [
    "# year_series_df.index\n",
    "# total_nisponnno_df.index"
   ]
  },
  {
   "cell_type": "code",
   "execution_count": 25,
   "id": "fcb102d3-19d7-4a31-beb1-62095ffbee9b",
   "metadata": {},
   "outputs": [
    {
     "data": {
      "text/plain": [
       "{'01', '02', '03', '04', '05', '06', '07', '08', '09', '10', '11', '12'}"
      ]
     },
     "execution_count": 25,
     "metadata": {},
     "output_type": "execute_result"
    },
    {
     "data": {
      "text/plain": [
       "{'2017', '2018', '2019', '2020', '2021'}"
      ]
     },
     "execution_count": 25,
     "metadata": {},
     "output_type": "execute_result"
    }
   ],
   "source": [
    "set(months)\n",
    "set(years)"
   ]
  },
  {
   "cell_type": "code",
   "execution_count": 27,
   "id": "5ba90600-ca18-42de-9a49-776229e3259b",
   "metadata": {},
   "outputs": [
    {
     "data": {
      "text/plain": [
       "(21315, 17)"
      ]
     },
     "execution_count": 27,
     "metadata": {},
     "output_type": "execute_result"
    },
    {
     "data": {
      "text/plain": [
       "(21315,)"
      ]
     },
     "execution_count": 27,
     "metadata": {},
     "output_type": "execute_result"
    }
   ],
   "source": [
    "total_nisponno_df.shape\n",
    "year_series_df.shape"
   ]
  },
  {
   "cell_type": "code",
   "execution_count": 28,
   "id": "60b3a701-9d37-42bb-8c7e-7cb73b26c6fe",
   "metadata": {},
   "outputs": [],
   "source": [
    "for index1, index2 in zip(total_nisponno_df.index.values, year_series_df.index.values):\n",
    "    if index1 != index2:\n",
    "        print(index1, index2)"
   ]
  },
  {
   "cell_type": "code",
   "execution_count": 29,
   "id": "b6393ab3-258b-4b1d-a63e-0133cfa11038",
   "metadata": {},
   "outputs": [
    {
     "data": {
      "text/plain": [
       "21315"
      ]
     },
     "execution_count": 29,
     "metadata": {},
     "output_type": "execute_result"
    },
    {
     "data": {
      "text/plain": [
       "(21315, 17)"
      ]
     },
     "execution_count": 29,
     "metadata": {},
     "output_type": "execute_result"
    }
   ],
   "source": [
    "len(years)\n",
    "total_nisponno_df.shape"
   ]
  },
  {
   "cell_type": "code",
   "execution_count": 30,
   "id": "52ff415d-c1c6-49ef-9620-b7a66d8cf116",
   "metadata": {},
   "outputs": [
    {
     "data": {
      "text/plain": [
       "{'2017', '2018', '2019', '2020', '2021'}"
      ]
     },
     "execution_count": 30,
     "metadata": {},
     "output_type": "execute_result"
    }
   ],
   "source": [
    "set(years)"
   ]
  },
  {
   "cell_type": "code",
   "execution_count": 41,
   "id": "7fb9bb87-50bd-487f-a2ee-8b90e393d5f3",
   "metadata": {},
   "outputs": [
    {
     "data": {
      "text/plain": [
       "(21315, 19)"
      ]
     },
     "execution_count": 41,
     "metadata": {},
     "output_type": "execute_result"
    }
   ],
   "source": [
    "# offices_df\n",
    "total_nisponno_df.loc[:, 'year'] = years\n",
    "total_nisponno_df.loc[:, 'month'] = months\n",
    "total_nisponno_df.shape"
   ]
  },
  {
   "cell_type": "code",
   "execution_count": 32,
   "id": "45b47e30-aab7-451d-835d-af83a77f6e09",
   "metadata": {},
   "outputs": [],
   "source": [
    "# save users_df as users_updated.csv\n",
    "total_nisponno_df.to_csv('total_nisponno_updated.csv', index=False)"
   ]
  },
  {
   "cell_type": "code",
   "execution_count": 34,
   "id": "2f0b9cc8-884b-4c84-90db-294da2b75039",
   "metadata": {},
   "outputs": [
    {
     "data": {
      "text/plain": [
       "array(['08', '09', '10', '11', '12', '01', '02', '03', '04', '05', '06',\n",
       "       '07'], dtype=object)"
      ]
     },
     "execution_count": 34,
     "metadata": {},
     "output_type": "execute_result"
    },
    {
     "data": {
      "text/plain": [
       "array(['2017', '2018', '2019', '2020', '2021'], dtype=object)"
      ]
     },
     "execution_count": 34,
     "metadata": {},
     "output_type": "execute_result"
    }
   ],
   "source": [
    "total_nisponno_df.month.unique()\n",
    "total_nisponno_df.year.unique()"
   ]
  },
  {
   "cell_type": "code",
   "execution_count": 36,
   "id": "e99e885b-3d77-4f07-bd5c-c85f7f1ac580",
   "metadata": {},
   "outputs": [
    {
     "data": {
      "text/plain": [
       "(0, 19)"
      ]
     },
     "execution_count": 36,
     "metadata": {},
     "output_type": "execute_result"
    }
   ],
   "source": [
    "total_nisponno_df[total_nisponno_df.year.isnull()].shape"
   ]
  },
  {
   "cell_type": "code",
   "execution_count": 81,
   "id": "29ffba50-ceae-44dd-9542-ef740ebef805",
   "metadata": {},
   "outputs": [],
   "source": [
    "month_map ={\n",
    "    '1': 'January',\n",
    "    '01': 'January',\n",
    "    '2': 'February',\n",
    "    '02': 'February',\n",
    "    '3': 'March',\n",
    "    '03': 'March',\n",
    "    '4': 'April',\n",
    "    '04': 'April',\n",
    "    '5': 'May',\n",
    "    '05': 'May',\n",
    "    '6': 'June',\n",
    "    '06': 'June',\n",
    "    '7': 'July',\n",
    "    '07': 'July',\n",
    "    '8': 'August',\n",
    "    '08': 'August',\n",
    "    '9': 'Septembr',\n",
    "    '09': 'Septermber',\n",
    "    '10': 'October',\n",
    "    '11': 'November',\n",
    "    '12': 'December',\n",
    "    'unknown': 'Unknown'\n",
    "}"
   ]
  },
  {
   "cell_type": "code",
   "execution_count": 82,
   "id": "62f695e6-097b-496f-b8a4-e325e56422b8",
   "metadata": {},
   "outputs": [
    {
     "data": {
      "text/plain": [
       "<pandas.core.groupby.generic.DataFrameGroupBy object at 0x7f14f045fac0>"
      ]
     },
     "execution_count": 82,
     "metadata": {},
     "output_type": "execute_result"
    }
   ],
   "source": [
    "total_nisponno_year_by = total_nisponno_df.groupby('year')\n",
    "total_nisponno_year_by"
   ]
  },
  {
   "cell_type": "code",
   "execution_count": 83,
   "id": "090d58db-e8e8-429d-89ac-2219e727a808",
   "metadata": {},
   "outputs": [],
   "source": [
    "general_series = []\n",
    "drilldown_series = []\n",
    "for year, year_frame in total_nisponno_year_by:\n",
    "    # group, frame.shape[0]\n",
    "    year = str(year)\n",
    "    \n",
    "    temporary_general_dict = {\n",
    "        'name': year,\n",
    "        'y': year_frame.shape[0],\n",
    "        'drilldown': year\n",
    "    }\n",
    "    general_series.append(temporary_general_dict)\n",
    "    temporary_drilldown_dict = {\n",
    "        'name': year,\n",
    "        'id': year,\n",
    "        'data': [],\n",
    "    }\n",
    "    month_group_by = year_frame.groupby('month')\n",
    "    for month, month_frame in month_group_by:\n",
    "        # mg, mf.shape[0]\n",
    "        month = str(month)\n",
    "        month = month_map[month]\n",
    "        # print(month)\n",
    "       \n",
    "        # month, month_frame.shape[0]\n",
    "        lst = [month, month_frame.shape[0]]\n",
    "        temporary_drilldown_dict['data'].append(lst)\n",
    "        drilldown_series.append(temporary_drilldown_dict)\n",
    "    \n",
    "    # print()\n",
    "    # print()"
   ]
  },
  {
   "cell_type": "code",
   "execution_count": 84,
   "id": "e7aaa384-f5e8-4a02-9dc9-19e7f049284f",
   "metadata": {},
   "outputs": [],
   "source": [
    "# general_series\n",
    "# drilldown_series"
   ]
  },
  {
   "cell_type": "code",
   "execution_count": null,
   "id": "3eff84ab-5cd7-47a7-909a-8015d8f02597",
   "metadata": {},
   "outputs": [],
   "source": []
  },
  {
   "cell_type": "code",
   "execution_count": null,
   "id": "57f7455e-dd3d-46d3-bc59-904cf57ef750",
   "metadata": {},
   "outputs": [],
   "source": []
  },
  {
   "cell_type": "code",
   "execution_count": null,
   "id": "84c00f53-6a42-415c-a4c1-22d6265471b7",
   "metadata": {},
   "outputs": [],
   "source": []
  },
  {
   "cell_type": "code",
   "execution_count": null,
   "id": "8cfcc976-92a1-408b-b413-af22533c5507",
   "metadata": {},
   "outputs": [],
   "source": []
  },
  {
   "cell_type": "code",
   "execution_count": null,
   "id": "01c072dc-2791-46c7-bdc7-ad02c535ff32",
   "metadata": {},
   "outputs": [],
   "source": []
  },
  {
   "cell_type": "code",
   "execution_count": null,
   "id": "e091a3da-60f8-4e95-948c-48da97fa3f72",
   "metadata": {},
   "outputs": [],
   "source": []
  },
  {
   "cell_type": "markdown",
   "id": "1cb75d3a-6883-4edb-9949-01539efa3e0a",
   "metadata": {},
   "source": [
    "## পত্রজারি"
   ]
  },
  {
   "cell_type": "code",
   "execution_count": 42,
   "id": "6d38df40-0f35-437e-a5cb-f0367698b145",
   "metadata": {},
   "outputs": [
    {
     "data": {
      "text/plain": [
       "(24378, 17)"
      ]
     },
     "execution_count": 42,
     "metadata": {},
     "output_type": "execute_result"
    }
   ],
   "source": [
    "potrojari_df = nisponno_records_df[nisponno_records_df.type == 'potrojari']\n",
    "# abc = nisponno_records_df[nisponno_records_df.type != 'potrojari']\n",
    "potrojari_df = copy.deepcopy(potrojari_df)\n",
    "potrojari_df.shape\n",
    "# abc.shape"
   ]
  },
  {
   "cell_type": "code",
   "execution_count": 43,
   "id": "4a773e43-7516-4d7f-83c6-be54d77b198e",
   "metadata": {},
   "outputs": [],
   "source": [
    "potrojari_df[\"created\"].fillna(\"unknown\", inplace = True)\n"
   ]
  },
  {
   "cell_type": "code",
   "execution_count": 44,
   "id": "16677990-b52b-4670-8bef-05ab1ec55624",
   "metadata": {},
   "outputs": [],
   "source": [
    "import re\n",
    "year_month_regex = re.compile(r'(\\d\\d\\d\\d)-(\\d\\d)-(\\d\\d)')"
   ]
  },
  {
   "cell_type": "code",
   "execution_count": 45,
   "id": "3e4d5afa-9e08-49d6-b4bc-183cca05f962",
   "metadata": {},
   "outputs": [],
   "source": [
    "# users_df.info()\n",
    "years = []\n",
    "months = []\n",
    "# indexes = []\n",
    "\n",
    "times = potrojari_df.created.values\n",
    "for index, time in enumerate(times, start=0):\n",
    "    if time == 'unknown':\n",
    "        print('if statmement')\n",
    "        year = time\n",
    "        month = time\n",
    "        years.append(year)\n",
    "        months.append(month)\n",
    "        # indexes.append(index)\n",
    "    else:\n",
    "        # print(time)\n",
    "        mo = year_month_regex.search(time)\n",
    "        year = mo.group(1)\n",
    "        month = mo.group(2)\n",
    "        years.append(year)\n",
    "        months.append(month)\n",
    "        # indexes.append(index)"
   ]
  },
  {
   "cell_type": "code",
   "execution_count": 46,
   "id": "f21dede8-efdc-495e-9516-5f9dbf0f28be",
   "metadata": {},
   "outputs": [
    {
     "data": {
      "text/plain": [
       "(24378, 19)"
      ]
     },
     "execution_count": 46,
     "metadata": {},
     "output_type": "execute_result"
    }
   ],
   "source": [
    "# offices_df\n",
    "potrojari_df.loc[:, 'year'] = years\n",
    "potrojari_df.loc[:, 'month'] = months\n",
    "potrojari_df.shape"
   ]
  },
  {
   "cell_type": "code",
   "execution_count": 47,
   "id": "5ce68e62-8a66-4d48-b24d-a9ed1d47e6b9",
   "metadata": {},
   "outputs": [],
   "source": [
    "# save users_df as users_updated.csv\n",
    "potrojari_df.to_csv('potrojari.csv', index=False)"
   ]
  },
  {
   "cell_type": "code",
   "execution_count": 48,
   "id": "46d7b95b-2919-4d98-a920-7dd7ce2b5b7b",
   "metadata": {},
   "outputs": [],
   "source": [
    "month_map ={\n",
    "    '1': 'January',\n",
    "    '01': 'January',\n",
    "    '2': 'February',\n",
    "    '02': 'February',\n",
    "    '3': 'March',\n",
    "    '03': 'March',\n",
    "    '4': 'April',\n",
    "    '04': 'April',\n",
    "    '5': 'May',\n",
    "    '05': 'May',\n",
    "    '6': 'June',\n",
    "    '06': 'June',\n",
    "    '7': 'July',\n",
    "    '07': 'July',\n",
    "    '8': 'August',\n",
    "    '08': 'August',\n",
    "    '9': 'Septembr',\n",
    "    '09': 'Septermber',\n",
    "    '10': 'October',\n",
    "    '11': 'November',\n",
    "    '12': 'December',\n",
    "    'unknown': 'Unknown'\n",
    "}"
   ]
  },
  {
   "cell_type": "code",
   "execution_count": 50,
   "id": "b065676c-195e-4c5e-a830-c7e16293df6e",
   "metadata": {},
   "outputs": [
    {
     "data": {
      "text/plain": [
       "<pandas.core.groupby.generic.DataFrameGroupBy object at 0x7f7919d31880>"
      ]
     },
     "execution_count": 50,
     "metadata": {},
     "output_type": "execute_result"
    }
   ],
   "source": [
    "potrojari_year_by = potrojari_df.groupby('year')\n",
    "potrojari_year_by"
   ]
  },
  {
   "cell_type": "code",
   "execution_count": 51,
   "id": "d437fa64-57b1-4e6b-9d10-360de6f10e1c",
   "metadata": {},
   "outputs": [],
   "source": [
    "general_series = []\n",
    "drilldown_series = []\n",
    "for year, year_frame in potrojari_year_by:\n",
    "    # group, frame.shape[0]\n",
    "    year = str(year)\n",
    "    \n",
    "    temporary_general_dict = {\n",
    "        'name': year,\n",
    "        'y': year_frame.shape[0],\n",
    "        'drilldown': year\n",
    "    }\n",
    "    general_series.append(temporary_general_dict)\n",
    "    temporary_drilldown_dict = {\n",
    "        'name': year,\n",
    "        'id': year,\n",
    "        'data': [],\n",
    "    }\n",
    "    month_group_by = year_frame.groupby('month')\n",
    "    for month, month_frame in month_group_by:\n",
    "        # mg, mf.shape[0]\n",
    "        month = str(month)\n",
    "        month = month_map[month]\n",
    "        # print(month)\n",
    "       \n",
    "        # month, month_frame.shape[0]\n",
    "        lst = [month, month_frame.shape[0]]\n",
    "        temporary_drilldown_dict['data'].append(lst)\n",
    "        drilldown_series.append(temporary_drilldown_dict)\n",
    "    \n",
    "    # print()\n",
    "    # print()"
   ]
  },
  {
   "cell_type": "code",
   "execution_count": null,
   "id": "70b8b9df-9e9a-4de7-adf9-353e59978a26",
   "metadata": {},
   "outputs": [],
   "source": []
  },
  {
   "cell_type": "code",
   "execution_count": null,
   "id": "fccd0ff7-38f1-4c24-8ddc-8c8b851984d6",
   "metadata": {},
   "outputs": [],
   "source": []
  },
  {
   "cell_type": "code",
   "execution_count": null,
   "id": "2a9014c3-e751-4095-ba92-61c7f8f102d3",
   "metadata": {},
   "outputs": [],
   "source": []
  },
  {
   "cell_type": "code",
   "execution_count": null,
   "id": "7b48b1c7-83ff-48a1-94d0-78f32f52689c",
   "metadata": {},
   "outputs": [],
   "source": []
  },
  {
   "cell_type": "code",
   "execution_count": null,
   "id": "b74acbe9-62d0-45f2-9a74-45bb3c0ecd1f",
   "metadata": {},
   "outputs": [],
   "source": []
  },
  {
   "cell_type": "code",
   "execution_count": null,
   "id": "3a29b877-09f9-46cb-aa1b-a5f6d4bbc8bd",
   "metadata": {},
   "outputs": [],
   "source": []
  },
  {
   "cell_type": "code",
   "execution_count": null,
   "id": "c2dc8eee-dd42-4eef-9a29-92daabd03f1c",
   "metadata": {},
   "outputs": [],
   "source": []
  },
  {
   "cell_type": "code",
   "execution_count": null,
   "id": "5da885b6-b8e6-438a-b172-2f86a580bc60",
   "metadata": {},
   "outputs": [],
   "source": []
  },
  {
   "cell_type": "code",
   "execution_count": null,
   "id": "46484625-6bf6-40c0-bb85-05507703b71e",
   "metadata": {},
   "outputs": [],
   "source": []
  },
  {
   "cell_type": "code",
   "execution_count": 30,
   "id": "65570264-b489-4c85-a5ae-52f095d98962",
   "metadata": {},
   "outputs": [],
   "source": [
    "import re\n",
    "year_month_regex = re.compile(r'(\\d\\d\\d\\d)-(\\d\\d)-(\\d\\d)')"
   ]
  },
  {
   "cell_type": "code",
   "execution_count": 10,
   "id": "8348aad3-cbc1-4715-90cf-ea3c12ce0802",
   "metadata": {},
   "outputs": [],
   "source": [
    "year_list = []\n",
    "month_list = []\n",
    "years = []\n",
    "months = []\n",
    "indexes = []\n",
    "\n",
    "times = nisponno_records_df.created.values\n",
    "for index, time in enumerate(times, start=0):\n",
    "    mo = year_month_regex.search(time)\n",
    "    year = mo.group(1)\n",
    "    month = mo.group(2)\n",
    "    years.append(year)\n",
    "    months.append(month)\n",
    "    inner_year_list = [index, year]\n",
    "    inner_month_list = [index, month]\n",
    "    year_list.append(inner_year_list)\n",
    "    month_list.append(inner_month_list)\n",
    "    indexes.append(index)\n"
   ]
  },
  {
   "cell_type": "code",
   "execution_count": 22,
   "id": "fb5dbf02-16f8-4472-8ba5-6f7048d9e9ce",
   "metadata": {},
   "outputs": [
    {
     "data": {
      "text/plain": [
       "{'2017', '2018', '2019', '2020', '2021'}"
      ]
     },
     "execution_count": 22,
     "metadata": {},
     "output_type": "execute_result"
    },
    {
     "data": {
      "text/plain": [
       "{'01', '02', '03', '04', '05', '06', '07', '08', '09', '10', '11', '12'}"
      ]
     },
     "execution_count": 22,
     "metadata": {},
     "output_type": "execute_result"
    },
    {
     "data": {
      "text/plain": [
       "[[0, '2017'],\n",
       " [1, '2017'],\n",
       " [2, '2017'],\n",
       " [3, '2017'],\n",
       " [4, '2017'],\n",
       " [5, '2017'],\n",
       " [6, '2017'],\n",
       " [7, '2017'],\n",
       " [8, '2017'],\n",
       " [9, '2017']]"
      ]
     },
     "execution_count": 22,
     "metadata": {},
     "output_type": "execute_result"
    }
   ],
   "source": [
    "# year_list[:10]\n",
    "# month_list[:10]\n",
    "set(years)\n",
    "set(months)\n",
    "year_list[:10]"
   ]
  },
  {
   "cell_type": "code",
   "execution_count": 11,
   "id": "7de273b3-9755-490b-a669-e34f509fc659",
   "metadata": {},
   "outputs": [
    {
     "data": {
      "text/plain": [
       "0    2017\n",
       "1    2017\n",
       "2    2017\n",
       "3    2017\n",
       "4    2017\n",
       "5    2017\n",
       "6    2017\n",
       "7    2017\n",
       "8    2017\n",
       "9    2017\n",
       "dtype: object"
      ]
     },
     "execution_count": 11,
     "metadata": {},
     "output_type": "execute_result"
    },
    {
     "data": {
      "text/plain": [
       "0    08\n",
       "1    08\n",
       "2    08\n",
       "3    08\n",
       "4    08\n",
       "5    08\n",
       "6    08\n",
       "7    08\n",
       "8    08\n",
       "9    08\n",
       "dtype: object"
      ]
     },
     "execution_count": 11,
     "metadata": {},
     "output_type": "execute_result"
    }
   ],
   "source": [
    "year_series_df = pd.Series(years, index=indexes)\n",
    "month_series_df = pd.Series(months, index=indexes)\n",
    "year_series_df[:10]\n",
    "month_series_df[:10]"
   ]
  },
  {
   "cell_type": "code",
   "execution_count": 14,
   "id": "5deada66-09c3-46e8-8a5c-af272826a746",
   "metadata": {},
   "outputs": [],
   "source": [
    "# offices_df\n",
    "nisponno_records_df['year'] = year_series_df\n",
    "nisponno_records_df['month'] = month_series_df"
   ]
  },
  {
   "cell_type": "code",
   "execution_count": 15,
   "id": "f0ad9852-49bb-451e-a76e-c7d24fa8f569",
   "metadata": {},
   "outputs": [
    {
     "data": {
      "text/html": [
       "<div>\n",
       "<style scoped>\n",
       "    .dataframe tbody tr th:only-of-type {\n",
       "        vertical-align: middle;\n",
       "    }\n",
       "\n",
       "    .dataframe tbody tr th {\n",
       "        vertical-align: top;\n",
       "    }\n",
       "\n",
       "    .dataframe thead th {\n",
       "        text-align: right;\n",
       "    }\n",
       "</style>\n",
       "<table border=\"1\" class=\"dataframe\">\n",
       "  <thead>\n",
       "    <tr style=\"text-align: right;\">\n",
       "      <th></th>\n",
       "      <th>id</th>\n",
       "      <th>nothi_master_id</th>\n",
       "      <th>nothi_part_no</th>\n",
       "      <th>type</th>\n",
       "      <th>nothi_onucched_id</th>\n",
       "      <th>potrojari_id</th>\n",
       "      <th>nothi_office_id</th>\n",
       "      <th>office_id</th>\n",
       "      <th>unit_id</th>\n",
       "      <th>designation_id</th>\n",
       "      <th>employee_id</th>\n",
       "      <th>potrojari_internal_own</th>\n",
       "      <th>potrojari_internal_other</th>\n",
       "      <th>dak_srijito</th>\n",
       "      <th>operation_date</th>\n",
       "      <th>created</th>\n",
       "      <th>modified</th>\n",
       "      <th>year</th>\n",
       "      <th>month</th>\n",
       "    </tr>\n",
       "  </thead>\n",
       "  <tbody>\n",
       "    <tr>\n",
       "      <th>0</th>\n",
       "      <td>1</td>\n",
       "      <td>2</td>\n",
       "      <td>2</td>\n",
       "      <td>potrojari</td>\n",
       "      <td>1.0</td>\n",
       "      <td>0</td>\n",
       "      <td>65</td>\n",
       "      <td>65</td>\n",
       "      <td>9625</td>\n",
       "      <td>22164</td>\n",
       "      <td>4397</td>\n",
       "      <td>0</td>\n",
       "      <td>0</td>\n",
       "      <td>0</td>\n",
       "      <td>2017-08-04 23:45:02</td>\n",
       "      <td>2017-08-04 23:43:02</td>\n",
       "      <td>2017-08-04 23:43:02</td>\n",
       "      <td>2017</td>\n",
       "      <td>08</td>\n",
       "    </tr>\n",
       "    <tr>\n",
       "      <th>1</th>\n",
       "      <td>2</td>\n",
       "      <td>1</td>\n",
       "      <td>1</td>\n",
       "      <td>potrojari</td>\n",
       "      <td>3.0</td>\n",
       "      <td>0</td>\n",
       "      <td>65</td>\n",
       "      <td>65</td>\n",
       "      <td>9625</td>\n",
       "      <td>22163</td>\n",
       "      <td>4369</td>\n",
       "      <td>0</td>\n",
       "      <td>0</td>\n",
       "      <td>0</td>\n",
       "      <td>2017-08-05 00:05:41</td>\n",
       "      <td>2017-08-05 00:03:41</td>\n",
       "      <td>2017-08-05 00:03:41</td>\n",
       "      <td>2017</td>\n",
       "      <td>08</td>\n",
       "    </tr>\n",
       "    <tr>\n",
       "      <th>2</th>\n",
       "      <td>3</td>\n",
       "      <td>2</td>\n",
       "      <td>2</td>\n",
       "      <td>potrojari</td>\n",
       "      <td>1.0</td>\n",
       "      <td>0</td>\n",
       "      <td>65</td>\n",
       "      <td>65</td>\n",
       "      <td>9625</td>\n",
       "      <td>22164</td>\n",
       "      <td>4397</td>\n",
       "      <td>0</td>\n",
       "      <td>0</td>\n",
       "      <td>0</td>\n",
       "      <td>2017-08-05 00:45:06</td>\n",
       "      <td>2017-08-05 00:43:06</td>\n",
       "      <td>2017-08-05 00:43:06</td>\n",
       "      <td>2017</td>\n",
       "      <td>08</td>\n",
       "    </tr>\n",
       "    <tr>\n",
       "      <th>3</th>\n",
       "      <td>4</td>\n",
       "      <td>1</td>\n",
       "      <td>1</td>\n",
       "      <td>potrojari</td>\n",
       "      <td>1.0</td>\n",
       "      <td>0</td>\n",
       "      <td>4264</td>\n",
       "      <td>4264</td>\n",
       "      <td>24939</td>\n",
       "      <td>93293</td>\n",
       "      <td>25367</td>\n",
       "      <td>0</td>\n",
       "      <td>0</td>\n",
       "      <td>0</td>\n",
       "      <td>2017-08-05 11:47:55</td>\n",
       "      <td>2017-08-05 11:45:55</td>\n",
       "      <td>2017-08-05 11:45:55</td>\n",
       "      <td>2017</td>\n",
       "      <td>08</td>\n",
       "    </tr>\n",
       "    <tr>\n",
       "      <th>4</th>\n",
       "      <td>5</td>\n",
       "      <td>1</td>\n",
       "      <td>1</td>\n",
       "      <td>potrojari</td>\n",
       "      <td>NaN</td>\n",
       "      <td>0</td>\n",
       "      <td>2932</td>\n",
       "      <td>2932</td>\n",
       "      <td>19643</td>\n",
       "      <td>83242</td>\n",
       "      <td>23245</td>\n",
       "      <td>0</td>\n",
       "      <td>0</td>\n",
       "      <td>0</td>\n",
       "      <td>2017-08-05 12:05:14</td>\n",
       "      <td>2017-08-05 12:03:14</td>\n",
       "      <td>2017-08-05 12:03:14</td>\n",
       "      <td>2017</td>\n",
       "      <td>08</td>\n",
       "    </tr>\n",
       "  </tbody>\n",
       "</table>\n",
       "</div>"
      ],
      "text/plain": [
       "   id  nothi_master_id  nothi_part_no       type  nothi_onucched_id  \\\n",
       "0   1                2              2  potrojari                1.0   \n",
       "1   2                1              1  potrojari                3.0   \n",
       "2   3                2              2  potrojari                1.0   \n",
       "3   4                1              1  potrojari                1.0   \n",
       "4   5                1              1  potrojari                NaN   \n",
       "\n",
       "   potrojari_id  nothi_office_id  office_id  unit_id  designation_id  \\\n",
       "0             0               65         65     9625           22164   \n",
       "1             0               65         65     9625           22163   \n",
       "2             0               65         65     9625           22164   \n",
       "3             0             4264       4264    24939           93293   \n",
       "4             0             2932       2932    19643           83242   \n",
       "\n",
       "   employee_id  potrojari_internal_own  potrojari_internal_other  dak_srijito  \\\n",
       "0         4397                       0                         0            0   \n",
       "1         4369                       0                         0            0   \n",
       "2         4397                       0                         0            0   \n",
       "3        25367                       0                         0            0   \n",
       "4        23245                       0                         0            0   \n",
       "\n",
       "        operation_date              created             modified  year month  \n",
       "0  2017-08-04 23:45:02  2017-08-04 23:43:02  2017-08-04 23:43:02  2017    08  \n",
       "1  2017-08-05 00:05:41  2017-08-05 00:03:41  2017-08-05 00:03:41  2017    08  \n",
       "2  2017-08-05 00:45:06  2017-08-05 00:43:06  2017-08-05 00:43:06  2017    08  \n",
       "3  2017-08-05 11:47:55  2017-08-05 11:45:55  2017-08-05 11:45:55  2017    08  \n",
       "4  2017-08-05 12:05:14  2017-08-05 12:03:14  2017-08-05 12:03:14  2017    08  "
      ]
     },
     "execution_count": 15,
     "metadata": {},
     "output_type": "execute_result"
    }
   ],
   "source": [
    "nisponno_records_df.head()"
   ]
  },
  {
   "cell_type": "code",
   "execution_count": 17,
   "id": "882cb4c4-01aa-4efd-930b-284508b2a8fb",
   "metadata": {},
   "outputs": [
    {
     "data": {
      "text/plain": [
       "<pandas.core.groupby.generic.DataFrameGroupBy object at 0x7f2186819c40>"
      ]
     },
     "execution_count": 17,
     "metadata": {},
     "output_type": "execute_result"
    }
   ],
   "source": [
    "nisponno_records_year_by = nisponno_records_df.groupby('year')\n",
    "nisponno_records_year_by"
   ]
  },
  {
   "cell_type": "code",
   "execution_count": 18,
   "id": "5e56722b-a62e-4b4d-b762-9cb3f80e4e73",
   "metadata": {},
   "outputs": [],
   "source": [
    "month_map ={\n",
    "    '1': 'January',\n",
    "    '01': 'January',\n",
    "    '2': 'February',\n",
    "    '02': 'February',\n",
    "    '3': 'March',\n",
    "    '03': 'March',\n",
    "    '4': 'April',\n",
    "    '04': 'April',\n",
    "    '5': 'May',\n",
    "    '05': 'May',\n",
    "    '6': 'June',\n",
    "    '06': 'June',\n",
    "    '7': 'July',\n",
    "    '07': 'July',\n",
    "    '8': 'August',\n",
    "    '08': 'August',\n",
    "    '9': 'Septembr',\n",
    "    '09': 'Septermber',\n",
    "    '10': 'October',\n",
    "    '11': 'November',\n",
    "    '12': 'December',\n",
    "}"
   ]
  },
  {
   "cell_type": "code",
   "execution_count": 21,
   "id": "37314186-666c-409d-854d-e6d2e22fa7df",
   "metadata": {},
   "outputs": [],
   "source": [
    "general_series = []\n",
    "drilldown_series = []\n",
    "for year, year_frame in nisponno_records_year_by:\n",
    "    # group, frame.shape[0]\n",
    "    year = str(year)\n",
    "    \n",
    "    t_dict_ge = {\n",
    "        'name': year,\n",
    "        'y': year_frame.shape[0],\n",
    "        'drilldown': year\n",
    "    }\n",
    "    general_series.append(t_dict_ge)\n",
    "    t_dict_dr = {\n",
    "        'name': year,\n",
    "        'id': year,\n",
    "        'data': [],\n",
    "    }\n",
    "    month_group_by = year_frame.groupby('month')\n",
    "    for month, month_frame in month_group_by:\n",
    "        # mg, mf.shape[0]\n",
    "        month = str(month)\n",
    "        month = month_map[month]\n",
    "        # print(month)\n",
    "       \n",
    "        # month, month_frame.shape[0]\n",
    "        lst = [month, month_frame.shape[0]]\n",
    "        t_dict_dr['data'].append(lst)\n",
    "        drilldown_series.append(t_dict_dr)\n",
    "    \n",
    "    # print()\n",
    "    # print()"
   ]
  },
  {
   "cell_type": "code",
   "execution_count": 22,
   "id": "f87495d2-926c-4d8b-a12e-1c3bff585b58",
   "metadata": {},
   "outputs": [],
   "source": [
    "# general_series\n",
    "# drilldown_series"
   ]
  },
  {
   "cell_type": "code",
   "execution_count": 23,
   "id": "419bdc8c-d11d-4b88-8bd4-906a1eae14d6",
   "metadata": {},
   "outputs": [
    {
     "data": {
      "text/plain": [
       "year\n",
       "2017     4724\n",
       "2018    10769\n",
       "2019    13190\n",
       "2020    11614\n",
       "2021     5396\n",
       "dtype: int64"
      ]
     },
     "execution_count": 23,
     "metadata": {},
     "output_type": "execute_result"
    },
    {
     "data": {
      "text/plain": [
       "year\n",
       "2017     4724\n",
       "2018    10769\n",
       "2019    13190\n",
       "2020    11614\n",
       "2021     5396\n",
       "Name: year, dtype: int64"
      ]
     },
     "execution_count": 23,
     "metadata": {},
     "output_type": "execute_result"
    }
   ],
   "source": [
    "# for group, frame in nisponno_records_year_by:\n",
    "#     print(f\"First 2 entries for {group!r}\")\n",
    "#     print(\"------------------------\")\n",
    "#     print(frame.head(2)[:2], end=\"\\n\\n\")\n",
    "#     print()\n",
    "#     print()\n",
    "#     print()\n",
    "nisponno_records_year_by.size()\n",
    "nisponno_records_year_by['year'].count()"
   ]
  },
  {
   "cell_type": "code",
   "execution_count": 24,
   "id": "1c5adb2b-3ac6-4318-bcf1-7b8f97814195",
   "metadata": {},
   "outputs": [
    {
     "data": {
      "text/plain": [
       "Int64Index([   0,    1,    2,    3,    4,    5,    6,    7,    8,    9,\n",
       "            ...\n",
       "            4714, 4715, 4716, 4717, 4718, 4719, 4720, 4721, 4722, 4723],\n",
       "           dtype='int64', length=4724)"
      ]
     },
     "execution_count": 24,
     "metadata": {},
     "output_type": "execute_result"
    }
   ],
   "source": [
    "nisponno_records_year_by.groups['2017']"
   ]
  },
  {
   "cell_type": "code",
   "execution_count": 48,
   "id": "b1a041bb-c948-4aa8-b8c9-72545234841f",
   "metadata": {},
   "outputs": [
    {
     "data": {
      "text/plain": [
       "Int64Index([  0,   1,   2,   3,   4,   5,   6,   7,   8,   9,\n",
       "            ...\n",
       "            961, 962, 963, 964, 965, 966, 967, 968, 969, 970],\n",
       "           dtype='int64', length=971)"
      ]
     },
     "execution_count": 48,
     "metadata": {},
     "output_type": "execute_result"
    },
    {
     "data": {
      "text/plain": [
       "971"
      ]
     },
     "execution_count": 48,
     "metadata": {},
     "output_type": "execute_result"
    }
   ],
   "source": [
    "x = nisponno_records_year_by.get_group('2017').groupby('month').groups['08']\n",
    "x\n",
    "len(x)"
   ]
  },
  {
   "cell_type": "code",
   "execution_count": null,
   "id": "6fa32b72-719e-466e-8fd5-d084ced1189c",
   "metadata": {},
   "outputs": [],
   "source": []
  },
  {
   "cell_type": "code",
   "execution_count": null,
   "id": "71c1e3c0-1736-4ed4-9635-001ee39c80dd",
   "metadata": {},
   "outputs": [],
   "source": []
  },
  {
   "cell_type": "code",
   "execution_count": null,
   "id": "f914f665-cc5d-432d-8af5-991a9aa7710f",
   "metadata": {},
   "outputs": [],
   "source": []
  },
  {
   "cell_type": "code",
   "execution_count": null,
   "id": "5747814c-ec82-4f91-bd9f-2b3dd7d3b25c",
   "metadata": {},
   "outputs": [],
   "source": []
  },
  {
   "cell_type": "code",
   "execution_count": null,
   "id": "0367f07a-2cf3-4588-9256-c455b723b0f4",
   "metadata": {},
   "outputs": [],
   "source": []
  },
  {
   "cell_type": "code",
   "execution_count": null,
   "id": "90703b29-ded4-4949-91a2-edc4d3618150",
   "metadata": {},
   "outputs": [],
   "source": []
  },
  {
   "cell_type": "code",
   "execution_count": 12,
   "id": "cf64c1d3-e1f3-4b3d-90cb-7b83846a4318",
   "metadata": {},
   "outputs": [
    {
     "data": {
      "text/plain": [
       "(array([ 4724.,     0., 10769.,     0.,     0., 13190.,     0., 11614.,\n",
       "            0.,  5396.]),\n",
       " array([0. , 0.4, 0.8, 1.2, 1.6, 2. , 2.4, 2.8, 3.2, 3.6, 4. ]),\n",
       " <BarContainer object of 10 artists>)"
      ]
     },
     "execution_count": 12,
     "metadata": {},
     "output_type": "execute_result"
    },
    {
     "data": {
      "text/plain": [
       "Text(0.5, 0, 'years')"
      ]
     },
     "execution_count": 12,
     "metadata": {},
     "output_type": "execute_result"
    },
    {
     "data": {
      "text/plain": [
       "Text(0, 0.5, 'Number of offices')"
      ]
     },
     "execution_count": 12,
     "metadata": {},
     "output_type": "execute_result"
    },
    {
     "data": {
      "text/plain": [
       "Text(0.5, 1.0, 'Offices in year base')"
      ]
     },
     "execution_count": 12,
     "metadata": {},
     "output_type": "execute_result"
    },
    {
     "data": {
      "image/png": "[encoded data removed]",
      "text/plain": [
       "<Figure size 432x288 with 1 Axes>"
      ]
     },
     "metadata": {
      "needs_background": "light"
     },
     "output_type": "display_data"
    }
   ],
   "source": [
    "\n",
    "# # the histogram of the data\n",
    "# n, bins, patches = plt.hist(x, 50, density=True, facecolor='g', alpha=0.75)\n",
    "plt.hist(nisponno_records_df['year'])\n",
    "\n",
    "\n",
    "plt.xlabel('years')\n",
    "plt.ylabel('Number of offices')\n",
    "plt.title('Offices in year base')\n",
    "# plt.text(60, .025, r'$\\mu=100,\\ \\sigma=15$')\n",
    "# plt.xlim(40, 160)\n",
    "# plt.ylim(0, 0.03)\n",
    "plt.grid(True)\n",
    "plt.show()\n"
   ]
  },
  {
   "cell_type": "code",
   "execution_count": 29,
   "id": "c66caa6c-b7b3-4c44-a4ae-16b79ea1b50b",
   "metadata": {},
   "outputs": [],
   "source": [
    "nisponno_records_df.to_csv('nisponno_records_updated.csv', index=False)"
   ]
  }
 ],
 "metadata": {
  "kernelspec": {
   "display_name": "Python 3 (ipykernel)",
   "language": "python",
   "name": "python3"
  },
  "language_info": {
   "codemirror_mode": {
    "name": "ipython",
    "version": 3
   },
   "file_extension": ".py",
   "mimetype": "text/x-python",
   "name": "python",
   "nbconvert_exporter": "python",
   "pygments_lexer": "ipython3",
   "version": "3.8.10"
  }
 },
 "nbformat": 4,
 "nbformat_minor": 5
}
