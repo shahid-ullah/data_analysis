{
 "cells": [
  {
   "cell_type": "code",
   "execution_count": null,
   "id": "2e9c7b02-93de-432f-956e-8f4dd0d33c0b",
   "metadata": {},
   "outputs": [],
   "source": []
  },
  {
   "cell_type": "code",
   "execution_count": 1,
   "id": "96c5b4a7-c7b9-4e86-8eb4-c52844c7606d",
   "metadata": {},
   "outputs": [],
   "source": [
    "# import necessary library\n",
    "from IPython.core.interactiveshell import InteractiveShell\n",
    "InteractiveShell.ast_node_interactivity = \"all\"\n",
    "\n",
    "import pandas as pd\n",
    "import numpy as np\n",
    "import seaborn as sns\n",
    "import matplotlib.pyplot as plt\n",
    "pd.set_option('display.max_columns', None)"
   ]
  },
  {
   "cell_type": "code",
   "execution_count": 2,
   "id": "30133e63-e96b-485d-b213-147abd5fadfb",
   "metadata": {},
   "outputs": [],
   "source": [
    "def load_dataframe(path=None, nrows=100000):\n",
    "    if not path:\n",
    "        path = '~/data_analysis/data/tappware/dnothi/offices.csv'\n",
    "    return pd.read_csv(path, nrows=nrows)"
   ]
  },
  {
   "cell_type": "code",
   "execution_count": 4,
   "id": "1373c9e5-f226-4413-a20d-2a9574abf9eb",
   "metadata": {},
   "outputs": [
    {
     "data": {
      "text/plain": [
       "(11376, 28)"
      ]
     },
     "execution_count": 4,
     "metadata": {},
     "output_type": "execute_result"
    }
   ],
   "source": [
    "df = load_dataframe()\n",
    "df.shape"
   ]
  },
  {
   "cell_type": "code",
   "execution_count": 5,
   "id": "8331d88b-c755-43b1-a89c-eb572558f3a2",
   "metadata": {},
   "outputs": [
    {
     "data": {
      "text/html": [
       "<div>\n",
       "<style scoped>\n",
       "    .dataframe tbody tr th:only-of-type {\n",
       "        vertical-align: middle;\n",
       "    }\n",
       "\n",
       "    .dataframe tbody tr th {\n",
       "        vertical-align: top;\n",
       "    }\n",
       "\n",
       "    .dataframe thead th {\n",
       "        text-align: right;\n",
       "    }\n",
       "</style>\n",
       "<table border=\"1\" class=\"dataframe\">\n",
       "  <thead>\n",
       "    <tr style=\"text-align: right;\">\n",
       "      <th></th>\n",
       "      <th>id</th>\n",
       "      <th>office_ministry_id</th>\n",
       "      <th>office_layer_id</th>\n",
       "      <th>custom_layer_id</th>\n",
       "      <th>office_origin_id</th>\n",
       "      <th>office_name_eng</th>\n",
       "      <th>office_name_bng</th>\n",
       "      <th>geo_division_id</th>\n",
       "      <th>geo_district_id</th>\n",
       "      <th>geo_upazila_id</th>\n",
       "      <th>geo_union_id</th>\n",
       "      <th>office_address</th>\n",
       "      <th>digital_nothi_code</th>\n",
       "      <th>reference_code</th>\n",
       "      <th>office_code</th>\n",
       "      <th>office_phone</th>\n",
       "      <th>office_mobile</th>\n",
       "      <th>office_fax</th>\n",
       "      <th>office_email</th>\n",
       "      <th>office_web</th>\n",
       "      <th>parent_office_id</th>\n",
       "      <th>active_status</th>\n",
       "      <th>unit_organogram_edit_option</th>\n",
       "      <th>unit_organogram_edit_option_status_updated_at</th>\n",
       "      <th>created_by</th>\n",
       "      <th>modified_by</th>\n",
       "      <th>created</th>\n",
       "      <th>modified</th>\n",
       "    </tr>\n",
       "  </thead>\n",
       "  <tbody>\n",
       "    <tr>\n",
       "      <th>0</th>\n",
       "      <td>3</td>\n",
       "      <td>5</td>\n",
       "      <td>22</td>\n",
       "      <td>NaN</td>\n",
       "      <td>16</td>\n",
       "      <td>Office of the Deputy Commissionar, Chittagong</td>\n",
       "      <td>জেলা প্রশাসকের কার্যালয়, চট্টগ্রাম</td>\n",
       "      <td>2</td>\n",
       "      <td>10</td>\n",
       "      <td>0</td>\n",
       "      <td>0</td>\n",
       "      <td>জেলা প্রশাসকের কার্যালয়, চট্টগ্রাম</td>\n",
       "      <td>০৫.৪২.১৫০০</td>\n",
       "      <td>NaN</td>\n",
       "      <td>৪২</td>\n",
       "      <td>০৩১- ৬১৯৯৯৬</td>\n",
       "      <td>01713104332</td>\n",
       "      <td>৮৮-০৩১-৬২০৫৭০, ৮৮-০৩১-৬৩৫২৭২</td>\n",
       "      <td>dcchittagong@mopa.gov.bd</td>\n",
       "      <td>www.chittagong.gov.bd</td>\n",
       "      <td>10</td>\n",
       "      <td>1</td>\n",
       "      <td>3.0</td>\n",
       "      <td>2019-10-22 20:28:32</td>\n",
       "      <td>0</td>\n",
       "      <td>0</td>\n",
       "      <td>2015-08-02 12:10:01</td>\n",
       "      <td>2019-10-22 14:28:32</td>\n",
       "    </tr>\n",
       "    <tr>\n",
       "      <th>1</th>\n",
       "      <td>5</td>\n",
       "      <td>5</td>\n",
       "      <td>21</td>\n",
       "      <td>NaN</td>\n",
       "      <td>15</td>\n",
       "      <td>Office of the Divisional Commissioner, Dhaka</td>\n",
       "      <td>বিভাগীয় কমিশনারের কার্যালয়, ঢাকা</td>\n",
       "      <td>3</td>\n",
       "      <td>18</td>\n",
       "      <td>0</td>\n",
       "      <td>0</td>\n",
       "      <td>১ম ১২তলা সরকারি অফিস ভবন\\r\\nসেগুনবাগিচা, ঢাকা</td>\n",
       "      <td>05.41.3000</td>\n",
       "      <td>NaN</td>\n",
       "      <td>NaN</td>\n",
       "      <td>+৮৮০ ২ ৯৩৫০৮৪৪</td>\n",
       "      <td>01711468104</td>\n",
       "      <td>+৮৮০ ২ ৯৩৪৯৯৯৯</td>\n",
       "      <td>divcomdhaka@mopa.gov.bd</td>\n",
       "      <td>www.dhakadiv.gov.bd</td>\n",
       "      <td>8</td>\n",
       "      <td>1</td>\n",
       "      <td>3.0</td>\n",
       "      <td>2019-11-25 16:17:53</td>\n",
       "      <td>1</td>\n",
       "      <td>0</td>\n",
       "      <td>2015-08-13 03:51:02</td>\n",
       "      <td>2019-11-25 10:17:53</td>\n",
       "    </tr>\n",
       "    <tr>\n",
       "      <th>2</th>\n",
       "      <td>6</td>\n",
       "      <td>5</td>\n",
       "      <td>22</td>\n",
       "      <td>NaN</td>\n",
       "      <td>16</td>\n",
       "      <td>Office of the Deputy Commissionar, Narsingdi</td>\n",
       "      <td>জেলা প্রশাসকের কার্যালয়, নরসিংদী</td>\n",
       "      <td>3</td>\n",
       "      <td>29</td>\n",
       "      <td>0</td>\n",
       "      <td>0</td>\n",
       "      <td>NaN</td>\n",
       "      <td>০৫.৩০.৬৮০০</td>\n",
       "      <td>NaN</td>\n",
       "      <td>NaN</td>\n",
       "      <td>+৮৮০২৯৪৬২৫০০</td>\n",
       "      <td>NaN</td>\n",
       "      <td>+৮৮০২৯৪৬৪৪৩৩</td>\n",
       "      <td>dcnarsingdi@mopa.gov.bd</td>\n",
       "      <td>http://www.narsingdi.gov.bd</td>\n",
       "      <td>5</td>\n",
       "      <td>1</td>\n",
       "      <td>3.0</td>\n",
       "      <td>2019-10-22 20:28:35</td>\n",
       "      <td>0</td>\n",
       "      <td>0</td>\n",
       "      <td>2015-08-13 03:53:42</td>\n",
       "      <td>2019-10-22 14:28:35</td>\n",
       "    </tr>\n",
       "    <tr>\n",
       "      <th>3</th>\n",
       "      <td>8</td>\n",
       "      <td>5</td>\n",
       "      <td>19</td>\n",
       "      <td>NaN</td>\n",
       "      <td>12</td>\n",
       "      <td>Ministry of Public Administration</td>\n",
       "      <td>জনপ্রশাসন মন্ত্রণালয়</td>\n",
       "      <td>3</td>\n",
       "      <td>18</td>\n",
       "      <td>0</td>\n",
       "      <td>0</td>\n",
       "      <td>NaN</td>\n",
       "      <td>০৫.০০.০০০০</td>\n",
       "      <td>NaN</td>\n",
       "      <td>০৫</td>\n",
       "      <td>NaN</td>\n",
       "      <td>NaN</td>\n",
       "      <td>NaN</td>\n",
       "      <td>info@mopa.gov.bd</td>\n",
       "      <td>www.mopa.gov.bd</td>\n",
       "      <td>0</td>\n",
       "      <td>1</td>\n",
       "      <td>3.0</td>\n",
       "      <td>2019-10-13 16:36:18</td>\n",
       "      <td>0</td>\n",
       "      <td>0</td>\n",
       "      <td>2015-08-13 11:50:28</td>\n",
       "      <td>2019-10-13 10:36:18</td>\n",
       "    </tr>\n",
       "    <tr>\n",
       "      <th>4</th>\n",
       "      <td>9</td>\n",
       "      <td>5</td>\n",
       "      <td>23</td>\n",
       "      <td>NaN</td>\n",
       "      <td>17</td>\n",
       "      <td>Office of the Upazila Nirbahi Officer, Rangunia</td>\n",
       "      <td>উপজেলা নির্বাহী অফিসারের কার্যালয়, রাঙ্গুনিয়া,...</td>\n",
       "      <td>2</td>\n",
       "      <td>10</td>\n",
       "      <td>0</td>\n",
       "      <td>0</td>\n",
       "      <td>উপজেলা নির্বাহী অফিসারের কার্যালয়, রাঙ্গুনিয়া,...</td>\n",
       "      <td>০৫.৪২.১৫৭০</td>\n",
       "      <td>NaN</td>\n",
       "      <td>NaN</td>\n",
       "      <td>০৩০২৫৫৬০০১</td>\n",
       "      <td>01716147056</td>\n",
       "      <td>০৩০২৫৫৬০১০</td>\n",
       "      <td>unorangunia@mopa.gov.bd</td>\n",
       "      <td>http://rangunia.chittagong.gov.bd</td>\n",
       "      <td>3</td>\n",
       "      <td>1</td>\n",
       "      <td>NaN</td>\n",
       "      <td>NaN</td>\n",
       "      <td>0</td>\n",
       "      <td>0</td>\n",
       "      <td>2015-08-14 13:59:36</td>\n",
       "      <td>2019-12-01 12:27:53</td>\n",
       "    </tr>\n",
       "  </tbody>\n",
       "</table>\n",
       "</div>"
      ],
      "text/plain": [
       "   id  office_ministry_id  office_layer_id  custom_layer_id  office_origin_id  \\\n",
       "0   3                   5               22              NaN                16   \n",
       "1   5                   5               21              NaN                15   \n",
       "2   6                   5               22              NaN                16   \n",
       "3   8                   5               19              NaN                12   \n",
       "4   9                   5               23              NaN                17   \n",
       "\n",
       "                                   office_name_eng  \\\n",
       "0    Office of the Deputy Commissionar, Chittagong   \n",
       "1     Office of the Divisional Commissioner, Dhaka   \n",
       "2     Office of the Deputy Commissionar, Narsingdi   \n",
       "3                Ministry of Public Administration   \n",
       "4  Office of the Upazila Nirbahi Officer, Rangunia   \n",
       "\n",
       "                                     office_name_bng  geo_division_id  \\\n",
       "0                 জেলা প্রশাসকের কার্যালয়, চট্টগ্রাম                2   \n",
       "1                   বিভাগীয় কমিশনারের কার্যালয়, ঢাকা                3   \n",
       "2                   জেলা প্রশাসকের কার্যালয়, নরসিংদী                3   \n",
       "3                               জনপ্রশাসন মন্ত্রণালয়                3   \n",
       "4  উপজেলা নির্বাহী অফিসারের কার্যালয়, রাঙ্গুনিয়া,...                2   \n",
       "\n",
       "   geo_district_id  geo_upazila_id  geo_union_id  \\\n",
       "0               10               0             0   \n",
       "1               18               0             0   \n",
       "2               29               0             0   \n",
       "3               18               0             0   \n",
       "4               10               0             0   \n",
       "\n",
       "                                      office_address digital_nothi_code  \\\n",
       "0                 জেলা প্রশাসকের কার্যালয়, চট্টগ্রাম         ০৫.৪২.১৫০০   \n",
       "1      ১ম ১২তলা সরকারি অফিস ভবন\\r\\nসেগুনবাগিচা, ঢাকা         05.41.3000   \n",
       "2                                                NaN         ০৫.৩০.৬৮০০   \n",
       "3                                                NaN         ০৫.০০.০০০০   \n",
       "4  উপজেলা নির্বাহী অফিসারের কার্যালয়, রাঙ্গুনিয়া,...         ০৫.৪২.১৫৭০   \n",
       "\n",
       "   reference_code office_code    office_phone office_mobile  \\\n",
       "0             NaN          ৪২     ০৩১- ৬১৯৯৯৬   01713104332   \n",
       "1             NaN         NaN  +৮৮০ ২ ৯৩৫০৮৪৪   01711468104   \n",
       "2             NaN         NaN    +৮৮০২৯৪৬২৫০০           NaN   \n",
       "3             NaN          ০৫             NaN           NaN   \n",
       "4             NaN         NaN      ০৩০২৫৫৬০০১   01716147056   \n",
       "\n",
       "                     office_fax              office_email  \\\n",
       "0  ৮৮-০৩১-৬২০৫৭০, ৮৮-০৩১-৬৩৫২৭২  dcchittagong@mopa.gov.bd   \n",
       "1                +৮৮০ ২ ৯৩৪৯৯৯৯   divcomdhaka@mopa.gov.bd   \n",
       "2                  +৮৮০২৯৪৬৪৪৩৩   dcnarsingdi@mopa.gov.bd   \n",
       "3                           NaN          info@mopa.gov.bd   \n",
       "4                    ০৩০২৫৫৬০১০   unorangunia@mopa.gov.bd   \n",
       "\n",
       "                          office_web  parent_office_id  active_status  \\\n",
       "0              www.chittagong.gov.bd                10              1   \n",
       "1                www.dhakadiv.gov.bd                 8              1   \n",
       "2        http://www.narsingdi.gov.bd                 5              1   \n",
       "3                    www.mopa.gov.bd                 0              1   \n",
       "4  http://rangunia.chittagong.gov.bd                 3              1   \n",
       "\n",
       "   unit_organogram_edit_option unit_organogram_edit_option_status_updated_at  \\\n",
       "0                          3.0                           2019-10-22 20:28:32   \n",
       "1                          3.0                           2019-11-25 16:17:53   \n",
       "2                          3.0                           2019-10-22 20:28:35   \n",
       "3                          3.0                           2019-10-13 16:36:18   \n",
       "4                          NaN                                           NaN   \n",
       "\n",
       "   created_by  modified_by              created             modified  \n",
       "0           0            0  2015-08-02 12:10:01  2019-10-22 14:28:32  \n",
       "1           1            0  2015-08-13 03:51:02  2019-11-25 10:17:53  \n",
       "2           0            0  2015-08-13 03:53:42  2019-10-22 14:28:35  \n",
       "3           0            0  2015-08-13 11:50:28  2019-10-13 10:36:18  \n",
       "4           0            0  2015-08-14 13:59:36  2019-12-01 12:27:53  "
      ]
     },
     "execution_count": 5,
     "metadata": {},
     "output_type": "execute_result"
    }
   ],
   "source": [
    "df.head()"
   ]
  },
  {
   "cell_type": "code",
   "execution_count": 6,
   "id": "333a1a92-2783-4618-b35d-e87002f21df7",
   "metadata": {},
   "outputs": [
    {
     "data": {
      "text/plain": [
       "Index(['id', 'office_ministry_id', 'office_layer_id', 'custom_layer_id',\n",
       "       'office_origin_id', 'office_name_eng', 'office_name_bng',\n",
       "       'geo_division_id', 'geo_district_id', 'geo_upazila_id', 'geo_union_id',\n",
       "       'office_address', 'digital_nothi_code', 'reference_code', 'office_code',\n",
       "       'office_phone', 'office_mobile', 'office_fax', 'office_email',\n",
       "       'office_web', 'parent_office_id', 'active_status',\n",
       "       'unit_organogram_edit_option',\n",
       "       'unit_organogram_edit_option_status_updated_at', 'created_by',\n",
       "       'modified_by', 'created', 'modified'],\n",
       "      dtype='object')"
      ]
     },
     "execution_count": 6,
     "metadata": {},
     "output_type": "execute_result"
    }
   ],
   "source": [
    "# data summary\n",
    "# df.info()\n",
    "df.columns"
   ]
  },
  {
   "cell_type": "code",
   "execution_count": 9,
   "id": "538acef1-1beb-4929-9b91-1c49fe299ce0",
   "metadata": {},
   "outputs": [
    {
     "data": {
      "text/plain": [
       "3    2570\n",
       "2    2097\n",
       "5    1584\n",
       "4    1408\n",
       "6    1201\n",
       "1     939\n",
       "7     855\n",
       "9     722\n",
       "Name: geo_division_id, dtype: int64"
      ]
     },
     "execution_count": 9,
     "metadata": {},
     "output_type": "execute_result"
    }
   ],
   "source": [
    "\n",
    "df.geo_division_id.value_counts()"
   ]
  },
  {
   "cell_type": "markdown",
   "id": "c8d92cdd-db61-40e5-a60e-44870b8b2712",
   "metadata": {},
   "source": [
    "\n",
    "### General Insights / General questions we can answer:\n",
    "- কোন নির্দিষ্ট সালে/মাসে/দিনে কতগুলো অফিস যুক্ত হয়েছে।\n",
    "- অ্যকটিভ ও নন-অ্যাকটিভ অফিস এর অনুপাত।\n",
    "- কোন বিভাগ এ বেশি অফিস রেজিস্টাড করা হয়েছে এবং তাদের অনুপাত।\n",
    "\n",
    "### Business Insights / Questions we can explore:\n",
    "- কোন অফিস / অফিস গুলো কেন ডি-অ্যাকটিভ করা হয়েছে।\n"
   ]
  },
  {
   "cell_type": "markdown",
   "id": "32693839-6a49-4d11-8e10-d5974722fa6d",
   "metadata": {},
   "source": [
    "### বছর ভিত্তিক অফিস সংখ্যা"
   ]
  },
  {
   "cell_type": "code",
   "execution_count": 28,
   "id": "f03e6fe5-6d08-4c5d-97ee-a57d73bde3f8",
   "metadata": {},
   "outputs": [
    {
     "data": {
      "text/html": [
       "<div>\n",
       "<style scoped>\n",
       "    .dataframe tbody tr th:only-of-type {\n",
       "        vertical-align: middle;\n",
       "    }\n",
       "\n",
       "    .dataframe tbody tr th {\n",
       "        vertical-align: top;\n",
       "    }\n",
       "\n",
       "    .dataframe thead th {\n",
       "        text-align: right;\n",
       "    }\n",
       "</style>\n",
       "<table border=\"1\" class=\"dataframe\">\n",
       "  <thead>\n",
       "    <tr style=\"text-align: right;\">\n",
       "      <th></th>\n",
       "      <th>created</th>\n",
       "      <th>counts</th>\n",
       "    </tr>\n",
       "  </thead>\n",
       "  <tbody>\n",
       "    <tr>\n",
       "      <th>0</th>\n",
       "      <td>2015</td>\n",
       "      <td>41</td>\n",
       "    </tr>\n",
       "    <tr>\n",
       "      <th>1</th>\n",
       "      <td>2016</td>\n",
       "      <td>2703</td>\n",
       "    </tr>\n",
       "    <tr>\n",
       "      <th>2</th>\n",
       "      <td>2017</td>\n",
       "      <td>2907</td>\n",
       "    </tr>\n",
       "    <tr>\n",
       "      <th>3</th>\n",
       "      <td>2018</td>\n",
       "      <td>1864</td>\n",
       "    </tr>\n",
       "    <tr>\n",
       "      <th>4</th>\n",
       "      <td>2019</td>\n",
       "      <td>2583</td>\n",
       "    </tr>\n",
       "    <tr>\n",
       "      <th>5</th>\n",
       "      <td>2020</td>\n",
       "      <td>990</td>\n",
       "    </tr>\n",
       "    <tr>\n",
       "      <th>6</th>\n",
       "      <td>2021</td>\n",
       "      <td>288</td>\n",
       "    </tr>\n",
       "  </tbody>\n",
       "</table>\n",
       "</div>"
      ],
      "text/plain": [
       "   created  counts\n",
       "0     2015      41\n",
       "1     2016    2703\n",
       "2     2017    2907\n",
       "3     2018    1864\n",
       "4     2019    2583\n",
       "5     2020     990\n",
       "6     2021     288"
      ]
     },
     "execution_count": 28,
     "metadata": {},
     "output_type": "execute_result"
    }
   ],
   "source": [
    "df_office_count = df[['id', 'created']].copy(deep=True)\n",
    "df_office_count['created'] = pd.to_datetime(df_office_count.created)\n",
    "df_office_count = df_office_count.groupby(df_office_count.created.dt.year).size().reset_index(name='counts')\n",
    "df_office_count"
   ]
  },
  {
   "cell_type": "code",
   "execution_count": 34,
   "id": "cc2dad9d-784d-4270-b23c-1dc2e569ca76",
   "metadata": {},
   "outputs": [
    {
     "data": {
      "text/plain": [
       "<BarContainer object of 7 artists>"
      ]
     },
     "execution_count": 34,
     "metadata": {},
     "output_type": "execute_result"
    },
    {
     "data": {
      "text/plain": [
       "Text(0.5, 1.0, 'number of office by year')"
      ]
     },
     "execution_count": 34,
     "metadata": {},
     "output_type": "execute_result"
    },
    {
     "data": {
      "text/plain": [
       "Text(0, 0.5, 'number of office')"
      ]
     },
     "execution_count": 34,
     "metadata": {},
     "output_type": "execute_result"
    },
    {
     "data": {
      "image/png": "[encoded data removed]",
      "text/plain": [
       "<Figure size 432x288 with 1 Axes>"
      ]
     },
     "metadata": {
      "needs_background": "light"
     },
     "output_type": "display_data"
    }
   ],
   "source": [
    "fig, ax = plt.subplots()\n",
    "\n",
    "labels = []\n",
    "for year in df_office_count.created.values:\n",
    "    labels.append(str(year))\n",
    "    \n",
    "height = df_office_count.counts.values\n",
    "\n",
    "# Define searborn color palette to use\n",
    "colors = sns.color_palette('bright')[0:len(labels)]\n",
    "\n",
    "\n",
    "ax.bar(labels, height,  color=colors)\n",
    "ax.set_title('number of office by year')\n",
    "ax.set_ylabel('number of office')\n",
    "# ax.legend()\n",
    "plt.show()"
   ]
  },
  {
   "cell_type": "code",
   "execution_count": 35,
   "id": "8e106e21-ab5b-42ab-9dca-c9ca2b5de0a6",
   "metadata": {},
   "outputs": [],
   "source": [
    "df_office_count_cummulative =  df_office_count\n",
    "df_office_count_cummulative['counts'] =  df_office_count_cummulative.counts.cumsum()\n",
    "# df_office_count_cummulative =  df_office_count"
   ]
  },
  {
   "cell_type": "code",
   "execution_count": 38,
   "id": "7b5e8c16-ead5-405a-8b09-016b1d359dcf",
   "metadata": {},
   "outputs": [
    {
     "data": {
      "text/plain": [
       "<BarContainer object of 7 artists>"
      ]
     },
     "execution_count": 38,
     "metadata": {},
     "output_type": "execute_result"
    },
    {
     "data": {
      "text/plain": [
       "Text(0.5, 1.0, 'number of office by year')"
      ]
     },
     "execution_count": 38,
     "metadata": {},
     "output_type": "execute_result"
    },
    {
     "data": {
      "text/plain": [
       "Text(0, 0.5, 'number of office')"
      ]
     },
     "execution_count": 38,
     "metadata": {},
     "output_type": "execute_result"
    },
    {
     "data": {
      "image/png": "[encoded data removed]",
      "text/plain": [
       "<Figure size 432x288 with 1 Axes>"
      ]
     },
     "metadata": {
      "needs_background": "light"
     },
     "output_type": "display_data"
    }
   ],
   "source": [
    "fig, ax = plt.subplots()\n",
    "\n",
    "labels = []\n",
    "for year in df_office_count_cummulative.created.values:\n",
    "    labels.append(str(year))\n",
    "    \n",
    "height = df_office_count_cummulative.counts.values\n",
    "\n",
    "# Define searborn color palette to use\n",
    "colors = sns.color_palette('bright')[0:len(labels)]\n",
    "\n",
    "\n",
    "ax.bar(labels, height,  color=colors)\n",
    "# ax.plot(labels, height,  color=colors)\n",
    "ax.set_title('number of office by year')\n",
    "ax.set_ylabel('number of office')\n",
    "# ax.legend()\n",
    "plt.show()"
   ]
  },
  {
   "cell_type": "markdown",
   "id": "58407e75-9425-4a21-a7fb-bf79ca47af53",
   "metadata": {},
   "source": [
    "### অ্যাকটিভ ও নন-অ্যাকটিভ অফিস এর অনুপাত"
   ]
  },
  {
   "cell_type": "code",
   "execution_count": 16,
   "id": "4b993b0b-8d08-4450-a691-e65d11783040",
   "metadata": {},
   "outputs": [
    {
     "data": {
      "text/html": [
       "<div>\n",
       "<style scoped>\n",
       "    .dataframe tbody tr th:only-of-type {\n",
       "        vertical-align: middle;\n",
       "    }\n",
       "\n",
       "    .dataframe tbody tr th {\n",
       "        vertical-align: top;\n",
       "    }\n",
       "\n",
       "    .dataframe thead th {\n",
       "        text-align: right;\n",
       "    }\n",
       "</style>\n",
       "<table border=\"1\" class=\"dataframe\">\n",
       "  <thead>\n",
       "    <tr style=\"text-align: right;\">\n",
       "      <th></th>\n",
       "      <th>active_status</th>\n",
       "      <th>counts</th>\n",
       "    </tr>\n",
       "  </thead>\n",
       "  <tbody>\n",
       "    <tr>\n",
       "      <th>0</th>\n",
       "      <td>0</td>\n",
       "      <td>3157</td>\n",
       "    </tr>\n",
       "    <tr>\n",
       "      <th>1</th>\n",
       "      <td>1</td>\n",
       "      <td>8219</td>\n",
       "    </tr>\n",
       "  </tbody>\n",
       "</table>\n",
       "</div>"
      ],
      "text/plain": [
       "   active_status  counts\n",
       "0              0    3157\n",
       "1              1    8219"
      ]
     },
     "execution_count": 16,
     "metadata": {},
     "output_type": "execute_result"
    }
   ],
   "source": [
    "df.groupby('active_status').size().reset_index(name='counts')\n"
   ]
  },
  {
   "cell_type": "code",
   "execution_count": 20,
   "id": "e7676bdb-24ac-4d61-924c-668171118189",
   "metadata": {},
   "outputs": [
    {
     "data": {
      "text/plain": [
       "[None, None, None, None]"
      ]
     },
     "execution_count": 20,
     "metadata": {},
     "output_type": "execute_result"
    },
    {
     "data": {
      "text/plain": [
       "Text(0.5, 1.0, 'active vs deactive office')"
      ]
     },
     "execution_count": 20,
     "metadata": {},
     "output_type": "execute_result"
    },
    {
     "data": {
      "image/png": "[encoded data removed]",
      "text/plain": [
       "<Figure size 1120x560 with 1 Axes>"
      ]
     },
     "metadata": {},
     "output_type": "display_data"
    }
   ],
   "source": [
    "df_active_deactive_office = df.groupby('active_status').size().reset_index(name='counts')\n",
    "\n",
    "fig, ax = plt.subplots(figsize=(14, 7), subplot_kw=dict(aspect=\"equal\"), dpi= 80)\n",
    "\n",
    "# Define searborn color palette to use\n",
    "colors = sns.color_palette('bright')[0:5]\n",
    "# colors = sns.color_palette('pastel')[0:5]\n",
    "wedges, texts, autotexts = ax.pie(df_active_deactive_office['counts'], \n",
    "                                  autopct='%.0f%%',\n",
    "                                  textprops=dict(color=\"w\"), \n",
    "                                  colors=colors,\n",
    "                                  startangle=90,\n",
    "                                 )\n",
    "\n",
    "_ = ax.legend(wedges, df_active_deactive_office['active_status'], title=\"active_status\", loc=\"center left\", bbox_to_anchor=(1, 0, 0.5, 1))\n",
    "\n",
    "plt.setp(autotexts, size=10, weight=700)\n",
    "ax.set_title(\"active vs deactive office\")\n",
    "\n",
    "plt.show()"
   ]
  },
  {
   "cell_type": "markdown",
   "id": "66dc7d6e-bb76-4467-9489-f2a1af7500aa",
   "metadata": {},
   "source": [
    "### বিভাগ ভিত্তিক অফিস সংখ্যা"
   ]
  },
  {
   "cell_type": "code",
   "execution_count": 27,
   "id": "52bb5dfb-0fb2-4e56-884f-e99f11950824",
   "metadata": {},
   "outputs": [
    {
     "data": {
      "text/html": [
       "<div>\n",
       "<style scoped>\n",
       "    .dataframe tbody tr th:only-of-type {\n",
       "        vertical-align: middle;\n",
       "    }\n",
       "\n",
       "    .dataframe tbody tr th {\n",
       "        vertical-align: top;\n",
       "    }\n",
       "\n",
       "    .dataframe thead th {\n",
       "        text-align: right;\n",
       "    }\n",
       "</style>\n",
       "<table border=\"1\" class=\"dataframe\">\n",
       "  <thead>\n",
       "    <tr style=\"text-align: right;\">\n",
       "      <th></th>\n",
       "      <th>geo_division_id</th>\n",
       "      <th>number</th>\n",
       "    </tr>\n",
       "  </thead>\n",
       "  <tbody>\n",
       "    <tr>\n",
       "      <th>2</th>\n",
       "      <td>3</td>\n",
       "      <td>2570</td>\n",
       "    </tr>\n",
       "    <tr>\n",
       "      <th>1</th>\n",
       "      <td>2</td>\n",
       "      <td>2097</td>\n",
       "    </tr>\n",
       "    <tr>\n",
       "      <th>4</th>\n",
       "      <td>5</td>\n",
       "      <td>1584</td>\n",
       "    </tr>\n",
       "    <tr>\n",
       "      <th>3</th>\n",
       "      <td>4</td>\n",
       "      <td>1408</td>\n",
       "    </tr>\n",
       "    <tr>\n",
       "      <th>5</th>\n",
       "      <td>6</td>\n",
       "      <td>1201</td>\n",
       "    </tr>\n",
       "    <tr>\n",
       "      <th>0</th>\n",
       "      <td>1</td>\n",
       "      <td>939</td>\n",
       "    </tr>\n",
       "    <tr>\n",
       "      <th>6</th>\n",
       "      <td>7</td>\n",
       "      <td>855</td>\n",
       "    </tr>\n",
       "    <tr>\n",
       "      <th>7</th>\n",
       "      <td>9</td>\n",
       "      <td>722</td>\n",
       "    </tr>\n",
       "  </tbody>\n",
       "</table>\n",
       "</div>"
      ],
      "text/plain": [
       "   geo_division_id  number\n",
       "2                3    2570\n",
       "1                2    2097\n",
       "4                5    1584\n",
       "3                4    1408\n",
       "5                6    1201\n",
       "0                1     939\n",
       "6                7     855\n",
       "7                9     722"
      ]
     },
     "execution_count": 27,
     "metadata": {},
     "output_type": "execute_result"
    }
   ],
   "source": [
    "df.groupby('geo_division_id').size().reset_index(name='number').sort_values(by=['number'], ascending=False)"
   ]
  }
 ],
 "metadata": {
  "kernelspec": {
   "display_name": "Python 3 (ipykernel)",
   "language": "python",
   "name": "python3"
  },
  "language_info": {
   "codemirror_mode": {
    "name": "ipython",
    "version": 3
   },
   "file_extension": ".py",
   "mimetype": "text/x-python",
   "name": "python",
   "nbconvert_exporter": "python",
   "pygments_lexer": "ipython3",
   "version": "3.8.10"
  }
 },
 "nbformat": 4,
 "nbformat_minor": 5
}
