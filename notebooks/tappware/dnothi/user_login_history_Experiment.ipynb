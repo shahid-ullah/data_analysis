{
 "cells": [
  {
   "cell_type": "code",
   "execution_count": null,
   "id": "62889d0e-b56c-48e4-9257-9d9a8be447fe",
   "metadata": {},
   "outputs": [],
   "source": [
    "# import necessary library\n",
    "from IPython.core.interactiveshell import InteractiveShell\n",
    "InteractiveShell.ast_node_interactivity = \"all\"\n",
    "\n",
    "import pandas as pd\n",
    "import numpy as np\n",
    "import matplotlib.pyplot as plt\n",
    "pd.set_option('display.max_columns', None)"
   ]
  },
  {
   "cell_type": "code",
   "execution_count": null,
   "id": "110f5ddf-7a5a-4a48-83c1-af1e47717fb7",
   "metadata": {},
   "outputs": [],
   "source": [
    "user_login_history_table_columns = [\n",
    "    'id',\n",
    "    'is_mobile',\n",
    "    'client_ip',\n",
    "    'device_name',\n",
    "    'browser_name',\n",
    "    'employee_record_id',\n",
    "    'ministry_id',\n",
    "    'layer_id',\n",
    "    'origin_id',\n",
    "    'office_id',\n",
    "    'office_unit_id',\n",
    "    'office_unit_organogram',\n",
    "    'office_name',\n",
    "    'unit_name',\n",
    "    'organogram_name',\n",
    "    'user_id',\n",
    "    'employee_name',\n",
    "    'mobile_number',\n",
    "    'employee_email',\n",
    "    'login_time',\n",
    "    'logout_time',\n",
    "    'network_information',\n",
    "    'created',\n",
    "    'modified',\n",
    "    'created_by',\n",
    "    'modified_by',\n",
    "    'token',\n",
    "    'device_type',\n",
    "    'device_id',\n",
    "]\n",
    "len(user_login_history_table_columns)"
   ]
  },
  {
   "cell_type": "code",
   "execution_count": null,
   "id": "9aeebca5-87af-48ac-8490-b70b5a1edef7",
   "metadata": {},
   "outputs": [],
   "source": []
  },
  {
   "cell_type": "code",
   "execution_count": null,
   "id": "e4c70007-5fa7-4f06-b195-d4b37b8f1989",
   "metadata": {},
   "outputs": [],
   "source": [
    "# SELECT count(id) FROM `user_login_history` where date(created) >= '2020-09-01'  and date(created) <= '2020-09-30' and is_mobile = 1;"
   ]
  },
  {
   "cell_type": "code",
   "execution_count": null,
   "id": "22d27c08-3bee-463a-85b5-2127420b7544",
   "metadata": {},
   "outputs": [],
   "source": [
    "\n",
    "user_login_history_df = pd.read_csv('../Data/user_login_history_24_11_2021.csv', names=user_login_history_table_columns)\n",
    "user_login_history_df.shape"
   ]
  },
  {
   "cell_type": "code",
   "execution_count": null,
   "id": "2190ed1d-789e-4bab-b200-c4481bdfe78d",
   "metadata": {},
   "outputs": [],
   "source": [
    "user_login_history_df.columns"
   ]
  },
  {
   "cell_type": "code",
   "execution_count": null,
   "id": "3e4183af-7b8d-450c-9b37-392025875a46",
   "metadata": {},
   "outputs": [],
   "source": [
    "user_login_history_df.info(memory_usage='deep')"
   ]
  },
  {
   "cell_type": "code",
   "execution_count": null,
   "id": "4fe8a6ac-ef63-4642-b7ee-8a8f66384387",
   "metadata": {},
   "outputs": [],
   "source": [
    "x = user_login_history_df.memory_usage(deep=True)/1024/1024\n",
    "x.sort_values(ascending=False)"
   ]
  },
  {
   "cell_type": "code",
   "execution_count": null,
   "id": "923620d4-d42a-4fc8-9912-2579985b1618",
   "metadata": {},
   "outputs": [],
   "source": [
    "# type(x)\n",
    "# x.values"
   ]
  },
  {
   "cell_type": "markdown",
   "id": "0c3dea06-185a-4f8e-b28f-ab048d8e2544",
   "metadata": {},
   "source": [
    "# Most logged in users"
   ]
  },
  {
   "cell_type": "code",
   "execution_count": null,
   "id": "d54b5c76-005a-4cca-9869-c1a621050809",
   "metadata": {},
   "outputs": [],
   "source": [
    "# user_login_history_df[['user_id', 'employee_name']]\n",
    "# x = user_login_history_df.loc[user_login_history_df.user_id == 97804]\n",
    "# x.shape\n",
    "# # x.tail()\n",
    "# set(x.employee_name.values)\n",
    "# group_by_user_id = user_login_history_df.groupby('user_id')\n",
    "# # for group_name, group_frame in group_by_user_id:\n",
    "# #     group_name, group_frame.size\n",
    "# group_by_user_id.size().sort_values(ascending=False)[:10]"
   ]
  },
  {
   "cell_type": "markdown",
   "id": "0c32b919-995e-42bc-9712-448b10651197",
   "metadata": {},
   "source": [
    "# Most logged in users"
   ]
  },
  {
   "cell_type": "markdown",
   "id": "1c7a89fd-d287-4aae-ba4e-9a0c3e2e1044",
   "metadata": {},
   "source": [
    "### Android Users vs IOS Users"
   ]
  },
  {
   "cell_type": "code",
   "execution_count": null,
   "id": "00abe511-d4b9-42d5-a497-8b05cba35f6e",
   "metadata": {},
   "outputs": [],
   "source": [
    "user_login_history_df.shape\n",
    "x = user_login_history_df.loc[(user_login_history_df.device_type == 'android') | (user_login_history_df.device_type == 'IOS')]\n",
    "x.device_type.unique()\n",
    "\n",
    "x['device_type'].value_counts().plot(kind='bar')\n"
   ]
  },
  {
   "cell_type": "markdown",
   "id": "fbee7a53-7def-4d58-bdaa-724318a40156",
   "metadata": {},
   "source": [
    "### Android Users vs IOS Users"
   ]
  },
  {
   "cell_type": "code",
   "execution_count": null,
   "id": "0e2bd6f2-976e-406f-93ee-445e54cee415",
   "metadata": {},
   "outputs": [],
   "source": [
    "user_login_history_df.head()"
   ]
  },
  {
   "cell_type": "markdown",
   "id": "36f20957-76a1-4de5-a19c-15cb9bc418ab",
   "metadata": {},
   "source": [
    "### Make mobile Users dataframe with limited attribute"
   ]
  },
  {
   "cell_type": "code",
   "execution_count": null,
   "id": "5d3848de-456b-44ce-9cb4-fb631ca38eab",
   "metadata": {},
   "outputs": [],
   "source": [
    "# mobile_users_df = user_login_history_df[['id', 'is_mobile', 'employee_record_id', 'created', 'modified']]\n",
    "# mobile_users_df = mobile_users_df.copy(deep=True)\n",
    "# mobile_users_df = mobile_users_df[mobile_users_df.is_mobile == 1].copy(deep=True)\n",
    "# user_login_history_df.device_type.unique()\n",
    "user_login_history_df[user_login_history_df.device_type == 'android'].shape\n",
    "user_login_history_df[user_login_history_df.device_type == 'IOS']"
   ]
  },
  {
   "cell_type": "code",
   "execution_count": null,
   "id": "4c302d08-f37e-4d16-a090-12b204e172a2",
   "metadata": {},
   "outputs": [],
   "source": [
    "mobile_users_df"
   ]
  },
  {
   "cell_type": "code",
   "execution_count": null,
   "id": "1d2bc0f8-167e-4c85-a8ee-843a1d02be43",
   "metadata": {},
   "outputs": [],
   "source": [
    "x = mobile_users_df[mobile_users_df.created.isnull()]\n",
    "type(x)\n",
    "x.shape"
   ]
  },
  {
   "cell_type": "code",
   "execution_count": null,
   "id": "acbdd6cd-23d3-4627-b453-33ac72b7e7fd",
   "metadata": {},
   "outputs": [],
   "source": [
    "# dir(x)\n",
    "# len(x.to_list())"
   ]
  },
  {
   "cell_type": "code",
   "execution_count": null,
   "id": "95c89f6b-bcfd-4cf0-a2da-32bc564e6d44",
   "metadata": {},
   "outputs": [],
   "source": [
    "mobile_users_df[\"created\"].fillna(\"unknown\", inplace = True)\n"
   ]
  },
  {
   "cell_type": "code",
   "execution_count": null,
   "id": "5a7e731a-8d96-4da6-9ac1-fd737f20bce5",
   "metadata": {},
   "outputs": [],
   "source": [
    "import re\n",
    "year_month_regex = re.compile(r'(\\d\\d\\d\\d)-(\\d\\d)-(\\d\\d)')"
   ]
  },
  {
   "cell_type": "code",
   "execution_count": null,
   "id": "b6ffe219-34f2-4820-af8c-e1c08550e7aa",
   "metadata": {},
   "outputs": [],
   "source": [
    "# users_df.info()\n",
    "years = []\n",
    "months = []\n",
    "indexes = []\n",
    "\n",
    "times = mobile_users_df.created.values\n",
    "for index, time in enumerate(times, start=0):\n",
    "    if time == 'unknown':\n",
    "        year = time\n",
    "        month = time\n",
    "        years.append(year)\n",
    "        months.append(month)\n",
    "        indexes.append(index)\n",
    "    else:\n",
    "        # print(time)\n",
    "        mo = year_month_regex.search(time)\n",
    "        year = mo.group(1)\n",
    "        month = mo.group(2)\n",
    "        years.append(year)\n",
    "        months.append(month)\n",
    "        indexes.append(index)"
   ]
  },
  {
   "cell_type": "code",
   "execution_count": null,
   "id": "344b9333-71d9-42a0-90a4-19d36852ab45",
   "metadata": {},
   "outputs": [],
   "source": [
    "years[:5]\n",
    "months[:5]"
   ]
  },
  {
   "cell_type": "code",
   "execution_count": null,
   "id": "eca107db-9163-45b4-a680-91a07b3cb61a",
   "metadata": {},
   "outputs": [],
   "source": [
    "year_series_df = pd.Series(years, index=indexes)\n",
    "month_series_df = pd.Series(months, index=indexes)\n",
    "# year_series_df[:10]\n",
    "# month_series_df[:10]"
   ]
  },
  {
   "cell_type": "code",
   "execution_count": null,
   "id": "0c907daa-b36b-40aa-be30-39e53f986dc3",
   "metadata": {},
   "outputs": [],
   "source": [
    "# add year and month dataframe columns\n",
    "mobile_users_df['year'] = year_series_df\n",
    "mobile_users_df['month'] = month_series_df"
   ]
  },
  {
   "cell_type": "code",
   "execution_count": null,
   "id": "b98101e4-1653-407f-ae62-03ed0db062e5",
   "metadata": {},
   "outputs": [],
   "source": [
    "# save users_df as users_updated.csv\n",
    "mobile_users_df.to_csv('mobile_users_df.csv', index=False)"
   ]
  },
  {
   "cell_type": "code",
   "execution_count": null,
   "id": "58eaf18d-f9de-48b4-b2a4-073468b355a2",
   "metadata": {},
   "outputs": [],
   "source": [
    "month_map ={\n",
    "    '1': 'January',\n",
    "    '01': 'January',\n",
    "    '2': 'February',\n",
    "    '02': 'February',\n",
    "    '3': 'March',\n",
    "    '03': 'March',\n",
    "    '4': 'April',\n",
    "    '04': 'April',\n",
    "    '5': 'May',\n",
    "    '05': 'May',\n",
    "    '6': 'June',\n",
    "    '06': 'June',\n",
    "    '7': 'July',\n",
    "    '07': 'July',\n",
    "    '8': 'August',\n",
    "    '08': 'August',\n",
    "    '9': 'Septembr',\n",
    "    '09': 'Septermber',\n",
    "    '10': 'October',\n",
    "    '11': 'November',\n",
    "    '12': 'December',\n",
    "    'unknown': 'unknown',\n",
    "}"
   ]
  },
  {
   "cell_type": "code",
   "execution_count": null,
   "id": "ff92c9a1-f48c-40ec-a342-4d2612ed2136",
   "metadata": {},
   "outputs": [],
   "source": [
    "mobile_users_df_year_by = mobile_users_df.groupby('year')\n",
    "mobile_users_df_year_by"
   ]
  },
  {
   "cell_type": "code",
   "execution_count": null,
   "id": "5a897ce9-3f94-4d8b-91c6-0338c2d231e1",
   "metadata": {},
   "outputs": [],
   "source": [
    "general_series = []\n",
    "drilldown_series = []\n",
    "for year, year_frame in mobile_users_df_year_by:\n",
    "    # group, frame.shape[0]\n",
    "    year = str(year)\n",
    "    \n",
    "    temporary_general_dict = {\n",
    "        'name': year,\n",
    "        'y': year_frame.shape[0],\n",
    "        'drilldown': year\n",
    "    }\n",
    "    general_series.append(temporary_general_dict)\n",
    "    temporary_drilldown_dict = {\n",
    "        'name': year,\n",
    "        'id': year,\n",
    "        'data': [],\n",
    "    }\n",
    "    month_group_by = year_frame.groupby('month')\n",
    "    for month, month_frame in month_group_by:\n",
    "        # mg, mf.shape[0]\n",
    "        month = str(month)\n",
    "        month = month_map[month]\n",
    "        # print(month)\n",
    "       \n",
    "        # month, month_frame.shape[0]\n",
    "        lst = [month, month_frame.shape[0]]\n",
    "        temporary_drilldown_dict['data'].append(lst)\n",
    "        drilldown_series.append(temporary_drilldown_dict)\n",
    "    \n",
    "    # print()\n",
    "    # print()"
   ]
  },
  {
   "cell_type": "code",
   "execution_count": null,
   "id": "f1cb073a-421b-43e6-8e0f-25f5da5d9dcf",
   "metadata": {},
   "outputs": [],
   "source": [
    "general_series\n",
    "drilldown_series"
   ]
  },
  {
   "cell_type": "code",
   "execution_count": null,
   "id": "b5b417b3-86d2-4c6b-a19b-8bd7a6d7b4e7",
   "metadata": {},
   "outputs": [],
   "source": []
  },
  {
   "cell_type": "code",
   "execution_count": null,
   "id": "7ea1fc15-74f7-4629-b4a5-5c35c94a92c1",
   "metadata": {},
   "outputs": [],
   "source": []
  },
  {
   "cell_type": "code",
   "execution_count": null,
   "id": "d3bfbd53-8294-42c1-a673-f2520c817ccf",
   "metadata": {},
   "outputs": [],
   "source": []
  },
  {
   "cell_type": "code",
   "execution_count": null,
   "id": "8d451597-92b6-4937-ba9c-7a1397c6a1dc",
   "metadata": {},
   "outputs": [],
   "source": []
  },
  {
   "cell_type": "code",
   "execution_count": null,
   "id": "25e5d5ca-28f0-4f5e-85b6-4eed1a12d8f3",
   "metadata": {},
   "outputs": [],
   "source": []
  },
  {
   "cell_type": "code",
   "execution_count": null,
   "id": "94528b13-8c7e-4173-b8e5-fd60c440ed52",
   "metadata": {},
   "outputs": [],
   "source": []
  },
  {
   "cell_type": "code",
   "execution_count": null,
   "id": "fef7aaff-8f88-492b-b0f2-521a8e9bb91e",
   "metadata": {},
   "outputs": [],
   "source": [
    "generic_user_login_history_df = user_login_history_df[[\n",
    "    'id',\n",
    "    'is_mobile',\n",
    "    'device_name',\n",
    "    'origin_id',\n",
    "    'ofice_id',\n",
    "    'office_unit_id',\n",
    "    'office_unit_organogram',\n",
    "    'user_id',\n",
    "    'created',\n",
    "    'modified',\n",
    "]]"
   ]
  },
  {
   "cell_type": "code",
   "execution_count": null,
   "id": "8dd60d9f-7b72-42aa-a371-6b42b24d4e5b",
   "metadata": {},
   "outputs": [],
   "source": [
    "generic_user_login_history_df"
   ]
  },
  {
   "cell_type": "code",
   "execution_count": null,
   "id": "20ff28ac-0e09-4ed6-839b-322c41d303d6",
   "metadata": {},
   "outputs": [],
   "source": [
    "# user_login_history_df.is_mobile.unique()\n",
    "# user_login_history_df.is_mobile\n",
    "generic_user_login_history_df[generic_user_login_history_df.created.isnull()]\n",
    "generic_user_login_history_df[generic_user_login_history_df.created.isnull()].shape\n"
   ]
  }
 ],
 "metadata": {
  "kernelspec": {
   "display_name": "Python 3 (ipykernel)",
   "language": "python",
   "name": "python3"
  },
  "language_info": {
   "codemirror_mode": {
    "name": "ipython",
    "version": 3
   },
   "file_extension": ".py",
   "mimetype": "text/x-python",
   "name": "python",
   "nbconvert_exporter": "python",
   "pygments_lexer": "ipython3",
   "version": "3.8.10"
  }
 },
 "nbformat": 4,
 "nbformat_minor": 5
}
