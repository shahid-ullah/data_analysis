{
 "cells": [
  {
   "cell_type": "markdown",
   "id": "94e9bab0-e550-4239-8cf8-8a3a97269126",
   "metadata": {},
   "source": [
    "```sql\n",
    "SELECT count(users.id) FROM users inner join employee_records on users.employee_record_id = employee_records.id WHERE date(users.created) <= '2020-09-31' and employee_records.gender = 2; SELECT COUNT(`id`) FROM `employee_records` WHERE `gender`= 2 AND `created` <= '2020-11-30 23:59:59'\n",
    "```"
   ]
  },
  {
   "cell_type": "code",
   "execution_count": null,
   "id": "8f52e9fb-5032-414e-9029-7c9e84a11bde",
   "metadata": {},
   "outputs": [],
   "source": []
  },
  {
   "cell_type": "code",
   "execution_count": 1,
   "id": "d5cfcbc6-b4ef-409e-bc6a-961e7e76047c",
   "metadata": {},
   "outputs": [],
   "source": [
    "# import necessary library\n",
    "from IPython.core.interactiveshell import InteractiveShell\n",
    "InteractiveShell.ast_node_interactivity = \"all\"\n",
    "\n",
    "import pandas as pd\n",
    "import numpy as np\n",
    "import matplotlib.pyplot as plt\n",
    "pd.set_option('display.max_columns', None)"
   ]
  },
  {
   "cell_type": "code",
   "execution_count": 2,
   "id": "e3551ba4-c823-4e47-8996-c53ea0429983",
   "metadata": {},
   "outputs": [
    {
     "data": {
      "text/plain": [
       "21"
      ]
     },
     "execution_count": 2,
     "metadata": {},
     "output_type": "execute_result"
    }
   ],
   "source": [
    "users_table_columns_dict = {\n",
    "    '1': 'id',\n",
    "    '2': 'username',\n",
    "    '3': 'password',\n",
    "    '4': 'user_alias',\n",
    "    '5': 'hash_change_password',\n",
    "    '6': 'user_role_id',\n",
    "    '7': 'is_admin',\n",
    "    '8': 'active',\n",
    "    '9': 'user_status',\n",
    "    '10': 'is_email_verified',\n",
    "    '11': 'email_verify_code',\n",
    "    '12': 'verification_date',\n",
    "    '13': 'ssn',\n",
    "    '14': 'force_password_change',\n",
    "    '15': 'last_password_change',\n",
    "    '16': 'created',\n",
    "    '17': 'modified',\n",
    "    '18': 'created_by',\n",
    "    '19': 'modified_by',\n",
    "    '20': 'photo',\n",
    "    '21': 'employee_record_id',\n",
    "}\n",
    "users_table_columns_list = list(users_table_columns_dict.values())\n",
    "users_table_columns = users_table_columns_list\n",
    "# for key in nisponno_records_table_columns_dict.keys():\n",
    "#     value = \n",
    "\n",
    "len(users_table_columns)\n"
   ]
  },
  {
   "cell_type": "markdown",
   "id": "d186c142-91dd-464a-855b-8c1bed4fc91b",
   "metadata": {},
   "source": [
    "## Checking column length consistency"
   ]
  },
  {
   "cell_type": "code",
   "execution_count": 3,
   "id": "b37d8688-cfad-477d-ad53-664072158ccc",
   "metadata": {},
   "outputs": [],
   "source": [
    "# users_df = pd.read_csv('../Data/users_24_11_2021.csv')\n",
    "# if len(users_table_columns) != users_df.shape[1]: \n",
    "#     print(f\"previous column length: {len(users_table_columns)}, current column_length {users_df.shape[1]}\")\n",
    "#     raise ValueError('office table attribute added or removed')"
   ]
  },
  {
   "cell_type": "code",
   "execution_count": 4,
   "id": "8a7b8b6b-82a9-4cab-bdb7-eadcf328ae92",
   "metadata": {},
   "outputs": [],
   "source": [
    "def load_users_df():\n",
    "    users_df = pd.read_csv('../Data/users_24_11_2021.csv', names=users_table_columns)\n",
    "    return users_df"
   ]
  },
  {
   "cell_type": "code",
   "execution_count": 5,
   "id": "78212491-a508-43ab-a596-9b2167312d7d",
   "metadata": {},
   "outputs": [
    {
     "data": {
      "text/plain": [
       "52"
      ]
     },
     "execution_count": 5,
     "metadata": {},
     "output_type": "execute_result"
    }
   ],
   "source": [
    "employee_records_table_columns_dict = {\n",
    "    '1': 'id',\n",
    "    '2': 'name_eng',\n",
    "    '3': 'name_bng',\n",
    "    '4': 'father_name_eng',\n",
    "    '5': 'father_name_bng',\n",
    "    '6': 'mother_name_eng',\n",
    "    '7': 'mother_name_bng',\n",
    "    '8': 'date_of_birth',\n",
    "    '9': 'nid',\n",
    "    '10': 'nid_valid',\n",
    "    '11': 'bcn',\n",
    "    '12': 'ppn',\n",
    "    '13': 'gender',\n",
    "    '14': 'religion',\n",
    "    '15': 'blood_group',\n",
    "    '16': 'marital_status',\n",
    "    '17': 'personal_email',\n",
    "    '18': 'personal_mobile',\n",
    "    '19': 'alternative_mobile',\n",
    "    '20': 'is_cadre',\n",
    "    '21': 'employee_grade',\n",
    "    '22': 'employee_cadre_id',\n",
    "    '23': 'employee_batch_id',\n",
    "    '24': 'identity_no',\n",
    "    '25': 'appointment_memo_no',\n",
    "    '26': 'joining_date',\n",
    "    '27': 'service_rank_id',\n",
    "    '28': 'service_grade_id',\n",
    "    '29': 'service_ministry_id',\n",
    "    '30': 'service_office_id',\n",
    "    '31': 'current_office_ministry_id',\n",
    "    '32': 'current_office_layer_id',\n",
    "    '33': 'current_office_id',\n",
    "    '34': 'current_office_unit_id',\n",
    "    '35': 'current_office_joining_date',\n",
    "    '36': 'current_office_designation_id',\n",
    "    '37': 'current_office_address',\n",
    "    '38': 'e_sign',\n",
    "    '39': 'd_sign',\n",
    "    '40': 'image_file_name',\n",
    "    '41': 'status',\n",
    "    '42': 'default_sign',\n",
    "    '43': 'hard_signature',\n",
    "    '44': 'soft_signature',\n",
    "    '45': 'cert_id',\n",
    "    '46': 'cert_type',\n",
    "    '47': 'cert_provider',\n",
    "    '48': 'cert_serial',\n",
    "    '49': 'created_by',\n",
    "    '50': 'modified_by',\n",
    "    '51': 'created',\n",
    "    '52': 'modified',\n",
    "}\n",
    "\n",
    "employee_records_table_columns_list = list(employee_records_table_columns_dict.values())\n",
    "employee_records_table_columns = employee_records_table_columns_list\n",
    "# for key in nisponno_records_table_columns_dict.keys():\n",
    "#     value = \n",
    "\n",
    "len(employee_records_table_columns)"
   ]
  },
  {
   "cell_type": "markdown",
   "id": "a7ed7d4a-126b-46a9-b260-c8faaf16aaa9",
   "metadata": {},
   "source": [
    "## Checking column length consistency"
   ]
  },
  {
   "cell_type": "code",
   "execution_count": 6,
   "id": "55252cc1-43ef-40da-bfd4-96256fd5ea05",
   "metadata": {},
   "outputs": [],
   "source": [
    "\n",
    "# employee_records_df = pd.read_csv('../Data/employee_records_24_11_2021.csv')\n",
    "# if len(employee_records_table_columns) != employee_records_df.shape[1]: \n",
    "#     print(f\"previous column length: {len(employee_records_table_columns)}, current column_length {employee_records_df.shape[1]}\")\n",
    "#     raise ValueError('office table attribute added or removed')"
   ]
  },
  {
   "cell_type": "code",
   "execution_count": 7,
   "id": "65c90c6d-4ac5-4f15-abfc-97b3b1e37b48",
   "metadata": {},
   "outputs": [],
   "source": [
    "def load_employee_records_df():\n",
    "    employee_records_df = pd.read_csv('../Data/employee_records_24_11_2021.csv', names=employee_records_table_columns)\n",
    "    return employee_records_df"
   ]
  },
  {
   "cell_type": "code",
   "execution_count": 8,
   "id": "a1f5ed51-5ef4-4298-95ff-08b64c196768",
   "metadata": {},
   "outputs": [
    {
     "name": "stderr",
     "output_type": "stream",
     "text": [
      "/tmp/ipykernel_35558/160359744.py:2: DtypeWarning: Columns (1,4,8) have mixed types.Specify dtype option on import or set low_memory=False.\n",
      "  users_df = load_users_df()\n",
      "/tmp/ipykernel_35558/160359744.py:4: DtypeWarning: Columns (34,36,45,46,47) have mixed types.Specify dtype option on import or set low_memory=False.\n",
      "  employee_records_df = load_employee_records_df()\n"
     ]
    },
    {
     "data": {
      "text/plain": [
       "(109138, 21)"
      ]
     },
     "execution_count": 8,
     "metadata": {},
     "output_type": "execute_result"
    },
    {
     "data": {
      "text/plain": [
       "(110356, 52)"
      ]
     },
     "execution_count": 8,
     "metadata": {},
     "output_type": "execute_result"
    }
   ],
   "source": [
    "# users_df = pd.read_csv('../Data/users.csv', names=users_table_columns)\n",
    "users_df = load_users_df() \n",
    "# employee_records_df = pd.read_csv('../Data/employee_records.csv', names=employee_records_table_columns)\n",
    "employee_records_df = load_employee_records_df() \n",
    "users_df.shape\n",
    "employee_records_df.shape\n",
    "# users_df.columns\n",
    "# employee_records_df.columns"
   ]
  },
  {
   "cell_type": "code",
   "execution_count": 9,
   "id": "133da469-7d67-4645-ae12-cfde833f1abe",
   "metadata": {},
   "outputs": [
    {
     "data": {
      "text/plain": [
       "('min_id', 1)"
      ]
     },
     "execution_count": 9,
     "metadata": {},
     "output_type": "execute_result"
    },
    {
     "data": {
      "text/plain": [
       "('max_id', 221029)"
      ]
     },
     "execution_count": 9,
     "metadata": {},
     "output_type": "execute_result"
    },
    {
     "data": {
      "text/plain": [
       "('table shape', (109138, 21))"
      ]
     },
     "execution_count": 9,
     "metadata": {},
     "output_type": "execute_result"
    },
    {
     "data": {
      "text/plain": [
       "('min_id', 30)"
      ]
     },
     "execution_count": 9,
     "metadata": {},
     "output_type": "execute_result"
    },
    {
     "data": {
      "text/plain": [
       "('max_id', 352969)"
      ]
     },
     "execution_count": 9,
     "metadata": {},
     "output_type": "execute_result"
    },
    {
     "data": {
      "text/plain": [
       "('table shape', (110356, 52))"
      ]
     },
     "execution_count": 9,
     "metadata": {},
     "output_type": "execute_result"
    }
   ],
   "source": [
    "\n",
    "# observing primary key\n",
    "\"min_id\", min(users_df.id.values)\n",
    "\"max_id\", max(users_df.id.values)\n",
    "\"table shape\", users_df.shape\n",
    "\n",
    "\n",
    "\"min_id\", min(employee_records_df.id.values)\n",
    "\"max_id\", max(employee_records_df.id.values)\n",
    "\"table shape\", employee_records_df.shape"
   ]
  },
  {
   "cell_type": "code",
   "execution_count": 10,
   "id": "74b90389-16fa-4d28-8b74-db796db2ead2",
   "metadata": {},
   "outputs": [],
   "source": [
    "new_users_df = users_df[['id',\n",
    "    'username',\n",
    "    'user_role_id',\n",
    "    'is_admin',\n",
    "    'active',\n",
    "    'user_status',\n",
    "    'created',\n",
    "    'modified',\n",
    "    'employee_record_id']]\n",
    "# employee_records_df = pd.read_csv('./Data/employee_records.csv', names=employee_records_table_columns)\n",
    "new_employee_records_df = employee_records_df[['id', 'name_eng', 'gender', 'created', 'modified']]\n"
   ]
  },
  {
   "cell_type": "code",
   "execution_count": 10,
   "id": "d961d017-99a4-40c5-b813-51d612e0c248",
   "metadata": {},
   "outputs": [],
   "source": [
    "# users_gender_df = pd.merge(new_users_df, new_employee_records_df, left_on=['employee_record_id'], right_on=['id'],  suffixes=('_users', '_employee'))\n",
    "# users_gender_df.shape\n",
    "# users_gender_df.columns"
   ]
  },
  {
   "cell_type": "code",
   "execution_count": 11,
   "id": "6cd9bbc1-2f40-4334-949a-a1609c95e3f5",
   "metadata": {},
   "outputs": [
    {
     "name": "stdout",
     "output_type": "stream",
     "text": [
      "Initial dataframe shape (109128, 14)\n"
     ]
    }
   ],
   "source": [
    "# Extract mandatory attributes for offices graph analysis\n",
    "# nisponno_records_df = load_nisponno_records_df()\n",
    "users_gender_df = pd.merge(new_users_df, new_employee_records_df, left_on=['employee_record_id'], right_on=['id'],  suffixes=('_users', '_employee'))\n",
    "print(f\"Initial dataframe shape {users_gender_df.shape}\")\n",
    "# nisponno_records_df = nisponno_records_df[['id', 'upokarvogi', 'created']] \n",
    "# remove null values\n",
    "# users_gender_df = users_gender_df.loc[users_gender_df.created_users.notnull()]\n",
    "# print(f\"dataframe shape after removing created null value {users_gender_df.shape}\")\n",
    "# # add new column: cretead_new as datetime field from created column\n",
    "# users_gender_df['created_users'] = pd.to_datetime(users_gender_df['created_users'], errors='coerce')\n",
    "# # errors{‘ignore’, ‘raise’, ‘coerce’}, default ‘raise’\n",
    "#     # If ‘raise’, then invalid parsing will raise an exception.\n",
    "#     # If ‘coerce’, then invalid parsing will be set as NaT.\n",
    "#     # If ‘ignore’, then invalid parsing will return the input.\n",
    "# users_gender_df.shape\n",
    "# # again remove null values based on created field\n",
    "# users_gender_df = users_gender_df.loc[users_gender_df.created_users.notnull()]\n",
    "# users_gender_df.shape"
   ]
  },
  {
   "cell_type": "code",
   "execution_count": 14,
   "id": "e7b5ba85-8c46-4c4a-ab48-f6173432f394",
   "metadata": {},
   "outputs": [
    {
     "ename": "ParserError",
     "evalue": "year 0 is out of range: 0000-00-00 00:00:00",
     "output_type": "error",
     "traceback": [
      "\u001b[0;31m---------------------------------------------------------------------------\u001b[0m",
      "\u001b[0;31mValueError\u001b[0m                                Traceback (most recent call last)",
      "\u001b[0;32m~/Desktop/Tappware/DataAnalysis/.venv/lib/python3.8/site-packages/dateutil/parser/_parser.py\u001b[0m in \u001b[0;36mparse\u001b[0;34m(self, timestr, default, ignoretz, tzinfos, **kwargs)\u001b[0m\n\u001b[1;32m    648\u001b[0m         \u001b[0;32mtry\u001b[0m\u001b[0;34m:\u001b[0m\u001b[0;34m\u001b[0m\u001b[0;34m\u001b[0m\u001b[0m\n\u001b[0;32m--> 649\u001b[0;31m             \u001b[0mret\u001b[0m \u001b[0;34m=\u001b[0m \u001b[0mself\u001b[0m\u001b[0;34m.\u001b[0m\u001b[0m_build_naive\u001b[0m\u001b[0;34m(\u001b[0m\u001b[0mres\u001b[0m\u001b[0;34m,\u001b[0m \u001b[0mdefault\u001b[0m\u001b[0;34m)\u001b[0m\u001b[0;34m\u001b[0m\u001b[0;34m\u001b[0m\u001b[0m\n\u001b[0m\u001b[1;32m    650\u001b[0m         \u001b[0;32mexcept\u001b[0m \u001b[0mValueError\u001b[0m \u001b[0;32mas\u001b[0m \u001b[0me\u001b[0m\u001b[0;34m:\u001b[0m\u001b[0;34m\u001b[0m\u001b[0;34m\u001b[0m\u001b[0m\n",
      "\u001b[0;32m~/Desktop/Tappware/DataAnalysis/.venv/lib/python3.8/site-packages/dateutil/parser/_parser.py\u001b[0m in \u001b[0;36m_build_naive\u001b[0;34m(self, res, default)\u001b[0m\n\u001b[1;32m   1234\u001b[0m \u001b[0;34m\u001b[0m\u001b[0m\n\u001b[0;32m-> 1235\u001b[0;31m         \u001b[0mnaive\u001b[0m \u001b[0;34m=\u001b[0m \u001b[0mdefault\u001b[0m\u001b[0;34m.\u001b[0m\u001b[0mreplace\u001b[0m\u001b[0;34m(\u001b[0m\u001b[0;34m**\u001b[0m\u001b[0mrepl\u001b[0m\u001b[0;34m)\u001b[0m\u001b[0;34m\u001b[0m\u001b[0;34m\u001b[0m\u001b[0m\n\u001b[0m\u001b[1;32m   1236\u001b[0m \u001b[0;34m\u001b[0m\u001b[0m\n",
      "\u001b[0;31mValueError\u001b[0m: year 0 is out of range",
      "\nThe above exception was the direct cause of the following exception:\n",
      "\u001b[0;31mParserError\u001b[0m                               Traceback (most recent call last)",
      "\u001b[0;32m~/Desktop/Tappware/DataAnalysis/.venv/lib/python3.8/site-packages/pandas/_libs/tslib.pyx\u001b[0m in \u001b[0;36mpandas._libs.tslib.array_to_datetime\u001b[0;34m()\u001b[0m\n",
      "\u001b[0;32m~/Desktop/Tappware/DataAnalysis/.venv/lib/python3.8/site-packages/pandas/_libs/tslibs/parsing.pyx\u001b[0m in \u001b[0;36mpandas._libs.tslibs.parsing.parse_datetime_string\u001b[0;34m()\u001b[0m\n",
      "\u001b[0;32m~/Desktop/Tappware/DataAnalysis/.venv/lib/python3.8/site-packages/dateutil/parser/_parser.py\u001b[0m in \u001b[0;36mparse\u001b[0;34m(timestr, parserinfo, **kwargs)\u001b[0m\n\u001b[1;32m   1367\u001b[0m     \u001b[0;32melse\u001b[0m\u001b[0;34m:\u001b[0m\u001b[0;34m\u001b[0m\u001b[0;34m\u001b[0m\u001b[0m\n\u001b[0;32m-> 1368\u001b[0;31m         \u001b[0;32mreturn\u001b[0m \u001b[0mDEFAULTPARSER\u001b[0m\u001b[0;34m.\u001b[0m\u001b[0mparse\u001b[0m\u001b[0;34m(\u001b[0m\u001b[0mtimestr\u001b[0m\u001b[0;34m,\u001b[0m \u001b[0;34m**\u001b[0m\u001b[0mkwargs\u001b[0m\u001b[0;34m)\u001b[0m\u001b[0;34m\u001b[0m\u001b[0;34m\u001b[0m\u001b[0m\n\u001b[0m\u001b[1;32m   1369\u001b[0m \u001b[0;34m\u001b[0m\u001b[0m\n",
      "\u001b[0;32m~/Desktop/Tappware/DataAnalysis/.venv/lib/python3.8/site-packages/dateutil/parser/_parser.py\u001b[0m in \u001b[0;36mparse\u001b[0;34m(self, timestr, default, ignoretz, tzinfos, **kwargs)\u001b[0m\n\u001b[1;32m    650\u001b[0m         \u001b[0;32mexcept\u001b[0m \u001b[0mValueError\u001b[0m \u001b[0;32mas\u001b[0m \u001b[0me\u001b[0m\u001b[0;34m:\u001b[0m\u001b[0;34m\u001b[0m\u001b[0;34m\u001b[0m\u001b[0m\n\u001b[0;32m--> 651\u001b[0;31m             \u001b[0msix\u001b[0m\u001b[0;34m.\u001b[0m\u001b[0mraise_from\u001b[0m\u001b[0;34m(\u001b[0m\u001b[0mParserError\u001b[0m\u001b[0;34m(\u001b[0m\u001b[0mstr\u001b[0m\u001b[0;34m(\u001b[0m\u001b[0me\u001b[0m\u001b[0;34m)\u001b[0m \u001b[0;34m+\u001b[0m \u001b[0;34m\": %s\"\u001b[0m\u001b[0;34m,\u001b[0m \u001b[0mtimestr\u001b[0m\u001b[0;34m)\u001b[0m\u001b[0;34m,\u001b[0m \u001b[0me\u001b[0m\u001b[0;34m)\u001b[0m\u001b[0;34m\u001b[0m\u001b[0;34m\u001b[0m\u001b[0m\n\u001b[0m\u001b[1;32m    652\u001b[0m \u001b[0;34m\u001b[0m\u001b[0m\n",
      "\u001b[0;32m~/Desktop/Tappware/DataAnalysis/.venv/lib/python3.8/site-packages/six.py\u001b[0m in \u001b[0;36mraise_from\u001b[0;34m(value, from_value)\u001b[0m\n",
      "\u001b[0;31mParserError\u001b[0m: year 0 is out of range: 0000-00-00 00:00:00",
      "\nDuring handling of the above exception, another exception occurred:\n",
      "\u001b[0;31mTypeError\u001b[0m                                 Traceback (most recent call last)",
      "\u001b[0;32m~/Desktop/Tappware/DataAnalysis/.venv/lib/python3.8/site-packages/pandas/_libs/tslib.pyx\u001b[0m in \u001b[0;36mpandas._libs.tslib.array_to_datetime\u001b[0;34m()\u001b[0m\n",
      "\u001b[0;31mTypeError\u001b[0m: invalid string coercion to datetime",
      "\nDuring handling of the above exception, another exception occurred:\n",
      "\u001b[0;31mValueError\u001b[0m                                Traceback (most recent call last)",
      "\u001b[0;32m~/Desktop/Tappware/DataAnalysis/.venv/lib/python3.8/site-packages/dateutil/parser/_parser.py\u001b[0m in \u001b[0;36mparse\u001b[0;34m(self, timestr, default, ignoretz, tzinfos, **kwargs)\u001b[0m\n\u001b[1;32m    648\u001b[0m         \u001b[0;32mtry\u001b[0m\u001b[0;34m:\u001b[0m\u001b[0;34m\u001b[0m\u001b[0;34m\u001b[0m\u001b[0m\n\u001b[0;32m--> 649\u001b[0;31m             \u001b[0mret\u001b[0m \u001b[0;34m=\u001b[0m \u001b[0mself\u001b[0m\u001b[0;34m.\u001b[0m\u001b[0m_build_naive\u001b[0m\u001b[0;34m(\u001b[0m\u001b[0mres\u001b[0m\u001b[0;34m,\u001b[0m \u001b[0mdefault\u001b[0m\u001b[0;34m)\u001b[0m\u001b[0;34m\u001b[0m\u001b[0;34m\u001b[0m\u001b[0m\n\u001b[0m\u001b[1;32m    650\u001b[0m         \u001b[0;32mexcept\u001b[0m \u001b[0mValueError\u001b[0m \u001b[0;32mas\u001b[0m \u001b[0me\u001b[0m\u001b[0;34m:\u001b[0m\u001b[0;34m\u001b[0m\u001b[0;34m\u001b[0m\u001b[0m\n",
      "\u001b[0;32m~/Desktop/Tappware/DataAnalysis/.venv/lib/python3.8/site-packages/dateutil/parser/_parser.py\u001b[0m in \u001b[0;36m_build_naive\u001b[0;34m(self, res, default)\u001b[0m\n\u001b[1;32m   1234\u001b[0m \u001b[0;34m\u001b[0m\u001b[0m\n\u001b[0;32m-> 1235\u001b[0;31m         \u001b[0mnaive\u001b[0m \u001b[0;34m=\u001b[0m \u001b[0mdefault\u001b[0m\u001b[0;34m.\u001b[0m\u001b[0mreplace\u001b[0m\u001b[0;34m(\u001b[0m\u001b[0;34m**\u001b[0m\u001b[0mrepl\u001b[0m\u001b[0;34m)\u001b[0m\u001b[0;34m\u001b[0m\u001b[0;34m\u001b[0m\u001b[0m\n\u001b[0m\u001b[1;32m   1236\u001b[0m \u001b[0;34m\u001b[0m\u001b[0m\n",
      "\u001b[0;31mValueError\u001b[0m: year 0 is out of range",
      "\nThe above exception was the direct cause of the following exception:\n",
      "\u001b[0;31mParserError\u001b[0m                               Traceback (most recent call last)",
      "\u001b[0;32m/tmp/ipykernel_35558/709528020.py\u001b[0m in \u001b[0;36m<module>\u001b[0;34m\u001b[0m\n\u001b[1;32m      1\u001b[0m \u001b[0;31m# users_gender_df.created_users.isnull().sum()\u001b[0m\u001b[0;34m\u001b[0m\u001b[0;34m\u001b[0m\u001b[0;34m\u001b[0m\u001b[0m\n\u001b[0;32m----> 2\u001b[0;31m \u001b[0mpd\u001b[0m\u001b[0;34m.\u001b[0m\u001b[0mto_datetime\u001b[0m\u001b[0;34m(\u001b[0m\u001b[0musers_gender_df\u001b[0m\u001b[0;34m.\u001b[0m\u001b[0mcreated_users\u001b[0m\u001b[0;34m)\u001b[0m\u001b[0;34m\u001b[0m\u001b[0;34m\u001b[0m\u001b[0m\n\u001b[0m",
      "\u001b[0;32m~/Desktop/Tappware/DataAnalysis/.venv/lib/python3.8/site-packages/pandas/core/tools/datetimes.py\u001b[0m in \u001b[0;36mto_datetime\u001b[0;34m(arg, errors, dayfirst, yearfirst, utc, format, exact, unit, infer_datetime_format, origin, cache)\u001b[0m\n\u001b[1;32m    885\u001b[0m             \u001b[0mresult\u001b[0m \u001b[0;34m=\u001b[0m \u001b[0marg\u001b[0m\u001b[0;34m.\u001b[0m\u001b[0mmap\u001b[0m\u001b[0;34m(\u001b[0m\u001b[0mcache_array\u001b[0m\u001b[0;34m)\u001b[0m\u001b[0;34m\u001b[0m\u001b[0;34m\u001b[0m\u001b[0m\n\u001b[1;32m    886\u001b[0m         \u001b[0;32melse\u001b[0m\u001b[0;34m:\u001b[0m\u001b[0;34m\u001b[0m\u001b[0;34m\u001b[0m\u001b[0m\n\u001b[0;32m--> 887\u001b[0;31m             \u001b[0mvalues\u001b[0m \u001b[0;34m=\u001b[0m \u001b[0mconvert_listlike\u001b[0m\u001b[0;34m(\u001b[0m\u001b[0marg\u001b[0m\u001b[0;34m.\u001b[0m\u001b[0m_values\u001b[0m\u001b[0;34m,\u001b[0m \u001b[0mformat\u001b[0m\u001b[0;34m)\u001b[0m\u001b[0;34m\u001b[0m\u001b[0;34m\u001b[0m\u001b[0m\n\u001b[0m\u001b[1;32m    888\u001b[0m             \u001b[0mresult\u001b[0m \u001b[0;34m=\u001b[0m \u001b[0marg\u001b[0m\u001b[0;34m.\u001b[0m\u001b[0m_constructor\u001b[0m\u001b[0;34m(\u001b[0m\u001b[0mvalues\u001b[0m\u001b[0;34m,\u001b[0m \u001b[0mindex\u001b[0m\u001b[0;34m=\u001b[0m\u001b[0marg\u001b[0m\u001b[0;34m.\u001b[0m\u001b[0mindex\u001b[0m\u001b[0;34m,\u001b[0m \u001b[0mname\u001b[0m\u001b[0;34m=\u001b[0m\u001b[0marg\u001b[0m\u001b[0;34m.\u001b[0m\u001b[0mname\u001b[0m\u001b[0;34m)\u001b[0m\u001b[0;34m\u001b[0m\u001b[0;34m\u001b[0m\u001b[0m\n\u001b[1;32m    889\u001b[0m     \u001b[0;32melif\u001b[0m \u001b[0misinstance\u001b[0m\u001b[0;34m(\u001b[0m\u001b[0marg\u001b[0m\u001b[0;34m,\u001b[0m \u001b[0;34m(\u001b[0m\u001b[0mABCDataFrame\u001b[0m\u001b[0;34m,\u001b[0m \u001b[0mabc\u001b[0m\u001b[0;34m.\u001b[0m\u001b[0mMutableMapping\u001b[0m\u001b[0;34m)\u001b[0m\u001b[0;34m)\u001b[0m\u001b[0;34m:\u001b[0m\u001b[0;34m\u001b[0m\u001b[0;34m\u001b[0m\u001b[0m\n",
      "\u001b[0;32m~/Desktop/Tappware/DataAnalysis/.venv/lib/python3.8/site-packages/pandas/core/tools/datetimes.py\u001b[0m in \u001b[0;36m_convert_listlike_datetimes\u001b[0;34m(arg, format, name, tz, unit, errors, infer_datetime_format, dayfirst, yearfirst, exact)\u001b[0m\n\u001b[1;32m    399\u001b[0m     \u001b[0;32massert\u001b[0m \u001b[0mformat\u001b[0m \u001b[0;32mis\u001b[0m \u001b[0;32mNone\u001b[0m \u001b[0;32mor\u001b[0m \u001b[0minfer_datetime_format\u001b[0m\u001b[0;34m\u001b[0m\u001b[0;34m\u001b[0m\u001b[0m\n\u001b[1;32m    400\u001b[0m     \u001b[0mutc\u001b[0m \u001b[0;34m=\u001b[0m \u001b[0mtz\u001b[0m \u001b[0;34m==\u001b[0m \u001b[0;34m\"utc\"\u001b[0m\u001b[0;34m\u001b[0m\u001b[0;34m\u001b[0m\u001b[0m\n\u001b[0;32m--> 401\u001b[0;31m     result, tz_parsed = objects_to_datetime64ns(\n\u001b[0m\u001b[1;32m    402\u001b[0m         \u001b[0marg\u001b[0m\u001b[0;34m,\u001b[0m\u001b[0;34m\u001b[0m\u001b[0;34m\u001b[0m\u001b[0m\n\u001b[1;32m    403\u001b[0m         \u001b[0mdayfirst\u001b[0m\u001b[0;34m=\u001b[0m\u001b[0mdayfirst\u001b[0m\u001b[0;34m,\u001b[0m\u001b[0;34m\u001b[0m\u001b[0;34m\u001b[0m\u001b[0m\n",
      "\u001b[0;32m~/Desktop/Tappware/DataAnalysis/.venv/lib/python3.8/site-packages/pandas/core/arrays/datetimes.py\u001b[0m in \u001b[0;36mobjects_to_datetime64ns\u001b[0;34m(data, dayfirst, yearfirst, utc, errors, require_iso8601, allow_object, allow_mixed)\u001b[0m\n\u001b[1;32m   2191\u001b[0m             \u001b[0;32mreturn\u001b[0m \u001b[0mvalues\u001b[0m\u001b[0;34m.\u001b[0m\u001b[0mview\u001b[0m\u001b[0;34m(\u001b[0m\u001b[0;34m\"i8\"\u001b[0m\u001b[0;34m)\u001b[0m\u001b[0;34m,\u001b[0m \u001b[0mtz_parsed\u001b[0m\u001b[0;34m\u001b[0m\u001b[0;34m\u001b[0m\u001b[0m\n\u001b[1;32m   2192\u001b[0m         \u001b[0;32mexcept\u001b[0m \u001b[0;34m(\u001b[0m\u001b[0mValueError\u001b[0m\u001b[0;34m,\u001b[0m \u001b[0mTypeError\u001b[0m\u001b[0;34m)\u001b[0m\u001b[0;34m:\u001b[0m\u001b[0;34m\u001b[0m\u001b[0;34m\u001b[0m\u001b[0m\n\u001b[0;32m-> 2193\u001b[0;31m             \u001b[0;32mraise\u001b[0m \u001b[0merr\u001b[0m\u001b[0;34m\u001b[0m\u001b[0;34m\u001b[0m\u001b[0m\n\u001b[0m\u001b[1;32m   2194\u001b[0m \u001b[0;34m\u001b[0m\u001b[0m\n\u001b[1;32m   2195\u001b[0m     \u001b[0;32mif\u001b[0m \u001b[0mtz_parsed\u001b[0m \u001b[0;32mis\u001b[0m \u001b[0;32mnot\u001b[0m \u001b[0;32mNone\u001b[0m\u001b[0;34m:\u001b[0m\u001b[0;34m\u001b[0m\u001b[0;34m\u001b[0m\u001b[0m\n",
      "\u001b[0;32m~/Desktop/Tappware/DataAnalysis/.venv/lib/python3.8/site-packages/pandas/core/arrays/datetimes.py\u001b[0m in \u001b[0;36mobjects_to_datetime64ns\u001b[0;34m(data, dayfirst, yearfirst, utc, errors, require_iso8601, allow_object, allow_mixed)\u001b[0m\n\u001b[1;32m   2173\u001b[0m     \u001b[0morder\u001b[0m\u001b[0;34m:\u001b[0m \u001b[0mLiteral\u001b[0m\u001b[0;34m[\u001b[0m\u001b[0;34m\"F\"\u001b[0m\u001b[0;34m,\u001b[0m \u001b[0;34m\"C\"\u001b[0m\u001b[0;34m]\u001b[0m \u001b[0;34m=\u001b[0m \u001b[0;34m\"F\"\u001b[0m \u001b[0;32mif\u001b[0m \u001b[0mflags\u001b[0m\u001b[0;34m.\u001b[0m\u001b[0mf_contiguous\u001b[0m \u001b[0;32melse\u001b[0m \u001b[0;34m\"C\"\u001b[0m\u001b[0;34m\u001b[0m\u001b[0;34m\u001b[0m\u001b[0m\n\u001b[1;32m   2174\u001b[0m     \u001b[0;32mtry\u001b[0m\u001b[0;34m:\u001b[0m\u001b[0;34m\u001b[0m\u001b[0;34m\u001b[0m\u001b[0m\n\u001b[0;32m-> 2175\u001b[0;31m         result, tz_parsed = tslib.array_to_datetime(\n\u001b[0m\u001b[1;32m   2176\u001b[0m             \u001b[0mdata\u001b[0m\u001b[0;34m.\u001b[0m\u001b[0mravel\u001b[0m\u001b[0;34m(\u001b[0m\u001b[0;34m\"K\"\u001b[0m\u001b[0;34m)\u001b[0m\u001b[0;34m,\u001b[0m\u001b[0;34m\u001b[0m\u001b[0;34m\u001b[0m\u001b[0m\n\u001b[1;32m   2177\u001b[0m             \u001b[0merrors\u001b[0m\u001b[0;34m=\u001b[0m\u001b[0merrors\u001b[0m\u001b[0;34m,\u001b[0m\u001b[0;34m\u001b[0m\u001b[0;34m\u001b[0m\u001b[0m\n",
      "\u001b[0;32m~/Desktop/Tappware/DataAnalysis/.venv/lib/python3.8/site-packages/pandas/_libs/tslib.pyx\u001b[0m in \u001b[0;36mpandas._libs.tslib.array_to_datetime\u001b[0;34m()\u001b[0m\n",
      "\u001b[0;32m~/Desktop/Tappware/DataAnalysis/.venv/lib/python3.8/site-packages/pandas/_libs/tslib.pyx\u001b[0m in \u001b[0;36mpandas._libs.tslib.array_to_datetime\u001b[0;34m()\u001b[0m\n",
      "\u001b[0;32m~/Desktop/Tappware/DataAnalysis/.venv/lib/python3.8/site-packages/pandas/_libs/tslib.pyx\u001b[0m in \u001b[0;36mpandas._libs.tslib._array_to_datetime_object\u001b[0;34m()\u001b[0m\n",
      "\u001b[0;32m~/Desktop/Tappware/DataAnalysis/.venv/lib/python3.8/site-packages/pandas/_libs/tslib.pyx\u001b[0m in \u001b[0;36mpandas._libs.tslib._array_to_datetime_object\u001b[0;34m()\u001b[0m\n",
      "\u001b[0;32m~/Desktop/Tappware/DataAnalysis/.venv/lib/python3.8/site-packages/pandas/_libs/tslibs/parsing.pyx\u001b[0m in \u001b[0;36mpandas._libs.tslibs.parsing.parse_datetime_string\u001b[0;34m()\u001b[0m\n",
      "\u001b[0;32m~/Desktop/Tappware/DataAnalysis/.venv/lib/python3.8/site-packages/dateutil/parser/_parser.py\u001b[0m in \u001b[0;36mparse\u001b[0;34m(timestr, parserinfo, **kwargs)\u001b[0m\n\u001b[1;32m   1366\u001b[0m         \u001b[0;32mreturn\u001b[0m \u001b[0mparser\u001b[0m\u001b[0;34m(\u001b[0m\u001b[0mparserinfo\u001b[0m\u001b[0;34m)\u001b[0m\u001b[0;34m.\u001b[0m\u001b[0mparse\u001b[0m\u001b[0;34m(\u001b[0m\u001b[0mtimestr\u001b[0m\u001b[0;34m,\u001b[0m \u001b[0;34m**\u001b[0m\u001b[0mkwargs\u001b[0m\u001b[0;34m)\u001b[0m\u001b[0;34m\u001b[0m\u001b[0;34m\u001b[0m\u001b[0m\n\u001b[1;32m   1367\u001b[0m     \u001b[0;32melse\u001b[0m\u001b[0;34m:\u001b[0m\u001b[0;34m\u001b[0m\u001b[0;34m\u001b[0m\u001b[0m\n\u001b[0;32m-> 1368\u001b[0;31m         \u001b[0;32mreturn\u001b[0m \u001b[0mDEFAULTPARSER\u001b[0m\u001b[0;34m.\u001b[0m\u001b[0mparse\u001b[0m\u001b[0;34m(\u001b[0m\u001b[0mtimestr\u001b[0m\u001b[0;34m,\u001b[0m \u001b[0;34m**\u001b[0m\u001b[0mkwargs\u001b[0m\u001b[0;34m)\u001b[0m\u001b[0;34m\u001b[0m\u001b[0;34m\u001b[0m\u001b[0m\n\u001b[0m\u001b[1;32m   1369\u001b[0m \u001b[0;34m\u001b[0m\u001b[0m\n\u001b[1;32m   1370\u001b[0m \u001b[0;34m\u001b[0m\u001b[0m\n",
      "\u001b[0;32m~/Desktop/Tappware/DataAnalysis/.venv/lib/python3.8/site-packages/dateutil/parser/_parser.py\u001b[0m in \u001b[0;36mparse\u001b[0;34m(self, timestr, default, ignoretz, tzinfos, **kwargs)\u001b[0m\n\u001b[1;32m    649\u001b[0m             \u001b[0mret\u001b[0m \u001b[0;34m=\u001b[0m \u001b[0mself\u001b[0m\u001b[0;34m.\u001b[0m\u001b[0m_build_naive\u001b[0m\u001b[0;34m(\u001b[0m\u001b[0mres\u001b[0m\u001b[0;34m,\u001b[0m \u001b[0mdefault\u001b[0m\u001b[0;34m)\u001b[0m\u001b[0;34m\u001b[0m\u001b[0;34m\u001b[0m\u001b[0m\n\u001b[1;32m    650\u001b[0m         \u001b[0;32mexcept\u001b[0m \u001b[0mValueError\u001b[0m \u001b[0;32mas\u001b[0m \u001b[0me\u001b[0m\u001b[0;34m:\u001b[0m\u001b[0;34m\u001b[0m\u001b[0;34m\u001b[0m\u001b[0m\n\u001b[0;32m--> 651\u001b[0;31m             \u001b[0msix\u001b[0m\u001b[0;34m.\u001b[0m\u001b[0mraise_from\u001b[0m\u001b[0;34m(\u001b[0m\u001b[0mParserError\u001b[0m\u001b[0;34m(\u001b[0m\u001b[0mstr\u001b[0m\u001b[0;34m(\u001b[0m\u001b[0me\u001b[0m\u001b[0;34m)\u001b[0m \u001b[0;34m+\u001b[0m \u001b[0;34m\": %s\"\u001b[0m\u001b[0;34m,\u001b[0m \u001b[0mtimestr\u001b[0m\u001b[0;34m)\u001b[0m\u001b[0;34m,\u001b[0m \u001b[0me\u001b[0m\u001b[0;34m)\u001b[0m\u001b[0;34m\u001b[0m\u001b[0;34m\u001b[0m\u001b[0m\n\u001b[0m\u001b[1;32m    652\u001b[0m \u001b[0;34m\u001b[0m\u001b[0m\n\u001b[1;32m    653\u001b[0m         \u001b[0;32mif\u001b[0m \u001b[0;32mnot\u001b[0m \u001b[0mignoretz\u001b[0m\u001b[0;34m:\u001b[0m\u001b[0;34m\u001b[0m\u001b[0;34m\u001b[0m\u001b[0m\n",
      "\u001b[0;32m~/Desktop/Tappware/DataAnalysis/.venv/lib/python3.8/site-packages/six.py\u001b[0m in \u001b[0;36mraise_from\u001b[0;34m(value, from_value)\u001b[0m\n",
      "\u001b[0;31mParserError\u001b[0m: year 0 is out of range: 0000-00-00 00:00:00"
     ]
    }
   ],
   "source": [
    "# users_gender_df.created_users.isnull().sum()\n",
    "pd.to_datetime(users_gender_df.created_users)"
   ]
  },
  {
   "cell_type": "code",
   "execution_count": 10,
   "id": "6a0107e2-502a-492d-a57d-40875514c12f",
   "metadata": {},
   "outputs": [
    {
     "data": {
      "text/plain": [
       "numpy.ndarray"
      ]
     },
     "execution_count": 10,
     "metadata": {},
     "output_type": "execute_result"
    },
    {
     "data": {
      "text/plain": [
       "numpy.ndarray"
      ]
     },
     "execution_count": 10,
     "metadata": {},
     "output_type": "execute_result"
    },
    {
     "data": {
      "text/plain": [
       "{'2015', '2016', '2017', '2018', '2019', '2020', '2021'}"
      ]
     },
     "execution_count": 10,
     "metadata": {},
     "output_type": "execute_result"
    },
    {
     "data": {
      "text/plain": [
       "{'1', '10', '11', '12', '2', '3', '4', '5', '6', '7', '8', '9'}"
      ]
     },
     "execution_count": 10,
     "metadata": {},
     "output_type": "execute_result"
    }
   ],
   "source": [
    "# Extract years and months from created column\n",
    "created_users_datetime_index = pd.DatetimeIndex(users_gender_df['created_users'])\n",
    "years = created_users_datetime_index.year.values.astype(str)\n",
    "months = created_users_datetime_index.month.values.astype(str)\n",
    "type(years)\n",
    "type(months)\n",
    "set(years)\n",
    "set(months)"
   ]
  },
  {
   "cell_type": "code",
   "execution_count": 11,
   "id": "db459ed9-e63b-459f-98b3-36997d586d5e",
   "metadata": {},
   "outputs": [
    {
     "data": {
      "text/plain": [
       "(109026, 16)"
      ]
     },
     "execution_count": 11,
     "metadata": {},
     "output_type": "execute_result"
    }
   ],
   "source": [
    "# type(years[0])\n",
    "users_gender_df['year'] = years\n",
    "users_gender_df['month'] = months\n",
    "users_gender_df.shape"
   ]
  },
  {
   "cell_type": "code",
   "execution_count": 14,
   "id": "1992e9bb-0f61-4d10-8c1c-4bb39b4c3a6c",
   "metadata": {},
   "outputs": [],
   "source": [
    "# Everything\n",
    "# users_df = load_users_df() \n",
    "# # employee_records_df = pd.read_csv('../Data/employee_records.csv', names=employee_records_table_columns)\n",
    "# employee_records_df = load_employee_records_df() \n",
    "# print(f\"users dataframe shape: {users_df.shape}\")\n",
    "# print(f\"employee records dataframe shape: {employee_records_df.shape}\")\n",
    "# new_users_df = users_df[['id',\n",
    "#     'created',\n",
    "#     'modified',\n",
    "#     'employee_record_id']]\n",
    "# new_employee_records_df = employee_records_df[['id', 'gender', 'created', 'modified']]\n",
    "\n",
    "# users_gender_df = pd.merge(new_users_df, new_employee_records_df, left_on=['employee_record_id'], right_on=['id'],  suffixes=('_users', '_employee'))\n",
    "# print(f\"Initial dataframe shape {users_gender_df.shape}\")\n",
    "# # nisponno_records_df = nisponno_records_df[['id', 'upokarvogi', 'created']] \n",
    "# # remove null values\n",
    "# users_gender_df = users_gender_df.loc[users_gender_df.created_users.notnull()]\n",
    "# print(f\"dataframe shape after removing created null value {users_gender_df.shape}\")\n",
    "# # add new column: cretead_new as datetime field from created column\n",
    "# users_gender_df['created_users'] = pd.to_datetime(users_gender_df['created_users'], errors='coerce')\n",
    "# # errors{‘ignore’, ‘raise’, ‘coerce’}, default ‘raise’\n",
    "#     # If ‘raise’, then invalid parsing will raise an exception.\n",
    "#     # If ‘coerce’, then invalid parsing will be set as NaT.\n",
    "#     # If ‘ignore’, then invalid parsing will return the input.\n",
    "# users_gender_df.shape\n",
    "# # again remove null values based on created field\n",
    "# users_gender_df = users_gender_df.loc[users_gender_df.created_users.notnull()]\n",
    "# users_gender_df.shape"
   ]
  },
  {
   "cell_type": "markdown",
   "id": "0232f7a0-279f-4f52-8862-5273a77b628b",
   "metadata": {},
   "source": [
    "## মোট নথি ব্যবহারকারী (পুরুষ)"
   ]
  },
  {
   "cell_type": "code",
   "execution_count": 12,
   "id": "aa08c267-0a73-4dd1-9902-cd24a4a783a2",
   "metadata": {},
   "outputs": [
    {
     "data": {
      "text/plain": [
       "(92137, 16)"
      ]
     },
     "execution_count": 12,
     "metadata": {},
     "output_type": "execute_result"
    },
    {
     "data": {
      "text/plain": [
       "Index(['id_users', 'username', 'user_role_id', 'is_admin', 'active',\n",
       "       'user_status', 'created_users', 'modified_users', 'employee_record_id',\n",
       "       'id_employee', 'name_eng', 'gender', 'created_employee',\n",
       "       'modified_employee', 'year', 'month'],\n",
       "      dtype='object')"
      ]
     },
     "execution_count": 12,
     "metadata": {},
     "output_type": "execute_result"
    }
   ],
   "source": [
    "# Extract male users\n",
    "\n",
    "male_nothi_users_df = users_gender_df[users_gender_df.gender == 1]\n",
    "male_nothi_users_df.to_csv('../Cleaned_data/male_nothi_users.csv', index=False)\n",
    "male_nothi_users_df.shape\n",
    "male_nothi_users_df.columns"
   ]
  },
  {
   "cell_type": "code",
   "execution_count": 13,
   "id": "436b44e0-f7d8-4f79-8891-fa48a7567914",
   "metadata": {},
   "outputs": [],
   "source": [
    "\n",
    "month_map ={\n",
    "    '1': 'January',\n",
    "    '01': 'January',\n",
    "    '2': 'February',\n",
    "    '02': 'February',\n",
    "    '3': 'March',\n",
    "    '03': 'March',\n",
    "    '4': 'April',\n",
    "    '04': 'April',\n",
    "    '5': 'May',\n",
    "    '05': 'May',\n",
    "    '6': 'June',\n",
    "    '06': 'June',\n",
    "    '7': 'July',\n",
    "    '07': 'July',\n",
    "    '8': 'August',\n",
    "    '08': 'August',\n",
    "    '9': 'September',\n",
    "    '09': 'September',\n",
    "    '10': 'October',\n",
    "    '11': 'November',\n",
    "    '12': 'December',\n",
    "    'unknown': 'unknown',\n",
    "}"
   ]
  },
  {
   "cell_type": "markdown",
   "id": "ad97a420-c2a5-4097-9873-6f28fd883d7a",
   "metadata": {},
   "source": [
    "# Saving file as json\n"
   ]
  },
  {
   "cell_type": "code",
   "execution_count": 15,
   "id": "bbb01b9c-23a5-4932-8f94-7b903bd82dc8",
   "metadata": {},
   "outputs": [
    {
     "name": "stdout",
     "output_type": "stream",
     "text": [
      "{'2015': {'count': 14, 'month_map': {'December': 14}}, '2016': {'count': 12209, 'month_map': {'January': 37, 'February': 75, 'March': 573, 'April': 228, 'May': 830, 'June': 1350, 'July': 1068, 'August': 2115, 'September': 1422, 'October': 1274, 'November': 1850, 'December': 1387}}, '2017': {'count': 22757, 'month_map': {'January': 2154, 'February': 2537, 'March': 2918, 'April': 1887, 'May': 2010, 'June': 1731, 'July': 1845, 'August': 1900, 'September': 1469, 'October': 1515, 'November': 1696, 'December': 1095}}, '2018': {'count': 20093, 'month_map': {'January': 1784, 'February': 1578, 'March': 1862, 'April': 2163, 'May': 1884, 'June': 1190, 'July': 2364, 'August': 1635, 'September': 1195, 'October': 1337, 'November': 1419, 'December': 1682}}, '2019': {'count': 18684, 'month_map': {'January': 1750, 'February': 1408, 'March': 1344, 'April': 1593, 'May': 1475, 'June': 1467, 'July': 1711, 'August': 1271, 'September': 2083, 'October': 1828, 'November': 1408, 'December': 1346}}, '2020': {'count': 11533, 'month_map': {'January': 1745, 'February': 1472, 'March': 1115, 'April': 156, 'May': 220, 'June': 944, 'July': 830, 'August': 1024, 'September': 1172, 'October': 1542, 'November': 751, 'December': 562}}, '2021': {'count': 6847, 'month_map': {'January': 612, 'February': 761, 'March': 811, 'April': 483, 'May': 320, 'June': 621, 'July': 435, 'August': 859, 'September': 707, 'October': 740, 'November': 498}}}\n"
     ]
    }
   ],
   "source": [
    "month_list =['January', 'February', 'March', 'April', 'May', 'June', 'July', 'August','September', 'October','November', 'December', 'unknown' ]\n",
    "male_nothi_users = {}\n",
    "\n",
    "dataframe_year_by = male_nothi_users_df.groupby('year')\n",
    "\n",
    "for year, year_frame in dataframe_year_by:\n",
    "    year = str(year)\n",
    "    # year, year_frame.shape\n",
    "    \n",
    "    month_dict = {}\n",
    "\n",
    "    month_group_by = year_frame.groupby('month')\n",
    "    for month, month_frame in month_group_by:\n",
    "\n",
    "        # mg, mf.shape[0]\n",
    "        month = str(month)\n",
    "        month = month_map[month]\n",
    "        month_dict[month] = month_frame.shape[0]\n",
    "    month_dict = dict(sorted(month_dict.items(), key=lambda x:month_list.index(x[0])))\n",
    "    dic = {'count': year_frame.shape[0], 'month_map': month_dict}\n",
    "    male_nothi_users[year] = dic\n",
    "\n",
    "print(male_nothi_users)"
   ]
  },
  {
   "cell_type": "code",
   "execution_count": 16,
   "id": "4c4a2a84-ed87-42ec-8e31-cb14acf70ea8",
   "metadata": {},
   "outputs": [
    {
     "name": "stdout",
     "output_type": "stream",
     "text": [
      "{'2015': {'count': 14, 'month_map': {'December': 14}}, '2016': {'count': 12209, 'month_map': {'January': 37, 'February': 75, 'March': 573, 'April': 228, 'May': 830, 'June': 1350, 'July': 1068, 'August': 2115, 'September': 1422, 'October': 1274, 'November': 1850, 'December': 1387}}, '2017': {'count': 22757, 'month_map': {'January': 2154, 'February': 2537, 'March': 2918, 'April': 1887, 'May': 2010, 'June': 1731, 'July': 1845, 'August': 1900, 'September': 1469, 'October': 1515, 'November': 1696, 'December': 1095}}, '2018': {'count': 20093, 'month_map': {'January': 1784, 'February': 1578, 'March': 1862, 'April': 2163, 'May': 1884, 'June': 1190, 'July': 2364, 'August': 1635, 'September': 1195, 'October': 1337, 'November': 1419, 'December': 1682}}, '2019': {'count': 18684, 'month_map': {'January': 1750, 'February': 1408, 'March': 1344, 'April': 1593, 'May': 1475, 'June': 1467, 'July': 1711, 'August': 1271, 'September': 2083, 'October': 1828, 'November': 1408, 'December': 1346}}, '2020': {'count': 11533, 'month_map': {'January': 1745, 'February': 1472, 'March': 1115, 'April': 156, 'May': 220, 'June': 944, 'July': 830, 'August': 1024, 'September': 1172, 'October': 1542, 'November': 751, 'December': 562}}, '2021': {'count': 6847, 'month_map': {'January': 612, 'February': 761, 'March': 811, 'April': 483, 'May': 320, 'June': 621, 'July': 435, 'August': 859, 'September': 707, 'October': 740, 'November': 498}}}\n"
     ]
    }
   ],
   "source": [
    "import json\n",
    "\n",
    "\n",
    "dictionary = male_nothi_users\n",
    "\n",
    "with open('../Cleaned_data/male_nothi_users.json', 'w', encoding='utf-8') as f:\n",
    "    json.dump(dictionary, f, ensure_ascii=False, indent=4)\n",
    "\n",
    "with open('../Cleaned_data/male_nothi_users.json', 'r', encoding='utf-8') as json_file:\n",
    "    data = json.load(json_file)\n",
    "    print(data)\n",
    "    breakpoint()\n"
   ]
  },
  {
   "cell_type": "code",
   "execution_count": null,
   "id": "f27eee6c-0cc8-45e9-8bd1-9610f475dcbd",
   "metadata": {},
   "outputs": [],
   "source": []
  },
  {
   "cell_type": "code",
   "execution_count": null,
   "id": "2f54cd80-e869-4208-b27a-538c64fa1c9b",
   "metadata": {},
   "outputs": [],
   "source": []
  },
  {
   "cell_type": "code",
   "execution_count": 17,
   "id": "0edce09d-a7dc-4481-88d7-8ce788f84bbb",
   "metadata": {},
   "outputs": [
    {
     "data": {
      "text/plain": [
       "year\n",
       "2015       14\n",
       "2016    12209\n",
       "2017    22757\n",
       "2018    20093\n",
       "2019    18684\n",
       "2020    11533\n",
       "2021     6847\n",
       "Name: id_users, dtype: int64"
      ]
     },
     "execution_count": 17,
     "metadata": {},
     "output_type": "execute_result"
    }
   ],
   "source": [
    "\n",
    "# observe nothi users (male) in every year \n",
    "male_nothi_users_year_by = male_nothi_users_df.groupby('year')['id_users'].count()\n",
    "male_nothi_users_year_by\n"
   ]
  },
  {
   "cell_type": "code",
   "execution_count": 24,
   "id": "3900e21d-057b-4a4c-9c34-5db384274aa0",
   "metadata": {},
   "outputs": [
    {
     "data": {
      "text/plain": [
       "(array([1.2209e+04, 1.4000e+01, 0.0000e+00, 2.2757e+04, 0.0000e+00,\n",
       "        2.0093e+04, 1.8684e+04, 0.0000e+00, 1.1533e+04, 6.8470e+03]),\n",
       " array([0. , 0.6, 1.2, 1.8, 2.4, 3. , 3.6, 4.2, 4.8, 5.4, 6. ]),\n",
       " <BarContainer object of 10 artists>)"
      ]
     },
     "execution_count": 24,
     "metadata": {},
     "output_type": "execute_result"
    },
    {
     "data": {
      "text/plain": [
       "Text(0.5, 0, 'years')"
      ]
     },
     "execution_count": 24,
     "metadata": {},
     "output_type": "execute_result"
    },
    {
     "data": {
      "text/plain": [
       "Text(0, 0.5, 'nothi users (male)')"
      ]
     },
     "execution_count": 24,
     "metadata": {},
     "output_type": "execute_result"
    },
    {
     "data": {
      "text/plain": [
       "Text(0.5, 1.0, 'nothi users (male) in year base')"
      ]
     },
     "execution_count": 24,
     "metadata": {},
     "output_type": "execute_result"
    },
    {
     "data": {
      "image/png": "[encoded data removed]",
      "text/plain": [
       "<Figure size 432x288 with 1 Axes>"
      ]
     },
     "metadata": {
      "needs_background": "light"
     },
     "output_type": "display_data"
    }
   ],
   "source": [
    "\n",
    "plt.hist(male_nothi_users_df['year'])\n",
    "\n",
    "\n",
    "plt.xlabel('years')\n",
    "plt.ylabel('nothi users (male)')\n",
    "plt.title('nothi users (male) in year base')\n",
    "# plt.text(60, .025, r'$\\mu=100,\\ \\sigma=15$')\n",
    "# plt.xlim(40, 160)\n",
    "# plt.ylim(0, 0.03)\n",
    "plt.grid(True)\n",
    "plt.show()"
   ]
  },
  {
   "cell_type": "code",
   "execution_count": 18,
   "id": "c25ff86f-a29d-460b-9665-66ac00909f7f",
   "metadata": {},
   "outputs": [],
   "source": [
    "month_map ={\n",
    "    '1': 'January',\n",
    "    '01': 'January',\n",
    "    '2': 'February',\n",
    "    '02': 'February',\n",
    "    '3': 'March',\n",
    "    '03': 'March',\n",
    "    '4': 'April',\n",
    "    '04': 'April',\n",
    "    '5': 'May',\n",
    "    '05': 'May',\n",
    "    '6': 'June',\n",
    "    '06': 'June',\n",
    "    '7': 'July',\n",
    "    '07': 'July',\n",
    "    '8': 'August',\n",
    "    '08': 'August',\n",
    "    '9': 'September',\n",
    "    '09': 'September',\n",
    "    '10': 'October',\n",
    "    '11': 'November',\n",
    "    '12': 'December',\n",
    "    'unknown': 'unknown',\n",
    "}"
   ]
  },
  {
   "cell_type": "code",
   "execution_count": 22,
   "id": "c8a79b10-64e0-4a6c-a5fc-f925623c98a0",
   "metadata": {},
   "outputs": [],
   "source": [
    "# Generate general_series and drilldown series for bar graph\n",
    "# general series: year: number of officess\n",
    "male_nothi_users_year_by = male_nothi_users_df.groupby('year')\n",
    "def generate_general_series_drilldown_series(dataframe_year_by, general_series_name):\n",
    "    general_series = [\n",
    "        \n",
    "        {\n",
    "            'name': general_series_name,\n",
    "            'colorByPoint': True,\n",
    "            'data': [],\n",
    "        }\n",
    "    ]\n",
    "    drilldown_series = []\n",
    "\n",
    "    for year, year_frame in dataframe_year_by:\n",
    "        year = str(year)\n",
    "        # year, year_frame.shape\n",
    "        temporary_dict_general = {'name': year, 'y': year_frame.shape[0], 'drilldown': year}\n",
    "        general_series[0]['data'].append(temporary_dict_general)\n",
    "        temporary_dict_drilldown = {\n",
    "            'name': year,\n",
    "            'id': year,\n",
    "            'data': [],\n",
    "        }\n",
    "        month_group_by = year_frame.groupby('month')\n",
    "        for month, month_frame in month_group_by:\n",
    "          \n",
    "            # mg, mf.shape[0]\n",
    "            month = str(month)\n",
    "            month = month_map[month]\n",
    "\n",
    "            lst = [month, month_frame.shape[0]]\n",
    "            temporary_dict_drilldown['data'].append(lst)\n",
    "        drilldown_series.append(temporary_dict_drilldown)\n",
    "    return general_series, drilldown_series\n",
    "\n",
    "general_series, drilldown_series = generate_general_series_drilldown_series(male_nothi_users_year_by, 'male_nothi_users')"
   ]
  },
  {
   "cell_type": "code",
   "execution_count": 23,
   "id": "e67b88c7-0ad8-4aff-9919-f32c74fb59b6",
   "metadata": {},
   "outputs": [
    {
     "data": {
      "text/plain": [
       "[{'name': 'male_nothi_users',\n",
       "  'colorByPoint': True,\n",
       "  'data': [{'name': '2015', 'y': 14, 'drilldown': '2015'},\n",
       "   {'name': '2016', 'y': 12209, 'drilldown': '2016'},\n",
       "   {'name': '2017', 'y': 22757, 'drilldown': '2017'},\n",
       "   {'name': '2018', 'y': 20093, 'drilldown': '2018'},\n",
       "   {'name': '2019', 'y': 18684, 'drilldown': '2019'},\n",
       "   {'name': '2020', 'y': 11533, 'drilldown': '2020'},\n",
       "   {'name': '2021', 'y': 6847, 'drilldown': '2021'}]}]"
      ]
     },
     "execution_count": 23,
     "metadata": {},
     "output_type": "execute_result"
    }
   ],
   "source": [
    "general_series\n",
    "# drilldown_series"
   ]
  },
  {
   "cell_type": "markdown",
   "id": "5f83238e-bcfe-4632-9e8b-ffb90c918973",
   "metadata": {},
   "source": [
    "## মোট নথি ব্যবহারকারী (মহিলা)"
   ]
  },
  {
   "cell_type": "code",
   "execution_count": 19,
   "id": "8ce65740-fed7-45a8-a2bc-b0c2294895f6",
   "metadata": {},
   "outputs": [],
   "source": [
    "# Extract female users\n",
    "\n",
    "female_nothi_users_df = users_gender_df[users_gender_df.gender != 1]\n",
    "female_nothi_users_df.to_csv('../Cleaned_data/female_nothi_users.csv', index=False)\n"
   ]
  },
  {
   "cell_type": "code",
   "execution_count": 20,
   "id": "e7867e38-b2d5-45b3-8a57-6f269737b6fa",
   "metadata": {},
   "outputs": [
    {
     "data": {
      "text/plain": [
       "year\n",
       "2015      29\n",
       "2016    4950\n",
       "2017    3300\n",
       "2018    2712\n",
       "2019    2977\n",
       "2020    1707\n",
       "2021    1214\n",
       "Name: id_users, dtype: int64"
      ]
     },
     "execution_count": 20,
     "metadata": {},
     "output_type": "execute_result"
    }
   ],
   "source": [
    "# observe nothi users (female) in every year \n",
    "female_nothi_users_year_by = female_nothi_users_df.groupby('year')['id_users'].count()\n",
    "female_nothi_users_year_by"
   ]
  },
  {
   "cell_type": "code",
   "execution_count": 30,
   "id": "4187874c-872a-4888-a046-0ca03588d69f",
   "metadata": {},
   "outputs": [
    {
     "data": {
      "text/plain": [
       "(array([4950.,   29.,    0., 3300.,    0., 2712., 2977.,    0., 1707.,\n",
       "        1214.]),\n",
       " array([0. , 0.6, 1.2, 1.8, 2.4, 3. , 3.6, 4.2, 4.8, 5.4, 6. ]),\n",
       " <BarContainer object of 10 artists>)"
      ]
     },
     "execution_count": 30,
     "metadata": {},
     "output_type": "execute_result"
    },
    {
     "data": {
      "text/plain": [
       "Text(0.5, 0, 'years')"
      ]
     },
     "execution_count": 30,
     "metadata": {},
     "output_type": "execute_result"
    },
    {
     "data": {
      "text/plain": [
       "Text(0, 0.5, 'nothi users (female)')"
      ]
     },
     "execution_count": 30,
     "metadata": {},
     "output_type": "execute_result"
    },
    {
     "data": {
      "text/plain": [
       "Text(0.5, 1.0, 'nothi users (female) in year base')"
      ]
     },
     "execution_count": 30,
     "metadata": {},
     "output_type": "execute_result"
    },
    {
     "data": {
      "image/png": "[encoded data removed]",
      "text/plain": [
       "<Figure size 432x288 with 1 Axes>"
      ]
     },
     "metadata": {
      "needs_background": "light"
     },
     "output_type": "display_data"
    }
   ],
   "source": [
    "plt.hist(female_nothi_users_df['year'])\n",
    "\n",
    "\n",
    "plt.xlabel('years')\n",
    "plt.ylabel('nothi users (female)')\n",
    "plt.title('nothi users (female) in year base')\n",
    "# plt.text(60, .025, r'$\\mu=100,\\ \\sigma=15$')\n",
    "# plt.xlim(40, 160)\n",
    "# plt.ylim(0, 0.03)\n",
    "plt.grid(True)\n",
    "plt.show()"
   ]
  },
  {
   "cell_type": "code",
   "execution_count": 24,
   "id": "dca0e7f9-4f35-459b-ae83-7d20eab361ea",
   "metadata": {},
   "outputs": [],
   "source": [
    "female_nothi_users_year_by = female_nothi_users_df.groupby('year')\n",
    "general_series, drilldown_series = generate_general_series_drilldown_series(female_nothi_users_year_by, 'female_nothi_users')"
   ]
  },
  {
   "cell_type": "code",
   "execution_count": 33,
   "id": "495e2b0d-290f-46b2-a2b5-474b216ae402",
   "metadata": {},
   "outputs": [
    {
     "data": {
      "text/plain": [
       "[{'name': 'female_nothi_users',\n",
       "  'colorByPoint': True,\n",
       "  'data': [{'name': '2015', 'y': 29, 'drilldown': '2015'},\n",
       "   {'name': '2016', 'y': 4950, 'drilldown': '2016'},\n",
       "   {'name': '2017', 'y': 3300, 'drilldown': '2017'},\n",
       "   {'name': '2018', 'y': 2712, 'drilldown': '2018'},\n",
       "   {'name': '2019', 'y': 2977, 'drilldown': '2019'},\n",
       "   {'name': '2020', 'y': 1707, 'drilldown': '2020'},\n",
       "   {'name': '2021', 'y': 1214, 'drilldown': '2021'}]}]"
      ]
     },
     "execution_count": 33,
     "metadata": {},
     "output_type": "execute_result"
    }
   ],
   "source": [
    "general_series"
   ]
  },
  {
   "cell_type": "code",
   "execution_count": 26,
   "id": "4ee64e4e-c542-4608-81af-08a64db6df72",
   "metadata": {},
   "outputs": [
    {
     "name": "stdout",
     "output_type": "stream",
     "text": [
      "{'2015': {'count': 29, 'month_map': {'December': 29}}, '2016': {'count': 4950, 'month_map': {'January': 45, 'February': 42, 'March': 497, 'April': 183, 'May': 846, 'June': 1162, 'July': 765, 'August': 416, 'September': 232, 'October': 197, 'November': 324, 'December': 241}}, '2017': {'count': 3300, 'month_map': {'January': 447, 'February': 350, 'March': 424, 'April': 269, 'May': 268, 'June': 214, 'July': 236, 'August': 236, 'September': 205, 'October': 237, 'November': 237, 'December': 177}}, '2018': {'count': 2712, 'month_map': {'January': 270, 'February': 254, 'March': 239, 'April': 259, 'May': 191, 'June': 127, 'July': 273, 'August': 179, 'September': 161, 'October': 247, 'November': 235, 'December': 277}}, '2019': {'count': 2977, 'month_map': {'January': 295, 'February': 225, 'March': 175, 'April': 214, 'May': 179, 'June': 220, 'July': 316, 'August': 239, 'September': 345, 'October': 339, 'November': 244, 'December': 186}}, '2020': {'count': 1707, 'month_map': {'January': 242, 'February': 241, 'March': 171, 'April': 12, 'May': 29, 'June': 120, 'July': 152, 'August': 152, 'September': 175, 'October': 191, 'November': 107, 'December': 115}}, '2021': {'count': 1214, 'month_map': {'January': 105, 'February': 135, 'March': 150, 'April': 67, 'May': 62, 'June': 114, 'July': 69, 'August': 147, 'September': 130, 'October': 133, 'November': 102}}}\n"
     ]
    }
   ],
   "source": [
    "month_list =['January', 'February', 'March', 'April', 'May', 'June', 'July', 'August','September', 'October','November', 'December', 'unknown' ]\n",
    "female_nothi_users = {}\n",
    "\n",
    "dataframe_year_by = female_nothi_users_df.groupby('year')\n",
    "\n",
    "for year, year_frame in dataframe_year_by:\n",
    "    year = str(year)\n",
    "    # year, year_frame.shape\n",
    "    \n",
    "    month_dict = {}\n",
    "\n",
    "    month_group_by = year_frame.groupby('month')\n",
    "    for month, month_frame in month_group_by:\n",
    "\n",
    "        # mg, mf.shape[0]\n",
    "        month = str(month)\n",
    "        month = month_map[month]\n",
    "        month_dict[month] = month_frame.shape[0]\n",
    "    month_dict = dict(sorted(month_dict.items(), key=lambda x:month_list.index(x[0])))\n",
    "    dic = {'count': year_frame.shape[0], 'month_map': month_dict}\n",
    "    female_nothi_users[year] = dic\n",
    "\n",
    "print(female_nothi_users)"
   ]
  },
  {
   "cell_type": "code",
   "execution_count": 27,
   "id": "b8a4e8ce-3648-48e9-81df-56828cf98990",
   "metadata": {},
   "outputs": [
    {
     "name": "stdout",
     "output_type": "stream",
     "text": [
      "{'2015': {'count': 29, 'month_map': {'December': 29}}, '2016': {'count': 4950, 'month_map': {'January': 45, 'February': 42, 'March': 497, 'April': 183, 'May': 846, 'June': 1162, 'July': 765, 'August': 416, 'September': 232, 'October': 197, 'November': 324, 'December': 241}}, '2017': {'count': 3300, 'month_map': {'January': 447, 'February': 350, 'March': 424, 'April': 269, 'May': 268, 'June': 214, 'July': 236, 'August': 236, 'September': 205, 'October': 237, 'November': 237, 'December': 177}}, '2018': {'count': 2712, 'month_map': {'January': 270, 'February': 254, 'March': 239, 'April': 259, 'May': 191, 'June': 127, 'July': 273, 'August': 179, 'September': 161, 'October': 247, 'November': 235, 'December': 277}}, '2019': {'count': 2977, 'month_map': {'January': 295, 'February': 225, 'March': 175, 'April': 214, 'May': 179, 'June': 220, 'July': 316, 'August': 239, 'September': 345, 'October': 339, 'November': 244, 'December': 186}}, '2020': {'count': 1707, 'month_map': {'January': 242, 'February': 241, 'March': 171, 'April': 12, 'May': 29, 'June': 120, 'July': 152, 'August': 152, 'September': 175, 'October': 191, 'November': 107, 'December': 115}}, '2021': {'count': 1214, 'month_map': {'January': 105, 'February': 135, 'March': 150, 'April': 67, 'May': 62, 'June': 114, 'July': 69, 'August': 147, 'September': 130, 'October': 133, 'November': 102}}}\n"
     ]
    }
   ],
   "source": [
    "import json\n",
    "\n",
    "\n",
    "dictionary = female_nothi_users\n",
    "\n",
    "with open('../Cleaned_data/female_nothi_users.json', 'w', encoding='utf-8') as f:\n",
    "    json.dump(dictionary, f, ensure_ascii=False, indent=4)\n",
    "\n",
    "with open('../Cleaned_data/female_nothi_users.json', 'r', encoding='utf-8') as json_file:\n",
    "    data = json.load(json_file)\n",
    "    print(data)\n",
    "    breakpoint()"
   ]
  },
  {
   "cell_type": "markdown",
   "id": "6e62ff3b-3093-4f14-b90c-8b31e339f964",
   "metadata": {},
   "source": [
    "# End End End"
   ]
  },
  {
   "cell_type": "code",
   "execution_count": null,
   "id": "d4e4235a-0fa8-42d8-a2e5-ed4ec058720f",
   "metadata": {},
   "outputs": [],
   "source": []
  },
  {
   "cell_type": "code",
   "execution_count": null,
   "id": "a2cc893f-e1d0-41ed-8f4e-2ea79348d0fd",
   "metadata": {},
   "outputs": [],
   "source": []
  },
  {
   "cell_type": "code",
   "execution_count": 15,
   "id": "bec37fc1-b4b1-406f-b285-1b4944034263",
   "metadata": {},
   "outputs": [],
   "source": [
    "month_map ={\n",
    "    '1': 'January',\n",
    "    '01': 'January',\n",
    "    '2': 'February',\n",
    "    '02': 'February',\n",
    "    '3': 'March',\n",
    "    '03': 'March',\n",
    "    '4': 'April',\n",
    "    '04': 'April',\n",
    "    '5': 'May',\n",
    "    '05': 'May',\n",
    "    '6': 'June',\n",
    "    '06': 'June',\n",
    "    '7': 'July',\n",
    "    '07': 'July',\n",
    "    '8': 'August',\n",
    "    '08': 'August',\n",
    "    '9': 'September',\n",
    "    '09': 'September',\n",
    "    '10': 'October',\n",
    "    '11': 'November',\n",
    "    '12': 'December',\n",
    "    'unknown': 'unknown',\n",
    "}"
   ]
  },
  {
   "cell_type": "code",
   "execution_count": 16,
   "id": "03ea1cd4-9086-4476-8204-16269af3700d",
   "metadata": {},
   "outputs": [],
   "source": [
    "# Generate general_series and drilldown series for bar graph\n",
    "# general series: year: number of officess\n",
    "offices_year_by = offices_df.groupby('year')\n",
    "def generate_general_series_drilldown_series(dataframe_year_by, general_series_name):\n",
    "    general_series = [\n",
    "        \n",
    "        {\n",
    "            'name': general_series_name,\n",
    "            'colorByPoint': True,\n",
    "            'data': [],\n",
    "        }\n",
    "    ]\n",
    "    drilldown_series = []\n",
    "\n",
    "    for year, year_frame in dataframe_year_by:\n",
    "        year = str(year)\n",
    "        # year, year_frame.shape\n",
    "        temporary_dict_general = {'name': year, 'y': year_frame.shape[0], 'drilldown': year}\n",
    "        general_series[0]['data'].append(temporary_dict_general)\n",
    "        temporary_dict_drilldown = {\n",
    "            'name': year,\n",
    "            'id': year,\n",
    "            'data': [],\n",
    "        }\n",
    "        month_group_by = year_frame.groupby('month')\n",
    "        for month, month_frame in month_group_by:\n",
    "          \n",
    "            # mg, mf.shape[0]\n",
    "            month = str(month)\n",
    "            month = month_map[month]\n",
    "\n",
    "            lst = [month, month_frame.shape[0]]\n",
    "            temporary_dict_drilldown['data'].append(lst)\n",
    "        drilldown_series.append(temporary_dict_drilldown)\n",
    "    return general_series, drilldown_series\n",
    "\n",
    "general_series, drilldown_series = generate_general_series_drilldown_series(offices_year_by, 'offices')\n"
   ]
  },
  {
   "cell_type": "code",
   "execution_count": 17,
   "id": "83cbcf7f-d09e-4805-b450-5f37967536fd",
   "metadata": {},
   "outputs": [
    {
     "data": {
      "text/plain": [
       "[{'name': 'offices',\n",
       "  'colorByPoint': True,\n",
       "  'data': [{'name': '2015', 'y': 41, 'drilldown': '2015'},\n",
       "   {'name': '2016', 'y': 2922, 'drilldown': '2016'},\n",
       "   {'name': '2017', 'y': 3227, 'drilldown': '2017'},\n",
       "   {'name': '2018', 'y': 2379, 'drilldown': '2018'},\n",
       "   {'name': '2019', 'y': 3821, 'drilldown': '2019'},\n",
       "   {'name': '2020', 'y': 4030, 'drilldown': '2020'},\n",
       "   {'name': '2021', 'y': 509, 'drilldown': '2021'}]}]"
      ]
     },
     "execution_count": 17,
     "metadata": {},
     "output_type": "execute_result"
    },
    {
     "data": {
      "text/plain": [
       "[{'name': '2015',\n",
       "  'id': '2015',\n",
       "  'data': [['October', 17], ['November', 2], ['December', 16], ['August', 6]]},\n",
       " {'name': '2016',\n",
       "  'id': '2016',\n",
       "  'data': [['January', 3],\n",
       "   ['October', 581],\n",
       "   ['November', 85],\n",
       "   ['December', 190],\n",
       "   ['February', 3],\n",
       "   ['March', 28],\n",
       "   ['April', 12],\n",
       "   ['May', 129],\n",
       "   ['June', 248],\n",
       "   ['July', 1383],\n",
       "   ['August', 151],\n",
       "   ['September', 109]]},\n",
       " {'name': '2017',\n",
       "  'id': '2017',\n",
       "  'data': [['January', 205],\n",
       "   ['October', 118],\n",
       "   ['November', 314],\n",
       "   ['December', 115],\n",
       "   ['February', 594],\n",
       "   ['March', 298],\n",
       "   ['April', 147],\n",
       "   ['May', 575],\n",
       "   ['June', 306],\n",
       "   ['July', 186],\n",
       "   ['August', 223],\n",
       "   ['September', 146]]},\n",
       " {'name': '2018',\n",
       "  'id': '2018',\n",
       "  'data': [['January', 328],\n",
       "   ['October', 108],\n",
       "   ['November', 94],\n",
       "   ['December', 132],\n",
       "   ['February', 213],\n",
       "   ['March', 207],\n",
       "   ['April', 324],\n",
       "   ['May', 306],\n",
       "   ['June', 169],\n",
       "   ['July', 359],\n",
       "   ['August', 108],\n",
       "   ['September', 31]]},\n",
       " {'name': '2019',\n",
       "  'id': '2019',\n",
       "  'data': [['January', 131],\n",
       "   ['October', 428],\n",
       "   ['November', 491],\n",
       "   ['December', 759],\n",
       "   ['February', 196],\n",
       "   ['March', 127],\n",
       "   ['April', 122],\n",
       "   ['May', 158],\n",
       "   ['June', 283],\n",
       "   ['July', 256],\n",
       "   ['August', 111],\n",
       "   ['September', 759]]},\n",
       " {'name': '2020',\n",
       "  'id': '2020',\n",
       "  'data': [['January', 584],\n",
       "   ['October', 433],\n",
       "   ['November', 78],\n",
       "   ['December', 67],\n",
       "   ['February', 965],\n",
       "   ['March', 930],\n",
       "   ['April', 6],\n",
       "   ['May', 38],\n",
       "   ['June', 446],\n",
       "   ['July', 160],\n",
       "   ['August', 200],\n",
       "   ['September', 123]]},\n",
       " {'name': '2021',\n",
       "  'id': '2021',\n",
       "  'data': [['January', 65],\n",
       "   ['October', 30],\n",
       "   ['February', 66],\n",
       "   ['March', 254],\n",
       "   ['April', 43],\n",
       "   ['May', 8],\n",
       "   ['June', 18],\n",
       "   ['July', 1],\n",
       "   ['August', 9],\n",
       "   ['September', 15]]}]"
      ]
     },
     "execution_count": 17,
     "metadata": {},
     "output_type": "execute_result"
    }
   ],
   "source": [
    "general_series\n",
    "drilldown_series"
   ]
  }
 ],
 "metadata": {
  "kernelspec": {
   "display_name": "Python 3 (ipykernel)",
   "language": "python",
   "name": "python3"
  },
  "language_info": {
   "codemirror_mode": {
    "name": "ipython",
    "version": 3
   },
   "file_extension": ".py",
   "mimetype": "text/x-python",
   "name": "python",
   "nbconvert_exporter": "python",
   "pygments_lexer": "ipython3",
   "version": "3.8.10"
  }
 },
 "nbformat": 4,
 "nbformat_minor": 5
}
