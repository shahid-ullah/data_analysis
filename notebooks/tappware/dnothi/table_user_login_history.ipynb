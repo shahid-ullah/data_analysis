{
 "cells": [
  {
   "cell_type": "code",
   "execution_count": 1,
   "id": "85eba0a6-0dd2-4c0a-a28b-c30f3fa804e9",
   "metadata": {},
   "outputs": [],
   "source": [
    "# import necessary library\n",
    "from IPython.core.interactiveshell import InteractiveShell\n",
    "InteractiveShell.ast_node_interactivity = \"all\"\n",
    "\n",
    "import pandas as pd\n",
    "import numpy as np\n",
    "import seaborn as sns\n",
    "import matplotlib.pyplot as plt\n",
    "pd.set_option('display.max_columns', None)"
   ]
  },
  {
   "cell_type": "code",
   "execution_count": 2,
   "id": "4ecda85a-16d1-4baf-a06c-6ea5cd7376a8",
   "metadata": {},
   "outputs": [],
   "source": [
    "def load_dataframe(path=None, nrows=100000):\n",
    "    if not path:\n",
    "        path = '~/data_analysis/data/tappware/dnothi/user_login_history.csv'\n",
    "    return pd.read_csv(path, nrows=nrows)\n"
   ]
  },
  {
   "cell_type": "code",
   "execution_count": 3,
   "id": "2a473a62-88cb-4547-9780-d0d012cbfae4",
   "metadata": {},
   "outputs": [
    {
     "data": {
      "text/plain": [
       "(4870908, 29)"
      ]
     },
     "execution_count": 3,
     "metadata": {},
     "output_type": "execute_result"
    }
   ],
   "source": [
    "df = load_dataframe(nrows=None)\n",
    "df.shape"
   ]
  },
  {
   "cell_type": "code",
   "execution_count": 4,
   "id": "6b76104a-e500-4e41-bcbe-6f3ca40c68ae",
   "metadata": {},
   "outputs": [
    {
     "data": {
      "text/html": [
       "<div>\n",
       "<style scoped>\n",
       "    .dataframe tbody tr th:only-of-type {\n",
       "        vertical-align: middle;\n",
       "    }\n",
       "\n",
       "    .dataframe tbody tr th {\n",
       "        vertical-align: top;\n",
       "    }\n",
       "\n",
       "    .dataframe thead th {\n",
       "        text-align: right;\n",
       "    }\n",
       "</style>\n",
       "<table border=\"1\" class=\"dataframe\">\n",
       "  <thead>\n",
       "    <tr style=\"text-align: right;\">\n",
       "      <th></th>\n",
       "      <th>id</th>\n",
       "      <th>is_mobile</th>\n",
       "      <th>client_ip</th>\n",
       "      <th>device_name</th>\n",
       "      <th>browser_name</th>\n",
       "      <th>employee_record_id</th>\n",
       "      <th>ministry_id</th>\n",
       "      <th>layer_id</th>\n",
       "      <th>origin_id</th>\n",
       "      <th>office_id</th>\n",
       "      <th>office_unit_id</th>\n",
       "      <th>office_unit_organogram</th>\n",
       "      <th>office_name</th>\n",
       "      <th>unit_name</th>\n",
       "      <th>organogram_name</th>\n",
       "      <th>user_id</th>\n",
       "      <th>employee_name</th>\n",
       "      <th>mobile_number</th>\n",
       "      <th>employee_email</th>\n",
       "      <th>login_time</th>\n",
       "      <th>logout_time</th>\n",
       "      <th>network_information</th>\n",
       "      <th>created</th>\n",
       "      <th>modified</th>\n",
       "      <th>created_by</th>\n",
       "      <th>modified_by</th>\n",
       "      <th>token</th>\n",
       "      <th>device_type</th>\n",
       "      <th>device_id</th>\n",
       "    </tr>\n",
       "  </thead>\n",
       "  <tbody>\n",
       "    <tr>\n",
       "      <th>0</th>\n",
       "      <td>2</td>\n",
       "      <td>1</td>\n",
       "      <td>192.168.2.1</td>\n",
       "      <td>NaN</td>\n",
       "      <td>android</td>\n",
       "      <td>314312</td>\n",
       "      <td>37</td>\n",
       "      <td>202</td>\n",
       "      <td>468</td>\n",
       "      <td>6175</td>\n",
       "      <td>25288</td>\n",
       "      <td>147058</td>\n",
       "      <td>বাংলাদেশ মাদ্রাসা শিক্ষা বোর্ড</td>\n",
       "      <td>পরিদর্শন শাখা</td>\n",
       "      <td>উপ পরিদর্শক</td>\n",
       "      <td>182693</td>\n",
       "      <td>মোহাম্মদ আবুল কাশেম সরদার</td>\n",
       "      <td>01718014128</td>\n",
       "      <td>maksardar@gmail.com</td>\n",
       "      <td>2021-09-02 08:31:37</td>\n",
       "      <td>NaN</td>\n",
       "      <td>{\"ClientIp\":\"192.168.2.1\",\"UserAgent\":\"ASUS\",\"...</td>\n",
       "      <td>2021-09-02 08:31:37</td>\n",
       "      <td>2021-09-02 08:31:37</td>\n",
       "      <td>NaN</td>\n",
       "      <td>NaN</td>\n",
       "      <td>eyJ0eXAiOiJKV1QiLCJhbGciOiJIUzI1NiJ9.eyJpYXQiO...</td>\n",
       "      <td>android</td>\n",
       "      <td>39083043</td>\n",
       "    </tr>\n",
       "    <tr>\n",
       "      <th>1</th>\n",
       "      <td>4</td>\n",
       "      <td>1</td>\n",
       "      <td>192.168.2.1</td>\n",
       "      <td>NaN</td>\n",
       "      <td>android</td>\n",
       "      <td>183969</td>\n",
       "      <td>27</td>\n",
       "      <td>228</td>\n",
       "      <td>456</td>\n",
       "      <td>5983</td>\n",
       "      <td>22275</td>\n",
       "      <td>128957</td>\n",
       "      <td>জালালাবাদ গ্যাস ট্রান্সমিসন এ্যান্ড ডিস্ট্রিবি...</td>\n",
       "      <td>পার্সোনেল, প্রশাসন শাখা</td>\n",
       "      <td>ব্যবস্থাপক</td>\n",
       "      <td>45925</td>\n",
       "      <td>মোহাম্মদ বেলায়েত হোসাইন</td>\n",
       "      <td>০১৮১৯-৯৫৬২৭২</td>\n",
       "      <td>Balayettaj@gmail.com</td>\n",
       "      <td>2021-09-02 08:31:37</td>\n",
       "      <td>NaN</td>\n",
       "      <td>{\"ClientIp\":\"192.168.2.1\",\"UserAgent\":\"ASUS\",\"...</td>\n",
       "      <td>2021-09-02 08:31:37</td>\n",
       "      <td>2021-09-02 08:31:37</td>\n",
       "      <td>NaN</td>\n",
       "      <td>NaN</td>\n",
       "      <td>eyJ0eXAiOiJKV1QiLCJhbGciOiJIUzI1NiJ9.eyJpYXQiO...</td>\n",
       "      <td>android</td>\n",
       "      <td>39083043</td>\n",
       "    </tr>\n",
       "    <tr>\n",
       "      <th>2</th>\n",
       "      <td>6</td>\n",
       "      <td>1</td>\n",
       "      <td>192.168.2.1</td>\n",
       "      <td>NaN</td>\n",
       "      <td>android</td>\n",
       "      <td>77697</td>\n",
       "      <td>12</td>\n",
       "      <td>78</td>\n",
       "      <td>84</td>\n",
       "      <td>98</td>\n",
       "      <td>5066</td>\n",
       "      <td>12460</td>\n",
       "      <td>কৃষি মন্ত্রণালয়</td>\n",
       "      <td>বীজ অনুবিভাগ</td>\n",
       "      <td>মহাপরিচালক</td>\n",
       "      <td>3762</td>\n",
       "      <td>বলাই কৃষ্ণ হাজরা</td>\n",
       "      <td>01753504444</td>\n",
       "      <td>hkbalai99@gmail.com</td>\n",
       "      <td>2021-09-02 08:30:56</td>\n",
       "      <td>NaN</td>\n",
       "      <td>{\"ClientIp\":\"192.168.2.1\",\"UserAgent\":\"ASUS\",\"...</td>\n",
       "      <td>2021-09-02 08:30:56</td>\n",
       "      <td>2021-09-02 08:30:56</td>\n",
       "      <td>NaN</td>\n",
       "      <td>NaN</td>\n",
       "      <td>eyJ0eXAiOiJKV1QiLCJhbGciOiJIUzI1NiJ9.eyJpYXQiO...</td>\n",
       "      <td>android</td>\n",
       "      <td>39083043</td>\n",
       "    </tr>\n",
       "    <tr>\n",
       "      <th>3</th>\n",
       "      <td>10</td>\n",
       "      <td>0</td>\n",
       "      <td>NaN</td>\n",
       "      <td>windows</td>\n",
       "      <td>Google Chrome</td>\n",
       "      <td>104730</td>\n",
       "      <td>7</td>\n",
       "      <td>326</td>\n",
       "      <td>280</td>\n",
       "      <td>3069</td>\n",
       "      <td>15539</td>\n",
       "      <td>81439</td>\n",
       "      <td>সাধারণ বীমা কর্পোরেশন</td>\n",
       "      <td>ডিজিএম (পুনঃবীমা)-এর দপ্তর</td>\n",
       "      <td>ডেপুটি জেনারেল ম্যানেজার</td>\n",
       "      <td>30321</td>\n",
       "      <td>মোঃ জাকির হোসেন</td>\n",
       "      <td>01819103380</td>\n",
       "      <td>jakirhossainsbc@yahoo.com</td>\n",
       "      <td>2021-09-02 08:27:47</td>\n",
       "      <td>NaN</td>\n",
       "      <td>{\"ClientIp\":\"\",\"UserAgent\":\"Mozilla\\/5.0 (Wind...</td>\n",
       "      <td>2021-09-02 08:27:47</td>\n",
       "      <td>2021-09-02 08:27:47</td>\n",
       "      <td>NaN</td>\n",
       "      <td>NaN</td>\n",
       "      <td>NaN</td>\n",
       "      <td>Google Chrome - 92.0.4515.159 - windows</td>\n",
       "      <td>NaN</td>\n",
       "    </tr>\n",
       "    <tr>\n",
       "      <th>4</th>\n",
       "      <td>14</td>\n",
       "      <td>1</td>\n",
       "      <td>192.168.2.1</td>\n",
       "      <td>NaN</td>\n",
       "      <td>android</td>\n",
       "      <td>205981</td>\n",
       "      <td>27</td>\n",
       "      <td>228</td>\n",
       "      <td>564</td>\n",
       "      <td>7330</td>\n",
       "      <td>31514</td>\n",
       "      <td>187826</td>\n",
       "      <td>তিতাস গ্যাস ট্রান্সমিসন এ্যান্ড ডিস্ট্রিবিউশন ...</td>\n",
       "      <td>যানবাহন রক্ষণাবেক্ষণ শাখা</td>\n",
       "      <td>ব্যবস্থাপক</td>\n",
       "      <td>68701</td>\n",
       "      <td>মোহাম্মদ আবু বকর</td>\n",
       "      <td>01952277344</td>\n",
       "      <td>mdfaruq1060006@gmail.com</td>\n",
       "      <td>2021-09-02 08:31:39</td>\n",
       "      <td>NaN</td>\n",
       "      <td>{\"ClientIp\":\"192.168.2.1\",\"UserAgent\":\"ASUS\",\"...</td>\n",
       "      <td>2021-09-02 08:31:39</td>\n",
       "      <td>2021-09-02 08:31:39</td>\n",
       "      <td>NaN</td>\n",
       "      <td>NaN</td>\n",
       "      <td>eyJ0eXAiOiJKV1QiLCJhbGciOiJIUzI1NiJ9.eyJpYXQiO...</td>\n",
       "      <td>android</td>\n",
       "      <td>39083043</td>\n",
       "    </tr>\n",
       "  </tbody>\n",
       "</table>\n",
       "</div>"
      ],
      "text/plain": [
       "   id  is_mobile    client_ip device_name   browser_name  employee_record_id  \\\n",
       "0   2          1  192.168.2.1         NaN        android              314312   \n",
       "1   4          1  192.168.2.1         NaN        android              183969   \n",
       "2   6          1  192.168.2.1         NaN        android               77697   \n",
       "3  10          0          NaN     windows  Google Chrome              104730   \n",
       "4  14          1  192.168.2.1         NaN        android              205981   \n",
       "\n",
       "   ministry_id  layer_id  origin_id  office_id  office_unit_id  \\\n",
       "0           37       202        468       6175           25288   \n",
       "1           27       228        456       5983           22275   \n",
       "2           12        78         84         98            5066   \n",
       "3            7       326        280       3069           15539   \n",
       "4           27       228        564       7330           31514   \n",
       "\n",
       "   office_unit_organogram                                        office_name  \\\n",
       "0                  147058                    বাংলাদেশ মাদ্রাসা শিক্ষা বোর্ড    \n",
       "1                  128957  জালালাবাদ গ্যাস ট্রান্সমিসন এ্যান্ড ডিস্ট্রিবি...   \n",
       "2                   12460                                    কৃষি মন্ত্রণালয়   \n",
       "3                   81439                              সাধারণ বীমা কর্পোরেশন   \n",
       "4                  187826  তিতাস গ্যাস ট্রান্সমিসন এ্যান্ড ডিস্ট্রিবিউশন ...   \n",
       "\n",
       "                    unit_name           organogram_name  user_id  \\\n",
       "0               পরিদর্শন শাখা               উপ পরিদর্শক   182693   \n",
       "1     পার্সোনেল, প্রশাসন শাখা                ব্যবস্থাপক    45925   \n",
       "2                বীজ অনুবিভাগ                মহাপরিচালক     3762   \n",
       "3  ডিজিএম (পুনঃবীমা)-এর দপ্তর  ডেপুটি জেনারেল ম্যানেজার    30321   \n",
       "4   যানবাহন রক্ষণাবেক্ষণ শাখা                ব্যবস্থাপক    68701   \n",
       "\n",
       "               employee_name mobile_number             employee_email  \\\n",
       "0  মোহাম্মদ আবুল কাশেম সরদার   01718014128        maksardar@gmail.com   \n",
       "1    মোহাম্মদ বেলায়েত হোসাইন  ০১৮১৯-৯৫৬২৭২       Balayettaj@gmail.com   \n",
       "2           বলাই কৃষ্ণ হাজরা   01753504444        hkbalai99@gmail.com   \n",
       "3          মোঃ জাকির হোসেন   01819103380  jakirhossainsbc@yahoo.com   \n",
       "4           মোহাম্মদ আবু বকর   01952277344   mdfaruq1060006@gmail.com   \n",
       "\n",
       "            login_time  logout_time  \\\n",
       "0  2021-09-02 08:31:37          NaN   \n",
       "1  2021-09-02 08:31:37          NaN   \n",
       "2  2021-09-02 08:30:56          NaN   \n",
       "3  2021-09-02 08:27:47          NaN   \n",
       "4  2021-09-02 08:31:39          NaN   \n",
       "\n",
       "                                 network_information              created  \\\n",
       "0  {\"ClientIp\":\"192.168.2.1\",\"UserAgent\":\"ASUS\",\"...  2021-09-02 08:31:37   \n",
       "1  {\"ClientIp\":\"192.168.2.1\",\"UserAgent\":\"ASUS\",\"...  2021-09-02 08:31:37   \n",
       "2  {\"ClientIp\":\"192.168.2.1\",\"UserAgent\":\"ASUS\",\"...  2021-09-02 08:30:56   \n",
       "3  {\"ClientIp\":\"\",\"UserAgent\":\"Mozilla\\/5.0 (Wind...  2021-09-02 08:27:47   \n",
       "4  {\"ClientIp\":\"192.168.2.1\",\"UserAgent\":\"ASUS\",\"...  2021-09-02 08:31:39   \n",
       "\n",
       "              modified  created_by  modified_by  \\\n",
       "0  2021-09-02 08:31:37         NaN          NaN   \n",
       "1  2021-09-02 08:31:37         NaN          NaN   \n",
       "2  2021-09-02 08:30:56         NaN          NaN   \n",
       "3  2021-09-02 08:27:47         NaN          NaN   \n",
       "4  2021-09-02 08:31:39         NaN          NaN   \n",
       "\n",
       "                                               token  \\\n",
       "0  eyJ0eXAiOiJKV1QiLCJhbGciOiJIUzI1NiJ9.eyJpYXQiO...   \n",
       "1  eyJ0eXAiOiJKV1QiLCJhbGciOiJIUzI1NiJ9.eyJpYXQiO...   \n",
       "2  eyJ0eXAiOiJKV1QiLCJhbGciOiJIUzI1NiJ9.eyJpYXQiO...   \n",
       "3                                                NaN   \n",
       "4  eyJ0eXAiOiJKV1QiLCJhbGciOiJIUzI1NiJ9.eyJpYXQiO...   \n",
       "\n",
       "                               device_type device_id  \n",
       "0                                  android  39083043  \n",
       "1                                  android  39083043  \n",
       "2                                  android  39083043  \n",
       "3  Google Chrome - 92.0.4515.159 - windows       NaN  \n",
       "4                                  android  39083043  "
      ]
     },
     "execution_count": 4,
     "metadata": {},
     "output_type": "execute_result"
    }
   ],
   "source": [
    "df.head(5)"
   ]
  },
  {
   "cell_type": "code",
   "execution_count": 5,
   "id": "faacc04e-6439-45bc-8dba-22970199e71b",
   "metadata": {},
   "outputs": [
    {
     "name": "stdout",
     "output_type": "stream",
     "text": [
      "<class 'pandas.core.frame.DataFrame'>\n",
      "RangeIndex: 4870908 entries, 0 to 4870907\n",
      "Data columns (total 29 columns):\n",
      " #   Column                  Dtype  \n",
      "---  ------                  -----  \n",
      " 0   id                      int64  \n",
      " 1   is_mobile               int64  \n",
      " 2   client_ip               object \n",
      " 3   device_name             object \n",
      " 4   browser_name            object \n",
      " 5   employee_record_id      int64  \n",
      " 6   ministry_id             int64  \n",
      " 7   layer_id                int64  \n",
      " 8   origin_id               int64  \n",
      " 9   office_id               int64  \n",
      " 10  office_unit_id          int64  \n",
      " 11  office_unit_organogram  int64  \n",
      " 12  office_name             object \n",
      " 13  unit_name               object \n",
      " 14  organogram_name         object \n",
      " 15  user_id                 int64  \n",
      " 16  employee_name           object \n",
      " 17  mobile_number           object \n",
      " 18  employee_email          object \n",
      " 19  login_time              object \n",
      " 20  logout_time             float64\n",
      " 21  network_information     object \n",
      " 22  created                 object \n",
      " 23  modified                object \n",
      " 24  created_by              float64\n",
      " 25  modified_by             float64\n",
      " 26  token                   object \n",
      " 27  device_type             object \n",
      " 28  device_id               object \n",
      "dtypes: float64(3), int64(10), object(16)\n",
      "memory usage: 8.8 GB\n"
     ]
    }
   ],
   "source": [
    "df.info(memory_usage='deep')"
   ]
  },
  {
   "cell_type": "code",
   "execution_count": 134,
   "id": "fb1ed1db-623f-4f7a-b3eb-58e74872ef70",
   "metadata": {},
   "outputs": [
    {
     "data": {
      "text/plain": [
       "Index(['id', 'is_mobile', 'client_ip', 'device_name', 'browser_name',\n",
       "       'employee_record_id', 'ministry_id', 'layer_id', 'origin_id',\n",
       "       'office_id', 'office_unit_id', 'office_unit_organogram', 'office_name',\n",
       "       'unit_name', 'organogram_name', 'user_id', 'employee_name',\n",
       "       'mobile_number', 'employee_email', 'login_time', 'logout_time',\n",
       "       'network_information', 'created', 'modified', 'created_by',\n",
       "       'modified_by', 'token', 'device_type', 'device_id'],\n",
       "      dtype='object')"
      ]
     },
     "execution_count": 134,
     "metadata": {},
     "output_type": "execute_result"
    }
   ],
   "source": [
    "df.columns"
   ]
  },
  {
   "cell_type": "markdown",
   "id": "882def65-44e7-4d11-b8c1-c8d157cc2781",
   "metadata": {},
   "source": [
    "## Exploring data/columns/attributes\n"
   ]
  },
  {
   "cell_type": "code",
   "execution_count": 6,
   "id": "347e2d23-92fb-41a4-b51a-c5b664f51252",
   "metadata": {},
   "outputs": [
    {
     "data": {
      "text/plain": [
       "2"
      ]
     },
     "execution_count": 6,
     "metadata": {},
     "output_type": "execute_result"
    },
    {
     "data": {
      "text/plain": [
       "39083043    1718218\n",
       "api          108914\n",
       "Name: device_id, dtype: int64"
      ]
     },
     "execution_count": 6,
     "metadata": {},
     "output_type": "execute_result"
    }
   ],
   "source": [
    "column = 'is_mobile' # binary variable\n",
    "column = 'client_ip' # categorical variable\n",
    "column = 'device_name' # categorical variable\n",
    "column = 'browser_name' # categorical variable\n",
    "column = 'employee_record_id' # numerical variable\n",
    "column = 'employee_record_id' # numerical variable\n",
    "column = 'ministry_id' # categorical variable\n",
    "column = 'layer_id' # categorical variable\n",
    "column = 'origin_id' # categorical variable\n",
    "column = 'office_id' # categorical variable\n",
    "column = 'office_unit_id' # categorical variable\n",
    "column = 'office_unit_organogram' # categorical variable\n",
    "column = 'unit_name' # categorical variable\n",
    "column = 'user_id' # categorical variable\n",
    "column = 'employee_name' # categorical variable\n",
    "column = 'employee_email' # categorical variable\n",
    "column = 'login_time' # datetime variable\n",
    "column = 'network_information' # categorical variable\n",
    "column = 'device_type' # categorical variable\n",
    "column = 'device_id' # categorical variable\n",
    "df[column].nunique()\n",
    "df[column].value_counts()\n",
    "# df[column].values[:100]"
   ]
  },
  {
   "cell_type": "markdown",
   "id": "cc666ca2-e9d7-40c1-8d98-34825daf5f0d",
   "metadata": {},
   "source": [
    "### General Insights OR General suggestions/questions we can answer:\n",
    "\n",
    "- বেশি ব্যবহত ব্রাউজার।\n",
    "- নথি ব্যবহারকারীরা কোন মোবাইল অপারেটর থেকে বেশি লগইন করছেন? তাদের অনুপাত কেমন?\n",
    "- দিনের কখন ভিজিট বেশি হচ্ছে?\n",
    "- লগইন ব্যবহারকারীদের মধ্যে উইন্ডোজ ব্যবহারকারী কত পার্সেন্ট।\n",
    "- Android ও IOS লগইন।\n",
    "- সবচেয়ে বেশি লগইনকৃত ১ম ১০টি অফিস।\n",
    "\n",
    "### Business Insights OR Questions/suggestions we can explore:\n",
    "- ব্রাউজার স্টাটিসটিকস,  যারা ক্রোম ব্যবহার করেন না, তাদের ক্রোম বাউজার ব্যবহার করার জন্য সাজেশান্স দেওয়া।\n",
    "- ব্যবহারকারীর লগইন টাইম , লোড টাইম দেখে সার্ভারগুলো ওইভাবে প্রস্তুত করা/সাজানো।\n",
    "অফিস লগইন  স্টাটিসটিকস, বেশি ব্যবহারকারী অফিস গুলোর জন্য ডেডিকেটেট সার্ভার এর ব্যবস্থা করা যেতে পারে। "
   ]
  },
  {
   "cell_type": "markdown",
   "id": "8cde80f3-e066-4834-888e-554ac856c791",
   "metadata": {},
   "source": [
    "## statistics on browser uses / Browsers usage summary"
   ]
  },
  {
   "cell_type": "code",
   "execution_count": 7,
   "id": "02767e2f-4c7c-4aab-aecb-2eda8cf240df",
   "metadata": {},
   "outputs": [
    {
     "data": {
      "text/html": [
       "<div>\n",
       "<style scoped>\n",
       "    .dataframe tbody tr th:only-of-type {\n",
       "        vertical-align: middle;\n",
       "    }\n",
       "\n",
       "    .dataframe tbody tr th {\n",
       "        vertical-align: top;\n",
       "    }\n",
       "\n",
       "    .dataframe thead th {\n",
       "        text-align: right;\n",
       "    }\n",
       "</style>\n",
       "<table border=\"1\" class=\"dataframe\">\n",
       "  <thead>\n",
       "    <tr style=\"text-align: right;\">\n",
       "      <th></th>\n",
       "      <th>browser_name</th>\n",
       "      <th>login_counts</th>\n",
       "    </tr>\n",
       "  </thead>\n",
       "  <tbody>\n",
       "    <tr>\n",
       "      <th>0</th>\n",
       "      <td>Apple Safari</td>\n",
       "      <td>10286</td>\n",
       "    </tr>\n",
       "    <tr>\n",
       "      <th>1</th>\n",
       "      <td>Google Chrome</td>\n",
       "      <td>2968317</td>\n",
       "    </tr>\n",
       "    <tr>\n",
       "      <th>2</th>\n",
       "      <td>Internet Explorer</td>\n",
       "      <td>401</td>\n",
       "    </tr>\n",
       "    <tr>\n",
       "      <th>3</th>\n",
       "      <td>Mozilla Firefox</td>\n",
       "      <td>64533</td>\n",
       "    </tr>\n",
       "    <tr>\n",
       "      <th>4</th>\n",
       "      <td>Opera</td>\n",
       "      <td>2</td>\n",
       "    </tr>\n",
       "    <tr>\n",
       "      <th>5</th>\n",
       "      <td>Unknown</td>\n",
       "      <td>119</td>\n",
       "    </tr>\n",
       "    <tr>\n",
       "      <th>6</th>\n",
       "      <td>android</td>\n",
       "      <td>1718218</td>\n",
       "    </tr>\n",
       "  </tbody>\n",
       "</table>\n",
       "</div>"
      ],
      "text/plain": [
       "        browser_name  login_counts\n",
       "0       Apple Safari         10286\n",
       "1      Google Chrome       2968317\n",
       "2  Internet Explorer           401\n",
       "3    Mozilla Firefox         64533\n",
       "4              Opera             2\n",
       "5            Unknown           119\n",
       "6            android       1718218"
      ]
     },
     "execution_count": 7,
     "metadata": {},
     "output_type": "execute_result"
    },
    {
     "data": {
      "text/plain": [
       "Google Chrome        62.3%\n",
       "android              36.1%\n",
       "Mozilla Firefox       1.4%\n",
       "Apple Safari          0.2%\n",
       "Internet Explorer     0.0%\n",
       "Unknown               0.0%\n",
       "Opera                 0.0%\n",
       "Name: browser_name, dtype: object"
      ]
     },
     "execution_count": 7,
     "metadata": {},
     "output_type": "execute_result"
    }
   ],
   "source": [
    "df_browser = df.groupby('browser_name').size().reset_index(name='login_counts')\n",
    "df_browser[['browser_name', 'login_counts']]\n",
    "# browser_map\n",
    "df['browser_name'].value_counts(normalize=True).mul(100).round(1).astype(str) + '%'"
   ]
  },
  {
   "cell_type": "code",
   "execution_count": 10,
   "id": "8beaca3c-d044-467c-9b02-77d352a2cf98",
   "metadata": {},
   "outputs": [
    {
     "data": {
      "text/plain": [
       "[None,\n",
       " None,\n",
       " None,\n",
       " None,\n",
       " None,\n",
       " None,\n",
       " None,\n",
       " None,\n",
       " None,\n",
       " None,\n",
       " None,\n",
       " None,\n",
       " None,\n",
       " None]"
      ]
     },
     "execution_count": 10,
     "metadata": {},
     "output_type": "execute_result"
    },
    {
     "data": {
      "text/plain": [
       "Text(0.5, 1.0, 'Browser statistics')"
      ]
     },
     "execution_count": 10,
     "metadata": {},
     "output_type": "execute_result"
    },
    {
     "data": {
      "image/png": "[encoded data removed]",
      "text/plain": [
       "<Figure size 1120x560 with 1 Axes>"
      ]
     },
     "metadata": {},
     "output_type": "display_data"
    }
   ],
   "source": [
    "# cols = ['device_name', 'browser_name', 'device_type']\n",
    "# browser_map = df.browser_name.value_counts()\n",
    "# # df_browser =\n",
    "df_browser = df.groupby('browser_name').size().reset_index(name='counts')\n",
    "\n",
    "\n",
    "# data = browser_map.values\n",
    "# labels = browser_map.index\n",
    "explode = [0, 0, 0, 0, 0]\n",
    "\n",
    "fig, ax = plt.subplots(figsize=(14, 7), subplot_kw=dict(aspect=\"equal\"), dpi= 80)\n",
    "\n",
    "# Define searborn color palette to use\n",
    "colors = sns.color_palette('bright')[0:5]\n",
    "# colors = sns.color_palette('pastel')[0:5]\n",
    "wedges, texts, autotexts = ax.pie(df_browser['counts'], \n",
    "                                  autopct='%.0f%%',\n",
    "                                  textprops=dict(color=\"w\"), \n",
    "                                  # colors=plt.cm.Dark2.colors,\n",
    "                                  startangle=90,\n",
    "                                 )\n",
    "\n",
    "_ = ax.legend(wedges, df_browser['browser_name'], title=\"Browser\", loc=\"center left\", bbox_to_anchor=(1, 0, 0.5, 1))\n",
    "\n",
    "\n",
    "plt.setp(autotexts, size=10, weight=700)\n",
    "ax.set_title(\"Browser statistics\")\n",
    "# plt.tight_layout()\n",
    "\n",
    "plt.show()"
   ]
  },
  {
   "cell_type": "markdown",
   "id": "d033b96d-0256-4668-aa04-db287e2f04b5",
   "metadata": {},
   "source": [
    "# Exploring device statistics (windows, mac, linux, android users)\n",
    "attribute: device_name\n"
   ]
  },
  {
   "cell_type": "code",
   "execution_count": 11,
   "id": "a98b5fc4-9369-42e6-b089-ba9c4d99e5a1",
   "metadata": {},
   "outputs": [
    {
     "data": {
      "text/html": [
       "<div>\n",
       "<style scoped>\n",
       "    .dataframe tbody tr th:only-of-type {\n",
       "        vertical-align: middle;\n",
       "    }\n",
       "\n",
       "    .dataframe tbody tr th {\n",
       "        vertical-align: top;\n",
       "    }\n",
       "\n",
       "    .dataframe thead th {\n",
       "        text-align: right;\n",
       "    }\n",
       "</style>\n",
       "<table border=\"1\" class=\"dataframe\">\n",
       "  <thead>\n",
       "    <tr style=\"text-align: right;\">\n",
       "      <th></th>\n",
       "      <th>device_name</th>\n",
       "      <th>login_counts</th>\n",
       "    </tr>\n",
       "  </thead>\n",
       "  <tbody>\n",
       "    <tr>\n",
       "      <th>0</th>\n",
       "      <td>Unknown</td>\n",
       "      <td>309</td>\n",
       "    </tr>\n",
       "    <tr>\n",
       "      <th>1</th>\n",
       "      <td>android</td>\n",
       "      <td>3420</td>\n",
       "    </tr>\n",
       "    <tr>\n",
       "      <th>2</th>\n",
       "      <td>linux</td>\n",
       "      <td>132898</td>\n",
       "    </tr>\n",
       "    <tr>\n",
       "      <th>3</th>\n",
       "      <td>mac os</td>\n",
       "      <td>17321</td>\n",
       "    </tr>\n",
       "    <tr>\n",
       "      <th>4</th>\n",
       "      <td>windows</td>\n",
       "      <td>2893130</td>\n",
       "    </tr>\n",
       "  </tbody>\n",
       "</table>\n",
       "</div>"
      ],
      "text/plain": [
       "  device_name  login_counts\n",
       "0     Unknown           309\n",
       "1     android          3420\n",
       "2       linux        132898\n",
       "3      mac os         17321\n",
       "4     windows       2893130"
      ]
     },
     "execution_count": 11,
     "metadata": {},
     "output_type": "execute_result"
    },
    {
     "data": {
      "text/plain": [
       "windows    94.9%\n",
       "linux       4.4%\n",
       "mac os      0.6%\n",
       "android     0.1%\n",
       "Unknown     0.0%\n",
       "Name: device_name, dtype: object"
      ]
     },
     "execution_count": 11,
     "metadata": {},
     "output_type": "execute_result"
    }
   ],
   "source": [
    "df_device = df.groupby('device_name').size().reset_index(name='login_counts')\n",
    "df_device[['device_name', 'login_counts']]\n",
    "# browser_map\n",
    "df['device_name'].value_counts(normalize=True).mul(100).round(1).astype(str) + '%'"
   ]
  },
  {
   "cell_type": "code",
   "execution_count": 12,
   "id": "5a647622-fe2c-4e4c-8bc1-1eff51344d35",
   "metadata": {},
   "outputs": [
    {
     "data": {
      "text/plain": [
       "<matplotlib.legend.Legend at 0x7f6df543c2b0>"
      ]
     },
     "execution_count": 12,
     "metadata": {},
     "output_type": "execute_result"
    },
    {
     "data": {
      "text/plain": [
       "[None, None, None, None, None, None, None, None, None, None]"
      ]
     },
     "execution_count": 12,
     "metadata": {},
     "output_type": "execute_result"
    },
    {
     "data": {
      "text/plain": [
       "Text(0.5, 1.0, 'Operating system Statistics')"
      ]
     },
     "execution_count": 12,
     "metadata": {},
     "output_type": "execute_result"
    },
    {
     "data": {
      "image/png": "[encoded data removed]",
      "text/plain": [
       "<Figure size 1120x560 with 1 Axes>"
      ]
     },
     "metadata": {},
     "output_type": "display_data"
    }
   ],
   "source": [
    "InteractiveShell.ast_node_interactivity = \"none\"\n",
    "\n",
    "df_device = df[df.device_name.notnull()]\n",
    "df_device = df_device.groupby('device_name').size().reset_index(name='counts')\n",
    "fig, ax = plt.subplots(figsize=(14, 7), subplot_kw=dict(aspect='equal'), dpi=80)\n",
    "\n",
    "colors = sns.color_palette('bright')[0: len(df_device.device_name)]\n",
    "# # colors = sns.color_palette('pastel')[0:5]\n",
    "# colors\n",
    "    \n",
    "wedges, texts, autotexts = ax.pie(df_device['counts'], autopct='%.0f%%', colors=colors, startangle=90)\n",
    "ax.legend(wedges, df_device['device_name'], title='Operating system', loc='center left', bbox_to_anchor=(1, 0, 0.5, 1))\n",
    "plt.setp(autotexts, size=10, weight=500)\n",
    "ax.set_title('Operating system Statistics')\n",
    "\n",
    "plt.show()\n",
    "InteractiveShell.ast_node_interactivity = \"all\""
   ]
  },
  {
   "cell_type": "markdown",
   "id": "6e19441c-17a9-4243-a11a-41fc58e67c06",
   "metadata": {},
   "source": [
    "### login hour map/ লগইন ট্রাফিক\n",
    "**stroy**: when users use nothi most of the time\n",
    "Attribute: **login_time**\n",
    "\n",
    "- line chart\n",
    "- bar chart\n",
    "- দিনের কখন ব্যবহারকারী লগইন করে"
   ]
  },
  {
   "cell_type": "code",
   "execution_count": 27,
   "id": "2c8a84be-96f8-43d1-bef6-235ddb2b143a",
   "metadata": {},
   "outputs": [],
   "source": [
    "df_login_time = df[df.login_time.notnull()]\n",
    "df_login_time['login_time'] = pd.to_datetime(df_login_time['login_time'])"
   ]
  },
  {
   "cell_type": "code",
   "execution_count": 30,
   "id": "2a48698b-6ab0-46ee-8685-0e753bd2a55f",
   "metadata": {},
   "outputs": [
    {
     "data": {
      "text/plain": [
       "Index(['id', 'is_mobile', 'client_ip', 'device_name', 'browser_name',\n",
       "       'employee_record_id', 'ministry_id', 'layer_id', 'origin_id',\n",
       "       'office_id', 'office_unit_id', 'office_unit_organogram', 'office_name',\n",
       "       'unit_name', 'organogram_name', 'user_id', 'employee_name',\n",
       "       'mobile_number', 'employee_email', 'login_time', 'logout_time',\n",
       "       'network_information', 'created', 'modified', 'created_by',\n",
       "       'modified_by', 'token', 'device_type', 'device_id'],\n",
       "      dtype='object')"
      ]
     },
     "execution_count": 30,
     "metadata": {},
     "output_type": "execute_result"
    }
   ],
   "source": [
    "# df.columns"
   ]
  },
  {
   "cell_type": "code",
   "execution_count": 31,
   "id": "2d68d383-0341-41d1-9e4c-05cb8d6eaa07",
   "metadata": {},
   "outputs": [
    {
     "data": {
      "text/plain": [
       "login_time\n",
       "0      40537\n",
       "1      13972\n",
       "2       6259\n",
       "3       3899\n",
       "4       5176\n",
       "5      10665\n",
       "6      22052\n",
       "7      37348\n",
       "8     103936\n",
       "9     534419\n",
       "10    540123\n",
       "11    469664\n",
       "12    458561\n",
       "13    334485\n",
       "14    379054\n",
       "15    444201\n",
       "16    414824\n",
       "17    248045\n",
       "18    181609\n",
       "19    156428\n",
       "20    138377\n",
       "21    130584\n",
       "22    114401\n",
       "23     82289\n",
       "Name: id, dtype: int64"
      ]
     },
     "execution_count": 31,
     "metadata": {},
     "output_type": "execute_result"
    }
   ],
   "source": [
    "# df_login_time = \n",
    "# df_login_time.groupby(df_login_time.login_time.dt.hour).size().reset_index(name='counts')\n",
    "df_login_time.groupby(df_login_time.login_time.dt.hour)['id'].size()\n",
    "# # df_login_time\n",
    "\n",
    "# hour_map = {0: '12 AM', 1: '01 AM', 2: '02 AM', 3: '03 AM', 4: '04 AM', 5: '05 AM', 6: '06 AM', \n",
    "#             7: '07 AM', 8: '08 AM', 9: '09 AM', 10: '10 AM', 11: '11 AM', 12: '12 PM', 13: '01 PM',\n",
    "#             14: '02 PM', 15: '03 PM', 16: '04 PM', 17: '05 PM', 18: '06 PM', 19: '07 PM', 20: '08 PM',\n",
    "#             21: '09 PM', 22: '10 PM', 23: '11 PM',}\n",
    "\n",
    "# df_login_time['login_time'] = df_login_time.login_time.map(hour_map)\n",
    "# df_login_time"
   ]
  },
  {
   "cell_type": "code",
   "execution_count": 21,
   "id": "86d43931-ba5d-46df-913b-b18968a049f9",
   "metadata": {},
   "outputs": [
    {
     "data": {
      "text/plain": [
       "<Figure size 1280x800 with 0 Axes>"
      ]
     },
     "execution_count": 21,
     "metadata": {},
     "output_type": "execute_result"
    },
    {
     "data": {
      "text/plain": [
       "[<matplotlib.lines.Line2D at 0x7f6df4d15a30>]"
      ]
     },
     "execution_count": 21,
     "metadata": {},
     "output_type": "execute_result"
    },
    {
     "data": {
      "text/plain": [
       "<AxesSubplot:>"
      ]
     },
     "execution_count": 21,
     "metadata": {},
     "output_type": "execute_result"
    },
    {
     "data": {
      "text/plain": [
       "Text(0.5, 1.0, 'login Traffic hour (12AM - 11PM)')"
      ]
     },
     "execution_count": 21,
     "metadata": {},
     "output_type": "execute_result"
    },
    {
     "data": {
      "text/plain": [
       "([<matplotlib.axis.XTick at 0x7f6df4cf5700>,\n",
       "  <matplotlib.axis.XTick at 0x7f6df4cf56d0>,\n",
       "  <matplotlib.axis.XTick at 0x7f6df4d15e50>,\n",
       "  <matplotlib.axis.XTick at 0x7f6df4cc6820>,\n",
       "  <matplotlib.axis.XTick at 0x7f6df4cce040>,\n",
       "  <matplotlib.axis.XTick at 0x7f6df4cce700>,\n",
       "  <matplotlib.axis.XTick at 0x7f6df4cc6bb0>,\n",
       "  <matplotlib.axis.XTick at 0x7f6df4cced30>,\n",
       "  <matplotlib.axis.XTick at 0x7f6df4cd84c0>,\n",
       "  <matplotlib.axis.XTick at 0x7f6df4cd8c10>,\n",
       "  <matplotlib.axis.XTick at 0x7f6df4cde3a0>,\n",
       "  <matplotlib.axis.XTick at 0x7f6df4cdeaf0>,\n",
       "  <matplotlib.axis.XTick at 0x7f6df4ce4280>,\n",
       "  <matplotlib.axis.XTick at 0x7f6df4cde610>,\n",
       "  <matplotlib.axis.XTick at 0x7f6df4d15e80>,\n",
       "  <matplotlib.axis.XTick at 0x7f6df4ce4670>,\n",
       "  <matplotlib.axis.XTick at 0x7f6df4ce4dc0>,\n",
       "  <matplotlib.axis.XTick at 0x7f6df4c6b550>,\n",
       "  <matplotlib.axis.XTick at 0x7f6df4c6bca0>,\n",
       "  <matplotlib.axis.XTick at 0x7f6df4c72430>,\n",
       "  <matplotlib.axis.XTick at 0x7f6df4c6b820>,\n",
       "  <matplotlib.axis.XTick at 0x7f6df4cd8520>,\n",
       "  <matplotlib.axis.XTick at 0x7f6df4c723a0>,\n",
       "  <matplotlib.axis.XTick at 0x7f6df4c72e50>],\n",
       " [Text(0, 0, '12 AM'),\n",
       "  Text(1, 0, '01 AM'),\n",
       "  Text(2, 0, '02 AM'),\n",
       "  Text(3, 0, '03 AM'),\n",
       "  Text(4, 0, '04 AM'),\n",
       "  Text(5, 0, '05 AM'),\n",
       "  Text(6, 0, '06 AM'),\n",
       "  Text(7, 0, '07 AM'),\n",
       "  Text(8, 0, '08 AM'),\n",
       "  Text(9, 0, '09 AM'),\n",
       "  Text(10, 0, '10 AM'),\n",
       "  Text(11, 0, '11 AM'),\n",
       "  Text(12, 0, '12 PM'),\n",
       "  Text(13, 0, '01 PM'),\n",
       "  Text(14, 0, '02 PM'),\n",
       "  Text(15, 0, '03 PM'),\n",
       "  Text(16, 0, '04 PM'),\n",
       "  Text(17, 0, '05 PM'),\n",
       "  Text(18, 0, '06 PM'),\n",
       "  Text(19, 0, '07 PM'),\n",
       "  Text(20, 0, '08 PM'),\n",
       "  Text(21, 0, '09 PM'),\n",
       "  Text(22, 0, '10 PM'),\n",
       "  Text(23, 0, '11 PM')])"
      ]
     },
     "execution_count": 21,
     "metadata": {},
     "output_type": "execute_result"
    },
    {
     "data": {
      "text/plain": [
       "(array([     0., 100000., 200000., 300000., 400000., 500000., 600000.]),\n",
       " [Text(0, 0, ''),\n",
       "  Text(0, 0, ''),\n",
       "  Text(0, 0, ''),\n",
       "  Text(0, 0, ''),\n",
       "  Text(0, 0, ''),\n",
       "  Text(0, 0, ''),\n",
       "  Text(0, 0, '')])"
      ]
     },
     "execution_count": 21,
     "metadata": {},
     "output_type": "execute_result"
    },
    {
     "data": {
      "image/png": "[encoded data removed]",
      "text/plain": [
       "<Figure size 1280x800 with 1 Axes>"
      ]
     },
     "metadata": {
      "needs_background": "light"
     },
     "output_type": "display_data"
    }
   ],
   "source": [
    "# InteractiveShell.ast_node_interactivity = \"none\"\n",
    "\n",
    "plt.figure(figsize=(16,10), dpi= 80)\n",
    "# df_login_time = df_login_time.groupby(df_login_time.login_time.dt.hour).size().reset_index(name='counts')\n",
    "plt.plot('login_time', 'counts', data=df_login_time, color='tab:red')\n",
    "df_login_time['counts'].plot(kind='bar', color='red')\n",
    "plt.title(\"login Traffic hour (12AM - 11PM)\", fontsize=15)\n",
    "\n",
    "# Decorations\n",
    "xtick_location = df_login_time.index.tolist()\n",
    "xtick_labels = df_login_time.login_time.tolist()\n",
    "plt.xticks(ticks=xtick_location, labels=xtick_labels, rotation=45, fontsize=12, horizontalalignment='center', alpha=.7)\n",
    "plt.yticks(fontsize=12, alpha=.7)\n",
    "\n",
    "# Remove borders\n",
    "plt.gca().spines[\"top\"].set_alpha(0.0)    \n",
    "plt.gca().spines[\"bottom\"].set_alpha(0.3)\n",
    "plt.gca().spines[\"right\"].set_alpha(0.0)    \n",
    "plt.gca().spines[\"left\"].set_alpha(0.3)   \n",
    "plt.grid(axis='y')\n",
    "plt.savefig('login_hour.jpg')\n",
    "plt.show()\n",
    "InteractiveShell.ast_node_interactivity = \"all\""
   ]
  },
  {
   "cell_type": "code",
   "execution_count": 25,
   "id": "33efd4fc-dee1-4bb2-9863-5ee9686df3c4",
   "metadata": {},
   "outputs": [
    {
     "data": {
      "text/plain": [
       "Index(['id', 'is_mobile', 'client_ip', 'device_name', 'browser_name',\n",
       "       'employee_record_id', 'ministry_id', 'layer_id', 'origin_id',\n",
       "       'office_id', 'office_unit_id', 'office_unit_organogram', 'office_name',\n",
       "       'unit_name', 'organogram_name', 'user_id', 'employee_name',\n",
       "       'mobile_number', 'employee_email', 'login_time', 'logout_time',\n",
       "       'network_information', 'created', 'modified', 'created_by',\n",
       "       'modified_by', 'token', 'device_type', 'device_id'],\n",
       "      dtype='object')"
      ]
     },
     "execution_count": 25,
     "metadata": {},
     "output_type": "execute_result"
    }
   ],
   "source": [
    "# ax = sns.barplot(x=\"login_time\", y=\"counts\", data=df_login_time)\n",
    "\n",
    "# df_login_time\n",
    "df.columns"
   ]
  },
  {
   "cell_type": "markdown",
   "id": "4c16c990-cf56-4e8a-b10f-f3fabc2cf656",
   "metadata": {},
   "source": [
    "### বার্ষিক লগইন ব্যবহারকারীর হার"
   ]
  },
  {
   "cell_type": "code",
   "execution_count": 52,
   "id": "7192c3c2-e9c7-4286-8341-3dc35713faa5",
   "metadata": {},
   "outputs": [
    {
     "data": {
      "text/html": [
       "<div>\n",
       "<style scoped>\n",
       "    .dataframe tbody tr th:only-of-type {\n",
       "        vertical-align: middle;\n",
       "    }\n",
       "\n",
       "    .dataframe tbody tr th {\n",
       "        vertical-align: top;\n",
       "    }\n",
       "\n",
       "    .dataframe thead th {\n",
       "        text-align: right;\n",
       "    }\n",
       "</style>\n",
       "<table border=\"1\" class=\"dataframe\">\n",
       "  <thead>\n",
       "    <tr style=\"text-align: right;\">\n",
       "      <th></th>\n",
       "      <th>login_time</th>\n",
       "      <th>counts</th>\n",
       "    </tr>\n",
       "  </thead>\n",
       "  <tbody>\n",
       "    <tr>\n",
       "      <th>0</th>\n",
       "      <td>2021</td>\n",
       "      <td>100000</td>\n",
       "    </tr>\n",
       "  </tbody>\n",
       "</table>\n",
       "</div>"
      ],
      "text/plain": [
       "   login_time  counts\n",
       "0        2021  100000"
      ]
     },
     "execution_count": 52,
     "metadata": {},
     "output_type": "execute_result"
    }
   ],
   "source": [
    "df_login_year = df[df.login_time.notnull()]\n",
    "df_login_year['login_time'] = pd.to_datetime(df_login_year['login_time'])\n",
    "\n",
    "df_login_year = df_login_year.groupby(df_login_year.login_time.dt.year).size().reset_index(name='counts')\n",
    "df_login_year"
   ]
  },
  {
   "cell_type": "markdown",
   "id": "97b2a566-7364-4677-af33-d15f9d9f97fe",
   "metadata": {},
   "source": [
    "### Mobile Operator vs Login Ratio\n"
   ]
  },
  {
   "cell_type": "code",
   "execution_count": 94,
   "id": "2d453711-7329-476a-9e79-0c66ab790a31",
   "metadata": {},
   "outputs": [],
   "source": [
    "# df.mobile_number.values[:200]\n",
    "# df[df.mobile_number.str.startswith('17', na=False)].shape\n",
    "# df[df.mobile_number.str.startswith('18', na=False)].mobile_number"
   ]
  },
  {
   "cell_type": "code",
   "execution_count": 152,
   "id": "cd178bee-4baa-4484-8606-21c5b24ffc4e",
   "metadata": {},
   "outputs": [],
   "source": [
    "def map_operator_name(x):\n",
    "    x = str(x)\n",
    "    if x.startswith('017') | x.startswith('17') | x.startswith('০১৭') | x.startswith('১৭'):\n",
    "        return 'GP'\n",
    "    elif x.startswith('018') | x.startswith('18') | x.startswith('০১৮') | x.startswith('১৮'):\n",
    "        return 'Robi'\n",
    "    elif x.startswith('019') | x.startswith('19') | x.startswith('০১৯') | x.startswith('১৯'):\n",
    "        return 'BL'\n",
    "    elif x.startswith('016') | x.startswith('16') | x.startswith('০১৬') | x.startswith('১৬'):\n",
    "        return 'Airtel'\n",
    "    elif x.startswith('015') | x.startswith('15') | x.startswith('০১৫') | x.startswith('১৫'):\n",
    "        return 'Teletalk'\n",
    "    else:\n",
    "        return 'others'\n"
   ]
  },
  {
   "cell_type": "code",
   "execution_count": 124,
   "id": "31018214-b5cd-4b8f-97c3-054f35afe08b",
   "metadata": {},
   "outputs": [],
   "source": [
    "df_mobile = df[~df.mobile_number.isnull()].copy(deep=True)\n",
    "df_mobile['operator'] = df.mobile_number.str.strip()\n",
    "df_mobile['operator'] = df.mobile_number.str.slice(stop=3)\n",
    "\n",
    "df_mobile['operator'] = df_mobile.operator.apply(map_operator_name)\n",
    "df_mobile = df_mobile.groupby('operator').size().reset_index(name='counts').sort_values(by='counts', ascending=False)\n",
    "df_mobile['operator'].value_counts(normalize=True).mul(100).round(1).astype(str) + '%'"
   ]
  },
  {
   "cell_type": "code",
   "execution_count": 128,
   "id": "265eb743-2a3c-46b3-917a-a5c563b9ab5f",
   "metadata": {},
   "outputs": [
    {
     "data": {
      "image/png": "[encoded data removed]",
      "text/plain": [
       "<Figure size 1120x560 with 1 Axes>"
      ]
     },
     "metadata": {},
     "output_type": "display_data"
    }
   ],
   "source": [
    "InteractiveShell.ast_node_interactivity = \"none\"\n",
    "\n",
    "# df_device = df[df.device_name.notnull()]\n",
    "# df_device = df_device.groupby('device_name').size().reset_index(name='counts')\n",
    "fig, ax = plt.subplots(figsize=(14, 7), subplot_kw=dict(aspect='equal'), dpi=80)\n",
    "\n",
    "# colors = sns.color_palette('bright')[0: len(df_device.device_name)]\n",
    "# # colors = sns.color_palette('pastel')[0:5]\n",
    "# colors\n",
    "    \n",
    "wedges, texts, autotexts = ax.pie(df_mobile['counts'], autopct='%.0f%%', colors=colors, startangle=90)\n",
    "ax.legend(wedges, df_mobile['operator'], title='Operating system', loc='center left', bbox_to_anchor=(1, 0, 0.5, 1))\n",
    "plt.setp(autotexts, size=10, weight=500)\n",
    "ax.set_title('Operating system Statistics')\n",
    "\n",
    "plt.show()\n",
    "InteractiveShell.ast_node_interactivity = \"all\""
   ]
  },
  {
   "cell_type": "markdown",
   "id": "1e5243bb-305c-42b4-9744-c58688ba6818",
   "metadata": {},
   "source": [
    "### Android and IOS login"
   ]
  },
  {
   "cell_type": "code",
   "execution_count": 143,
   "id": "b795e035-9c3a-4dcd-bb1f-710b1853bd38",
   "metadata": {},
   "outputs": [
    {
     "data": {
      "text/html": [
       "<div>\n",
       "<style scoped>\n",
       "    .dataframe tbody tr th:only-of-type {\n",
       "        vertical-align: middle;\n",
       "    }\n",
       "\n",
       "    .dataframe tbody tr th {\n",
       "        vertical-align: top;\n",
       "    }\n",
       "\n",
       "    .dataframe thead th {\n",
       "        text-align: right;\n",
       "    }\n",
       "</style>\n",
       "<table border=\"1\" class=\"dataframe\">\n",
       "  <thead>\n",
       "    <tr style=\"text-align: right;\">\n",
       "      <th></th>\n",
       "      <th>device_type</th>\n",
       "      <th>login_counts</th>\n",
       "    </tr>\n",
       "  </thead>\n",
       "  <tbody>\n",
       "    <tr>\n",
       "      <th>0</th>\n",
       "      <td>-  -</td>\n",
       "      <td>8</td>\n",
       "    </tr>\n",
       "    <tr>\n",
       "      <th>1</th>\n",
       "      <td>IOS</td>\n",
       "      <td>2326</td>\n",
       "    </tr>\n",
       "    <tr>\n",
       "      <th>2</th>\n",
       "      <td>android</td>\n",
       "      <td>38284</td>\n",
       "    </tr>\n",
       "    <tr>\n",
       "      <th>3</th>\n",
       "      <td>android - 5.1.1 - android</td>\n",
       "      <td>72</td>\n",
       "    </tr>\n",
       "  </tbody>\n",
       "</table>\n",
       "</div>"
      ],
      "text/plain": [
       "                 device_type  login_counts\n",
       "0                      -  -              8\n",
       "1                        IOS          2326\n",
       "2                    android         38284\n",
       "3  android - 5.1.1 - android            72"
      ]
     },
     "execution_count": 143,
     "metadata": {},
     "output_type": "execute_result"
    }
   ],
   "source": [
    "columns = ['is_mobile', 'device_type']\n",
    "df_android_ios = df[columns]\n",
    "df_android_ios = df_android_ios[df_android_ios.is_mobile == 1]\n",
    "df_android_ios.groupby('device_type').size().reset_index(name='login_counts')\n",
    "# df_android_ios"
   ]
  },
  {
   "cell_type": "markdown",
   "id": "933b80d7-1095-49dc-ba63-e70009c32819",
   "metadata": {},
   "source": [
    "### Most Logged in office"
   ]
  },
  {
   "cell_type": "code",
   "execution_count": 151,
   "id": "f9ff2764-1411-44c3-a5c3-942e69c99d96",
   "metadata": {},
   "outputs": [
    {
     "data": {
      "text/html": [
       "<div>\n",
       "<style scoped>\n",
       "    .dataframe tbody tr th:only-of-type {\n",
       "        vertical-align: middle;\n",
       "    }\n",
       "\n",
       "    .dataframe tbody tr th {\n",
       "        vertical-align: top;\n",
       "    }\n",
       "\n",
       "    .dataframe thead th {\n",
       "        text-align: right;\n",
       "    }\n",
       "</style>\n",
       "<table border=\"1\" class=\"dataframe\">\n",
       "  <thead>\n",
       "    <tr style=\"text-align: right;\">\n",
       "      <th></th>\n",
       "      <th>office_name</th>\n",
       "      <th>total_login</th>\n",
       "    </tr>\n",
       "  </thead>\n",
       "  <tbody>\n",
       "    <tr>\n",
       "      <th>1367</th>\n",
       "      <td>তিতাস গ্যাস ট্রান্সমিসন এ্যান্ড ডিস্ট্রিবিউশন ...</td>\n",
       "      <td>3973</td>\n",
       "    </tr>\n",
       "    <tr>\n",
       "      <th>1526</th>\n",
       "      <td>পাওয়ার গ্রিড কোম্পানি অব বাংলাদেশ লিঃ</td>\n",
       "      <td>2376</td>\n",
       "    </tr>\n",
       "    <tr>\n",
       "      <th>1256</th>\n",
       "      <td>ঢাকা পাওয়ার ডিস্ট্রিবিউশন কোম্পানি লিমিটেড (ডি...</td>\n",
       "      <td>1558</td>\n",
       "    </tr>\n",
       "    <tr>\n",
       "      <th>1722</th>\n",
       "      <td>বাংলাদেশ পল্লী বিদ্যুতায়ন বোর্ড</td>\n",
       "      <td>1502</td>\n",
       "    </tr>\n",
       "    <tr>\n",
       "      <th>1785</th>\n",
       "      <td>বাখরাবাদ গ্যাস ডিস্ট্রিবিউশন কোম্পানী লিমিটেড</td>\n",
       "      <td>1481</td>\n",
       "    </tr>\n",
       "    <tr>\n",
       "      <th>1257</th>\n",
       "      <td>ঢাকা পানি সরবরাহ ও পয়ঃনিষ্কাশন কর্তৃপক্ষ (ঢাকা...</td>\n",
       "      <td>1391</td>\n",
       "    </tr>\n",
       "    <tr>\n",
       "      <th>1859</th>\n",
       "      <td>বিমান বাংলাদেশ এয়ারলাইন্স লিমিটেড</td>\n",
       "      <td>1350</td>\n",
       "    </tr>\n",
       "    <tr>\n",
       "      <th>1246</th>\n",
       "      <td>ঢাকা ইলেকট্রিক সাপ্লাই কোম্পানি লিমিটেড (ডেসকো)</td>\n",
       "      <td>1288</td>\n",
       "    </tr>\n",
       "    <tr>\n",
       "      <th>674</th>\n",
       "      <td>কর্ণফুলী গ্যাস ডিস্ট্রিবিউশন কোম্পানী লিমিটেড</td>\n",
       "      <td>1236</td>\n",
       "    </tr>\n",
       "    <tr>\n",
       "      <th>1525</th>\n",
       "      <td>পশ্চিমাঞ্চল গ্যাস কোম্পানী লিমিটেড</td>\n",
       "      <td>1131</td>\n",
       "    </tr>\n",
       "  </tbody>\n",
       "</table>\n",
       "</div>"
      ],
      "text/plain": [
       "                                            office_name  total_login\n",
       "1367  তিতাস গ্যাস ট্রান্সমিসন এ্যান্ড ডিস্ট্রিবিউশন ...         3973\n",
       "1526              পাওয়ার গ্রিড কোম্পানি অব বাংলাদেশ লিঃ         2376\n",
       "1256  ঢাকা পাওয়ার ডিস্ট্রিবিউশন কোম্পানি লিমিটেড (ডি...         1558\n",
       "1722                    বাংলাদেশ পল্লী বিদ্যুতায়ন বোর্ড         1502\n",
       "1785      বাখরাবাদ গ্যাস ডিস্ট্রিবিউশন কোম্পানী লিমিটেড         1481\n",
       "1257  ঢাকা পানি সরবরাহ ও পয়ঃনিষ্কাশন কর্তৃপক্ষ (ঢাকা...         1391\n",
       "1859                  বিমান বাংলাদেশ এয়ারলাইন্স লিমিটেড         1350\n",
       "1246    ঢাকা ইলেকট্রিক সাপ্লাই কোম্পানি লিমিটেড (ডেসকো)         1288\n",
       "674       কর্ণফুলী গ্যাস ডিস্ট্রিবিউশন কোম্পানী লিমিটেড         1236\n",
       "1525                 পশ্চিমাঞ্চল গ্যাস কোম্পানী লিমিটেড         1131"
      ]
     },
     "execution_count": 151,
     "metadata": {},
     "output_type": "execute_result"
    }
   ],
   "source": [
    "# df.groupby(\n",
    "df.groupby('office_name').size().reset_index(name='total_login').sort_values(by='total_login', ascending=False).head(10)"
   ]
  },
  {
   "cell_type": "code",
   "execution_count": null,
   "id": "7ebd4ace-d9f9-4022-a0a8-04ac8518a2fd",
   "metadata": {},
   "outputs": [],
   "source": []
  },
  {
   "cell_type": "code",
   "execution_count": null,
   "id": "7b1b59b8-f9d6-4ed8-8b41-c3324ebdf87a",
   "metadata": {},
   "outputs": [],
   "source": []
  },
  {
   "cell_type": "code",
   "execution_count": null,
   "id": "7f76bd38-1d9c-4125-b4de-56b5e79a5078",
   "metadata": {},
   "outputs": [],
   "source": []
  },
  {
   "cell_type": "code",
   "execution_count": null,
   "id": "acad8ec5-20d7-460c-a5de-f76ab8eaa9ee",
   "metadata": {},
   "outputs": [],
   "source": []
  },
  {
   "cell_type": "code",
   "execution_count": null,
   "id": "bfde3c67-87e5-43ac-b26a-d21603a272a4",
   "metadata": {},
   "outputs": [],
   "source": []
  },
  {
   "cell_type": "code",
   "execution_count": 76,
   "id": "3281b2de-eff3-427e-9f70-f5f326e62593",
   "metadata": {},
   "outputs": [],
   "source": [
    "\n",
    "# df.organogram_name.values[:1000]\n",
    "# df.organogram_name.nunique()"
   ]
  },
  {
   "cell_type": "markdown",
   "id": "7466a207-3a5a-4f59-97a0-9d54886e0beb",
   "metadata": {},
   "source": [
    "# Rough Section"
   ]
  },
  {
   "cell_type": "markdown",
   "id": "1c0172b4-984a-4a6b-a313-ac80f811d9f3",
   "metadata": {
    "tags": []
   },
   "source": [
    "## Insights/Exploration on Data:\n",
    "- ~~percentage of different mobile operator~~\n",
    "- percentage of different browsers\n",
    "- percentage of different operating system.\n",
    "- Percentage of mobile login to others\n",
    "- Percentage of android and ios users login\n",
    "- ~~Percentage of gmail users~~ \n",
    "- **Average login duration**\n",
    "- login load hours/login by hours\n",
    "- **Users distribution on designation**\n",
    "- Most logged in office\n",
    "- সবচেয়ে বেশি ভিজিটকৃত  ministry।\n",
    "- **Average Login duration. / ব্যবহারকারীর গড় লগইন সময় / একজন ব্যবহারকারী নথিতে গড়ে কতক্ষন লগইন করে থাকেন। **\n",
    "\n",
    "\n",
    "- Users vs mobile operator\n",
    "- Users vs browsers\n",
    "- Android vs IOS\n",
    "- Layer_id vs count\n",
    "- Minstry_id vs browser\n",
    "- Organogram vs value_count\n",
    "- Mobile_number vs company/ operator\n",
    "- Gmail vs other users\n",
    "- Login_time vs logout_time -> average login duration\n",
    "- Login_time -> login time map\n",
    "- Mobile_login vs other_login\n"
   ]
  },
  {
   "cell_type": "markdown",
   "id": "ee6c449b-66ec-42c8-a062-821bd7cb5d17",
   "metadata": {},
   "source": [
    "### percentage of mobile operator/statistics of mobile operator uses \n",
    "### Notes\n",
    "- ~~map user_id to mobile number~~\n",
    "- percentage of mobile operator and percentage of gmail users -> collect from employee_records\n"
   ]
  },
  {
   "cell_type": "markdown",
   "id": "64ae0943-efb4-4068-9996-b8ad028348d8",
   "metadata": {},
   "source": [
    "### Exploring on organogram_name\n",
    "\n",
    "goal: grouping organogram_name by their title\n",
    "\n",
    "- > possible relationships\n",
    "- organogram name vs mobile operator\n",
    "- organogram name vs mobile operator vs browser\n",
    "\n",
    "\n"
   ]
  },
  {
   "cell_type": "code",
   "execution_count": 19,
   "id": "c93faa16-f855-4354-b65d-994226dfd95c",
   "metadata": {},
   "outputs": [
    {
     "data": {
      "text/plain": [
       "array(['উপ পরিদর্শক', 'ব্যবস্থাপক', 'মহাপরিচালক',\n",
       "       'ডেপুটি জেনারেল ম্যানেজার', 'ব্যবস্থাপক', 'উপ-সহকারী প্রকৌশলী',\n",
       "       'মহাব্যবস্থাপক', 'মহাব্যবস্থাপক ', 'পরিচালক', 'সদস্য পরিচালক',\n",
       "       'ব্যবস্থাপক', 'উপ-মহাপরিচালক (ভূতত্ত্ব) ', 'ব্যবস্থাপক', 'উপসচিব',\n",
       "       'জুনিয়র এ্যাসিসটেন্ট-১, ৪৫০ (সাউথ)',\n",
       "       'সিনিয়র এ্যাসিসটেন্ট (স্টোর), ৪৫০ (নর্থ)', 'উপ পরিচালক',\n",
       "       'সহকারী প্রকৌশলী', 'ব্যবস্থাপক', 'সহকারী পরিচালক (ইঞ্জিনিয়ারিং)',\n",
       "       'সহকারী পরিচালক (ইঞ্জিনিয়ারিং)', 'সহকারী ব্যবস্থাপক প্রশাসন',\n",
       "       'উপ-সহকারী সুপার', 'উপ-মহাব্যবস্থাপক', 'উপ-সহকারী সুপার',\n",
       "       'প্রোগ্রাম এসোসিয়েট', 'প্রোগ্রাম এসোসিয়েট', 'সহকারী কমিশনার',\n",
       "       'সহকারী কমিশনার', 'সহকারী কমিশনার', 'সহকারী কমিশনার',\n",
       "       'উপ-সহকারী প্রকৌশলী', 'উপ-মহাব্যবস্থাপক (মানব সম্পদ)', 'সদস্য ',\n",
       "       'সদর সহকারী সেটেলমেন্ট অফিসার', 'পরিচালক ', 'পরিচালক', 'পরিচালক',\n",
       "       'সমাজসেবা অফিসার', 'উপজেলা সমাজসেবা অফিসার',\n",
       "       'উপজেলা সমাজসেবা অফিসার', 'উপ-মহাব্যবস্থাপক', 'উপ-মহাব্যবস্থাপক',\n",
       "       'সহকারী ব্যবস্থাপক', 'উপ-মহাব্যবস্থাপক', 'সিস্টেম এনালিস্ট ',\n",
       "       'সাব অ্যাসিস্ট্যান্ট ইঞ্জিনিয়ার', 'উপসচিব',\n",
       "       'উপ-মহাব্যবস্থাপক (ট্রান্সপোর্ট)', 'সহকারী কমিশনার (ভূমি)',\n",
       "       'উপজেলা নির্বাহী অফিসার', 'প্রধান নির্বাহী কর্মকর্তা',\n",
       "       'উপ পরিচালক', 'সদর সহকারী সেটেলমেন্ট অফিসার', 'মহাব্যবস্থাপক ',\n",
       "       'মহাব্যবস্থাপক ', 'রেভিনিউ ডেপুটি কালেক্টর', 'সহকারী কমিশনার',\n",
       "       'উপ-মহাব্যবস্থাপক (নিরাপত্তা)', 'অতিরিক্ত সচিব',\n",
       "       'সহকারী হিসাব রক্ষণ কর্মকর্তা',\n",
       "       'সহকারী পরিচালক (এভসেক এডমিনিষ্ট্রেশন এন্ড কো-অর্ডিনেশন)',\n",
       "       'উপ-সহকারী প্রকৌশলী    ', 'উপ-মহাব্যবস্থাপক (সংস্থাপন)', 'পরিচালক',\n",
       "       'জুনিঃসহঃ ব্যবস্থাপক (এইচ.আর)', 'প্রশাসনিক কর্মকর্তা ',\n",
       "       'প্রশাসনিক কর্মকর্তা ', 'অতিরিক্ত সচিব', 'নির্বাহী পরিচালক',\n",
       "       'অতিরিক্ত সচিব', 'সম্পত্তি পরিদর্শক', 'উপ-ব্যবস্থাপক',\n",
       "       'উপ-রেজিস্ট্রার', 'উপ-রেজিস্ট্রার', 'ব্যবস্থাপক', 'মহাপরিচালক',\n",
       "       'উপজেলা সমবায় অফিসার', 'প্রশাসনিক কর্মকর্তা', 'সহকারী ব্যবস্থাপক',\n",
       "       'সহকারী প্রকৌশলী', 'সাঁট মুদ্রাক্ষরিক কাম কম্পিউটার অপারেটর',\n",
       "       'সহকারী ব্যবস্থাপক', 'সদর সহকারী সেটেলমেন্ট অফিসার',\n",
       "       'সিনিয়র জেনারেল ম্যানেজার',\n",
       "       'উপ-বিভাগীয় প্রকৌশলী (পরিচালন), ইউনিট-৩, ৪ ও ৫', 'হিসাবরক্ষক',\n",
       "       'সহকারী ব্যবস্থাপক', 'সহকারী সচিব', 'উপ-ব্যবস্থাপক',\n",
       "       ' উপব্যবস্থাপক ', 'ব্যবস্থাপক', ' সহকারী প্রোগ্রামার',\n",
       "       'প্রিন্সিপাল সায়েন্টিফিক অফিসার (পিএসও)',\n",
       "       'উপ-মহাব্যবস্থাপক(নিরীক্ষা)', 'উপ-ব্যবস্থাপক', 'উপপরিচালক ',\n",
       "       'ব্যবস্থাপনা পরিচালক', 'সহকারী কর্মকর্তা ', 'বেতার যন্ত্রচালক'],\n",
       "      dtype=object)"
      ]
     },
     "execution_count": 19,
     "metadata": {},
     "output_type": "execute_result"
    }
   ],
   "source": [
    "df.organogram_name.values[:100]"
   ]
  },
  {
   "cell_type": "code",
   "execution_count": 16,
   "id": "f1a879a3-da0e-43da-9f9f-2cbf7aaa8e4d",
   "metadata": {},
   "outputs": [],
   "source": [
    "# df.info()"
   ]
  },
  {
   "cell_type": "code",
   "execution_count": 5,
   "id": "4cc26ffa-666a-47d2-88c7-4155942f0686",
   "metadata": {},
   "outputs": [],
   "source": [
    "dt = df[['id', 'is_mobile', 'device_name', 'browser_name', \n",
    "         'office_id', 'office_unit_id', 'office_unit_organogram', 'office_name',\n",
    "         'unit_name', 'organogram_name', 'user_id', 'employee_name',\n",
    "         'login_time', 'logout_time',\n",
    "         'created', 'modified', 'device_type', 'device_id']]"
   ]
  },
  {
   "cell_type": "code",
   "execution_count": 65,
   "id": "fd5254f2-5e75-486d-90b9-c6a07457d216",
   "metadata": {},
   "outputs": [
    {
     "data": {
      "text/plain": [
       "তিতাস গ্যাস ট্রান্সমিসন এ্যান্ড ডিস্ট্রিবিউশন কোম্পানী লিমিটেড              39046\n",
       "পাওয়ার গ্রিড কোম্পানি অব বাংলাদেশ লিঃ                                       22473\n",
       "ঢাকা পাওয়ার ডিস্ট্রিবিউশন কোম্পানি লিমিটেড (ডিপিডিসি)                       20544\n",
       "বিমান বাংলাদেশ এয়ারলাইন্স লিমিটেড                                           15929\n",
       "বাংলাদেশ পল্লী বিদ্যুতায়ন বোর্ড                                             14630\n",
       "ঢাকা ইলেকট্রিক সাপ্লাই কোম্পানি লিমিটেড (ডেসকো)                             13750\n",
       "ঢাকা পানি সরবরাহ ও পয়ঃনিষ্কাশন কর্তৃপক্ষ (ঢাকা ওয়াসা)                       13589\n",
       "বাখরাবাদ গ্যাস ডিস্ট্রিবিউশন কোম্পানী লিমিটেড                               13583\n",
       "কর্ণফুলী গ্যাস ডিস্ট্রিবিউশন কোম্পানী লিমিটেড                               12787\n",
       "পশ্চিমাঞ্চল গ্যাস কোম্পানী লিমিটেড                                          11543\n",
       "গ্যাস ট্রান্সমিশন কোম্পানী লিমিটেড (জিটিসিএল)                               10067\n",
       "সিলেট গ্যাস ফিল্ডস লিমিটেড                                                   9841\n",
       "জালালাবাদ গ্যাস ট্রান্সমিসন এ্যান্ড ডিস্ট্রিবিউশন সিস্টেম লিমিটেড            9279\n",
       "বাংলাদেশ তৈল, গ্যাস ও খনিজ সম্পদ করপোরেশন (পেট্রোবাংলা)                      9187\n",
       "বাংলাদেশ গ্যাস ফিল্ডস্‌ কোম্পানী লিমিটেড                                     7774\n",
       "বাংলাদেশ পেট্রোলিয়াম এক্সপ্লোরেশন এন্ড প্রোডাকশন কোম্পানী লিঃ (বাপেক্স)      7697\n",
       "বাংলাদেশ ধান গবেষণা ইনস্টিটিউট                                               7604\n",
       "স্থানীয় সরকার প্রকৌশল অধিদপ্তর                                               7355\n",
       "বাংলাদেশ পরমাণু কৃষি গবেষণা ইনস্টিটিউট                                       7307\n",
       "খাদ্য অধিদপ্তর                                                               7302\n",
       "Name: office_name, dtype: int64"
      ]
     },
     "execution_count": 65,
     "metadata": {},
     "output_type": "execute_result"
    }
   ],
   "source": [
    "## df.columns\n",
    "# df.columns.size\n",
    "# df.head()\n",
    "# df.device_name.unique()\n",
    "# df.office_id.nunique()\n",
    "# df.office_name.nunique()\n",
    "df.office_name.value_counts()[:20]\n",
    "# # sns.histplot(, x='office_name')\n",
    "# frame\n",
    "# sns.histplot(data=df[df.office_id.isin(df.office_id.value_counts().index[:10])], x='office_name')\n"
   ]
  },
  {
   "cell_type": "code",
   "execution_count": 5,
   "id": "dbde37c2-ef49-48db-9026-22cbfb533442",
   "metadata": {},
   "outputs": [],
   "source": [
    "# dict(df.office_name.value_counts()[:20])\n",
    "# df['office_name'].nlargest(n=5)\n",
    "\n"
   ]
  },
  {
   "cell_type": "code",
   "execution_count": 7,
   "id": "caaa4ee5-c093-4ea1-9782-43ea00c959f0",
   "metadata": {},
   "outputs": [
    {
     "data": {
      "text/plain": [
       "0                                   বি-আর পাওয়ারজেন লিমিটেড\n",
       "1         জালালাবাদ গ্যাস ট্রান্সমিসন এ্যান্ড ডিস্ট্রিবি...\n",
       "2                         বিমান বাংলাদেশ এয়ারলাইন্স লিমিটেড\n",
       "3                                        জাতীয় রাজস্ব বোর্ড\n",
       "4             আঞ্চলিক লোকপ্রশাসন প্রশিক্ষণ কেন্দ্র, রাজশাহী\n",
       "                                ...                        \n",
       "999995                   জেলা প্রশাসকের কার্যালয়, সিরাজগঞ্জ\n",
       "999996                   জেলা প্রশাসকের কার্যালয়, সিরাজগঞ্জ\n",
       "999997                       মুন্সিগঞ্জ পল্লী বিদ্যুৎ সমিতি\n",
       "999998                   জেলা প্রশাসকের কার্যালয়, সিরাজগঞ্জ\n",
       "999999                         জেলা সমবায় কার্যালয়, ঝিনাইদহ\n",
       "Name: office_name, Length: 1000000, dtype: object"
      ]
     },
     "execution_count": 7,
     "metadata": {},
     "output_type": "execute_result"
    }
   ],
   "source": [
    "# sns.histplot(data=df, x=\"office_name\", kde=True)\n",
    "# sns.histplot(pd.DataFrame(df['office_name']), x='office_name')\n",
    "df.office_name"
   ]
  },
  {
   "cell_type": "code",
   "execution_count": 8,
   "id": "fe41bc66-75f6-4a86-9037-c942332f8e50",
   "metadata": {},
   "outputs": [
    {
     "data": {
      "text/plain": [
       "তিতাস গ্যাস ট্রান্সমিসন এ্যান্ড ডিস্ট্রিবিউশন কোম্পানী লিমিটেড              39046\n",
       "পাওয়ার গ্রিড কোম্পানি অব বাংলাদেশ লিঃ                                       22473\n",
       "ঢাকা পাওয়ার ডিস্ট্রিবিউশন কোম্পানি লিমিটেড (ডিপিডিসি)                       20544\n",
       "বিমান বাংলাদেশ এয়ারলাইন্স লিমিটেড                                           15929\n",
       "বাংলাদেশ পল্লী বিদ্যুতায়ন বোর্ড                                             14630\n",
       "ঢাকা ইলেকট্রিক সাপ্লাই কোম্পানি লিমিটেড (ডেসকো)                             13750\n",
       "ঢাকা পানি সরবরাহ ও পয়ঃনিষ্কাশন কর্তৃপক্ষ (ঢাকা ওয়াসা)                       13589\n",
       "বাখরাবাদ গ্যাস ডিস্ট্রিবিউশন কোম্পানী লিমিটেড                               13583\n",
       "কর্ণফুলী গ্যাস ডিস্ট্রিবিউশন কোম্পানী লিমিটেড                               12787\n",
       "পশ্চিমাঞ্চল গ্যাস কোম্পানী লিমিটেড                                          11543\n",
       "গ্যাস ট্রান্সমিশন কোম্পানী লিমিটেড (জিটিসিএল)                               10067\n",
       "সিলেট গ্যাস ফিল্ডস লিমিটেড                                                   9841\n",
       "জালালাবাদ গ্যাস ট্রান্সমিসন এ্যান্ড ডিস্ট্রিবিউশন সিস্টেম লিমিটেড            9279\n",
       "বাংলাদেশ তৈল, গ্যাস ও খনিজ সম্পদ করপোরেশন (পেট্রোবাংলা)                      9187\n",
       "বাংলাদেশ গ্যাস ফিল্ডস্‌ কোম্পানী লিমিটেড                                     7774\n",
       "বাংলাদেশ পেট্রোলিয়াম এক্সপ্লোরেশন এন্ড প্রোডাকশন কোম্পানী লিঃ (বাপেক্স)      7697\n",
       "বাংলাদেশ ধান গবেষণা ইনস্টিটিউট                                               7604\n",
       "স্থানীয় সরকার প্রকৌশল অধিদপ্তর                                               7355\n",
       "বাংলাদেশ পরমাণু কৃষি গবেষণা ইনস্টিটিউট                                       7307\n",
       "খাদ্য অধিদপ্তর                                                               7302\n",
       "Name: office_name, dtype: int64"
      ]
     },
     "execution_count": 8,
     "metadata": {},
     "output_type": "execute_result"
    }
   ],
   "source": [
    "# df.device_name.unique()\n",
    "df['office_name'].value_counts()[:20]\n",
    "# sns.histplot(data=df, x=\"office_name\", kde=True)\n"
   ]
  },
  {
   "cell_type": "code",
   "execution_count": 8,
   "id": "11866eae-f6ec-4a6b-9e48-dd48a40fd1ab",
   "metadata": {},
   "outputs": [
    {
     "data": {
      "text/plain": [
       "array([620234, 342308,  13682,   1801,    111,     36])"
      ]
     },
     "execution_count": 8,
     "metadata": {},
     "output_type": "execute_result"
    }
   ],
   "source": [
    "# df.device_type.unique()\n",
    "# df.network_information.unique()[:10]\n",
    "# Browser usuage Statistics\n",
    "df.browser_name.value_counts().values"
   ]
  },
  {
   "cell_type": "markdown",
   "id": "d7862d86-7b14-4b1c-a10f-8a4f8e619590",
   "metadata": {},
   "source": [
    "# High Traffic Time"
   ]
  },
  {
   "cell_type": "code",
   "execution_count": 45,
   "id": "68642778-e54e-4cb3-804d-d0d4bd7eeb17",
   "metadata": {},
   "outputs": [
    {
     "data": {
      "text/plain": [
       "447"
      ]
     },
     "execution_count": 45,
     "metadata": {},
     "output_type": "execute_result"
    },
    {
     "data": {
      "text/plain": [
       "447"
      ]
     },
     "execution_count": 45,
     "metadata": {},
     "output_type": "execute_result"
    }
   ],
   "source": [
    "# df.login_time\n",
    "\n",
    "def first_ten_digit_map():\n",
    "    single_digit_map = {}\n",
    "    for i in range(0, 11):\n",
    "        key1 = f\"{i}\"\n",
    "        key2 = f\"0{i}\"\n",
    "        value = f\"0{i}\"\n",
    "        single_digit_map.setdefault(key1, value)\n",
    "        single_digit_map.setdefault(key2, value)\n",
    "        \n",
    "\n",
    "    return single_digit_map\n",
    "single_digit_map = first_ten_digit_map()\n",
    "# single_digit_map\n",
    "\n",
    "count = 0\n",
    "primary_keys = {}\n",
    "df['login_time'] =  df.login_time.fillna(method='bfill')\n",
    "df['login_time'] =  pd.to_datetime(df['login_time'])\n",
    "\n",
    "for date, login_time_frame in df.groupby(df.login_time.dt.date):\n",
    "    \n",
    "    for hour, hour_frame in login_time_frame.groupby(login_time_frame.login_time.dt.hour):\n",
    "        \n",
    "        year = date.year\n",
    "        month = date.month\n",
    "        day = date.day\n",
    "        \n",
    "        \n",
    "        if month < 10:\n",
    "            month = single_digit_map[str(month)]\n",
    "        if day < 10:\n",
    "            day = single_digit_map[str(day)]\n",
    "            \n",
    "        if hour < 10:\n",
    "            hour = single_digit_map[str(hour)]\n",
    "            \n",
    "        key = f\"{year}{month}{day}{hour}\"\n",
    "        primary_keys[key] = hour_frame.shape[0] \n",
    "        count = count +1\n",
    "        # h\n",
    "        \n",
    "count\n",
    "len(primary_keys)\n",
    "# primary_keys\n",
    "\n"
   ]
  },
  {
   "cell_type": "code",
   "execution_count": 61,
   "id": "e711832f-5365-468c-802c-ddc8dd0f9dca",
   "metadata": {},
   "outputs": [],
   "source": [
    "# df.groupby('login_time')\n",
    "# primary_keys\n",
    "hour_map = {}\n",
    "\n",
    "# get hour map\n",
    "for key, value in primary_keys.items():\n",
    "    hour = key[8:]\n",
    "    hour_map[hour] = hour_map.setdefault(hour, 0) + value\n",
    "\n",
    "    "
   ]
  },
  {
   "cell_type": "code",
   "execution_count": 62,
   "id": "9f4c9eb6-8f2e-4d7d-8d83-69c7ccbbb420",
   "metadata": {},
   "outputs": [
    {
     "data": {
      "text/plain": [
       "{'03': 854,\n",
       " '04': 988,\n",
       " '05': 1829,\n",
       " '06': 4451,\n",
       " '07': 7588,\n",
       " '08': 21997,\n",
       " '09': 117037,\n",
       " '10': 115615,\n",
       " '11': 94885,\n",
       " '12': 92135,\n",
       " '13': 70079,\n",
       " '14': 81320,\n",
       " '15': 92993,\n",
       " '16': 86591,\n",
       " '17': 47060,\n",
       " '18': 36284,\n",
       " '19': 28644,\n",
       " '20': 26818,\n",
       " '21': 24468,\n",
       " '22': 21597,\n",
       " '23': 15664,\n",
       " '00': 7399,\n",
       " '01': 2564,\n",
       " '02': 1140}"
      ]
     },
     "execution_count": 62,
     "metadata": {},
     "output_type": "execute_result"
    }
   ],
   "source": [
    "hour_map"
   ]
  },
  {
   "cell_type": "code",
   "execution_count": 63,
   "id": "ae894d41-fc7a-417f-b10b-7b2362343161",
   "metadata": {},
   "outputs": [],
   "source": [
    "# hour_map"
   ]
  },
  {
   "cell_type": "code",
   "execution_count": 90,
   "id": "b2ba045c-62a5-42d7-abab-bc90b057de50",
   "metadata": {},
   "outputs": [
    {
     "data": {
      "text/plain": [
       "'202110287'"
      ]
     },
     "execution_count": 90,
     "metadata": {},
     "output_type": "execute_result"
    }
   ],
   "source": [
    "# for t, h (lgt.dt.date, lgt.dt.hour.values):\n",
    "# str(lgt.dt.date.values[0]).\n",
    "str(lgt.dt.year.values[0]) + str(lgt.dt.month.values[0]) + str(lgt.dt.day.values[0]) + str(lgt.dt.hour.values[0])"
   ]
  },
  {
   "cell_type": "code",
   "execution_count": 91,
   "id": "e18e3925-8a69-4194-8ba7-ab10767e04a8",
   "metadata": {},
   "outputs": [],
   "source": [
    "df['login_time'] = pd.to_datetime(df['login_time'])\n"
   ]
  },
  {
   "cell_type": "code",
   "execution_count": 123,
   "id": "a6a38eb3-36d2-4062-89a2-d9a2dcf8b362",
   "metadata": {},
   "outputs": [
    {
     "data": {
      "text/plain": [
       "datetime.date(2021, 10, 28)"
      ]
     },
     "execution_count": 123,
     "metadata": {},
     "output_type": "execute_result"
    }
   ],
   "source": [
    "# df.duplicated(subset='login_time').sum()\n",
    "lst = []\n",
    "x = df.groupby(df.login_time.dt.date)\n",
    "day = list(x.groups.keys())[0]\n",
    "day\n",
    "# x.groups.keys()\n",
    "b = x.get_group(list(x.groups.keys())[0])\n",
    "\n",
    "# d = b.groupby(b.login_time.dt.hour)\n",
    "# for x1, x2 in d:\n",
    "#     x1, x2.shape[0]\n"
   ]
  },
  {
   "cell_type": "markdown",
   "id": "284e2b81-7731-4f25-91a3-e90e90f3efd2",
   "metadata": {},
   "source": [
    "# experimenting : office vs mobile users"
   ]
  },
  {
   "cell_type": "code",
   "execution_count": 10,
   "id": "6100b1a8-d8af-4d75-9004-eb34b427d1fc",
   "metadata": {},
   "outputs": [
    {
     "data": {
      "text/plain": [
       "Index(['id', 'is_mobile', 'client_ip', 'device_name', 'browser_name',\n",
       "       'employee_record_id', 'ministry_id', 'layer_id', 'origin_id',\n",
       "       'office_id', 'office_unit_id', 'office_unit_organogram', 'office_name',\n",
       "       'unit_name', 'organogram_name', 'user_id', 'employee_name',\n",
       "       'mobile_number', 'employee_email', 'login_time', 'logout_time',\n",
       "       'network_information', 'created', 'modified', 'created_by',\n",
       "       'modified_by', 'token', 'device_type', 'device_id'],\n",
       "      dtype='object')"
      ]
     },
     "execution_count": 10,
     "metadata": {},
     "output_type": "execute_result"
    }
   ],
   "source": [
    "df.columns"
   ]
  },
  {
   "cell_type": "code",
   "execution_count": 11,
   "id": "491018cf-9297-4416-aee3-0daf2aebfbbe",
   "metadata": {},
   "outputs": [],
   "source": [
    "# sns.scatterplot(df['office_id'], df['is_mobile'])"
   ]
  },
  {
   "cell_type": "code",
   "execution_count": null,
   "id": "371f77b7-90ca-4fdc-b59a-a727fed18a2d",
   "metadata": {},
   "outputs": [],
   "source": []
  },
  {
   "cell_type": "code",
   "execution_count": 26,
   "id": "afa4e563-efe1-45c9-b151-630691cc3370",
   "metadata": {},
   "outputs": [],
   "source": [
    "x = df.network_information.values[:]\n",
    "dict_ = {}\n",
    "import json\n",
    "for i in x:\n",
    "    # type(i)\n",
    "    k = json.loads(i).get('NetworkName')\n",
    "    dict_[k] = 1"
   ]
  },
  {
   "cell_type": "code",
   "execution_count": 27,
   "id": "8ad50961-5ee1-4903-a845-cbefd8ef8730",
   "metadata": {},
   "outputs": [
    {
     "data": {
      "text/plain": [
       "{'WiFi': 1, '': 1, None: 1}"
      ]
     },
     "execution_count": 27,
     "metadata": {},
     "output_type": "execute_result"
    }
   ],
   "source": [
    "dict_"
   ]
  },
  {
   "cell_type": "code",
   "execution_count": null,
   "id": "9859b93b-564f-4ba4-a78c-bd5c3f82479e",
   "metadata": {},
   "outputs": [],
   "source": [
    "df.groupby('"
   ]
  },
  {
   "cell_type": "markdown",
   "id": "1e458912-c202-425d-bdbb-290214c7ca39",
   "metadata": {},
   "source": [
    "# Office Login statistics"
   ]
  },
  {
   "cell_type": "code",
   "execution_count": 82,
   "id": "1e18b186-6c56-4217-8e1e-53e01e085a3c",
   "metadata": {},
   "outputs": [],
   "source": [
    "office_login_history_map = {}\n",
    "df['login_time'] = pd.to_datetime(df['login_time'])\n",
    "\n",
    "group_by_day = df.groupby(df.login_time.dt.date)\n",
    "for g_name, g_frame in group_by_day:\n",
    "    sr = g_frame.groupby('office_name')['id'].count()\n",
    "    office_name = sr.index\n",
    "    office_values = sr.values\n",
    "    inner_dict = {}\n",
    "    for key, value in zip(office_name, office_values):\n",
    "        key = key.strip(' ')\n",
    "        inner_dict[key] = value\n",
    "    primary_key = f\"{g_name.year}{g_name.month}{g_name.day}\"\n",
    "    office_login_history_map[primary_key] = inner_dict\n",
    "        \n",
    "    \n",
    "    \n",
    "# x = group_by_day.get_group(list(group_by_day.groups.keys())[3])\n",
    "# a = x.groupby('office_name')['id'].count()\n",
    "\n",
    "# type(a)\n",
    "# a.index\n",
    "# a.values\n",
    "\n",
    "# df[['login_time', 'created']][:50]"
   ]
  },
  {
   "cell_type": "code",
   "execution_count": 94,
   "id": "cba90a75-4875-4454-afad-03d03c77f80a",
   "metadata": {},
   "outputs": [
    {
     "data": {
      "text/plain": [
       "19"
      ]
     },
     "execution_count": 94,
     "metadata": {},
     "output_type": "execute_result"
    }
   ],
   "source": [
    "len(office_login_history_map)\n",
    "office_login_frequenc = {}\n",
    "for key, value in office_login_history_map.items():\n",
    "    for k, v in value.items():\n",
    "        office_login_frequenc[k] = office_login_frequenc.setdefault(k, 0) + v\n",
    "\n"
   ]
  },
  {
   "cell_type": "code",
   "execution_count": 18,
   "id": "3824aa61-3904-465e-893e-96569329d39e",
   "metadata": {},
   "outputs": [],
   "source": [
    "# sorted(office_login_frequenc.items(), key=lambda x: x[1], reverse=True)\n",
    "# office_login_frequenc"
   ]
  }
 ],
 "metadata": {
  "kernelspec": {
   "display_name": "Python 3 (ipykernel)",
   "language": "python",
   "name": "python3"
  },
  "language_info": {
   "codemirror_mode": {
    "name": "ipython",
    "version": 3
   },
   "file_extension": ".py",
   "mimetype": "text/x-python",
   "name": "python",
   "nbconvert_exporter": "python",
   "pygments_lexer": "ipython3",
   "version": "3.8.10"
  },
  "vscode": {
   "interpreter": {
    "hash": "f9f85f796d01129d0dd105a088854619f454435301f6ffec2fea96ecbd9be4ac"
   }
  }
 },
 "nbformat": 4,
 "nbformat_minor": 5
}
