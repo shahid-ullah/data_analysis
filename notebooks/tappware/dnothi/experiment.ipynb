{
 "cells": [
  {
   "cell_type": "code",
   "execution_count": null,
   "id": "1eab5836-d455-4470-9bc8-df0a69686e57",
   "metadata": {},
   "outputs": [],
   "source": [
    "# import necessary library\n",
    "from IPython.core.interactiveshell import InteractiveShell\n",
    "InteractiveShell.ast_node_interactivity = \"all\"\n",
    "\n",
    "import pandas as pd\n",
    "import numpy as np\n",
    "import matplotlib.pyplot as plt\n",
    "pd.set_option('display.max_columns', None)"
   ]
  },
  {
   "cell_type": "code",
   "execution_count": 5,
   "id": "4b18f25a-3c94-4763-ad90-d247c1d7d7df",
   "metadata": {},
   "outputs": [],
   "source": [
    "columns = [\n",
    "    'id',\n",
    "    'year_month_day',\n",
    "    'year',\n",
    "    'month',\n",
    "    'day',\n",
    "    'count_or_sum',\n",
    "    'created',\n",
    "    'updated',\n",
    "    'report_date',\n",
    "    'creator_id',\n",
    "    'report_day'\n",
    "]"
   ]
  },
  {
   "cell_type": "code",
   "execution_count": 98,
   "id": "bce3bcf9-8569-4326-8a3b-9b36af4216ca",
   "metadata": {},
   "outputs": [],
   "source": [
    "\n",
    "dataframe = pd.read_csv('report_total_offices.csv', names=columns)\n"
   ]
  },
  {
   "cell_type": "code",
   "execution_count": 101,
   "id": "3c3c1852-4197-42b1-8476-6360ad42f86e",
   "metadata": {},
   "outputs": [
    {
     "data": {
      "text/html": [
       "<div>\n",
       "<style scoped>\n",
       "    .dataframe tbody tr th:only-of-type {\n",
       "        vertical-align: middle;\n",
       "    }\n",
       "\n",
       "    .dataframe tbody tr th {\n",
       "        vertical-align: top;\n",
       "    }\n",
       "\n",
       "    .dataframe thead th {\n",
       "        text-align: right;\n",
       "    }\n",
       "</style>\n",
       "<table border=\"1\" class=\"dataframe\">\n",
       "  <thead>\n",
       "    <tr style=\"text-align: right;\">\n",
       "      <th></th>\n",
       "      <th>id</th>\n",
       "      <th>year_month_day</th>\n",
       "      <th>year</th>\n",
       "      <th>month</th>\n",
       "      <th>day</th>\n",
       "      <th>count_or_sum</th>\n",
       "      <th>created</th>\n",
       "      <th>updated</th>\n",
       "      <th>report_date</th>\n",
       "      <th>creator_id</th>\n",
       "      <th>report_day</th>\n",
       "    </tr>\n",
       "  </thead>\n",
       "  <tbody>\n",
       "    <tr>\n",
       "      <th>0</th>\n",
       "      <td>9171</td>\n",
       "      <td>20151005</td>\n",
       "      <td>2015</td>\n",
       "      <td>10</td>\n",
       "      <td>5</td>\n",
       "      <td>3</td>\n",
       "      <td>2022-02-02 06:01:24.296973</td>\n",
       "      <td>2022-02-02 06:01:24.296990</td>\n",
       "      <td>2015-10-05</td>\n",
       "      <td>2</td>\n",
       "      <td>2015-10-05 00:00:00.000000</td>\n",
       "    </tr>\n",
       "    <tr>\n",
       "      <th>1</th>\n",
       "      <td>9172</td>\n",
       "      <td>20151006</td>\n",
       "      <td>2015</td>\n",
       "      <td>10</td>\n",
       "      <td>6</td>\n",
       "      <td>12</td>\n",
       "      <td>2022-02-02 06:01:24.309629</td>\n",
       "      <td>2022-02-02 06:01:24.309645</td>\n",
       "      <td>2015-10-06</td>\n",
       "      <td>2</td>\n",
       "      <td>2015-10-06 00:00:00.000000</td>\n",
       "    </tr>\n",
       "    <tr>\n",
       "      <th>2</th>\n",
       "      <td>9173</td>\n",
       "      <td>20151118</td>\n",
       "      <td>2015</td>\n",
       "      <td>11</td>\n",
       "      <td>18</td>\n",
       "      <td>1</td>\n",
       "      <td>2022-02-02 06:01:24.312250</td>\n",
       "      <td>2022-02-02 06:01:24.312264</td>\n",
       "      <td>2015-11-18</td>\n",
       "      <td>2</td>\n",
       "      <td>2015-11-18 00:00:00.000000</td>\n",
       "    </tr>\n",
       "    <tr>\n",
       "      <th>3</th>\n",
       "      <td>9174</td>\n",
       "      <td>20151125</td>\n",
       "      <td>2015</td>\n",
       "      <td>11</td>\n",
       "      <td>25</td>\n",
       "      <td>1</td>\n",
       "      <td>2022-02-02 06:01:24.314334</td>\n",
       "      <td>2022-02-02 06:01:24.314349</td>\n",
       "      <td>2015-11-25</td>\n",
       "      <td>2</td>\n",
       "      <td>2015-11-25 00:00:00.000000</td>\n",
       "    </tr>\n",
       "    <tr>\n",
       "      <th>4</th>\n",
       "      <td>9175</td>\n",
       "      <td>20151203</td>\n",
       "      <td>2015</td>\n",
       "      <td>12</td>\n",
       "      <td>3</td>\n",
       "      <td>4</td>\n",
       "      <td>2022-02-02 06:01:24.317464</td>\n",
       "      <td>2022-02-02 06:01:24.317480</td>\n",
       "      <td>2015-12-03</td>\n",
       "      <td>2</td>\n",
       "      <td>2015-12-03 00:00:00.000000</td>\n",
       "    </tr>\n",
       "  </tbody>\n",
       "</table>\n",
       "</div>"
      ],
      "text/plain": [
       "     id  year_month_day  year  month  day  count_or_sum  \\\n",
       "0  9171        20151005  2015     10    5             3   \n",
       "1  9172        20151006  2015     10    6            12   \n",
       "2  9173        20151118  2015     11   18             1   \n",
       "3  9174        20151125  2015     11   25             1   \n",
       "4  9175        20151203  2015     12    3             4   \n",
       "\n",
       "                      created                     updated report_date  \\\n",
       "0  2022-02-02 06:01:24.296973  2022-02-02 06:01:24.296990  2015-10-05   \n",
       "1  2022-02-02 06:01:24.309629  2022-02-02 06:01:24.309645  2015-10-06   \n",
       "2  2022-02-02 06:01:24.312250  2022-02-02 06:01:24.312264  2015-11-18   \n",
       "3  2022-02-02 06:01:24.314334  2022-02-02 06:01:24.314349  2015-11-25   \n",
       "4  2022-02-02 06:01:24.317464  2022-02-02 06:01:24.317480  2015-12-03   \n",
       "\n",
       "   creator_id                  report_day  \n",
       "0           2  2015-10-05 00:00:00.000000  \n",
       "1           2  2015-10-06 00:00:00.000000  \n",
       "2           2  2015-11-18 00:00:00.000000  \n",
       "3           2  2015-11-25 00:00:00.000000  \n",
       "4           2  2015-12-03 00:00:00.000000  "
      ]
     },
     "execution_count": 101,
     "metadata": {},
     "output_type": "execute_result"
    },
    {
     "data": {
      "text/plain": [
       "(917, 11)"
      ]
     },
     "execution_count": 101,
     "metadata": {},
     "output_type": "execute_result"
    }
   ],
   "source": [
    "dataframe.head()\n",
    "dataframe.shape"
   ]
  },
  {
   "cell_type": "code",
   "execution_count": 132,
   "id": "945d62ef-6ab0-437c-aa8d-350a8f1f0702",
   "metadata": {},
   "outputs": [],
   "source": [
    "# year_map = {}\n",
    "# year_map['2015'] = {'count': 23, 'month_map': [], '10': {}}\n",
    "\n",
    "# year_map['2015']['10'] = {'count': 34, 'day_map': [(3, 5), (5, 9)]}\n",
    "\n",
    "# year_map['2015']['10']['day_map']\n",
    "# general_map = {}\n",
    "drilldown_map = {}\n",
    "year_map = {}\n",
    "month_map = {}\n",
    "day_map = {}\n",
    "\n",
    "year_group_by = dataframe.groupby('year')\n",
    "i = 0\n",
    "for year, year_frame in year_group_by:\n",
    "    year_map[year] = year_frame['count_or_sum'].sum()\n",
    "    month_map[year] = {}\n",
    "    day_map[year] = {}\n",
    "    \n",
    "    month_group_by = year_frame.groupby('month')\n",
    "    \n",
    "    for month, month_frame in month_group_by:\n",
    "        month_map[year][month] = month_frame['count_or_sum'].sum()\n",
    "        \n",
    "        day_map[year][month] = {}\n",
    "        \n",
    "        day_group_by = month_frame.groupby('day')\n",
    "        for day, day_frame in day_group_by:\n",
    "            day_map[year][month][day] = day_frame['count_or_sum'].sum()\n"
   ]
  },
  {
   "cell_type": "code",
   "execution_count": 131,
   "id": "cda827f9-36c1-4784-8a10-cdceb3d323c3",
   "metadata": {},
   "outputs": [
    {
     "data": {
      "text/plain": [
       "(2015, 8, {2: 1, 13: 3, 14: 1, 15: 1})"
      ]
     },
     "execution_count": 131,
     "metadata": {},
     "output_type": "execute_result"
    },
    {
     "data": {
      "text/plain": [
       "(2015, 10, {5: 3, 6: 12})"
      ]
     },
     "execution_count": 131,
     "metadata": {},
     "output_type": "execute_result"
    },
    {
     "data": {
      "text/plain": [
       "(2015, 11, {18: 1, 25: 1})"
      ]
     },
     "execution_count": 131,
     "metadata": {},
     "output_type": "execute_result"
    },
    {
     "data": {
      "text/plain": [
       "(2015, 12, {3: 4, 30: 1, 31: 10})"
      ]
     },
     "execution_count": 131,
     "metadata": {},
     "output_type": "execute_result"
    },
    {
     "data": {
      "text/plain": [
       "(2016, 1, {9: 1, 10: 2})"
      ]
     },
     "execution_count": 131,
     "metadata": {},
     "output_type": "execute_result"
    },
    {
     "data": {
      "text/plain": [
       "(2016, 2, {23: 1, 25: 2})"
      ]
     },
     "execution_count": 131,
     "metadata": {},
     "output_type": "execute_result"
    },
    {
     "data": {
      "text/plain": [
       "(2016, 3, {7: 5, 10: 1, 19: 5, 23: 4, 27: 1, 30: 1, 31: 2})"
      ]
     },
     "execution_count": 131,
     "metadata": {},
     "output_type": "execute_result"
    },
    {
     "data": {
      "text/plain": [
       "(2016, 4, {2: 1, 7: 1, 10: 2, 11: 1, 12: 3, 28: 1, 30: 1})"
      ]
     },
     "execution_count": 131,
     "metadata": {},
     "output_type": "execute_result"
    },
    {
     "data": {
      "text/plain": [
       "(2016,\n",
       " 5,\n",
       " {1: 7,\n",
       "  2: 3,\n",
       "  3: 3,\n",
       "  6: 1,\n",
       "  10: 15,\n",
       "  11: 3,\n",
       "  12: 1,\n",
       "  15: 1,\n",
       "  16: 1,\n",
       "  17: 1,\n",
       "  19: 1,\n",
       "  20: 12,\n",
       "  21: 1,\n",
       "  22: 12,\n",
       "  25: 26,\n",
       "  26: 19,\n",
       "  30: 12,\n",
       "  31: 9})"
      ]
     },
     "execution_count": 131,
     "metadata": {},
     "output_type": "execute_result"
    },
    {
     "data": {
      "text/plain": [
       "(2016,\n",
       " 6,\n",
       " {1: 15,\n",
       "  2: 46,\n",
       "  5: 11,\n",
       "  6: 9,\n",
       "  7: 14,\n",
       "  8: 23,\n",
       "  9: 1,\n",
       "  12: 5,\n",
       "  13: 2,\n",
       "  14: 23,\n",
       "  15: 5,\n",
       "  16: 18,\n",
       "  20: 2,\n",
       "  21: 8,\n",
       "  22: 8,\n",
       "  24: 27,\n",
       "  26: 1,\n",
       "  27: 4,\n",
       "  29: 3,\n",
       "  30: 2})"
      ]
     },
     "execution_count": 131,
     "metadata": {},
     "output_type": "execute_result"
    },
    {
     "data": {
      "text/plain": [
       "(2016,\n",
       " 7,\n",
       " {10: 6,\n",
       "  11: 11,\n",
       "  12: 33,\n",
       "  13: 6,\n",
       "  14: 4,\n",
       "  15: 2,\n",
       "  16: 31,\n",
       "  17: 34,\n",
       "  18: 205,\n",
       "  19: 107,\n",
       "  20: 80,\n",
       "  21: 141,\n",
       "  23: 1,\n",
       "  24: 34,\n",
       "  25: 21,\n",
       "  26: 53,\n",
       "  27: 33,\n",
       "  31: 38})"
      ]
     },
     "execution_count": 131,
     "metadata": {},
     "output_type": "execute_result"
    },
    {
     "data": {
      "text/plain": [
       "(2016,\n",
       " 8,\n",
       " {1: 20,\n",
       "  2: 1,\n",
       "  3: 7,\n",
       "  4: 1,\n",
       "  5: 4,\n",
       "  7: 17,\n",
       "  8: 10,\n",
       "  9: 9,\n",
       "  11: 3,\n",
       "  14: 2,\n",
       "  16: 32,\n",
       "  17: 1,\n",
       "  18: 3,\n",
       "  21: 1,\n",
       "  22: 7,\n",
       "  23: 18,\n",
       "  24: 2,\n",
       "  29: 1})"
      ]
     },
     "execution_count": 131,
     "metadata": {},
     "output_type": "execute_result"
    },
    {
     "data": {
      "text/plain": [
       "(2016,\n",
       " 9,\n",
       " {4: 4,\n",
       "  5: 1,\n",
       "  6: 6,\n",
       "  7: 3,\n",
       "  8: 7,\n",
       "  11: 1,\n",
       "  18: 3,\n",
       "  19: 7,\n",
       "  20: 2,\n",
       "  22: 1,\n",
       "  23: 23,\n",
       "  24: 2,\n",
       "  25: 11,\n",
       "  27: 9,\n",
       "  28: 6,\n",
       "  29: 13})"
      ]
     },
     "execution_count": 131,
     "metadata": {},
     "output_type": "execute_result"
    },
    {
     "data": {
      "text/plain": [
       "(2016,\n",
       " 10,\n",
       " {4: 1,\n",
       "  5: 1,\n",
       "  9: 4,\n",
       "  10: 3,\n",
       "  12: 1,\n",
       "  13: 2,\n",
       "  15: 8,\n",
       "  16: 9,\n",
       "  17: 16,\n",
       "  18: 11,\n",
       "  19: 22,\n",
       "  20: 12,\n",
       "  22: 2,\n",
       "  23: 8,\n",
       "  25: 7,\n",
       "  31: 1})"
      ]
     },
     "execution_count": 131,
     "metadata": {},
     "output_type": "execute_result"
    },
    {
     "data": {
      "text/plain": [
       "(2016,\n",
       " 11,\n",
       " {2: 1,\n",
       "  3: 17,\n",
       "  4: 7,\n",
       "  5: 5,\n",
       "  6: 5,\n",
       "  8: 4,\n",
       "  10: 2,\n",
       "  13: 4,\n",
       "  14: 1,\n",
       "  15: 6,\n",
       "  17: 9,\n",
       "  18: 2,\n",
       "  19: 1,\n",
       "  21: 2,\n",
       "  24: 7,\n",
       "  27: 6})"
      ]
     },
     "execution_count": 131,
     "metadata": {},
     "output_type": "execute_result"
    },
    {
     "data": {
      "text/plain": [
       "(2016,\n",
       " 12,\n",
       " {4: 3,\n",
       "  5: 12,\n",
       "  6: 8,\n",
       "  8: 6,\n",
       "  18: 10,\n",
       "  19: 21,\n",
       "  20: 18,\n",
       "  21: 12,\n",
       "  22: 10,\n",
       "  26: 15,\n",
       "  27: 20,\n",
       "  28: 29,\n",
       "  29: 10})"
      ]
     },
     "execution_count": 131,
     "metadata": {},
     "output_type": "execute_result"
    },
    {
     "data": {
      "text/plain": [
       "(2017,\n",
       " 1,\n",
       " {1: 8,\n",
       "  2: 11,\n",
       "  3: 1,\n",
       "  4: 5,\n",
       "  5: 5,\n",
       "  8: 2,\n",
       "  9: 6,\n",
       "  10: 2,\n",
       "  11: 13,\n",
       "  15: 16,\n",
       "  16: 3,\n",
       "  17: 6,\n",
       "  18: 9,\n",
       "  20: 4,\n",
       "  21: 17,\n",
       "  22: 7,\n",
       "  23: 2,\n",
       "  24: 1,\n",
       "  25: 5,\n",
       "  26: 30,\n",
       "  27: 5,\n",
       "  29: 4,\n",
       "  30: 2,\n",
       "  31: 14})"
      ]
     },
     "execution_count": 131,
     "metadata": {},
     "output_type": "execute_result"
    },
    {
     "data": {
      "text/plain": [
       "(2017,\n",
       " 2,\n",
       " {1: 10,\n",
       "  2: 11,\n",
       "  3: 2,\n",
       "  5: 2,\n",
       "  6: 1,\n",
       "  7: 37,\n",
       "  8: 14,\n",
       "  9: 1,\n",
       "  10: 8,\n",
       "  11: 1,\n",
       "  12: 3,\n",
       "  13: 6,\n",
       "  14: 10,\n",
       "  15: 13,\n",
       "  16: 12,\n",
       "  17: 1,\n",
       "  18: 2,\n",
       "  19: 13,\n",
       "  20: 10,\n",
       "  21: 7,\n",
       "  22: 1,\n",
       "  23: 15,\n",
       "  24: 3,\n",
       "  25: 9,\n",
       "  26: 11,\n",
       "  27: 10,\n",
       "  28: 19})"
      ]
     },
     "execution_count": 131,
     "metadata": {},
     "output_type": "execute_result"
    },
    {
     "data": {
      "text/plain": [
       "(2017,\n",
       " 3,\n",
       " {1: 5,\n",
       "  2: 9,\n",
       "  3: 7,\n",
       "  5: 17,\n",
       "  6: 21,\n",
       "  7: 2,\n",
       "  8: 18,\n",
       "  9: 3,\n",
       "  11: 1,\n",
       "  12: 15,\n",
       "  13: 9,\n",
       "  14: 8,\n",
       "  15: 2,\n",
       "  16: 10,\n",
       "  19: 1,\n",
       "  21: 2,\n",
       "  27: 10,\n",
       "  30: 8})"
      ]
     },
     "execution_count": 131,
     "metadata": {},
     "output_type": "execute_result"
    },
    {
     "data": {
      "text/plain": [
       "(2017,\n",
       " 4,\n",
       " {2: 2,\n",
       "  3: 1,\n",
       "  4: 11,\n",
       "  5: 8,\n",
       "  9: 2,\n",
       "  10: 1,\n",
       "  11: 5,\n",
       "  12: 8,\n",
       "  13: 10,\n",
       "  15: 3,\n",
       "  16: 9,\n",
       "  18: 6,\n",
       "  19: 2,\n",
       "  22: 1,\n",
       "  23: 8,\n",
       "  24: 3,\n",
       "  25: 4,\n",
       "  26: 14})"
      ]
     },
     "execution_count": 131,
     "metadata": {},
     "output_type": "execute_result"
    },
    {
     "data": {
      "text/plain": [
       "(2017,\n",
       " 5,\n",
       " {1: 17,\n",
       "  2: 20,\n",
       "  3: 9,\n",
       "  4: 8,\n",
       "  6: 2,\n",
       "  7: 6,\n",
       "  9: 4,\n",
       "  10: 4,\n",
       "  11: 13,\n",
       "  14: 7,\n",
       "  15: 28,\n",
       "  16: 24,\n",
       "  17: 25,\n",
       "  18: 12,\n",
       "  21: 14,\n",
       "  22: 11,\n",
       "  23: 15,\n",
       "  24: 33,\n",
       "  25: 42,\n",
       "  26: 2,\n",
       "  27: 26,\n",
       "  28: 39,\n",
       "  29: 13,\n",
       "  30: 11,\n",
       "  31: 10})"
      ]
     },
     "execution_count": 131,
     "metadata": {},
     "output_type": "execute_result"
    },
    {
     "data": {
      "text/plain": [
       "(2017,\n",
       " 6,\n",
       " {1: 1,\n",
       "  2: 9,\n",
       "  4: 8,\n",
       "  5: 7,\n",
       "  6: 25,\n",
       "  7: 3,\n",
       "  8: 33,\n",
       "  11: 10,\n",
       "  12: 19,\n",
       "  13: 1,\n",
       "  14: 25,\n",
       "  15: 23,\n",
       "  16: 10,\n",
       "  18: 12,\n",
       "  19: 12,\n",
       "  20: 5,\n",
       "  21: 12,\n",
       "  22: 29})"
      ]
     },
     "execution_count": 131,
     "metadata": {},
     "output_type": "execute_result"
    },
    {
     "data": {
      "text/plain": [
       "(2017,\n",
       " 7,\n",
       " {3: 26,\n",
       "  4: 19,\n",
       "  5: 1,\n",
       "  6: 13,\n",
       "  10: 7,\n",
       "  12: 7,\n",
       "  13: 7,\n",
       "  16: 2,\n",
       "  18: 16,\n",
       "  19: 2,\n",
       "  20: 13,\n",
       "  23: 8,\n",
       "  24: 2,\n",
       "  26: 3,\n",
       "  27: 3,\n",
       "  31: 16})"
      ]
     },
     "execution_count": 131,
     "metadata": {},
     "output_type": "execute_result"
    },
    {
     "data": {
      "text/plain": [
       "(2017,\n",
       " 8,\n",
       " {1: 5,\n",
       "  2: 21,\n",
       "  3: 16,\n",
       "  4: 5,\n",
       "  5: 8,\n",
       "  6: 16,\n",
       "  7: 6,\n",
       "  8: 5,\n",
       "  9: 8,\n",
       "  10: 3,\n",
       "  12: 2,\n",
       "  13: 3,\n",
       "  16: 18,\n",
       "  17: 14,\n",
       "  19: 3,\n",
       "  20: 3,\n",
       "  23: 9,\n",
       "  24: 15,\n",
       "  25: 1,\n",
       "  26: 12,\n",
       "  27: 5,\n",
       "  29: 1,\n",
       "  30: 2})"
      ]
     },
     "execution_count": 131,
     "metadata": {},
     "output_type": "execute_result"
    },
    {
     "data": {
      "text/plain": [
       "(2017,\n",
       " 9,\n",
       " {5: 2,\n",
       "  7: 1,\n",
       "  10: 10,\n",
       "  11: 4,\n",
       "  12: 16,\n",
       "  13: 9,\n",
       "  14: 8,\n",
       "  15: 1,\n",
       "  16: 3,\n",
       "  18: 7,\n",
       "  19: 18,\n",
       "  20: 6,\n",
       "  21: 4,\n",
       "  23: 1,\n",
       "  24: 10,\n",
       "  25: 5,\n",
       "  26: 9,\n",
       "  27: 5,\n",
       "  28: 1,\n",
       "  29: 1})"
      ]
     },
     "execution_count": 131,
     "metadata": {},
     "output_type": "execute_result"
    },
    {
     "data": {
      "text/plain": [
       "(2017,\n",
       " 10,\n",
       " {2: 2,\n",
       "  3: 1,\n",
       "  5: 3,\n",
       "  11: 11,\n",
       "  12: 1,\n",
       "  15: 3,\n",
       "  17: 1,\n",
       "  18: 11,\n",
       "  19: 14,\n",
       "  23: 2,\n",
       "  24: 9,\n",
       "  25: 2,\n",
       "  26: 7,\n",
       "  29: 5,\n",
       "  30: 22,\n",
       "  31: 11})"
      ]
     },
     "execution_count": 131,
     "metadata": {},
     "output_type": "execute_result"
    },
    {
     "data": {
      "text/plain": [
       "(2017,\n",
       " 11,\n",
       " {1: 7,\n",
       "  2: 18,\n",
       "  5: 7,\n",
       "  6: 18,\n",
       "  7: 28,\n",
       "  8: 32,\n",
       "  9: 19,\n",
       "  10: 3,\n",
       "  11: 9,\n",
       "  13: 8,\n",
       "  14: 9,\n",
       "  15: 17,\n",
       "  16: 7,\n",
       "  19: 3,\n",
       "  20: 17,\n",
       "  21: 6,\n",
       "  22: 1,\n",
       "  23: 9,\n",
       "  26: 8,\n",
       "  27: 1,\n",
       "  28: 3,\n",
       "  29: 1,\n",
       "  30: 13})"
      ]
     },
     "execution_count": 131,
     "metadata": {},
     "output_type": "execute_result"
    },
    {
     "data": {
      "text/plain": [
       "(2017,\n",
       " 12,\n",
       " {2: 12,\n",
       "  3: 3,\n",
       "  4: 4,\n",
       "  5: 18,\n",
       "  6: 2,\n",
       "  10: 4,\n",
       "  11: 2,\n",
       "  12: 12,\n",
       "  13: 13,\n",
       "  14: 2,\n",
       "  17: 2,\n",
       "  19: 3,\n",
       "  20: 3,\n",
       "  21: 1,\n",
       "  24: 1,\n",
       "  26: 2,\n",
       "  27: 3,\n",
       "  28: 1})"
      ]
     },
     "execution_count": 131,
     "metadata": {},
     "output_type": "execute_result"
    },
    {
     "data": {
      "text/plain": [
       "(2018,\n",
       " 1,\n",
       " {1: 7,\n",
       "  2: 2,\n",
       "  4: 6,\n",
       "  8: 16,\n",
       "  9: 10,\n",
       "  10: 10,\n",
       "  11: 6,\n",
       "  14: 1,\n",
       "  15: 11,\n",
       "  16: 2,\n",
       "  17: 24,\n",
       "  18: 3,\n",
       "  21: 4,\n",
       "  22: 13,\n",
       "  23: 5,\n",
       "  24: 13,\n",
       "  25: 6,\n",
       "  28: 68,\n",
       "  29: 25,\n",
       "  30: 26,\n",
       "  31: 1})"
      ]
     },
     "execution_count": 131,
     "metadata": {},
     "output_type": "execute_result"
    },
    {
     "data": {
      "text/plain": [
       "(2018,\n",
       " 2,\n",
       " {1: 7,\n",
       "  5: 1,\n",
       "  6: 1,\n",
       "  7: 15,\n",
       "  8: 6,\n",
       "  11: 2,\n",
       "  12: 12,\n",
       "  13: 12,\n",
       "  14: 15,\n",
       "  15: 4,\n",
       "  19: 12,\n",
       "  20: 7,\n",
       "  21: 6,\n",
       "  22: 13,\n",
       "  25: 6,\n",
       "  26: 9,\n",
       "  27: 1,\n",
       "  28: 2})"
      ]
     },
     "execution_count": 131,
     "metadata": {},
     "output_type": "execute_result"
    },
    {
     "data": {
      "text/plain": [
       "(2018,\n",
       " 3,\n",
       " {4: 4,\n",
       "  5: 2,\n",
       "  6: 10,\n",
       "  7: 16,\n",
       "  8: 14,\n",
       "  11: 13,\n",
       "  12: 1,\n",
       "  13: 5,\n",
       "  14: 22,\n",
       "  15: 16,\n",
       "  16: 2,\n",
       "  18: 6,\n",
       "  19: 9,\n",
       "  20: 4,\n",
       "  21: 5,\n",
       "  22: 5,\n",
       "  24: 1,\n",
       "  25: 25,\n",
       "  26: 4,\n",
       "  27: 3,\n",
       "  28: 2,\n",
       "  29: 11})"
      ]
     },
     "execution_count": 131,
     "metadata": {},
     "output_type": "execute_result"
    },
    {
     "data": {
      "text/plain": [
       "(2018,\n",
       " 4,\n",
       " {1: 4,\n",
       "  2: 3,\n",
       "  3: 3,\n",
       "  4: 6,\n",
       "  5: 7,\n",
       "  8: 13,\n",
       "  10: 8,\n",
       "  11: 7,\n",
       "  12: 12,\n",
       "  15: 19,\n",
       "  16: 10,\n",
       "  17: 15,\n",
       "  18: 16,\n",
       "  19: 13,\n",
       "  22: 18,\n",
       "  23: 22,\n",
       "  24: 18,\n",
       "  25: 25,\n",
       "  26: 18,\n",
       "  30: 15})"
      ]
     },
     "execution_count": 131,
     "metadata": {},
     "output_type": "execute_result"
    },
    {
     "data": {
      "text/plain": [
       "(2018,\n",
       " 5,\n",
       " {3: 20,\n",
       "  6: 9,\n",
       "  7: 16,\n",
       "  8: 6,\n",
       "  9: 10,\n",
       "  10: 25,\n",
       "  12: 2,\n",
       "  13: 7,\n",
       "  14: 2,\n",
       "  15: 5,\n",
       "  16: 6,\n",
       "  17: 4,\n",
       "  20: 36,\n",
       "  21: 13,\n",
       "  22: 15,\n",
       "  23: 14,\n",
       "  24: 4,\n",
       "  26: 1,\n",
       "  27: 20,\n",
       "  28: 26,\n",
       "  29: 21,\n",
       "  30: 7,\n",
       "  31: 3})"
      ]
     },
     "execution_count": 131,
     "metadata": {},
     "output_type": "execute_result"
    },
    {
     "data": {
      "text/plain": [
       "(2018,\n",
       " 6,\n",
       " {3: 12,\n",
       "  4: 7,\n",
       "  5: 11,\n",
       "  6: 14,\n",
       "  7: 8,\n",
       "  10: 13,\n",
       "  11: 1,\n",
       "  12: 2,\n",
       "  14: 3,\n",
       "  20: 10,\n",
       "  21: 7,\n",
       "  24: 14,\n",
       "  25: 5,\n",
       "  26: 15,\n",
       "  27: 14})"
      ]
     },
     "execution_count": 131,
     "metadata": {},
     "output_type": "execute_result"
    },
    {
     "data": {
      "text/plain": [
       "(2018,\n",
       " 7,\n",
       " {1: 5,\n",
       "  2: 3,\n",
       "  3: 13,\n",
       "  4: 2,\n",
       "  5: 7,\n",
       "  8: 11,\n",
       "  9: 9,\n",
       "  10: 11,\n",
       "  11: 8,\n",
       "  12: 2,\n",
       "  13: 1,\n",
       "  14: 4,\n",
       "  15: 12,\n",
       "  16: 34,\n",
       "  17: 9,\n",
       "  18: 17,\n",
       "  19: 4,\n",
       "  22: 23,\n",
       "  23: 13,\n",
       "  24: 10,\n",
       "  25: 5,\n",
       "  26: 9,\n",
       "  29: 1,\n",
       "  30: 27,\n",
       "  31: 4})"
      ]
     },
     "execution_count": 131,
     "metadata": {},
     "output_type": "execute_result"
    },
    {
     "data": {
      "text/plain": [
       "(2018,\n",
       " 8,\n",
       " {1: 11,\n",
       "  2: 7,\n",
       "  5: 5,\n",
       "  6: 13,\n",
       "  7: 11,\n",
       "  8: 3,\n",
       "  9: 6,\n",
       "  12: 3,\n",
       "  13: 13,\n",
       "  16: 2,\n",
       "  17: 1,\n",
       "  26: 1,\n",
       "  27: 2,\n",
       "  28: 4,\n",
       "  29: 10,\n",
       "  30: 4})"
      ]
     },
     "execution_count": 131,
     "metadata": {},
     "output_type": "execute_result"
    },
    {
     "data": {
      "text/plain": [
       "(2018, 9, {4: 2, 5: 1, 6: 2, 17: 5, 18: 1, 19: 1, 25: 1, 26: 3, 30: 4})"
      ]
     },
     "execution_count": 131,
     "metadata": {},
     "output_type": "execute_result"
    },
    {
     "data": {
      "text/plain": [
       "(2018,\n",
       " 10,\n",
       " {1: 1,\n",
       "  2: 5,\n",
       "  3: 8,\n",
       "  4: 1,\n",
       "  7: 2,\n",
       "  17: 10,\n",
       "  18: 7,\n",
       "  21: 3,\n",
       "  22: 3,\n",
       "  23: 3,\n",
       "  25: 4,\n",
       "  28: 2,\n",
       "  29: 7,\n",
       "  30: 8,\n",
       "  31: 15})"
      ]
     },
     "execution_count": 131,
     "metadata": {},
     "output_type": "execute_result"
    },
    {
     "data": {
      "text/plain": [
       "(2018,\n",
       " 11,\n",
       " {4: 1,\n",
       "  6: 8,\n",
       "  7: 6,\n",
       "  11: 3,\n",
       "  13: 3,\n",
       "  14: 1,\n",
       "  15: 2,\n",
       "  22: 17,\n",
       "  25: 15,\n",
       "  27: 3,\n",
       "  28: 7,\n",
       "  29: 3,\n",
       "  30: 2})"
      ]
     },
     "execution_count": 131,
     "metadata": {},
     "output_type": "execute_result"
    },
    {
     "data": {
      "text/plain": [
       "(2018,\n",
       " 12,\n",
       " {2: 2,\n",
       "  5: 2,\n",
       "  6: 5,\n",
       "  9: 4,\n",
       "  10: 3,\n",
       "  12: 4,\n",
       "  13: 5,\n",
       "  14: 1,\n",
       "  15: 4,\n",
       "  16: 1,\n",
       "  17: 4,\n",
       "  18: 10,\n",
       "  19: 11,\n",
       "  21: 6,\n",
       "  23: 8,\n",
       "  24: 7,\n",
       "  26: 18,\n",
       "  27: 4})"
      ]
     },
     "execution_count": 131,
     "metadata": {},
     "output_type": "execute_result"
    },
    {
     "data": {
      "text/plain": [
       "(2019,\n",
       " 1,\n",
       " {1: 5,\n",
       "  2: 1,\n",
       "  3: 1,\n",
       "  4: 8,\n",
       "  7: 1,\n",
       "  8: 8,\n",
       "  9: 4,\n",
       "  10: 3,\n",
       "  13: 4,\n",
       "  14: 2,\n",
       "  15: 2,\n",
       "  16: 5,\n",
       "  17: 2,\n",
       "  20: 2,\n",
       "  21: 2,\n",
       "  22: 10,\n",
       "  23: 1,\n",
       "  24: 4,\n",
       "  28: 4,\n",
       "  29: 9,\n",
       "  30: 2,\n",
       "  31: 6})"
      ]
     },
     "execution_count": 131,
     "metadata": {},
     "output_type": "execute_result"
    },
    {
     "data": {
      "text/plain": [
       "(2019,\n",
       " 2,\n",
       " {3: 3, 4: 7, 6: 9, 7: 26, 10: 7, 11: 46, 12: 50, 13: 8, 26: 1, 27: 19})"
      ]
     },
     "execution_count": 131,
     "metadata": {},
     "output_type": "execute_result"
    },
    {
     "data": {
      "text/plain": [
       "(2019,\n",
       " 3,\n",
       " {4: 1,\n",
       "  6: 21,\n",
       "  7: 1,\n",
       "  10: 2,\n",
       "  11: 22,\n",
       "  16: 1,\n",
       "  18: 6,\n",
       "  20: 19,\n",
       "  21: 2,\n",
       "  24: 2,\n",
       "  25: 2,\n",
       "  28: 6,\n",
       "  30: 1,\n",
       "  31: 14})"
      ]
     },
     "execution_count": 131,
     "metadata": {},
     "output_type": "execute_result"
    },
    {
     "data": {
      "text/plain": [
       "(2019,\n",
       " 4,\n",
       " {2: 5,\n",
       "  3: 1,\n",
       "  4: 1,\n",
       "  6: 3,\n",
       "  7: 1,\n",
       "  9: 2,\n",
       "  11: 8,\n",
       "  15: 1,\n",
       "  16: 8,\n",
       "  17: 1,\n",
       "  21: 1,\n",
       "  23: 11,\n",
       "  24: 8,\n",
       "  28: 26,\n",
       "  29: 23,\n",
       "  30: 4})"
      ]
     },
     "execution_count": 131,
     "metadata": {},
     "output_type": "execute_result"
    },
    {
     "data": {
      "text/plain": [
       "(2019,\n",
       " 5,\n",
       " {2: 3,\n",
       "  3: 1,\n",
       "  6: 5,\n",
       "  7: 3,\n",
       "  8: 2,\n",
       "  9: 17,\n",
       "  12: 12,\n",
       "  13: 5,\n",
       "  14: 9,\n",
       "  15: 4,\n",
       "  16: 1,\n",
       "  19: 11,\n",
       "  20: 2,\n",
       "  21: 2,\n",
       "  22: 4,\n",
       "  23: 2,\n",
       "  27: 10,\n",
       "  28: 1,\n",
       "  29: 12,\n",
       "  30: 10})"
      ]
     },
     "execution_count": 131,
     "metadata": {},
     "output_type": "execute_result"
    },
    {
     "data": {
      "text/plain": [
       "(2019,\n",
       " 6,\n",
       " {9: 2,\n",
       "  10: 51,\n",
       "  11: 31,\n",
       "  12: 12,\n",
       "  13: 20,\n",
       "  17: 17,\n",
       "  18: 17,\n",
       "  19: 4,\n",
       "  20: 3,\n",
       "  23: 1,\n",
       "  24: 2,\n",
       "  25: 5,\n",
       "  26: 1,\n",
       "  30: 1})"
      ]
     },
     "execution_count": 131,
     "metadata": {},
     "output_type": "execute_result"
    },
    {
     "data": {
      "text/plain": [
       "(2019,\n",
       " 7,\n",
       " {1: 3,\n",
       "  2: 1,\n",
       "  3: 13,\n",
       "  4: 1,\n",
       "  6: 10,\n",
       "  7: 2,\n",
       "  8: 25,\n",
       "  9: 9,\n",
       "  10: 20,\n",
       "  13: 4,\n",
       "  14: 8,\n",
       "  15: 36,\n",
       "  16: 4,\n",
       "  17: 5,\n",
       "  18: 12,\n",
       "  22: 2,\n",
       "  23: 6,\n",
       "  24: 4,\n",
       "  29: 1,\n",
       "  30: 2,\n",
       "  31: 1})"
      ]
     },
     "execution_count": 131,
     "metadata": {},
     "output_type": "execute_result"
    },
    {
     "data": {
      "text/plain": [
       "(2019,\n",
       " 8,\n",
       " {1: 1,\n",
       "  4: 7,\n",
       "  5: 8,\n",
       "  6: 1,\n",
       "  8: 1,\n",
       "  18: 2,\n",
       "  19: 6,\n",
       "  20: 27,\n",
       "  21: 12,\n",
       "  22: 3,\n",
       "  25: 1,\n",
       "  26: 2,\n",
       "  27: 1,\n",
       "  28: 1,\n",
       "  29: 11,\n",
       "  30: 1})"
      ]
     },
     "execution_count": 131,
     "metadata": {},
     "output_type": "execute_result"
    },
    {
     "data": {
      "text/plain": [
       "(2019,\n",
       " 9,\n",
       " {1: 5,\n",
       "  2: 14,\n",
       "  3: 111,\n",
       "  4: 2,\n",
       "  5: 149,\n",
       "  6: 20,\n",
       "  7: 27,\n",
       "  8: 31,\n",
       "  9: 29,\n",
       "  10: 32,\n",
       "  11: 103,\n",
       "  12: 8,\n",
       "  15: 72,\n",
       "  16: 30,\n",
       "  17: 8,\n",
       "  18: 6,\n",
       "  19: 8,\n",
       "  21: 2,\n",
       "  22: 2,\n",
       "  24: 1,\n",
       "  25: 7,\n",
       "  26: 11,\n",
       "  29: 8,\n",
       "  30: 15})"
      ]
     },
     "execution_count": 131,
     "metadata": {},
     "output_type": "execute_result"
    },
    {
     "data": {
      "text/plain": [
       "(2019,\n",
       " 10,\n",
       " {1: 7,\n",
       "  2: 6,\n",
       "  3: 14,\n",
       "  6: 7,\n",
       "  7: 13,\n",
       "  8: 4,\n",
       "  9: 1,\n",
       "  13: 2,\n",
       "  14: 13,\n",
       "  15: 16,\n",
       "  16: 3,\n",
       "  17: 3,\n",
       "  20: 1,\n",
       "  21: 9,\n",
       "  22: 1,\n",
       "  23: 5,\n",
       "  24: 5,\n",
       "  27: 28,\n",
       "  28: 1,\n",
       "  29: 3,\n",
       "  30: 15})"
      ]
     },
     "execution_count": 131,
     "metadata": {},
     "output_type": "execute_result"
    },
    {
     "data": {
      "text/plain": [
       "(2019,\n",
       " 11,\n",
       " {2: 11,\n",
       "  3: 5,\n",
       "  4: 11,\n",
       "  5: 1,\n",
       "  6: 4,\n",
       "  7: 1,\n",
       "  9: 6,\n",
       "  11: 2,\n",
       "  12: 4,\n",
       "  13: 4,\n",
       "  14: 1,\n",
       "  17: 5,\n",
       "  19: 30,\n",
       "  20: 45,\n",
       "  21: 5,\n",
       "  22: 1,\n",
       "  23: 3,\n",
       "  24: 5,\n",
       "  25: 9,\n",
       "  26: 14,\n",
       "  27: 3,\n",
       "  28: 1})"
      ]
     },
     "execution_count": 131,
     "metadata": {},
     "output_type": "execute_result"
    },
    {
     "data": {
      "text/plain": [
       "(2019,\n",
       " 12,\n",
       " {1: 5,\n",
       "  2: 7,\n",
       "  4: 9,\n",
       "  5: 6,\n",
       "  6: 4,\n",
       "  9: 10,\n",
       "  10: 3,\n",
       "  11: 1,\n",
       "  19: 4,\n",
       "  22: 6,\n",
       "  23: 3,\n",
       "  24: 6,\n",
       "  26: 22,\n",
       "  29: 6,\n",
       "  30: 7,\n",
       "  31: 5})"
      ]
     },
     "execution_count": 131,
     "metadata": {},
     "output_type": "execute_result"
    },
    {
     "data": {
      "text/plain": [
       "(2020,\n",
       " 1,\n",
       " {1: 1,\n",
       "  2: 1,\n",
       "  5: 7,\n",
       "  6: 4,\n",
       "  7: 2,\n",
       "  8: 2,\n",
       "  9: 10,\n",
       "  13: 3,\n",
       "  14: 8,\n",
       "  15: 5,\n",
       "  16: 12,\n",
       "  19: 6,\n",
       "  20: 2,\n",
       "  21: 9,\n",
       "  22: 3,\n",
       "  23: 5,\n",
       "  26: 2,\n",
       "  27: 2,\n",
       "  29: 7,\n",
       "  30: 8})"
      ]
     },
     "execution_count": 131,
     "metadata": {},
     "output_type": "execute_result"
    },
    {
     "data": {
      "text/plain": [
       "(2020,\n",
       " 2,\n",
       " {2: 3,\n",
       "  3: 2,\n",
       "  5: 4,\n",
       "  8: 1,\n",
       "  9: 10,\n",
       "  10: 1,\n",
       "  16: 1,\n",
       "  17: 1,\n",
       "  18: 1,\n",
       "  19: 6,\n",
       "  20: 2,\n",
       "  23: 4,\n",
       "  24: 2,\n",
       "  25: 6,\n",
       "  26: 1,\n",
       "  27: 1})"
      ]
     },
     "execution_count": 131,
     "metadata": {},
     "output_type": "execute_result"
    },
    {
     "data": {
      "text/plain": [
       "(2020, 3, {2: 4, 3: 1, 5: 1, 22: 1, 31: 1})"
      ]
     },
     "execution_count": 131,
     "metadata": {},
     "output_type": "execute_result"
    },
    {
     "data": {
      "text/plain": [
       "(2020, 4, {12: 1})"
      ]
     },
     "execution_count": 131,
     "metadata": {},
     "output_type": "execute_result"
    },
    {
     "data": {
      "text/plain": [
       "(2020, 5, {6: 1, 14: 1, 18: 1})"
      ]
     },
     "execution_count": 131,
     "metadata": {},
     "output_type": "execute_result"
    },
    {
     "data": {
      "text/plain": [
       "(2020, 6, {2: 1, 13: 1, 17: 1, 18: 1, 22: 1})"
      ]
     },
     "execution_count": 131,
     "metadata": {},
     "output_type": "execute_result"
    },
    {
     "data": {
      "text/plain": [
       "(2020, 8, {16: 3, 23: 1, 29: 1})"
      ]
     },
     "execution_count": 131,
     "metadata": {},
     "output_type": "execute_result"
    },
    {
     "data": {
      "text/plain": [
       "(2020, 9, {2: 1, 22: 1, 30: 2})"
      ]
     },
     "execution_count": 131,
     "metadata": {},
     "output_type": "execute_result"
    },
    {
     "data": {
      "text/plain": [
       "(2020, 10, {5: 1, 15: 1})"
      ]
     },
     "execution_count": 131,
     "metadata": {},
     "output_type": "execute_result"
    },
    {
     "data": {
      "text/plain": [
       "(2020, 11, {30: 2})"
      ]
     },
     "execution_count": 131,
     "metadata": {},
     "output_type": "execute_result"
    },
    {
     "data": {
      "text/plain": [
       "(2020, 12, {3: 1})"
      ]
     },
     "execution_count": 131,
     "metadata": {},
     "output_type": "execute_result"
    },
    {
     "data": {
      "text/plain": [
       "(2021, 1, {22: 2, 23: 1, 24: 2})"
      ]
     },
     "execution_count": 131,
     "metadata": {},
     "output_type": "execute_result"
    },
    {
     "data": {
      "text/plain": [
       "(2021, 3, {8: 2, 14: 2, 21: 1, 24: 1, 28: 1})"
      ]
     },
     "execution_count": 131,
     "metadata": {},
     "output_type": "execute_result"
    },
    {
     "data": {
      "text/plain": [
       "(2021, 4, {11: 1})"
      ]
     },
     "execution_count": 131,
     "metadata": {},
     "output_type": "execute_result"
    },
    {
     "data": {
      "text/plain": [
       "(2021, 7, {17: 1, 24: 1, 25: 3})"
      ]
     },
     "execution_count": 131,
     "metadata": {},
     "output_type": "execute_result"
    },
    {
     "data": {
      "text/plain": [
       "(2021, 8, {2: 1, 14: 1})"
      ]
     },
     "execution_count": 131,
     "metadata": {},
     "output_type": "execute_result"
    },
    {
     "data": {
      "text/plain": [
       "(2021, 9, {15: 1})"
      ]
     },
     "execution_count": 131,
     "metadata": {},
     "output_type": "execute_result"
    },
    {
     "data": {
      "text/plain": [
       "(2021, 10, {6: 1})"
      ]
     },
     "execution_count": 131,
     "metadata": {},
     "output_type": "execute_result"
    }
   ],
   "source": [
    "for year in year_map:\n",
    "    # y, year_map[y]\n",
    "    month_dict = month_map[year]\n",
    "    # month_dict\n",
    "    for month, count in month_dict.items():\n",
    "        day_dict = day_map[year][month]\n",
    "        year, month, day_dict\n"
   ]
  },
  {
   "cell_type": "code",
   "execution_count": 128,
   "id": "6145aea4-c82f-49a4-b334-2158bcc2a71f",
   "metadata": {},
   "outputs": [
    {
     "data": {
      "text/plain": [
       "{2015: {8: 6, 10: 15, 11: 2, 12: 15},\n",
       " 2016: {1: 3,\n",
       "  2: 3,\n",
       "  3: 19,\n",
       "  4: 10,\n",
       "  5: 128,\n",
       "  6: 227,\n",
       "  7: 840,\n",
       "  8: 139,\n",
       "  9: 99,\n",
       "  10: 108,\n",
       "  11: 79,\n",
       "  12: 174},\n",
       " 2017: {1: 178,\n",
       "  2: 232,\n",
       "  3: 148,\n",
       "  4: 98,\n",
       "  5: 395,\n",
       "  6: 244,\n",
       "  7: 145,\n",
       "  8: 181,\n",
       "  9: 121,\n",
       "  10: 105,\n",
       "  11: 244,\n",
       "  12: 88},\n",
       " 2018: {1: 259,\n",
       "  2: 131,\n",
       "  3: 180,\n",
       "  4: 252,\n",
       "  5: 272,\n",
       "  6: 136,\n",
       "  7: 244,\n",
       "  8: 96,\n",
       "  9: 20,\n",
       "  10: 79,\n",
       "  11: 71,\n",
       "  12: 99},\n",
       " 2019: {1: 86,\n",
       "  2: 176,\n",
       "  3: 100,\n",
       "  4: 104,\n",
       "  5: 116,\n",
       "  6: 167,\n",
       "  7: 169,\n",
       "  8: 85,\n",
       "  9: 701,\n",
       "  10: 157,\n",
       "  11: 171,\n",
       "  12: 104},\n",
       " 2020: {1: 99, 2: 46, 3: 8, 4: 1, 5: 3, 6: 5, 8: 5, 9: 4, 10: 2, 11: 2, 12: 1},\n",
       " 2021: {1: 5, 3: 7, 4: 1, 7: 5, 8: 2, 9: 1, 10: 1}}"
      ]
     },
     "execution_count": 128,
     "metadata": {},
     "output_type": "execute_result"
    }
   ],
   "source": [
    "month_map"
   ]
  },
  {
   "cell_type": "code",
   "execution_count": 69,
   "id": "1d0b9ebf-a479-4d62-baa2-9c9da790915a",
   "metadata": {},
   "outputs": [
    {
     "data": {
      "text/plain": [
       "[(3, 5), (5, 9)]"
      ]
     },
     "execution_count": 69,
     "metadata": {},
     "output_type": "execute_result"
    }
   ],
   "source": [
    "year_map = {}\n",
    "year_map['2015'] = {'count': 23, 'month_map': [], '10': {}}\n",
    "\n",
    "year_map['2015']['10'] = {'count': 34, 'day_map': [(3, 5), (5, 9)]}\n",
    "\n",
    "year_map['2015']['10']['day_map']"
   ]
  },
  {
   "cell_type": "code",
   "execution_count": null,
   "id": "88371fe1-c142-48e3-8dfb-e822e1cd4e18",
   "metadata": {},
   "outputs": [],
   "source": []
  },
  {
   "cell_type": "code",
   "execution_count": null,
   "id": "cb558544-248b-466b-a664-f9d3e9b1a4cf",
   "metadata": {},
   "outputs": [],
   "source": []
  },
  {
   "cell_type": "code",
   "execution_count": null,
   "id": "8a5b50a7-3e8f-405a-9ff6-726262de7409",
   "metadata": {},
   "outputs": [],
   "source": []
  },
  {
   "cell_type": "code",
   "execution_count": null,
   "id": "7d3afc21-b35d-4bda-a7a3-b4e3a57bed3d",
   "metadata": {},
   "outputs": [],
   "source": [
    "    GENERAL_SERIES = [\n",
    "        {\n",
    "            'name': general_series_name,\n",
    "            'colorByPoint': True,\n",
    "            'data': [],\n",
    "        }\n",
    "    ]\n",
    "    DRILLDOWN_SERIES = []\n",
    "\n",
    "    for year_dict in data:\n",
    "        year = year_dict['year']\n",
    "        count = year_dict['count']\n",
    "        month_data = year_dict['month_data']\n",
    "\n",
    "        temporary_dict_general = {\n",
    "            'name': year,\n",
    "            'y': count,\n",
    "            'drilldown': year,\n",
    "        }\n",
    "        GENERAL_SERIES[0]['data'].append(temporary_dict_general)\n",
    "\n",
    "        temporary_dict_drilldown = {\n",
    "            'name': year,\n",
    "            'id': year,\n",
    "            'data': [],\n",
    "        }\n",
    "\n",
    "        for month_dict in month_data:\n",
    "            month = month_dict['month']\n",
    "            count = month_dict['count']\n",
    "            day_data = month_dict['day_data']\n",
    "\n",
    "            dic = {}\n",
    "            dic['name'] = month_map[month]\n",
    "            dic['y'] = count\n",
    "            dic['drilldown'] = year + month\n",
    "\n",
    "            temporary_dict_drilldown['data'].append(dic)\n",
    "\n",
    "            temporary_day_dict = {\n",
    "                'id': year + month,\n",
    "                'data': copy.deepcopy(initialize_day_list),\n",
    "            }\n",
    "\n",
    "            for day_dict in day_data:\n",
    "                day = day_dict['day']\n",
    "                count = day_dict['count']\n",
    "                day = int(day)\n",
    "\n",
    "                lst = [day, count]\n",
    "\n",
    "                temporary_day_dict['data'].remove([day, 0])\n",
    "                temporary_day_dict['data'].append(lst)\n",
    "\n",
    "            # sort days\n",
    "            sorted_days = sorted(temporary_day_dict['data'], key=lambda x: x[0])\n",
    "            temporary_day_dict['data'] = sorted_days\n",
    "\n",
    "            DRILLDOWN_SERIES.append(temporary_day_dict)\n",
    "\n",
    "        # sort month\n",
    "        sorted_month = sorted(\n",
    "            temporary_dict_drilldown['data'],\n",
    "            key=lambda x: MONTH_SEQUENCE_LIST.index(x['name']),\n",
    "        )\n",
    "        temporary_dict_drilldown['data'] = sorted_month\n",
    "\n",
    "        DRILLDOWN_SERIES.append(temporary_dict_drilldown)\n"
   ]
  }
 ],
 "metadata": {
  "kernelspec": {
   "display_name": "Python 3 (ipykernel)",
   "language": "python",
   "name": "python3"
  },
  "language_info": {
   "codemirror_mode": {
    "name": "ipython",
    "version": 3
   },
   "file_extension": ".py",
   "mimetype": "text/x-python",
   "name": "python",
   "nbconvert_exporter": "python",
   "pygments_lexer": "ipython3",
   "version": "3.8.10"
  }
 },
 "nbformat": 4,
 "nbformat_minor": 5
}
