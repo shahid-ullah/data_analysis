{
 "cells": [
  {
   "cell_type": "markdown",
   "id": "6b5db628-0e01-4a6b-a786-e4ee0a431993",
   "metadata": {},
   "source": [
    "```sql\n",
    "SELECT count(id) FROM nisponno_records where Date(operation_date) >= '2020-09-01' and Date(operation_date) <= '2020-09-30'  and type != 'potrojari';\n",
    "```"
   ]
  },
  {
   "cell_type": "code",
   "execution_count": 1,
   "id": "15a91d46-234d-409f-9a81-9c7e62d20210",
   "metadata": {},
   "outputs": [],
   "source": [
    "# import necessary library\n",
    "from IPython.core.interactiveshell import InteractiveShell\n",
    "InteractiveShell.ast_node_interactivity = \"all\"\n",
    "\n",
    "import copy\n",
    "import gc\n",
    "import pandas as pd\n",
    "import numpy as np\n",
    "import matplotlib.pyplot as plt\n",
    "pd.set_option('display.max_columns', None)"
   ]
  },
  {
   "cell_type": "code",
   "execution_count": null,
   "id": "aea3ca99-6fe6-4b61-ac6b-aa547a978d02",
   "metadata": {},
   "outputs": [],
   "source": []
  },
  {
   "cell_type": "code",
   "execution_count": 2,
   "id": "6205a114-7c8f-4e2d-a99f-9d2e45d46fa2",
   "metadata": {},
   "outputs": [
    {
     "data": {
      "text/plain": [
       "18"
      ]
     },
     "execution_count": 2,
     "metadata": {},
     "output_type": "execute_result"
    }
   ],
   "source": [
    "nisponno_records_table_columns_dict = {\n",
    "    '1': 'id',\n",
    "    '2': 'nothi_master_id',\n",
    "    '3': 'nothi_part_no',\n",
    "    '4': 'type',\n",
    "    '5': 'nothi_onucched_id',\n",
    "    '6': 'potrojari_id',\n",
    "    '7': 'nothi_office_id',\n",
    "    '8': 'office_id',\n",
    "    '9': 'unit_id',\n",
    "    '10': 'designation_id',\n",
    "    '11': 'employee_id',\n",
    "    '12': 'upokarvogi',\n",
    "    '13': 'potrojari_internal_own',\n",
    "    '14': 'potrojari_internal_other',\n",
    "    '15': 'dak_srijito',\n",
    "    '16': 'operation_date',\n",
    "    '17': 'created',\n",
    "    '18': 'modified'\n",
    "}\n",
    "nisponno_records_table_columns_list = list(nisponno_records_table_columns_dict.values())\n",
    "nisponno_records_table_columns = nisponno_records_table_columns_list\n",
    "# for key in nisponno_records_table_columns_dict.keys():\n",
    "#     value = \n",
    "\n",
    "len(nisponno_records_table_columns)\n"
   ]
  },
  {
   "cell_type": "markdown",
   "id": "02ef68bb-4f5a-4a8f-a70b-222217885bb9",
   "metadata": {},
   "source": [
    "### Check column length consistency"
   ]
  },
  {
   "cell_type": "code",
   "execution_count": 3,
   "id": "13979cac-98de-4b83-a95d-c3afc40c74f3",
   "metadata": {},
   "outputs": [],
   "source": [
    "nisponno_records_df = pd.read_csv('../Data/nisponno_records.csv')\n",
    "if len(nisponno_records_table_columns) != nisponno_records_df.shape[1]: \n",
    "    print(f\"previous column length: {len(nisponno_records_table_columns)}, current column_length {nisponno_records_df.shape[1]}\")\n",
    "    raise ValueError('office table attribute added or removed')"
   ]
  },
  {
   "cell_type": "code",
   "execution_count": 3,
   "id": "59a85d7b-598e-4b05-8263-db2604506f26",
   "metadata": {},
   "outputs": [],
   "source": [
    "def load_nisponno_records_df():\n",
    "    nisponno_records_df = pd.read_csv('../Data/nisponno_records_24_11_2021.csv', names=nisponno_records_table_columns)\n",
    "    return nisponno_records_df"
   ]
  },
  {
   "cell_type": "code",
   "execution_count": 19,
   "id": "733b387d-5f23-4bb1-b7b3-2ef507f75c13",
   "metadata": {},
   "outputs": [
    {
     "data": {
      "text/html": [
       "<div>\n",
       "<style scoped>\n",
       "    .dataframe tbody tr th:only-of-type {\n",
       "        vertical-align: middle;\n",
       "    }\n",
       "\n",
       "    .dataframe tbody tr th {\n",
       "        vertical-align: top;\n",
       "    }\n",
       "\n",
       "    .dataframe thead th {\n",
       "        text-align: right;\n",
       "    }\n",
       "</style>\n",
       "<table border=\"1\" class=\"dataframe\">\n",
       "  <thead>\n",
       "    <tr style=\"text-align: right;\">\n",
       "      <th></th>\n",
       "      <th>id</th>\n",
       "      <th>nothi_master_id</th>\n",
       "      <th>nothi_part_no</th>\n",
       "      <th>type</th>\n",
       "      <th>nothi_onucched_id</th>\n",
       "      <th>potrojari_id</th>\n",
       "      <th>nothi_office_id</th>\n",
       "      <th>office_id</th>\n",
       "      <th>unit_id</th>\n",
       "      <th>designation_id</th>\n",
       "      <th>employee_id</th>\n",
       "      <th>upokarvogi</th>\n",
       "      <th>potrojari_internal_own</th>\n",
       "      <th>potrojari_internal_other</th>\n",
       "      <th>dak_srijito</th>\n",
       "      <th>operation_date</th>\n",
       "      <th>created</th>\n",
       "      <th>modified</th>\n",
       "    </tr>\n",
       "  </thead>\n",
       "  <tbody>\n",
       "    <tr>\n",
       "      <th>0</th>\n",
       "      <td>16759666</td>\n",
       "      <td>1882</td>\n",
       "      <td>4082</td>\n",
       "      <td>potrojari</td>\n",
       "      <td>9394</td>\n",
       "      <td>1408</td>\n",
       "      <td>6243</td>\n",
       "      <td>6243</td>\n",
       "      <td>23005</td>\n",
       "      <td>735461</td>\n",
       "      <td>269390</td>\n",
       "      <td>2</td>\n",
       "      <td>1</td>\n",
       "      <td>0</td>\n",
       "      <td>0</td>\n",
       "      <td>2021-07-27 21:25:19</td>\n",
       "      <td>2021-07-27 21:23:19</td>\n",
       "      <td>2021-07-27 21:23:19</td>\n",
       "    </tr>\n",
       "    <tr>\n",
       "      <th>1</th>\n",
       "      <td>16759669</td>\n",
       "      <td>2377</td>\n",
       "      <td>76481</td>\n",
       "      <td>potrojari</td>\n",
       "      <td>180366</td>\n",
       "      <td>40403</td>\n",
       "      <td>561</td>\n",
       "      <td>561</td>\n",
       "      <td>7496</td>\n",
       "      <td>37436</td>\n",
       "      <td>85400</td>\n",
       "      <td>4</td>\n",
       "      <td>0</td>\n",
       "      <td>1</td>\n",
       "      <td>0</td>\n",
       "      <td>2021-07-27 21:27:18</td>\n",
       "      <td>2021-07-27 21:25:18</td>\n",
       "      <td>2021-07-27 21:25:18</td>\n",
       "    </tr>\n",
       "    <tr>\n",
       "      <th>2</th>\n",
       "      <td>16759671</td>\n",
       "      <td>11397</td>\n",
       "      <td>165184</td>\n",
       "      <td>potrojari</td>\n",
       "      <td>531461</td>\n",
       "      <td>76074</td>\n",
       "      <td>5499</td>\n",
       "      <td>5499</td>\n",
       "      <td>37692</td>\n",
       "      <td>220277</td>\n",
       "      <td>114368</td>\n",
       "      <td>5</td>\n",
       "      <td>1</td>\n",
       "      <td>0</td>\n",
       "      <td>0</td>\n",
       "      <td>2021-07-27 21:29:13</td>\n",
       "      <td>2021-07-27 21:27:13</td>\n",
       "      <td>2021-07-27 21:27:13</td>\n",
       "    </tr>\n",
       "    <tr>\n",
       "      <th>3</th>\n",
       "      <td>16759674</td>\n",
       "      <td>2293</td>\n",
       "      <td>8131</td>\n",
       "      <td>note</td>\n",
       "      <td>1</td>\n",
       "      <td>0</td>\n",
       "      <td>16765</td>\n",
       "      <td>16765</td>\n",
       "      <td>101555</td>\n",
       "      <td>814770</td>\n",
       "      <td>79406</td>\n",
       "      <td>0</td>\n",
       "      <td>0</td>\n",
       "      <td>0</td>\n",
       "      <td>1</td>\n",
       "      <td>2021-07-27 21:26:43</td>\n",
       "      <td>2021-07-27 21:24:43</td>\n",
       "      <td>2021-07-27 21:24:43</td>\n",
       "    </tr>\n",
       "    <tr>\n",
       "      <th>4</th>\n",
       "      <td>16759677</td>\n",
       "      <td>1638</td>\n",
       "      <td>34328</td>\n",
       "      <td>potrojari</td>\n",
       "      <td>156540</td>\n",
       "      <td>16462</td>\n",
       "      <td>4534</td>\n",
       "      <td>4534</td>\n",
       "      <td>18960</td>\n",
       "      <td>101381</td>\n",
       "      <td>112943</td>\n",
       "      <td>3</td>\n",
       "      <td>0</td>\n",
       "      <td>1</td>\n",
       "      <td>0</td>\n",
       "      <td>2021-07-27 21:28:49</td>\n",
       "      <td>2021-07-27 21:26:49</td>\n",
       "      <td>2021-07-27 21:26:49</td>\n",
       "    </tr>\n",
       "  </tbody>\n",
       "</table>\n",
       "</div>"
      ],
      "text/plain": [
       "         id  nothi_master_id  nothi_part_no       type  nothi_onucched_id  \\\n",
       "0  16759666             1882           4082  potrojari               9394   \n",
       "1  16759669             2377          76481  potrojari             180366   \n",
       "2  16759671            11397         165184  potrojari             531461   \n",
       "3  16759674             2293           8131       note                  1   \n",
       "4  16759677             1638          34328  potrojari             156540   \n",
       "\n",
       "   potrojari_id  nothi_office_id  office_id  unit_id  designation_id  \\\n",
       "0          1408             6243       6243    23005          735461   \n",
       "1         40403              561        561     7496           37436   \n",
       "2         76074             5499       5499    37692          220277   \n",
       "3             0            16765      16765   101555          814770   \n",
       "4         16462             4534       4534    18960          101381   \n",
       "\n",
       "   employee_id  upokarvogi  potrojari_internal_own  potrojari_internal_other  \\\n",
       "0       269390           2                       1                         0   \n",
       "1        85400           4                       0                         1   \n",
       "2       114368           5                       1                         0   \n",
       "3        79406           0                       0                         0   \n",
       "4       112943           3                       0                         1   \n",
       "\n",
       "   dak_srijito       operation_date              created             modified  \n",
       "0            0  2021-07-27 21:25:19  2021-07-27 21:23:19  2021-07-27 21:23:19  \n",
       "1            0  2021-07-27 21:27:18  2021-07-27 21:25:18  2021-07-27 21:25:18  \n",
       "2            0  2021-07-27 21:29:13  2021-07-27 21:27:13  2021-07-27 21:27:13  \n",
       "3            1  2021-07-27 21:26:43  2021-07-27 21:24:43  2021-07-27 21:24:43  \n",
       "4            0  2021-07-27 21:28:49  2021-07-27 21:26:49  2021-07-27 21:26:49  "
      ]
     },
     "execution_count": 19,
     "metadata": {},
     "output_type": "execute_result"
    }
   ],
   "source": [
    "nisponno_records_df = load_nisponno_records_df()\n",
    "nisponno_records_df.head()"
   ]
  },
  {
   "cell_type": "code",
   "execution_count": 5,
   "id": "e09bb148-36f6-4367-a09a-fba91d7540ba",
   "metadata": {},
   "outputs": [
    {
     "data": {
      "text/plain": [
       "(999999, 18)"
      ]
     },
     "execution_count": 5,
     "metadata": {},
     "output_type": "execute_result"
    },
    {
     "data": {
      "text/plain": [
       "17999982"
      ]
     },
     "execution_count": 5,
     "metadata": {},
     "output_type": "execute_result"
    }
   ],
   "source": [
    "# observing dataframe size\n",
    "nisponno_records_df.shape\n",
    "nisponno_records_df.size"
   ]
  },
  {
   "cell_type": "code",
   "execution_count": 21,
   "id": "6d88ae32-604e-4e01-b0cb-f2e298a8a02f",
   "metadata": {},
   "outputs": [
    {
     "name": "stdout",
     "output_type": "stream",
     "text": [
      "<class 'pandas.core.frame.DataFrame'>\n",
      "RangeIndex: 1000000 entries, 0 to 999999\n",
      "Data columns (total 18 columns):\n",
      " #   Column                    Non-Null Count    Dtype \n",
      "---  ------                    --------------    ----- \n",
      " 0   id                        1000000 non-null  int64 \n",
      " 1   nothi_master_id           1000000 non-null  int64 \n",
      " 2   nothi_part_no             1000000 non-null  int64 \n",
      " 3   type                      1000000 non-null  object\n",
      " 4   nothi_onucched_id         1000000 non-null  int64 \n",
      " 5   potrojari_id              1000000 non-null  int64 \n",
      " 6   nothi_office_id           1000000 non-null  int64 \n",
      " 7   office_id                 1000000 non-null  int64 \n",
      " 8   unit_id                   1000000 non-null  int64 \n",
      " 9   designation_id            1000000 non-null  int64 \n",
      " 10  employee_id               1000000 non-null  int64 \n",
      " 11  upokarvogi                1000000 non-null  int64 \n",
      " 12  potrojari_internal_own    1000000 non-null  int64 \n",
      " 13  potrojari_internal_other  1000000 non-null  int64 \n",
      " 14  dak_srijito               1000000 non-null  int64 \n",
      " 15  operation_date            1000000 non-null  object\n",
      " 16  created                   1000000 non-null  object\n",
      " 17  modified                  1000000 non-null  object\n",
      "dtypes: int64(14), object(4)\n",
      "memory usage: 137.3+ MB\n"
     ]
    }
   ],
   "source": [
    "# observing missing values, datatype, dataframe memory size\n",
    "nisponno_records_df.info()\n"
   ]
  },
  {
   "cell_type": "code",
   "execution_count": 22,
   "id": "a33591f2-4545-4620-9ff1-d93f53e01021",
   "metadata": {},
   "outputs": [
    {
     "data": {
      "text/plain": [
       "id                          0\n",
       "nothi_master_id             0\n",
       "nothi_part_no               0\n",
       "type                        0\n",
       "nothi_onucched_id           0\n",
       "potrojari_id                0\n",
       "nothi_office_id             0\n",
       "office_id                   0\n",
       "unit_id                     0\n",
       "designation_id              0\n",
       "employee_id                 0\n",
       "upokarvogi                  0\n",
       "potrojari_internal_own      0\n",
       "potrojari_internal_other    0\n",
       "dak_srijito                 0\n",
       "operation_date              0\n",
       "created                     0\n",
       "modified                    0\n",
       "dtype: int64"
      ]
     },
     "execution_count": 22,
     "metadata": {},
     "output_type": "execute_result"
    }
   ],
   "source": [
    "# observing null value of every attribute\n",
    "nisponno_records_df.isnull().sum()"
   ]
  },
  {
   "cell_type": "markdown",
   "id": "1f41808c-9163-44e2-b9f0-029c94e7fa50",
   "metadata": {},
   "source": [
    "## মোট নিষ্পন্ন"
   ]
  },
  {
   "cell_type": "code",
   "execution_count": 23,
   "id": "7c28ccc1-8d53-401b-ae36-6c100785ad7c",
   "metadata": {},
   "outputs": [
    {
     "data": {
      "text/plain": [
       "(619849, 18)"
      ]
     },
     "execution_count": 23,
     "metadata": {},
     "output_type": "execute_result"
    }
   ],
   "source": [
    "total_nisponno_df = nisponno_records_df.loc[nisponno_records_df.type != 'potrojari'].copy()\n",
    "# abc = nisponno_records_df[nisponno_records_df.type != 'potrojari']\n",
    "# total_nisponno_df = copy.deepcopy(total_nisponno_df)\n",
    "total_nisponno_df.shape"
   ]
  },
  {
   "cell_type": "code",
   "execution_count": 4,
   "id": "fb85c397-cd6d-4de1-9cbb-3f53d0cb15bb",
   "metadata": {},
   "outputs": [
    {
     "name": "stdout",
     "output_type": "stream",
     "text": [
      "Initial dataframe shape (16416402, 18)\n",
      "Initial dataframe shape (16416402, 3)\n",
      "dataframe shape after removing operation_date null value (10704615, 3)\n"
     ]
    },
    {
     "data": {
      "text/plain": [
       "(10704615, 3)"
      ]
     },
     "execution_count": 4,
     "metadata": {},
     "output_type": "execute_result"
    },
    {
     "data": {
      "text/plain": [
       "(10704615, 3)"
      ]
     },
     "execution_count": 4,
     "metadata": {},
     "output_type": "execute_result"
    }
   ],
   "source": [
    "# SELECT count(id) FROM nisponno_records where Date(operation_date) >= '2020-09-01' and Date(operation_date) <= '2020-09-30'  and type != 'potrojari';\n",
    "\n",
    "# Extract mandatory attributes for offices graph analysis\n",
    "nisponno_records_df = load_nisponno_records_df()\n",
    "print(f\"Initial dataframe shape {nisponno_records_df.shape}\")\n",
    "\n",
    "nisponno_records_df = nisponno_records_df[['id', 'type', 'operation_date']] \n",
    "print(f\"Initial dataframe shape {nisponno_records_df.shape}\")\n",
    "\n",
    "total_nisponno_df = nisponno_records_df.loc[nisponno_records_df.type != 'potrojari'].copy()\n",
    "# remove null values\n",
    "total_nisponno_df = total_nisponno_df.loc[total_nisponno_df.operation_date.notnull()]\n",
    "print(f\"dataframe shape after removing operation_date null value {total_nisponno_df.shape}\")\n",
    "# add new column: cretead_new as datetime field from operation_date column\n",
    "total_nisponno_df['operation_date'] = pd.to_datetime(total_nisponno_df['operation_date'], errors='coerce')\n",
    "# errors{‘ignore’, ‘raise’, ‘coerce’}, default ‘raise’\n",
    "    # If ‘raise’, then invalid parsing will raise an exception.\n",
    "    # If ‘coerce’, then invalid parsing will be set as NaT.\n",
    "    # If ‘ignore’, then invalid parsing will return the input.\n",
    "total_nisponno_df.shape\n",
    "# again remove null values based on opeation_date field\n",
    "total_nisponno_df = total_nisponno_df.loc[total_nisponno_df.operation_date.notnull()]\n",
    "total_nisponno_df.shape"
   ]
  },
  {
   "cell_type": "code",
   "execution_count": 5,
   "id": "5b1eef01-53e5-4629-ae26-297df5d9eebf",
   "metadata": {},
   "outputs": [
    {
     "data": {
      "text/plain": [
       "numpy.ndarray"
      ]
     },
     "execution_count": 5,
     "metadata": {},
     "output_type": "execute_result"
    },
    {
     "data": {
      "text/plain": [
       "numpy.ndarray"
      ]
     },
     "execution_count": 5,
     "metadata": {},
     "output_type": "execute_result"
    },
    {
     "data": {
      "text/plain": [
       "{'2016', '2017', '2018', '2019', '2020', '2021'}"
      ]
     },
     "execution_count": 5,
     "metadata": {},
     "output_type": "execute_result"
    },
    {
     "data": {
      "text/plain": [
       "{'1', '10', '11', '12', '2', '3', '4', '5', '6', '7', '8', '9'}"
      ]
     },
     "execution_count": 5,
     "metadata": {},
     "output_type": "execute_result"
    }
   ],
   "source": [
    "# Extract years and months from created column\n",
    "operation_date_datetime_index = pd.DatetimeIndex(total_nisponno_df['operation_date'])\n",
    "years = operation_date_datetime_index.year.values.astype(str)\n",
    "months = operation_date_datetime_index.month.values.astype(str)\n",
    "type(years)\n",
    "type(months)\n",
    "set(years)\n",
    "set(months)"
   ]
  },
  {
   "cell_type": "code",
   "execution_count": 6,
   "id": "e0b69b1e-4734-4d93-8183-1b79d9d8b8b4",
   "metadata": {},
   "outputs": [
    {
     "data": {
      "text/plain": [
       "(10704615, 5)"
      ]
     },
     "execution_count": 6,
     "metadata": {},
     "output_type": "execute_result"
    }
   ],
   "source": [
    "# type(years[0])\n",
    "total_nisponno_df['year'] = years\n",
    "total_nisponno_df['month'] = months\n",
    "total_nisponno_df.shape"
   ]
  },
  {
   "cell_type": "code",
   "execution_count": 7,
   "id": "aaebce5f-16ab-437d-9ed4-5016f318933c",
   "metadata": {},
   "outputs": [],
   "source": [
    "# save the new dataframe as csv\n",
    "total_nisponno_df.to_csv('../Cleaned_data/total_nisponno.csv', index=False)"
   ]
  },
  {
   "cell_type": "code",
   "execution_count": 8,
   "id": "1fe058cc-5881-4e52-9176-e10dfa4f2e10",
   "metadata": {},
   "outputs": [
    {
     "data": {
      "text/plain": [
       "year\n",
       "2016      57907\n",
       "2017     902376\n",
       "2018    1976310\n",
       "2019    3377961\n",
       "2020    3154105\n",
       "2021    1235956\n",
       "Name: year, dtype: int64"
      ]
     },
     "execution_count": 8,
     "metadata": {},
     "output_type": "execute_result"
    }
   ],
   "source": [
    "# observe number of offices in every year \n",
    "total_nisponno_year_by = total_nisponno_df.groupby('year')['year'].count()\n",
    "total_nisponno_year_by"
   ]
  },
  {
   "cell_type": "code",
   "execution_count": 9,
   "id": "3146397c-a1dc-4c3a-ad13-95b4c5ab0256",
   "metadata": {},
   "outputs": [
    {
     "data": {
      "text/plain": [
       "(array([  57907.,       0.,  902376.,       0., 1976310.,       0.,\n",
       "        3377961.,       0., 3154105., 1235956.]),\n",
       " array([0. , 0.5, 1. , 1.5, 2. , 2.5, 3. , 3.5, 4. , 4.5, 5. ]),\n",
       " <BarContainer object of 10 artists>)"
      ]
     },
     "execution_count": 9,
     "metadata": {},
     "output_type": "execute_result"
    },
    {
     "data": {
      "text/plain": [
       "Text(0.5, 0, 'years')"
      ]
     },
     "execution_count": 9,
     "metadata": {},
     "output_type": "execute_result"
    },
    {
     "data": {
      "text/plain": [
       "Text(0, 0.5, 'Number of offices')"
      ]
     },
     "execution_count": 9,
     "metadata": {},
     "output_type": "execute_result"
    },
    {
     "data": {
      "text/plain": [
       "Text(0.5, 1.0, 'Offices in year base')"
      ]
     },
     "execution_count": 9,
     "metadata": {},
     "output_type": "execute_result"
    },
    {
     "data": {
      "image/png": "[encoded data removed]",
      "text/plain": [
       "<Figure size 432x288 with 1 Axes>"
      ]
     },
     "metadata": {
      "needs_background": "light"
     },
     "output_type": "display_data"
    }
   ],
   "source": [
    "plt.hist(total_nisponno_df['year'])\n",
    "\n",
    "\n",
    "plt.xlabel('years')\n",
    "plt.ylabel('Number of offices')\n",
    "plt.title('Offices in year base')\n",
    "# plt.text(60, .025, r'$\\mu=100,\\ \\sigma=15$')\n",
    "# plt.xlim(40, 160)\n",
    "# plt.ylim(0, 0.03)\n",
    "plt.grid(True)\n",
    "plt.show()"
   ]
  },
  {
   "cell_type": "code",
   "execution_count": 11,
   "id": "bf46d64a-1bd8-4eaf-9a12-3d6f1aef49c3",
   "metadata": {},
   "outputs": [],
   "source": [
    "month_map ={\n",
    "    '1': 'January',\n",
    "    '01': 'January',\n",
    "    '2': 'February',\n",
    "    '02': 'February',\n",
    "    '3': 'March',\n",
    "    '03': 'March',\n",
    "    '4': 'April',\n",
    "    '04': 'April',\n",
    "    '5': 'May',\n",
    "    '05': 'May',\n",
    "    '6': 'June',\n",
    "    '06': 'June',\n",
    "    '7': 'July',\n",
    "    '07': 'July',\n",
    "    '8': 'August',\n",
    "    '08': 'August',\n",
    "    '9': 'September',\n",
    "    '09': 'September',\n",
    "    '10': 'October',\n",
    "    '11': 'November',\n",
    "    '12': 'December',\n",
    "    'unknown': 'unknown',\n",
    "}"
   ]
  },
  {
   "cell_type": "code",
   "execution_count": 12,
   "id": "c5c52eff-7f61-4597-bfab-d4648bc5a8e5",
   "metadata": {},
   "outputs": [],
   "source": [
    "# Generate general_series and drilldown series for bar graph\n",
    "# general series: year: number of officess\n",
    "dataframe_year_by = total_nisponno_df.groupby('year')\n",
    "\n",
    "def generate_general_series_drilldown_series(dataframe_year_by, general_series_name):\n",
    "    general_series = [\n",
    "        \n",
    "        {\n",
    "            'name': general_series_name,\n",
    "            'colorByPoint': True,\n",
    "            'data': [],\n",
    "        }\n",
    "    ]\n",
    "    drilldown_series = []\n",
    "\n",
    "    for year, year_frame in dataframe_year_by:\n",
    "        year = str(year)\n",
    "        # year, year_frame.shape\n",
    "        temporary_dict_general = {'name': year, 'y': year_frame.shape[0], 'drilldown': year}\n",
    "        general_series[0]['data'].append(temporary_dict_general)\n",
    "        temporary_dict_drilldown = {\n",
    "            'name': year,\n",
    "            'id': year,\n",
    "            'data': [],\n",
    "        }\n",
    "        month_group_by = year_frame.groupby('month')\n",
    "        for month, month_frame in month_group_by:\n",
    "          \n",
    "            # mg, mf.shape[0]\n",
    "            month = str(month)\n",
    "            month = month_map[month]\n",
    "\n",
    "            lst = [month, month_frame.shape[0]]\n",
    "            # lst = [month, month_frame['upokarvogi'].sum()]\n",
    "            temporary_dict_drilldown['data'].append(lst)\n",
    "        drilldown_series.append(temporary_dict_drilldown)\n",
    "    return general_series, drilldown_series\n",
    "\n",
    "general_series, drilldown_series = generate_general_series_drilldown_series(dataframe_year_by, 'years')\n"
   ]
  },
  {
   "cell_type": "code",
   "execution_count": 13,
   "id": "876236e3-8f57-4e34-b9f8-5b3e96e95393",
   "metadata": {},
   "outputs": [
    {
     "data": {
      "text/plain": [
       "[{'name': 'years',\n",
       "  'colorByPoint': True,\n",
       "  'data': [{'name': '2016', 'y': 57907, 'drilldown': '2016'},\n",
       "   {'name': '2017', 'y': 902376, 'drilldown': '2017'},\n",
       "   {'name': '2018', 'y': 1976310, 'drilldown': '2018'},\n",
       "   {'name': '2019', 'y': 3377961, 'drilldown': '2019'},\n",
       "   {'name': '2020', 'y': 3154105, 'drilldown': '2020'},\n",
       "   {'name': '2021', 'y': 1235956, 'drilldown': '2021'}]}]"
      ]
     },
     "execution_count": 13,
     "metadata": {},
     "output_type": "execute_result"
    },
    {
     "data": {
      "text/plain": [
       "[{'name': '2016',\n",
       "  'id': '2016',\n",
       "  'data': [['October', 2636],\n",
       "   ['November', 7187],\n",
       "   ['December', 43081],\n",
       "   ['February', 27],\n",
       "   ['March', 143],\n",
       "   ['April', 79],\n",
       "   ['May', 190],\n",
       "   ['June', 349],\n",
       "   ['July', 416],\n",
       "   ['August', 2230],\n",
       "   ['September', 1569]]},\n",
       " {'name': '2017',\n",
       "  'id': '2017',\n",
       "  'data': [['January', 28604],\n",
       "   ['October', 115932],\n",
       "   ['November', 135833],\n",
       "   ['December', 132680],\n",
       "   ['February', 35324],\n",
       "   ['March', 39887],\n",
       "   ['April', 58558],\n",
       "   ['May', 53426],\n",
       "   ['June', 41555],\n",
       "   ['July', 86557],\n",
       "   ['August', 96639],\n",
       "   ['September', 77381]]},\n",
       " {'name': '2018',\n",
       "  'id': '2018',\n",
       "  'data': [['January', 145152],\n",
       "   ['October', 200344],\n",
       "   ['November', 195654],\n",
       "   ['December', 200237],\n",
       "   ['February', 121707],\n",
       "   ['March', 139639],\n",
       "   ['April', 159190],\n",
       "   ['May', 167199],\n",
       "   ['June', 146494],\n",
       "   ['July', 157157],\n",
       "   ['August', 158835],\n",
       "   ['September', 184702]]},\n",
       " {'name': '2019',\n",
       "  'id': '2019',\n",
       "  'data': [['January', 237871],\n",
       "   ['October', 399236],\n",
       "   ['November', 363440],\n",
       "   ['December', 377128],\n",
       "   ['February', 215935],\n",
       "   ['March', 230361],\n",
       "   ['April', 249391],\n",
       "   ['May', 224502],\n",
       "   ['June', 190259],\n",
       "   ['July', 285513],\n",
       "   ['August', 251947],\n",
       "   ['September', 352378]]},\n",
       " {'name': '2020',\n",
       "  'id': '2020',\n",
       "  'data': [['January', 393571],\n",
       "   ['October', 374488],\n",
       "   ['November', 213649],\n",
       "   ['December', 101672],\n",
       "   ['February', 392471],\n",
       "   ['March', 292758],\n",
       "   ['April', 62018],\n",
       "   ['May', 72804],\n",
       "   ['June', 207355],\n",
       "   ['July', 273519],\n",
       "   ['August', 318569],\n",
       "   ['September', 451231]]},\n",
       " {'name': '2021',\n",
       "  'id': '2021',\n",
       "  'data': [['January', 41253],\n",
       "   ['October', 175716],\n",
       "   ['November', 144198],\n",
       "   ['February', 40984],\n",
       "   ['March', 43881],\n",
       "   ['April', 26564],\n",
       "   ['May', 126348],\n",
       "   ['June', 199356],\n",
       "   ['July', 105734],\n",
       "   ['August', 161201],\n",
       "   ['September', 170721]]}]"
      ]
     },
     "execution_count": 13,
     "metadata": {},
     "output_type": "execute_result"
    }
   ],
   "source": [
    "general_series\n",
    "drilldown_series"
   ]
  },
  {
   "cell_type": "code",
   "execution_count": 14,
   "id": "c2d00e77-cdde-48cd-bbc9-fed92b2a0915",
   "metadata": {},
   "outputs": [
    {
     "name": "stdout",
     "output_type": "stream",
     "text": [
      "{'2016': {'count': 57907, 'month_map': {'February': 27, 'March': 143, 'April': 79, 'May': 190, 'June': 349, 'July': 416, 'August': 2230, 'September': 1569, 'October': 2636, 'November': 7187, 'December': 43081}}, '2017': {'count': 902376, 'month_map': {'January': 28604, 'February': 35324, 'March': 39887, 'April': 58558, 'May': 53426, 'June': 41555, 'July': 86557, 'August': 96639, 'September': 77381, 'October': 115932, 'November': 135833, 'December': 132680}}, '2018': {'count': 1976310, 'month_map': {'January': 145152, 'February': 121707, 'March': 139639, 'April': 159190, 'May': 167199, 'June': 146494, 'July': 157157, 'August': 158835, 'September': 184702, 'October': 200344, 'November': 195654, 'December': 200237}}, '2019': {'count': 3377961, 'month_map': {'January': 237871, 'February': 215935, 'March': 230361, 'April': 249391, 'May': 224502, 'June': 190259, 'July': 285513, 'August': 251947, 'September': 352378, 'October': 399236, 'November': 363440, 'December': 377128}}, '2020': {'count': 3154105, 'month_map': {'January': 393571, 'February': 392471, 'March': 292758, 'April': 62018, 'May': 72804, 'June': 207355, 'July': 273519, 'August': 318569, 'September': 451231, 'October': 374488, 'November': 213649, 'December': 101672}}, '2021': {'count': 1235956, 'month_map': {'January': 41253, 'February': 40984, 'March': 43881, 'April': 26564, 'May': 126348, 'June': 199356, 'July': 105734, 'August': 161201, 'September': 170721, 'October': 175716, 'November': 144198}}}\n"
     ]
    }
   ],
   "source": [
    "month_list =['January', 'February', 'March', 'April', 'May', 'June', 'July', 'August','September', 'October','November', 'December', 'unknown' ]\n",
    "total_nisponno = {}\n",
    "\n",
    "dataframe_year_by = total_nisponno_df.groupby('year')\n",
    "\n",
    "for year, year_frame in dataframe_year_by:\n",
    "    year = str(year)\n",
    "    # year, year_frame.shape\n",
    "    \n",
    "    month_dict = {}\n",
    "\n",
    "    month_group_by = year_frame.groupby('month')\n",
    "    for month, month_frame in month_group_by:\n",
    "\n",
    "        # mg, mf.shape[0]\n",
    "        month = str(month)\n",
    "        month = month_map[month]\n",
    "        month_dict[month] = int(month_frame.shape[0])\n",
    "    month_dict = dict(sorted(month_dict.items(), key=lambda x:month_list.index(x[0])))\n",
    "    dic = {'count': int(year_frame.shape[0]), 'month_map': month_dict}\n",
    "    total_nisponno[year] = dic\n",
    "\n",
    "print(total_nisponno)"
   ]
  },
  {
   "cell_type": "code",
   "execution_count": 15,
   "id": "a3d5b1f8-4205-483b-8a22-451638e4ed00",
   "metadata": {},
   "outputs": [
    {
     "name": "stdout",
     "output_type": "stream",
     "text": [
      "{'2016': {'count': 57907, 'month_map': {'February': 27, 'March': 143, 'April': 79, 'May': 190, 'June': 349, 'July': 416, 'August': 2230, 'September': 1569, 'October': 2636, 'November': 7187, 'December': 43081}}, '2017': {'count': 902376, 'month_map': {'January': 28604, 'February': 35324, 'March': 39887, 'April': 58558, 'May': 53426, 'June': 41555, 'July': 86557, 'August': 96639, 'September': 77381, 'October': 115932, 'November': 135833, 'December': 132680}}, '2018': {'count': 1976310, 'month_map': {'January': 145152, 'February': 121707, 'March': 139639, 'April': 159190, 'May': 167199, 'June': 146494, 'July': 157157, 'August': 158835, 'September': 184702, 'October': 200344, 'November': 195654, 'December': 200237}}, '2019': {'count': 3377961, 'month_map': {'January': 237871, 'February': 215935, 'March': 230361, 'April': 249391, 'May': 224502, 'June': 190259, 'July': 285513, 'August': 251947, 'September': 352378, 'October': 399236, 'November': 363440, 'December': 377128}}, '2020': {'count': 3154105, 'month_map': {'January': 393571, 'February': 392471, 'March': 292758, 'April': 62018, 'May': 72804, 'June': 207355, 'July': 273519, 'August': 318569, 'September': 451231, 'October': 374488, 'November': 213649, 'December': 101672}}, '2021': {'count': 1235956, 'month_map': {'January': 41253, 'February': 40984, 'March': 43881, 'April': 26564, 'May': 126348, 'June': 199356, 'July': 105734, 'August': 161201, 'September': 170721, 'October': 175716, 'November': 144198}}}\n"
     ]
    }
   ],
   "source": [
    "import json\n",
    "\n",
    "dictionary = total_nisponno\n",
    "\n",
    "with open('../Cleaned_data/total_nisponno.json', 'w', encoding='utf-8') as f:\n",
    "    json.dump(dictionary, f, ensure_ascii=False, indent=4)\n",
    "\n",
    "with open('../Cleaned_data/total_nisponno.json', 'r', encoding='utf-8') as json_file:\n",
    "    data = json.load(json_file)\n",
    "    print(data)"
   ]
  },
  {
   "cell_type": "code",
   "execution_count": null,
   "id": "2e166532-1583-4cb8-ac8a-ed956b6038ca",
   "metadata": {},
   "outputs": [],
   "source": []
  },
  {
   "cell_type": "code",
   "execution_count": null,
   "id": "87594830-0376-4d46-802c-7129950a8459",
   "metadata": {},
   "outputs": [],
   "source": []
  },
  {
   "cell_type": "markdown",
   "id": "9af05b33-31a1-4c1d-8118-f684597f00dd",
   "metadata": {},
   "source": [
    "## পত্রজারি"
   ]
  },
  {
   "cell_type": "code",
   "execution_count": 5,
   "id": "09f6a266-4d19-42ea-a7b4-9c51994f13f6",
   "metadata": {},
   "outputs": [
    {
     "name": "stdout",
     "output_type": "stream",
     "text": [
      "Initial dataframe shape (16416402, 3)\n",
      "dataframe shape after removing operation_date null value (5711787, 3)\n"
     ]
    },
    {
     "data": {
      "text/plain": [
       "(5711787, 3)"
      ]
     },
     "execution_count": 5,
     "metadata": {},
     "output_type": "execute_result"
    },
    {
     "data": {
      "text/plain": [
       "(5711787, 3)"
      ]
     },
     "execution_count": 5,
     "metadata": {},
     "output_type": "execute_result"
    }
   ],
   "source": [
    "# SELECT count(id) FROM nisponno_records where Date(operation_date) >= '2020-09-01' and Date(operation_date) <= '2020-09-30' and type = 'potrojari';\n",
    "nisponno_records_df = load_nisponno_records_df()\n",
    "# Extract mandatory attributes for offices graph analysis\n",
    "nisponno_records_df = nisponno_records_df[['id', 'type', 'operation_date']] \n",
    "print(f\"Initial dataframe shape {nisponno_records_df.shape}\")\n",
    "\n",
    "potrojari_df = nisponno_records_df.loc[nisponno_records_df.type == 'potrojari'].copy()\n",
    "# remove null values\n",
    "potrojari_df = potrojari_df.loc[potrojari_df.operation_date.notnull()]\n",
    "print(f\"dataframe shape after removing operation_date null value {potrojari_df.shape}\")\n",
    "# add new column: cretead_new as datetime field from operation_date column\n",
    "potrojari_df['operation_date'] = pd.to_datetime(potrojari_df['operation_date'], errors='coerce')\n",
    "# errors{‘ignore’, ‘raise’, ‘coerce’}, default ‘raise’\n",
    "    # If ‘raise’, then invalid parsing will raise an exception.\n",
    "    # If ‘coerce’, then invalid parsing will be set as NaT.\n",
    "    # If ‘ignore’, then invalid parsing will return the input.\n",
    "potrojari_df.shape\n",
    "# again remove null values based on opeation_date field\n",
    "potrojari_df = potrojari_df.loc[potrojari_df.operation_date.notnull()]\n",
    "potrojari_df.shape"
   ]
  },
  {
   "cell_type": "code",
   "execution_count": 6,
   "id": "f380512d-2844-42cd-85a9-a66e4c8dfad5",
   "metadata": {},
   "outputs": [
    {
     "data": {
      "text/plain": [
       "numpy.ndarray"
      ]
     },
     "execution_count": 6,
     "metadata": {},
     "output_type": "execute_result"
    },
    {
     "data": {
      "text/plain": [
       "numpy.ndarray"
      ]
     },
     "execution_count": 6,
     "metadata": {},
     "output_type": "execute_result"
    },
    {
     "data": {
      "text/plain": [
       "{'2016', '2017', '2018', '2019', '2020', '2021'}"
      ]
     },
     "execution_count": 6,
     "metadata": {},
     "output_type": "execute_result"
    },
    {
     "data": {
      "text/plain": [
       "{'1', '10', '11', '12', '2', '3', '4', '5', '6', '7', '8', '9'}"
      ]
     },
     "execution_count": 6,
     "metadata": {},
     "output_type": "execute_result"
    }
   ],
   "source": [
    "\n",
    "# Extract years and months from created column\n",
    "operation_date_datetime_index = pd.DatetimeIndex(potrojari_df['operation_date'])\n",
    "years = operation_date_datetime_index.year.values.astype(str)\n",
    "months = operation_date_datetime_index.month.values.astype(str)\n",
    "type(years)\n",
    "type(months)\n",
    "set(years)\n",
    "set(months)"
   ]
  },
  {
   "cell_type": "code",
   "execution_count": 7,
   "id": "8931232f-dfc3-4972-bf9a-487a86b4fa1e",
   "metadata": {},
   "outputs": [
    {
     "data": {
      "text/plain": [
       "(5711787, 5)"
      ]
     },
     "execution_count": 7,
     "metadata": {},
     "output_type": "execute_result"
    }
   ],
   "source": [
    "\n",
    "# type(years[0])\n",
    "potrojari_df['year'] = years\n",
    "potrojari_df['month'] = months\n",
    "potrojari_df.shape"
   ]
  },
  {
   "cell_type": "code",
   "execution_count": 8,
   "id": "f4649e91-09e0-4439-85bb-e93fa6794296",
   "metadata": {},
   "outputs": [],
   "source": [
    "# save the new dataframe as csv\n",
    "potrojari_df.to_csv('../Cleaned_data/potrojari.csv', index=False)"
   ]
  },
  {
   "cell_type": "code",
   "execution_count": 9,
   "id": "d3932c7a-77c2-4b47-839e-0be41ca929ec",
   "metadata": {},
   "outputs": [
    {
     "data": {
      "text/plain": [
       "year\n",
       "2016      13452\n",
       "2017     425547\n",
       "2018    1012275\n",
       "2019    1800514\n",
       "2020    1723124\n",
       "2021     736875\n",
       "Name: year, dtype: int64"
      ]
     },
     "execution_count": 9,
     "metadata": {},
     "output_type": "execute_result"
    }
   ],
   "source": [
    "# observe number of offices in every year \n",
    "potrojari_year_by = potrojari_df.groupby('year')['year'].count()\n",
    "potrojari_year_by"
   ]
  },
  {
   "cell_type": "code",
   "execution_count": 10,
   "id": "778d7c3c-b30a-4a8b-893b-4a7c0eca2618",
   "metadata": {},
   "outputs": [
    {
     "data": {
      "text/plain": [
       "(array([  13452.,       0.,  425547.,       0., 1012275.,       0.,\n",
       "        1800514.,       0., 1723124.,  736875.]),\n",
       " array([0. , 0.5, 1. , 1.5, 2. , 2.5, 3. , 3.5, 4. , 4.5, 5. ]),\n",
       " <BarContainer object of 10 artists>)"
      ]
     },
     "execution_count": 10,
     "metadata": {},
     "output_type": "execute_result"
    },
    {
     "data": {
      "text/plain": [
       "Text(0.5, 0, 'years')"
      ]
     },
     "execution_count": 10,
     "metadata": {},
     "output_type": "execute_result"
    },
    {
     "data": {
      "text/plain": [
       "Text(0, 0.5, '')"
      ]
     },
     "execution_count": 10,
     "metadata": {},
     "output_type": "execute_result"
    },
    {
     "data": {
      "text/plain": [
       "Text(0.5, 1.0, '')"
      ]
     },
     "execution_count": 10,
     "metadata": {},
     "output_type": "execute_result"
    },
    {
     "data": {
      "image/png": "[encoded data removed]",
      "text/plain": [
       "<Figure size 432x288 with 1 Axes>"
      ]
     },
     "metadata": {
      "needs_background": "light"
     },
     "output_type": "display_data"
    }
   ],
   "source": [
    "plt.hist(potrojari_df['year'])\n",
    "\n",
    "\n",
    "plt.xlabel('years')\n",
    "plt.ylabel('')\n",
    "plt.title('')\n",
    "# plt.text(60, .025, r'$\\mu=100,\\ \\sigma=15$')\n",
    "# plt.xlim(40, 160)\n",
    "# plt.ylim(0, 0.03)\n",
    "plt.grid(True)\n",
    "plt.show()"
   ]
  },
  {
   "cell_type": "code",
   "execution_count": 11,
   "id": "90d41cb4-f948-4f93-8416-d05b9e5b8c70",
   "metadata": {},
   "outputs": [],
   "source": [
    "month_map ={\n",
    "    '1': 'January',\n",
    "    '01': 'January',\n",
    "    '2': 'February',\n",
    "    '02': 'February',\n",
    "    '3': 'March',\n",
    "    '03': 'March',\n",
    "    '4': 'April',\n",
    "    '04': 'April',\n",
    "    '5': 'May',\n",
    "    '05': 'May',\n",
    "    '6': 'June',\n",
    "    '06': 'June',\n",
    "    '7': 'July',\n",
    "    '07': 'July',\n",
    "    '8': 'August',\n",
    "    '08': 'August',\n",
    "    '9': 'September',\n",
    "    '09': 'September',\n",
    "    '10': 'October',\n",
    "    '11': 'November',\n",
    "    '12': 'December',\n",
    "    'unknown': 'unknown',\n",
    "}"
   ]
  },
  {
   "cell_type": "code",
   "execution_count": 12,
   "id": "ab682a77-b312-4967-b297-b1c1c2433656",
   "metadata": {},
   "outputs": [],
   "source": [
    "# Generate general_series and drilldown series for bar graph\n",
    "# general series: year: number of officess\n",
    "dataframe_year_by = potrojari_df.groupby('year')\n",
    "\n",
    "def generate_general_series_drilldown_series(dataframe_year_by, general_series_name):\n",
    "    general_series = [\n",
    "        \n",
    "        {\n",
    "            'name': general_series_name,\n",
    "            'colorByPoint': True,\n",
    "            'data': [],\n",
    "        }\n",
    "    ]\n",
    "    drilldown_series = []\n",
    "\n",
    "    for year, year_frame in dataframe_year_by:\n",
    "        year = str(year)\n",
    "        # year, year_frame.shape\n",
    "        temporary_dict_general = {'name': year, 'y': year_frame.shape[0], 'drilldown': year}\n",
    "        general_series[0]['data'].append(temporary_dict_general)\n",
    "        temporary_dict_drilldown = {\n",
    "            'name': year,\n",
    "            'id': year,\n",
    "            'data': [],\n",
    "        }\n",
    "        month_group_by = year_frame.groupby('month')\n",
    "        for month, month_frame in month_group_by:\n",
    "          \n",
    "            # mg, mf.shape[0]\n",
    "            month = str(month)\n",
    "            month = month_map[month]\n",
    "\n",
    "            lst = [month, month_frame.shape[0]]\n",
    "            # lst = [month, month_frame['upokarvogi'].sum()]\n",
    "            temporary_dict_drilldown['data'].append(lst)\n",
    "        drilldown_series.append(temporary_dict_drilldown)\n",
    "    return general_series, drilldown_series\n",
    "\n",
    "general_series, drilldown_series = generate_general_series_drilldown_series(dataframe_year_by, 'years')\n"
   ]
  },
  {
   "cell_type": "code",
   "execution_count": 14,
   "id": "95d35278-e05f-4bfb-9b5d-6a923abee728",
   "metadata": {},
   "outputs": [
    {
     "data": {
      "text/plain": [
       "[{'name': 'years',\n",
       "  'colorByPoint': True,\n",
       "  'data': [{'name': '2016', 'y': 13452, 'drilldown': '2016'},\n",
       "   {'name': '2017', 'y': 425547, 'drilldown': '2017'},\n",
       "   {'name': '2018', 'y': 1012275, 'drilldown': '2018'},\n",
       "   {'name': '2019', 'y': 1800514, 'drilldown': '2019'},\n",
       "   {'name': '2020', 'y': 1723124, 'drilldown': '2020'},\n",
       "   {'name': '2021', 'y': 736875, 'drilldown': '2021'}]}]"
      ]
     },
     "execution_count": 14,
     "metadata": {},
     "output_type": "execute_result"
    },
    {
     "data": {
      "text/plain": [
       "{'name': '2016',\n",
       " 'id': '2016',\n",
       " 'data': [['October', 1541],\n",
       "  ['November', 2280],\n",
       "  ['December', 5385],\n",
       "  ['February', 47],\n",
       "  ['March', 159],\n",
       "  ['April', 99],\n",
       "  ['May', 237],\n",
       "  ['June', 308],\n",
       "  ['July', 427],\n",
       "  ['August', 1520],\n",
       "  ['September', 1449]]}"
      ]
     },
     "execution_count": 14,
     "metadata": {},
     "output_type": "execute_result"
    }
   ],
   "source": [
    "general_series\n",
    "drilldown_series[0]"
   ]
  },
  {
   "cell_type": "code",
   "execution_count": 30,
   "id": "ed12bafa-84c7-4fda-b4ec-89d5f43d6d60",
   "metadata": {},
   "outputs": [
    {
     "data": {
      "text/plain": [
       "{'February': 47,\n",
       " 'March': 159,\n",
       " 'April': 99,\n",
       " 'May': 237,\n",
       " 'June': 308,\n",
       " 'July': 427,\n",
       " 'August': 1520,\n",
       " 'September': 1449,\n",
       " 'October': 1541,\n",
       " 'November': 2280,\n",
       " 'December': 5385}"
      ]
     },
     "execution_count": 30,
     "metadata": {},
     "output_type": "execute_result"
    },
    {
     "data": {
      "text/plain": [
       "{'January': 8382,\n",
       " 'February': 13140,\n",
       " 'March': 18051,\n",
       " 'April': 27706,\n",
       " 'May': 26504,\n",
       " 'June': 18430,\n",
       " 'July': 50608,\n",
       " 'August': 54681,\n",
       " 'September': 41508,\n",
       " 'October': 56079,\n",
       " 'November': 64096,\n",
       " 'December': 46362}"
      ]
     },
     "execution_count": 30,
     "metadata": {},
     "output_type": "execute_result"
    },
    {
     "data": {
      "text/plain": [
       "{'January': 67008,\n",
       " 'February': 55392,\n",
       " 'March': 62302,\n",
       " 'April': 81640,\n",
       " 'May': 81534,\n",
       " 'June': 70789,\n",
       " 'July': 83695,\n",
       " 'August': 87411,\n",
       " 'September': 105538,\n",
       " 'October': 115338,\n",
       " 'November': 100934,\n",
       " 'December': 100694}"
      ]
     },
     "execution_count": 30,
     "metadata": {},
     "output_type": "execute_result"
    },
    {
     "data": {
      "text/plain": [
       "{'January': 123830,\n",
       " 'February': 115079,\n",
       " 'March': 127327,\n",
       " 'April': 132304,\n",
       " 'May': 124402,\n",
       " 'June': 102173,\n",
       " 'July': 155883,\n",
       " 'August': 138780,\n",
       " 'September': 191353,\n",
       " 'October': 205358,\n",
       " 'November': 189738,\n",
       " 'December': 194287}"
      ]
     },
     "execution_count": 30,
     "metadata": {},
     "output_type": "execute_result"
    },
    {
     "data": {
      "text/plain": [
       "{'January': 207154,\n",
       " 'February': 208844,\n",
       " 'March': 155073,\n",
       " 'April': 36943,\n",
       " 'May': 46325,\n",
       " 'June': 108839,\n",
       " 'July': 149293,\n",
       " 'August': 179691,\n",
       " 'September': 253212,\n",
       " 'October': 205446,\n",
       " 'November': 114886,\n",
       " 'December': 57418}"
      ]
     },
     "execution_count": 30,
     "metadata": {},
     "output_type": "execute_result"
    },
    {
     "data": {
      "text/plain": [
       "{'January': 21620,\n",
       " 'February': 22212,\n",
       " 'March': 24055,\n",
       " 'April': 16641,\n",
       " 'May': 73533,\n",
       " 'June': 113281,\n",
       " 'July': 68327,\n",
       " 'August': 97606,\n",
       " 'September': 110275,\n",
       " 'October': 104473,\n",
       " 'November': 84852}"
      ]
     },
     "execution_count": 30,
     "metadata": {},
     "output_type": "execute_result"
    }
   ],
   "source": [
    "\n",
    "month_list =['January', 'February', 'March', 'April', 'May', 'June', 'July', 'August','September', 'October','November', 'December', 'unknown' ]\n",
    "potrojari = {}\n",
    "from collections import OrderedDict\n",
    "dataframe_year_by = potrojari_df.groupby('year')\n",
    "\n",
    "for year, year_frame in dataframe_year_by:\n",
    "    year = str(year)\n",
    "    # year, year_frame.shape\n",
    "    \n",
    "    month_dict = {}\n",
    "\n",
    "    month_group_by = year_frame.groupby('month')\n",
    "    for month, month_frame in month_group_by:\n",
    "\n",
    "        # mg, mf.shape[0]\n",
    "        month = str(month)\n",
    "        month = month_map[month]\n",
    "        month_dict[month] = int(month_frame.shape[0])\n",
    "    # month_dict\n",
    "    month_dict = dict(sorted(month_dict.items(), key=lambda x:month_list.index(x[0])))\n",
    "    month_dict\n",
    "    dic = {'count': int(year_frame.shape[0]), 'month_map': month_dict}\n",
    "    potrojari[year] = dic\n",
    "\n",
    "# print(potrojari.keys())\n",
    "# potrojari['2016']"
   ]
  },
  {
   "cell_type": "code",
   "execution_count": 31,
   "id": "7859ffc4-ec1a-4cd2-8935-330016184416",
   "metadata": {},
   "outputs": [],
   "source": [
    "# sorted(.items(),key =lambda x:months.index(x[0]))\n",
    "# sorted(potrojari['2016']['month_map'].items(), key=lambda x:month_list.index(x[0]))"
   ]
  },
  {
   "cell_type": "code",
   "execution_count": 32,
   "id": "77d98812-9e13-4bfa-b95b-65c55bf0fdc3",
   "metadata": {},
   "outputs": [
    {
     "name": "stdout",
     "output_type": "stream",
     "text": [
      "{'2016': {'count': 13452, 'month_map': {'February': 47, 'March': 159, 'April': 99, 'May': 237, 'June': 308, 'July': 427, 'August': 1520, 'September': 1449, 'October': 1541, 'November': 2280, 'December': 5385}}, '2017': {'count': 425547, 'month_map': {'January': 8382, 'February': 13140, 'March': 18051, 'April': 27706, 'May': 26504, 'June': 18430, 'July': 50608, 'August': 54681, 'September': 41508, 'October': 56079, 'November': 64096, 'December': 46362}}, '2018': {'count': 1012275, 'month_map': {'January': 67008, 'February': 55392, 'March': 62302, 'April': 81640, 'May': 81534, 'June': 70789, 'July': 83695, 'August': 87411, 'September': 105538, 'October': 115338, 'November': 100934, 'December': 100694}}, '2019': {'count': 1800514, 'month_map': {'January': 123830, 'February': 115079, 'March': 127327, 'April': 132304, 'May': 124402, 'June': 102173, 'July': 155883, 'August': 138780, 'September': 191353, 'October': 205358, 'November': 189738, 'December': 194287}}, '2020': {'count': 1723124, 'month_map': {'January': 207154, 'February': 208844, 'March': 155073, 'April': 36943, 'May': 46325, 'June': 108839, 'July': 149293, 'August': 179691, 'September': 253212, 'October': 205446, 'November': 114886, 'December': 57418}}, '2021': {'count': 736875, 'month_map': {'January': 21620, 'February': 22212, 'March': 24055, 'April': 16641, 'May': 73533, 'June': 113281, 'July': 68327, 'August': 97606, 'September': 110275, 'October': 104473, 'November': 84852}}}\n"
     ]
    }
   ],
   "source": [
    "import json\n",
    "\n",
    "dictionary = potrojari\n",
    "\n",
    "with open('../Cleaned_data/potrojari.json', 'w', encoding='utf-8') as f:\n",
    "    json.dump(dictionary, f, ensure_ascii=False, indent=4)\n",
    "\n",
    "with open('../Cleaned_data/potrojari.json', 'r', encoding='utf-8') as json_file:\n",
    "    data = json.load(json_file)\n",
    "    print(data)"
   ]
  }
 ],
 "metadata": {
  "kernelspec": {
   "display_name": "Python 3 (ipykernel)",
   "language": "python",
   "name": "python3"
  },
  "language_info": {
   "codemirror_mode": {
    "name": "ipython",
    "version": 3
   },
   "file_extension": ".py",
   "mimetype": "text/x-python",
   "name": "python",
   "nbconvert_exporter": "python",
   "pygments_lexer": "ipython3",
   "version": "3.8.10"
  }
 },
 "nbformat": 4,
 "nbformat_minor": 5
}
